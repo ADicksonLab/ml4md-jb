{
 "cells": [
  {
   "cell_type": "markdown",
   "id": "2f2af461",
   "metadata": {
    "slideshow": {
     "slide_type": "slide"
    }
   },
   "source": [
    "#    Week 8 Lecture: Biomolecular Simulation (Part I)\n",
    "\n",
    "###  Samik Bose, Postdoctoral Research Associate, DicksonLab\n",
    "\n",
    "![BM](https://wires.onlinelibrary.wiley.com/cms/asset/7f03c765-f4c2-435f-b478-7db6d2ce87ad/wcms1393-toc-0001-m.jpg)\n"
   ]
  },
  {
   "cell_type": "markdown",
   "id": "e3098895",
   "metadata": {
    "slideshow": {
     "slide_type": "fragment"
    }
   },
   "source": [
    "- **Advancement and current status of molecular simulation.**\n",
    "\n",
    "- **Topology and Force Fields.**\n",
    "\n",
    "- **Idea and introduction to OpenMM.**"
   ]
  },
  {
   "cell_type": "markdown",
   "id": "424e69e3",
   "metadata": {
    "slideshow": {
     "slide_type": "slide"
    }
   },
   "source": [
    "# How it started?\n",
    "\n",
    "### 1964  : The first known MD simulation is performed in a **computer** by A. Rahman. ###\n",
    "\n",
    "- *864 Argon atoms interacting via LJ potential.*\n",
    "- *'Computer': 48-bit system with a RAM: ~1.5 MB and 10 KiloFLOPS.*\n",
    "\n",
    "\n",
    "### 1972 : Simulation of 216 water molecules in a periodic box. ###\n",
    "\n",
    "- *All the bonded and non-bonded potentials and their parameters were derived mathematically.*\n",
    "- *A few picoseconds of simulation can only be carried away.*\n"
   ]
  },
  {
   "cell_type": "markdown",
   "id": "68b77438",
   "metadata": {
    "slideshow": {
     "slide_type": "fragment"
    }
   },
   "source": [
    "\n",
    "\n",
    "### 1970-90s : Concept of force fields and its systematic development. \n",
    "\n",
    "- *An equation for the potential energy and a set of **transferable** parameters for each molecule.* \n",
    "\n",
    "- *Force fields such as OPLS, AMBER, CHARMM, GROMOS etc are developed.*\n",
    "\n",
    "- **Opens the door for a theoretical, physics-based understanding of complex bio-systems.**\n"
   ]
  },
  {
   "cell_type": "markdown",
   "id": "65a02777",
   "metadata": {
    "slideshow": {
     "slide_type": "slide"
    }
   },
   "source": [
    "# How is it going?\n",
    "\n",
    "### Since 2000: A steady growth and expanding the horizon each day!\n",
    "\n",
    "**2013: Nobel prize in chemistry in for ['the development of multiscale models for complex chemical systems\"](https://www.nobelprize.org/prizes/chemistry/2013/summary/), which is a closely allied field of molecular simulation. [Biomolecular simulation is a subset of multiscale modeling]**\n",
    "\n",
    "**2014: All atom simulation of solvated HIV-1 capsid structure (~ 64 million atoms, ~ 1 $\\mu$s)**\n",
    "\n",
    "![BM](https://static-content.springer.com/esm/art%3A10.1038%2Fnature12162/MediaObjects/41586_2013_BFnature12162_MOESM63_ESM.mov)"
   ]
  },
  {
   "cell_type": "markdown",
   "id": "0ff8766c",
   "metadata": {
    "slideshow": {
     "slide_type": "subslide"
    }
   },
   "source": [
    "#### Prof. Feig and co-workers developed a model for bacterial cytoplasm ( >1 million atoms) and ran ~20 ns of simulations to understabd the structure and interactions. Cool figures and videos can be found [here](https://elifesciences.org/articles/19274/figures#content)."
   ]
  },
  {
   "cell_type": "markdown",
   "id": "2247f02f",
   "metadata": {
    "slideshow": {
     "slide_type": "slide"
    }
   },
   "source": [
    "## Biomolecular Simulations leading the way for drug discovery and medical science\n",
    "\n",
    "- **2020: Durrant and coworkers performed an influenza virus simulation and proposed possible mechanism of drugs. (~164 million atom system)**\n",
    "\n",
    "![bm](Amaro_influenza.png)"
   ]
  },
  {
   "cell_type": "markdown",
   "id": "d094a8d7",
   "metadata": {
    "slideshow": {
     "slide_type": "slide"
    }
   },
   "source": [
    "###  MD simulation of SARS-COV2 Viral envelope with 305 million atoms.\n",
    "\n",
    "- **A. The all atom model of SARS-COV2 (from simulation).** \n",
    "- **B & C. The glycan shield of the spike protein and its role in modulating the infectivity of the virus.**\n",
    "- **D. The characterization of the flexible interactions between the spike and the human ACE2 receptor.**\n",
    "\n",
    "![bm](sars-cov2_model.png)"
   ]
  },
  {
   "cell_type": "code",
   "execution_count": null,
   "id": "9f66c362",
   "metadata": {
    "slideshow": {
     "slide_type": "skip"
    }
   },
   "outputs": [],
   "source": []
  },
  {
   "cell_type": "code",
   "execution_count": null,
   "id": "e988be6f",
   "metadata": {
    "slideshow": {
     "slide_type": "skip"
    }
   },
   "outputs": [],
   "source": []
  },
  {
   "cell_type": "markdown",
   "id": "e95c0c58",
   "metadata": {
    "slideshow": {
     "slide_type": "slide"
    }
   },
   "source": [
    "\n",
    "# Exponential growth in technology!\n",
    "\n",
    "\n",
    "###  Humanity landed on moon with 4 KB RAM and 2 MHz CPU.\n",
    "\n",
    "\n",
    "\n",
    "###  Supercomputers of today: \n",
    "    - TBs of RAM, \n",
    "    - PBs of diskspace, \n",
    "    - $>$ 1000s of processors and GPUs,  \n",
    "    - $>$ TeraFlops to PetaFlops of speed.\n",
    "    \n",
    "- [Anton](https://en.wikipedia.org/wiki/Anton_(computer)) is a massively parallel and specially built to run long time and length scale MD simulations.  \n",
    "    \n",
    "- [Anton2](https://ieeexplore.ieee.org/document/7012191) can run 85 $\\mu$s/day for ~24000 benchmark system which is claimed to be 180 times faster than any other academic supercomputer."
   ]
  },
  {
   "cell_type": "markdown",
   "id": "2bd62097",
   "metadata": {
    "slideshow": {
     "slide_type": "slide"
    }
   },
   "source": [
    "# Development in softwares/algorithms as well\n",
    "\n",
    "\n",
    "**Converting to GPU-based code architecture**\n",
    "\n",
    "- In 2007, NVIDIA introduced GPU cards to develop parallel programs in high-level API named CUDA. \n",
    "\n",
    "- The scientific community converted the existing simulation packages in CUDA enabled versions which increased the computational efficiency.\n",
    "\n"
   ]
  },
  {
   "cell_type": "markdown",
   "id": "8c4188ff",
   "metadata": {
    "slideshow": {
     "slide_type": "fragment"
    }
   },
   "source": [
    "\n",
    "**Incorporating Ewald summation in calculation of long-range electrostatics.**\n",
    "\n",
    "- Instead of calculating all possibile long-range one-to-one electrostatics interaction, a particle mesh ewald type approach calculates the interaction energies in Fourier space with much less computation and faster convergence.\n",
    "\n",
    "**Enhanced sampling methods**\n",
    "\n",
    "- One of the most discussed drawback of MD simulation is the sampling problem. This is due to rough energy landscapes, with many local minima separated by high-energy barriers, which govern the biomolecular motion.\n",
    "\n",
    "\n",
    "- Enhanced sampling algorithms such as replica exchange molecular dynamics, metadynamics, simulated annealing, weighted ensemble have accelarated the conformtional search, both at equlibria and at non-equlibrium states.\n",
    "\n",
    "[Our group has been designing weighted ensemble based methods and softwares to study protein-ligand interactions.]\n"
   ]
  },
  {
   "cell_type": "code",
   "execution_count": null,
   "id": "9598e811",
   "metadata": {
    "slideshow": {
     "slide_type": "skip"
    }
   },
   "outputs": [],
   "source": []
  },
  {
   "cell_type": "markdown",
   "id": "63ebac82",
   "metadata": {
    "slideshow": {
     "slide_type": "slide"
    }
   },
   "source": [
    "# Running an MD simulation:\n",
    "\n",
    "\n",
    "## Initial starting structures of biomolecules\n",
    "\n",
    "- X-ray crsytal srtuctures from Protein data bank (https://www.rcsb.org)\n",
    "\n",
    "## MD engines to solve the equation of motion:\n",
    "\n",
    "- GROMACS\n",
    "- NAMD\n",
    "- AMBER\n",
    "- OpenMM\n",
    "- Tinker\n",
    "- LAMMPS\n",
    "- ...\n",
    "\n"
   ]
  },
  {
   "cell_type": "code",
   "execution_count": null,
   "id": "0add6433",
   "metadata": {
    "slideshow": {
     "slide_type": "skip"
    }
   },
   "outputs": [],
   "source": []
  },
  {
   "cell_type": "markdown",
   "id": "8b142bfd",
   "metadata": {
    "slideshow": {
     "slide_type": "fragment"
    }
   },
   "source": [
    "\n",
    "## Force fields to define the interaction potentials between atoms:\n",
    "\n",
    "- [CHARMM36](https://www.charmm.org) [Chemistry at HARvard Macromolecular Mechanics]\n",
    "- [AMBER20](https://ambermd.org) [Assisted Model Building with Energy Refinement]\n",
    "- [OPLS-AA/M](http://zarbi.chem.yale.edu/oplsaam.html)  [Optimized Potentials for Liquid Simulations]\n",
    "- [GROMOS](http://www.gromos.net) [GROningen MOlecular Simulation]\n",
    "- ...\n",
    "\n",
    "#### We will use OpenMM MD engine for the next two weeks.\n",
    "\n",
    "#### Installing Softwares:\n",
    "\n",
    "```  conda install -c conda-forge openmm ```\n",
    "\n",
    "``` pip install mdtraj  ```\n",
    "\n",
    "``` pip install nglview ```\n",
    "\n",
    "\n",
    "\n"
   ]
  },
  {
   "cell_type": "code",
   "execution_count": null,
   "id": "d6547629",
   "metadata": {
    "slideshow": {
     "slide_type": "skip"
    }
   },
   "outputs": [],
   "source": []
  },
  {
   "cell_type": "code",
   "execution_count": null,
   "id": "f9b88471",
   "metadata": {
    "slideshow": {
     "slide_type": "skip"
    }
   },
   "outputs": [],
   "source": []
  },
  {
   "cell_type": "markdown",
   "id": "c7f8fb97",
   "metadata": {
    "slideshow": {
     "slide_type": "slide"
    }
   },
   "source": [
    "## Topology and Force field\n",
    "\n",
    "- Topology in biomolecular simulations consists of a group of chains, where a chain consists of multiple residues and every residue contains a set of atoms.\n",
    "\n",
    "- These atoms interacts with each other by various bonded and non-bonded poetntials. The potential and its parameter set is known as force field.\n",
    "\n",
    "### To run a simulation in OpenMM, you would require a topology file (contains the connectivity information) and a force field file (contains the parameters of the force field).\n",
    "\n",
    "\n",
    "- Example of force field equation (CHARMM):\n",
    "\n",
    "\n",
    "![ab](CHARMM_eqn.PNG)\n",
    "\n"
   ]
  },
  {
   "cell_type": "code",
   "execution_count": null,
   "id": "4c535be0",
   "metadata": {
    "slideshow": {
     "slide_type": "skip"
    }
   },
   "outputs": [],
   "source": []
  },
  {
   "cell_type": "code",
   "execution_count": null,
   "id": "5dd63c9d",
   "metadata": {
    "slideshow": {
     "slide_type": "skip"
    }
   },
   "outputs": [],
   "source": []
  },
  {
   "cell_type": "markdown",
   "id": "7b99cbaf",
   "metadata": {
    "slideshow": {
     "slide_type": "slide"
    }
   },
   "source": [
    "## IPython utility to learn more about each OpenMM object and its functions/attributes"
   ]
  },
  {
   "cell_type": "code",
   "execution_count": 57,
   "id": "a37360a9",
   "metadata": {
    "slideshow": {
     "slide_type": "fragment"
    }
   },
   "outputs": [],
   "source": [
    "?"
   ]
  },
  {
   "cell_type": "markdown",
   "id": "438103f5",
   "metadata": {
    "slideshow": {
     "slide_type": "fragment"
    }
   },
   "source": []
  },
  {
   "cell_type": "markdown",
   "id": "e87a194a",
   "metadata": {
    "slideshow": {
     "slide_type": "slide"
    }
   },
   "source": [
    "### Please check if any of these import commands produce error in your machines"
   ]
  },
  {
   "cell_type": "code",
   "execution_count": 1,
   "id": "e73fd21f",
   "metadata": {
    "slideshow": {
     "slide_type": "fragment"
    }
   },
   "outputs": [
    {
     "data": {
      "application/vnd.jupyter.widget-view+json": {
       "model_id": "2c333916842e4591badfbf22a67a3a41",
       "version_major": 2,
       "version_minor": 0
      },
      "text/plain": []
     },
     "metadata": {},
     "output_type": "display_data"
    }
   ],
   "source": [
    "import matplotlib.pyplot as plt\n",
    "import mdtraj\n",
    "import nglview\n",
    "import numpy as np\n",
    "from openmm import *\n",
    "from openmm.app import *\n",
    "from openmm.unit import *"
   ]
  },
  {
   "cell_type": "code",
   "execution_count": 14,
   "id": "b2b78af2",
   "metadata": {
    "slideshow": {
     "slide_type": "skip"
    }
   },
   "outputs": [],
   "source": []
  },
  {
   "cell_type": "markdown",
   "id": "f7bc8677",
   "metadata": {
    "slideshow": {
     "slide_type": "slide"
    }
   },
   "source": [
    "## Concept of Units and constants in OpenMM"
   ]
  },
  {
   "cell_type": "code",
   "execution_count": 2,
   "id": "8d71fd6b",
   "metadata": {
    "scrolled": true,
    "slideshow": {
     "slide_type": "fragment"
    }
   },
   "outputs": [
    {
     "name": "stdout",
     "output_type": "stream",
     "text": [
      "Unit of variable time: picosecond\n",
      "time: 10 ps\n",
      "time [s]: 1e-11\n",
      "time [s]: 1e-11\n",
      "time [fs]: 10000.0\n",
      "time: 10000.0 fs\n",
      "Boltzmann's constant: 1.380649e-23 J/K\n",
      "Avogadro's constant: 6.02214076e+23 /mol\n"
     ]
    }
   ],
   "source": [
    "time = 10 * picosecond  # 10 * picoseconds will also work.\n",
    "print(\"Unit of variable time:\", time.unit)\n",
    "print(\"time:\", time)\n",
    "print(\"time [s]:\", time / second)\n",
    "print(\"time [s]:\", time / seconds)\n",
    "print(\"time [fs]:\", time.value_in_unit(femtosecond))\n",
    "print(\"time:\", time.in_units_of(femtosecond))\n",
    "# OpenMM also knows a few important constants.\n",
    "print(\"Boltzmann's constant:\", BOLTZMANN_CONSTANT_kB)\n",
    "print(\"Avogadro's constant:\", AVOGADRO_CONSTANT_NA)\n"
   ]
  },
  {
   "cell_type": "markdown",
   "id": "023fc11d",
   "metadata": {
    "slideshow": {
     "slide_type": "slide"
    }
   },
   "source": [
    "# Lets define a topology of a water molecule:\n"
   ]
  },
  {
   "cell_type": "code",
   "execution_count": 26,
   "id": "d5624731",
   "metadata": {
    "slideshow": {
     "slide_type": "fragment"
    }
   },
   "outputs": [],
   "source": [
    "topology = Topology()\n",
    "chain = topology.addChain()\n",
    "residue = topology.addResidue(\"water\", chain)\n",
    "element_O = Element.getByAtomicNumber(8)\n",
    "element_H = Element.getByAtomicNumber(1)\n",
    "atom0 = topology.addAtom(\"O\", element_O, residue)\n",
    "atom1 = topology.addAtom(\"H\", element_H, residue)\n",
    "atom2 = topology.addAtom(\"H\", element_H, residue)\n",
    "topology.addBond(atom0, atom1)\n",
    "topology.addBond(atom0, atom2)"
   ]
  },
  {
   "cell_type": "code",
   "execution_count": 27,
   "id": "b84cb965",
   "metadata": {},
   "outputs": [],
   "source": [
    "chain?"
   ]
  },
  {
   "cell_type": "code",
   "execution_count": 18,
   "id": "26f2916e",
   "metadata": {
    "slideshow": {
     "slide_type": "subslide"
    }
   },
   "outputs": [],
   "source": [
    "topology?"
   ]
  },
  {
   "cell_type": "code",
   "execution_count": null,
   "id": "644da3c3",
   "metadata": {},
   "outputs": [],
   "source": []
  },
  {
   "cell_type": "code",
   "execution_count": null,
   "id": "93ed4998",
   "metadata": {},
   "outputs": [],
   "source": []
  },
  {
   "cell_type": "code",
   "execution_count": null,
   "id": "b9709191",
   "metadata": {},
   "outputs": [],
   "source": []
  },
  {
   "cell_type": "markdown",
   "id": "5aa57221",
   "metadata": {
    "slideshow": {
     "slide_type": "subslide"
    }
   },
   "source": [
    "```\n",
    "In [7]: topology?\n",
    "Type:           Topology\n",
    "String form:    <Topology; 1 chains, 1 residues, 3 atoms, 2 bonds>\n",
    "File:           ~/opt/anaconda3/envs/ml4md/lib/python3.8/site-packages/openmm/app/topology.py\n",
    "Docstring:     \n",
    "Topology stores the topological information about a system.\n",
    "\n",
    "The structure of a Topology object is similar to that of a PDB file.  It consists of a set of Chains\n",
    "(often but not always corresponding to polymer chains).  Each Chain contains a set of Residues,\n",
    "and each Residue contains a set of Atoms.  In addition, the Topology stores a list of which atom\n",
    "pairs are bonded to each other, and the dimensions of the crystallographic unit cell.\n",
    "\n",
    "Atom and residue names should follow the PDB 3.0 nomenclature for all molecules for which one exists.\n",
    "\n",
    "```"
   ]
  },
  {
   "cell_type": "markdown",
   "id": "900ad854",
   "metadata": {
    "slideshow": {
     "slide_type": "slide"
    }
   },
   "source": [
    "### Printing the details of topology:\n",
    "\n",
    "- The topology documentation of OpenMM is [here](http://docs.openmm.org/latest/api-python/generated/openmm.app.topology.Topology.html#openmm.app.topology.Topology).\n",
    "\n",
    "- Detailed OpenMM Python API can be found [here](http://docs.openmm.org/latest/api-python/index.html). **[Important for the labs!!]**\n"
   ]
  },
  {
   "cell_type": "code",
   "execution_count": 28,
   "id": "0939c2fa",
   "metadata": {
    "slideshow": {
     "slide_type": "subslide"
    }
   },
   "outputs": [
    {
     "name": "stdout",
     "output_type": "stream",
     "text": [
      "<Topology; 1 chains, 1 residues, 3 atoms, 2 bonds>\n",
      "Number of atoms: 3\n",
      "Periodic boundaries: None\n",
      "Name and mass of atom 0: O, 15.99943 Da\n",
      "Name and mass of atom 1: H, 1.007947 Da\n",
      "Name and mass of atom 2: H, 1.007947 Da\n"
     ]
    }
   ],
   "source": [
    "print(topology)\n",
    "print(\"Number of atoms:\", topology.getNumAtoms())\n",
    "print(\"Periodic boundaries:\", topology.getUnitCellDimensions())\n",
    "for iatom, atom in enumerate(topology.atoms()):\n",
    "     # The following-line would just print a dictionary\n",
    "     # with all attributes, useful to explore undocumented\n",
    "     # attributes.\n",
    "     # print(vars(atom))\n",
    "     print(\n",
    "         \"Name and mass of atom {}: {}, {}\".format(iatom, atom.name, atom.element.mass))\n"
   ]
  },
  {
   "cell_type": "markdown",
   "id": "769ed0fb",
   "metadata": {
    "slideshow": {
     "slide_type": "slide"
    }
   },
   "source": [
    "# Set up the simulation:\n",
    "\n",
    "### This part consists of a few steps:\n",
    "\n",
    "- Select the TIP3P-FB force field for water. The file tip3pfb.xml is there in the ``` app/data/amber14/ ``` sub-directory. It's contents can also be viewed in this [link online](https://github.com/openmm/openmm/blob/master/wrappers/python/openmm/app/data/amber14/tip3pfb.xml).\n",
    "\n",
    "- Define a system, which is essentially an object implementing the selected force field for our topology. This object can compute energies and forces.\n",
    "\n",
    "- Define an integrator, which implements a molecular dynamics algorithm, in this case the Verlet algorithm sampling the NVE ensemble. \n",
    "\n",
    "- Define a simulation, which has the following responsibilities:\n",
    "\n",
    "    - keep track of the current state (atomic positions etc.),\n",
    "\n",
    "    - decide which implementation to use (CPU versus GPU)\n",
    "\n",
    "    - drive the integrator and\n",
    "\n",
    "    - write output files (reporters).\n",
    "\n",
    "*Note: This simple example does not write any output yet. The initial positions are provided as a NumPy array, multiplied by a unit. Each row in the array contains the X, Y and Z coordinates of one atomic nucleus, in the same order as the atoms in the topology. Normally, these initial positions are loaded from a PDB file.*"
   ]
  },
  {
   "cell_type": "code",
   "execution_count": 29,
   "id": "0cda70c4",
   "metadata": {
    "slideshow": {
     "slide_type": "slide"
    }
   },
   "outputs": [],
   "source": [
    "# a. Select the TIP3P-FB force field.\n",
    "forcefield = ForceField(\"amber14/tip3pfb.xml\")\n",
    " \n",
    " # b. Create an object to compute energies and forces for our topology.\n",
    "system = forcefield.createSystem(topology, nonbondedCutoff=1 * nanometer)\n",
    " \n",
    " # c. Definition an integrator, mandatory.\n",
    "integrator = VerletIntegrator(1 * femtoseconds)\n",
    "\n",
    " # d. A simulation object in OpenMM combines topology, system and integrator.\n",
    "simulation = Simulation(topology, system, integrator)\n",
    "\n",
    "simulation.context.setPositions(np.array([\n",
    "             [0.0, 0.0, 0.0],\n",
    "             [0.0, 0.0, 1.0],\n",
    "             [0.0, 1.0, 0.0],])*angstroms)"
   ]
  },
  {
   "cell_type": "code",
   "execution_count": null,
   "id": "f9c75248",
   "metadata": {
    "slideshow": {
     "slide_type": "skip"
    }
   },
   "outputs": [],
   "source": []
  },
  {
   "cell_type": "markdown",
   "id": "f7db6ac3",
   "metadata": {
    "slideshow": {
     "slide_type": "skip"
    }
   },
   "source": []
  },
  {
   "cell_type": "markdown",
   "id": "35c02198",
   "metadata": {
    "slideshow": {
     "slide_type": "subslide"
    }
   },
   "source": [
    "![openmm forcefield object](https://raw.githubusercontent.com/ADicksonLab/ml4md-jb/main/Week-08/Screen%20Shot%202022-03-01%20at%209.25.05%20AM.png)"
   ]
  },
  {
   "cell_type": "markdown",
   "id": "dd2f36f1",
   "metadata": {
    "slideshow": {
     "slide_type": "subslide"
    }
   },
   "source": [
    "![openmm system object](https://raw.githubusercontent.com/ADicksonLab/ml4md-jb/main/Week-08/Screen%20Shot%202022-03-01%20at%209.25.53%20AM.png)"
   ]
  },
  {
   "cell_type": "markdown",
   "id": "1eadcbbd",
   "metadata": {
    "slideshow": {
     "slide_type": "slide"
    }
   },
   "source": [
    "## Lets take a look at the forces from the system:\n"
   ]
  },
  {
   "cell_type": "code",
   "execution_count": 30,
   "id": "d10303f3",
   "metadata": {
    "slideshow": {
     "slide_type": "subslide"
    }
   },
   "outputs": [
    {
     "name": "stdout",
     "output_type": "stream",
     "text": [
      "<openmm.openmm.HarmonicBondForce; proxy of <Swig Object of type 'OpenMM::HarmonicBondForce *' at 0x7ffdf1a1cde0> >\n",
      "<openmm.openmm.HarmonicAngleForce; proxy of <Swig Object of type 'OpenMM::HarmonicAngleForce *' at 0x7ffdf1a1c840> >\n",
      "<openmm.openmm.NonbondedForce; proxy of <Swig Object of type 'OpenMM::NonbondedForce *' at 0x7ffdf1a1c150> >\n",
      "<openmm.openmm.CMMotionRemover; proxy of <Swig Object of type 'OpenMM::CMMotionRemover *' at 0x7ffdf1a1c570> >\n",
      "\n",
      "[0, 1, Quantity(value=0.101181082494, unit=nanometer), Quantity(value=462750.4, unit=kilojoule/(nanometer**2*mole))]\n",
      "\n",
      "[0, 2, Quantity(value=0.101181082494, unit=nanometer), Quantity(value=462750.4, unit=kilojoule/(nanometer**2*mole))]\n",
      "\n"
     ]
    }
   ],
   "source": [
    "# Loop over all contributions to the force evaluation.\n",
    "# Note that not all terms are real force-field contributions.\n",
    "# The last one zeros to center-of-mass momentum at every step.\n",
    "for force in system.getForces():\n",
    "    print(force)\n",
    "print()\n",
    "# The force field contains two harmonic bond terms,\n",
    "# with the same parameters.\n",
    "force_bond = system.getForce(0)\n",
    "for ibond in range(force_bond.getNumBonds()):\n",
    "    print(force_bond.getBondParameters(ibond))\n",
    "    print()\n"
   ]
  },
  {
   "cell_type": "markdown",
   "id": "60ef6956",
   "metadata": {
    "slideshow": {
     "slide_type": "slide"
    }
   },
   "source": [
    "## Minimize the energy\n",
    "\n",
    "This part is split up in a few steps:\n",
    "\n",
    "- Before minimizing, compute and print the energy of the initial state.\n",
    "\n",
    "- Minimize the energy. This is a black-box procedure, using the L-BFGS algorithm. \n",
    "\n",
    "- Compute and print the energy of the final state."
   ]
  },
  {
   "cell_type": "code",
   "execution_count": 31,
   "id": "aee0c0f6",
   "metadata": {
    "slideshow": {
     "slide_type": "subslide"
    }
   },
   "outputs": [
    {
     "name": "stdout",
     "output_type": "stream",
     "text": [
      "42.62383270263672 kJ/mol\n",
      "1.2486177183745895e-05 kJ/mol\n"
     ]
    }
   ],
   "source": [
    "# a. Print the energy before minimizing.\n",
    "state0 = simulation.context.getState(getEnergy=True)\n",
    "print(state0.getPotentialEnergy())\n",
    "\n",
    "# b. Minimize the energy.\n",
    "simulation.minimizeEnergy()\n",
    "\n",
    "# c. Print the energy afterwards.\n",
    "state1 = simulation.context.getState(getEnergy=True)\n",
    "print(state1.getPotentialEnergy())"
   ]
  },
  {
   "cell_type": "markdown",
   "id": "5848f104",
   "metadata": {
    "slideshow": {
     "slide_type": "slide"
    }
   },
   "source": [
    "## How to access the final geometry?\n",
    "\n",
    "- A Simulation object has a context attribute. Context has the information of the current simulation state of the system. The Context class is documented [here](http://docs.openmm.org/latest/api-python/generated/openmm.openmm.Context.html#openmm.openmm.Context).\n",
    "\n",
    "- The ``` simulation.context.getState ``` method retrieves a State object with results for the final geometry of the water molecule. The State class is documented [here](http://docs.openmm.org/latest/api-python/generated/openmm.openmm.State.html#openmm.openmm.State).\n"
   ]
  },
  {
   "cell_type": "code",
   "execution_count": 32,
   "id": "9aeeb1e5",
   "metadata": {
    "slideshow": {
     "slide_type": "subslide"
    }
   },
   "outputs": [
    {
     "name": "stdout",
     "output_type": "stream",
     "text": [
      "Potential energy:  1.2486177183745895e-05 kJ/mol\n",
      "\n",
      "Atomic positions\n",
      "[[ 0.          0.00534427  0.00534427]\n",
      " [ 0.         -0.01060476  0.1052605 ]\n",
      " [ 0.          0.1052605  -0.01060476]] nm\n",
      "\n",
      "Forces\n",
      "[[ 0.          1.66109741  1.66504562]\n",
      " [ 0.         -1.40527272 -0.25922933]\n",
      " [ 0.         -0.25582469 -1.40581632]] kJ/(nm mol)\n",
      "\n"
     ]
    }
   ],
   "source": [
    "state = simulation.context.getState(getPositions=True, getForces=True, getEnergy=True)\n",
    "print(\"Potential energy: \", state.getPotentialEnergy())\n",
    "print()\n",
    "print(\"Atomic positions\")\n",
    "print(state.getPositions(asNumpy=True))\n",
    "print()\n",
    "print(\"Forces\")\n",
    "print(state.getForces(asNumpy=True))\n",
    "print()\n"
   ]
  },
  {
   "cell_type": "markdown",
   "id": "ea6cdcca",
   "metadata": {
    "slideshow": {
     "slide_type": "slide"
    }
   },
   "source": [
    "## Write the minimized structure to a PDB for visualization\n",
    "\n",
    "- Store the positions in a numpy array.\n",
    "- Use the OpenMM function ``` PDBFile.writefile ``` to write to a PDB.\n",
    "- Visualize."
   ]
  },
  {
   "cell_type": "code",
   "execution_count": 33,
   "id": "b50d343a",
   "metadata": {
    "slideshow": {
     "slide_type": "subslide"
    }
   },
   "outputs": [
    {
     "data": {
      "application/vnd.jupyter.widget-view+json": {
       "model_id": "796c37b1b2cc45468e8c9d7cbb833aaf",
       "version_major": 2,
       "version_minor": 0
      },
      "text/plain": [
       "NGLWidget()"
      ]
     },
     "metadata": {},
     "output_type": "display_data"
    }
   ],
   "source": [
    "pos = state.getPositions(asNumpy=True)\n",
    "\n",
    "with open(\"water.pdb\", \"w\") as outfile:\n",
    "    PDBFile.writeFile(topology, pos, outfile)\n",
    "# Visualize\n",
    "view_minim = nglview.show_mdtraj(mdtraj.load(\"water.pdb\"))\n",
    "view_minim"
   ]
  },
  {
   "cell_type": "markdown",
   "id": "587589fc",
   "metadata": {
    "slideshow": {
     "slide_type": "slide"
    }
   },
   "source": [
    "# Running a test simulation of a 'small' protein\n",
    "\n",
    "- Copy the ``` input.pdb ``` file from the examples folder of your openmm installation. If you installed openmm via conda then the path should look like ``` [anaconda_folder_path]/pkgs/openmm-7.7.0-[your_version]/share/openmm/examples ```. This contains Villin N68H protein in water.\n",
    "\n",
    "\n",
    "- Check that ``` amber14-all.xml ``` file exists in you openmm data folder. If you installed openmm via conda then the path should look like ``` [anaconda_folder_path]/pkgs/openmm-7.7.0-[your_version]/lib/python3.8/site-packages/openmm/app/data/ ```.\n"
   ]
  },
  {
   "cell_type": "code",
   "execution_count": 34,
   "id": "39e217f3",
   "metadata": {
    "slideshow": {
     "slide_type": "slide"
    }
   },
   "outputs": [
    {
     "name": "stdout",
     "output_type": "stream",
     "text": [
      "-114904.49843246874 kJ/mol\n",
      "-166742.68593246874 kJ/mol\n",
      "#\"Step\",\"Potential Energy (kJ/mole)\",\"Temperature (K)\"\n",
      "100,-162773.56093246874,54.78739518866022\n",
      "200,-159591.18593246874,99.58547372125051\n",
      "300,-156610.62343246874,136.08054854029612\n",
      "400,-154472.87343246874,167.6564799298149\n",
      "500,-152723.52968246874,192.7584070693534\n",
      "600,-150952.62343246874,207.2573479524575\n",
      "700,-149776.62343246874,227.93586275999138\n",
      "800,-148677.68593246874,240.6587540719194\n",
      "900,-147584.56093246874,248.25857178586935\n",
      "1000,-146541.49843246874,251.64869784525408\n",
      "1100,-146217.99843246874,261.9102864192445\n",
      "1200,-145405.87343246874,265.68705042205954\n",
      "1300,-145086.18593246874,272.2767041056566\n",
      "1400,-144674.06093246874,280.0013143955792\n",
      "1500,-143459.12343246874,275.8539763589534\n",
      "1600,-143344.49843246874,285.3183916273659\n",
      "1700,-142934.31093246874,288.77443220330275\n",
      "1800,-142564.37343246874,286.1498077661399\n",
      "1900,-142207.34218246874,289.338936965431\n",
      "2000,-142047.21718246874,293.5557469957846\n",
      "2100,-142087.56093246874,295.2256921368552\n",
      "2200,-141808.74843246874,293.335572116647\n",
      "2300,-142000.62343246874,294.3888158536476\n",
      "2400,-141960.24843246874,295.5545036244513\n",
      "2500,-141838.43593246874,300.9160922296539\n",
      "2600,-141579.49843246874,300.94780909490856\n",
      "2700,-141279.02968246874,295.06410454480624\n",
      "2800,-141771.24843246874,298.9087717608832\n",
      "2900,-141295.62343246874,296.85782866058395\n",
      "3000,-140893.18593246874,296.6175520874442\n",
      "3100,-140964.31093246874,299.0325940527445\n",
      "3200,-141088.68593246874,298.2331455913265\n",
      "3300,-141115.24843246874,299.0464026150429\n",
      "3400,-140965.74843246874,297.4374617590306\n",
      "3500,-140963.31093246874,296.23982113798814\n",
      "3600,-140633.31093246874,291.16719260282144\n",
      "3700,-141213.74843246874,300.2386258537054\n",
      "3800,-140851.56093246874,300.7087946884438\n",
      "3900,-140581.81093246874,302.3045845994102\n",
      "4000,-141090.84218246874,304.5881031676508\n",
      "4100,-141095.43593246874,300.13934748755673\n",
      "4200,-141353.43593246874,301.3424295537782\n",
      "4300,-141164.02968246874,295.9509562430243\n",
      "4400,-141625.56093246874,299.9047340371656\n",
      "4500,-141566.37343246874,296.9445395726237\n",
      "4600,-141350.84218246874,298.42059858160417\n",
      "4700,-140698.49843246874,293.021693088025\n",
      "4800,-141230.74843246874,299.85991248217533\n",
      "4900,-141267.31093246874,297.9977328520622\n",
      "5000,-141116.27968246874,299.2395796357145\n",
      "5100,-140736.62343246874,295.75016322040733\n",
      "5200,-140533.31093246874,298.0632549260026\n",
      "5300,-140517.74843246874,297.3726709259163\n",
      "5400,-140714.18593246874,298.3881179559705\n",
      "5500,-140535.99843246874,297.43368782362177\n",
      "5600,-140819.74843246874,297.8714227024565\n",
      "5700,-140788.99843246874,297.744203795693\n",
      "5800,-140865.15468246874,299.0277076949802\n",
      "5900,-140866.06093246874,297.6971540708558\n",
      "6000,-140896.49843246874,299.10874630185475\n",
      "6100,-140773.93593246874,299.8645550408969\n",
      "6200,-140628.31093246874,297.58900550933924\n",
      "6300,-140776.09218246874,304.20135879993046\n",
      "6400,-140589.81093246874,299.39323557219956\n",
      "6500,-140629.34218246874,304.5307724977501\n",
      "6600,-141016.12343246874,303.7574147879385\n",
      "6700,-140773.93593246874,301.72650779097603\n",
      "6800,-140732.31093246874,300.6910649379228\n",
      "6900,-140828.09218246874,305.3243696276182\n",
      "7000,-140384.71718246874,302.25452843658513\n",
      "7100,-140336.34218246874,304.29539802145206\n",
      "7200,-140221.02968246874,302.9762120015697\n",
      "7300,-140333.99843246874,302.2582705290609\n",
      "7400,-140691.49843246874,305.14738990835525\n",
      "7500,-140583.74843246874,302.6674376624315\n",
      "7600,-140592.49843246874,301.8462401521472\n",
      "7700,-140529.09218246874,304.1965158763962\n",
      "7800,-140418.71718246874,299.03685442449734\n",
      "7900,-140609.43593246874,302.19031390455797\n",
      "8000,-140455.96718246874,299.0712496116435\n",
      "8100,-140777.46718246874,305.33113446049805\n",
      "8200,-140406.15468246874,303.54315798190544\n",
      "8300,-140257.09218246874,297.6239331814101\n",
      "8400,-140559.15468246874,301.87355075096957\n",
      "8500,-140998.21718246874,303.26328744610896\n",
      "8600,-140957.12343246874,300.7348576956603\n",
      "8700,-140609.37343246874,300.81442897577335\n",
      "8800,-140949.93593246874,305.1398152338087\n",
      "8900,-140605.65468246874,297.7512947669922\n",
      "9000,-140749.87343246874,298.82470486703113\n",
      "9100,-140196.06093246874,298.74809862271127\n",
      "9200,-140363.24843246874,301.12302659521805\n",
      "9300,-140509.56093246874,301.4879665673558\n",
      "9400,-140782.21718246874,304.606845590826\n",
      "9500,-140641.74843246874,303.7521230705103\n",
      "9600,-140382.24843246874,299.4407020451814\n",
      "9700,-140854.34218246874,305.84495417916344\n",
      "9800,-140861.06093246874,303.6168166124218\n",
      "9900,-140850.81093246874,303.9846558916182\n",
      "10000,-140718.09218246874,301.6138196260275\n"
     ]
    }
   ],
   "source": [
    "from openmm.app import *\n",
    "from openmm import *\n",
    "from openmm.unit import *\n",
    "from sys import stdout\n",
    "\n",
    "# loading the input pdb.\n",
    "pdb = PDBFile('input.pdb')\n",
    "\n",
    "# defining the forcefield \n",
    "forcefield = ForceField('amber14-all.xml', 'amber14/tip3pfb.xml')\n",
    "\n",
    "# creating the system using the forcefield and pdb topology\n",
    "system = forcefield.createSystem(pdb.topology, nonbondedMethod=PME,\n",
    "        nonbondedCutoff=1*nanometer, constraints=HBonds)\n",
    "\n",
    "# defining the integrator\n",
    "integrator = LangevinMiddleIntegrator(300*kelvin, 1/picosecond, 0.002*picoseconds)\n",
    "\n",
    "# creating the simulation object\n",
    "simulation = Simulation(pdb.topology, system, integrator)\n",
    "\n",
    "# setting the initial positions to pdb positions\n",
    "simulation.context.setPositions(pdb.positions)\n",
    "\n",
    "# energy before minimization\n",
    "state0 = simulation.context.getState(getEnergy=True)\n",
    "print(state0.getPotentialEnergy())\n",
    "\n",
    "# b. Minimize the energy.\n",
    "simulation.minimizeEnergy()\n",
    "\n",
    "# c. Print the energy afterwards.\n",
    "state1 = simulation.context.getState(getEnergy=True)\n",
    "print(state1.getPotentialEnergy())\n",
    "\n",
    "# defining a PDB reporter which will have the trajectory\n",
    "simulation.reporters.append(PDBReporter('output.pdb', 100))\n",
    "\n",
    "# printing the PE and Temp to screen\n",
    "simulation.reporters.append(StateDataReporter(stdout, 100, step=True,\n",
    "        potentialEnergy=True, temperature=True))\n",
    "\n",
    "# write to a file for plotting\n",
    "simulation.reporters.append(StateDataReporter(\"scalars.csv\", 10, step=True, time=True,\n",
    "                                              potentialEnergy=True, totalEnergy=True, temperature=True))\n",
    "# Lets go!!!\n",
    "simulation.step(10000)\n"
   ]
  },
  {
   "cell_type": "code",
   "execution_count": 13,
   "id": "309e3485",
   "metadata": {
    "scrolled": false,
    "slideshow": {
     "slide_type": "slide"
    }
   },
   "outputs": [
    {
     "data": {
      "application/vnd.jupyter.widget-view+json": {
       "model_id": "20de3124e6ee49a3b7e8e91a19a0a74f",
       "version_major": 2,
       "version_minor": 0
      },
      "text/plain": [
       "NGLWidget(max_frame=99)"
      ]
     },
     "metadata": {},
     "output_type": "display_data"
    }
   ],
   "source": [
    "view = nglview.show_mdtraj(mdtraj.load(\"output.pdb\"))\n",
    "view"
   ]
  },
  {
   "cell_type": "code",
   "execution_count": null,
   "id": "458df898",
   "metadata": {},
   "outputs": [],
   "source": []
  }
 ],
 "metadata": {
  "celltoolbar": "Slideshow",
  "kernelspec": {
   "display_name": "Python 3 (ipykernel)",
   "language": "python",
   "name": "python3"
  },
  "language_info": {
   "codemirror_mode": {
    "name": "ipython",
    "version": 3
   },
   "file_extension": ".py",
   "mimetype": "text/x-python",
   "name": "python",
   "nbconvert_exporter": "python",
   "pygments_lexer": "ipython3",
   "version": "3.8.12"
  }
 },
 "nbformat": 4,
 "nbformat_minor": 5
}
