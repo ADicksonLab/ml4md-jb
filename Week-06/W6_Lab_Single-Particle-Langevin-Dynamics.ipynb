{
 "cells": [
  {
   "cell_type": "markdown",
   "id": "bc51b380",
   "metadata": {},
   "source": [
    "# Week 06 Lab: Single Particle Langevin Dynamics"
   ]
  },
  {
   "cell_type": "markdown",
   "id": "ae98bd7e",
   "metadata": {},
   "source": [
    "## Student Name: YOUR NAME HERE"
   ]
  },
  {
   "cell_type": "markdown",
   "id": "52b1a9cd",
   "metadata": {},
   "source": [
    "<img src=\"https://cdn.pixabay.com/photo/2014/03/26/17/28/sphere-298822_1280.jpg\" width=\"300\"/>"
   ]
  },
  {
   "cell_type": "markdown",
   "id": "6deb9983",
   "metadata": {},
   "source": [
    "Today we're studying a very simple system: a single particle on a one-dimensional energy surface.  While this might not seem like the most exciting (or biologically-relevant) system, it is complex enough to demonstrate some essential principles of MD simulation (and even gain some insight into real biomolecular processes).\n",
    "\n",
    "While there are many software packages that implement MD simulations, in this lab **we will be writing all of the code to do this in our Jupyter notebook!** In later weeks we will move on to use the OpenMM program to conduct biomolecular simulations, but for this week and the next we will get down and dirty implementing MD with functions we write ourselves."
   ]
  },
  {
   "cell_type": "markdown",
   "id": "37db2e37",
   "metadata": {},
   "source": [
    "## Forces\n",
    "\n",
    "First let's write functions for the internal energy ($U(x)$) and the net force ($F(x) = -dU(x)/dx$).\n",
    "\n",
    "We get to design our own energy function here and we will start with the following:\n",
    "\n",
    "$$U(x) = (x-2)^4 + 2(x-2)^3 - 4(x-1.5)^2 + 8$$\n",
    "\n",
    "Let's code it up and then see how it looks!\n",
    "\n",
    "**Task:** Finish the following function:"
   ]
  },
  {
   "cell_type": "code",
   "execution_count": 1,
   "id": "edeb5627",
   "metadata": {},
   "outputs": [],
   "source": [
    "def potential(x):\n",
    "    U = None   # CORRECT THIS LINE\n",
    "    return U"
   ]
  },
  {
   "cell_type": "markdown",
   "id": "91a1976f",
   "metadata": {},
   "source": [
    "Now run the cell below to plot it on the range (-1,4):"
   ]
  },
  {
   "cell_type": "code",
   "execution_count": 3,
   "id": "7c71167d",
   "metadata": {},
   "outputs": [
    {
     "data": {
      "text/plain": [
       "Text(0, 0.5, 'U(x)')"
      ]
     },
     "execution_count": 3,
     "metadata": {},
     "output_type": "execute_result"
    },
    {
     "data": {
      "image/png": "[encoded data removed]",
      "text/plain": [
       "<Figure size 432x288 with 1 Axes>"
      ]
     },
     "metadata": {
      "needs_background": "light"
     },
     "output_type": "display_data"
    }
   ],
   "source": [
    "import numpy as np\n",
    "import matplotlib.pyplot as plt\n",
    "\n",
    "x_vals = np.linspace(-1,4,100)\n",
    "\n",
    "plt.plot(x_vals,potential(x_vals))\n",
    "plt.xlabel(\"x\")\n",
    "plt.ylabel(\"U(x)\")"
   ]
  },
  {
   "cell_type": "markdown",
   "id": "f8ac57f2",
   "metadata": {},
   "source": [
    "You should see a double-well potential with the deepest well around $x=0$ and a secondary well at $x=3$.  \n",
    "\n",
    "We often refer to these wells as **\"local minima\"**.  The $x=0$ well here is the **\"global minimum\"**."
   ]
  },
  {
   "cell_type": "markdown",
   "id": "ab29515c",
   "metadata": {},
   "source": [
    "**Task:** Make another function called `force` that takes in `x`, then computes and returns `-dU/dx`.  (Dust off those calculus skills!)  \n",
    "\n",
    "This should automatically work both when `x` is a float and when `x` is a numpy array."
   ]
  },
  {
   "cell_type": "code",
   "execution_count": 4,
   "id": "c249e1e3",
   "metadata": {},
   "outputs": [],
   "source": [
    "# your code here"
   ]
  },
  {
   "cell_type": "code",
   "execution_count": 6,
   "id": "aa486b73",
   "metadata": {},
   "outputs": [
    {
     "name": "stdout",
     "output_type": "stream",
     "text": [
      "Test passed!\n",
      "Test passed!\n"
     ]
    }
   ],
   "source": [
    "# Confirm it is working with this test\n",
    "if force(2) == 4.0:\n",
    "    print(\"Test passed!\")\n",
    "else:\n",
    "    print(\"Test failed!\")\n",
    "if (force(np.array([1.0,2.0])) == np.array([-6,4])).all():\n",
    "    print(\"Test passed!\")\n",
    "else:\n",
    "    print(\"Test failed!\")"
   ]
  },
  {
   "cell_type": "markdown",
   "id": "81ba44ac",
   "metadata": {},
   "source": [
    "## Integrator\n",
    "\n",
    "Now let's write a Langevin Velocity Verlet integrator.  \n",
    "\n",
    "As a reminder here are the Langevin-VV update equations:\n",
    "\n",
    "$$x(t + \\delta t) = x(t) + v(t)\\delta t + \\frac{1}{2m}f(t)\\delta t^2$$\n",
    "$$v(t + \\delta t) = v(t) + \\frac{1}{2m}\\left[f(t) + f(t + \\delta t)\\right]\\delta t - \\gamma v(t)\\delta t + \\sqrt{\\frac{2 \\gamma k_B T}{m}} R(t) \\delta t$$\n",
    "\n",
    "**Remember:** the $R(t)$ function is a **random noise term**!  It generates a random variable for each timestep that is drawn from a Gaussian distribution with mean=0 and variance=1.  This can be easily done here using the `np.random.normal()` function.\n",
    "\n",
    "The following `VV_langevin` function will implement this integration scheme.  It will take in positions ($x$) velocities ($v$), masses ($m$) and a function to compute the forces.  It also has an argument for a parameter dictionary that must contain the timestep ($dt$), the friction coefficient ($\\gamma$) and the thermal energy ($k_B T$).  Note that even though we only have one particle ($N = 1$), this function will be written to be general for any value of $N$.\n",
    "\n",
    "**Task:** complete the missing lines below."
   ]
  },
  {
   "cell_type": "code",
   "execution_count": 7,
   "id": "1e251387",
   "metadata": {},
   "outputs": [],
   "source": [
    "def VV_langevin(x, v, m, force_alg, params):\n",
    "    \"\"\"\n",
    "    x : positions \n",
    "    np.array, shape = (N,ndim)\n",
    "    \n",
    "    v : velocities \n",
    "    np.array, shape = (N,ndim)\n",
    "    \n",
    "    m : masses\n",
    "    np.array, shape = (N)\n",
    "    \n",
    "    force_alg : force function\n",
    "    callable function that takes in x, returns a np.array with same shape\n",
    "    \n",
    "    params : parameter dict\n",
    "    dict (must contain dt, gamma, kT [all floats])\n",
    "    \"\"\"\n",
    "    \n",
    "    dt = params['dt']\n",
    "    gamma = params['gamma']\n",
    "    kT = params['kT']\n",
    "    \n",
    "    # define arrays for new positions and new velocities\n",
    "    new_x = np.zeros_like(x)\n",
    "    new_v = np.zeros_like(x)\n",
    "    \n",
    "    N = x.shape[0]\n",
    "    \n",
    "    # compute f(t)\n",
    "    f = force_alg(x)\n",
    "    \n",
    "    # use f to update x\n",
    "    for i in range(N):\n",
    "        # new_x[i] is the (new) position for particle i\n",
    "        new_x[i] = None  # CORRECT THIS LINE\n",
    "    \n",
    "    # compute f(t+dt)\n",
    "    new_f = force_alg(new_x)\n",
    "    \n",
    "    # use f(t+dt) and f(t) to update v\n",
    "    for i in range(N):\n",
    "        # define Langevin prefactor\n",
    "        prefac = np.sqrt(2*gamma*kT/m[i])\n",
    "        \n",
    "        new_v[i] = None  # CORRECT THIS LINE\n",
    "        \n",
    "    return new_x, new_v"
   ]
  },
  {
   "cell_type": "markdown",
   "id": "e390b326",
   "metadata": {},
   "source": [
    "**Great!** Now let's test this integrator out by calling it with our force function."
   ]
  },
  {
   "cell_type": "code",
   "execution_count": 9,
   "id": "487c6a7b",
   "metadata": {},
   "outputs": [
    {
     "name": "stdout",
     "output_type": "stream",
     "text": [
      "Test passed!\n",
      "Test passed!\n"
     ]
    }
   ],
   "source": [
    "test_x = np.array([[2.]])\n",
    "test_v = np.array([[0.]])\n",
    "m = np.array([1.0])\n",
    "\n",
    "params = {'dt' : 0.01,\n",
    "         'gamma' : 1.0,\n",
    "         'kT' : 0} # use zero thermal energy for now (testing)\n",
    "\n",
    "updated_x, updated_v = VV_langevin(test_x, test_v, m, force, params)\n",
    "\n",
    "# confirm it is working with this test\n",
    "if updated_x[0,0] == 2.0002:\n",
    "    print(\"Test passed!\")\n",
    "else:\n",
    "    print(\"Test failed!\")\n",
    "if np.abs(updated_v[0,0] - 0.040008) < 1e-6:\n",
    "    print(\"Test passed!\")\n",
    "else:\n",
    "    print(\"Test failed!\")"
   ]
  },
  {
   "cell_type": "markdown",
   "id": "4755c9a8",
   "metadata": {},
   "source": [
    "**One more test:** turn on the random force (set `kT = 1000`) and then call the function `10000` times (each time using the same `test_x` and `test_v`).  **Save of all of the `updated_v` values that you get in an array called `all_vs`**."
   ]
  },
  {
   "cell_type": "code",
   "execution_count": 10,
   "id": "c428c976",
   "metadata": {},
   "outputs": [],
   "source": [
    "# your code here"
   ]
  },
  {
   "cell_type": "markdown",
   "id": "0a754305",
   "metadata": {},
   "source": [
    "Here's a histogram of the distribution:"
   ]
  },
  {
   "cell_type": "code",
   "execution_count": 12,
   "id": "7943064a",
   "metadata": {},
   "outputs": [
    {
     "data": {
      "image/png": "[encoded data removed]",
      "text/plain": [
       "<Figure size 432x288 with 1 Axes>"
      ]
     },
     "metadata": {
      "needs_background": "light"
     },
     "output_type": "display_data"
    }
   ],
   "source": [
    "counts, bins, _ = plt.hist(all_vs,bins=20)"
   ]
  },
  {
   "cell_type": "markdown",
   "id": "082b7b7c",
   "metadata": {},
   "source": [
    "And we can test the code using a fit to a normal distribution using `scipy.stats.norm`:"
   ]
  },
  {
   "cell_type": "code",
   "execution_count": 13,
   "id": "7fc39f73",
   "metadata": {},
   "outputs": [
    {
     "name": "stdout",
     "output_type": "stream",
     "text": [
      "Test passed!\n",
      "Test passed!\n",
      "The data fits to a normal distribution with mean 0.043110350344429546 and width 0.45098374346108183\n"
     ]
    }
   ],
   "source": [
    "from scipy.stats import norm\n",
    "\n",
    "mean,std = norm.fit(all_vs)\n",
    "\n",
    "if np.abs(mean) < 0.05:\n",
    "    print(\"Test passed!\")\n",
    "else:\n",
    "    print(\"Test failed!\")\n",
    "    \n",
    "if np.abs(std - np.sqrt(2*params['gamma']*params['kT']/m[0])*params['dt']) < 0.01:\n",
    "    print(\"Test passed!\")\n",
    "else:\n",
    "    print(\"Test failed!\")\n",
    "    \n",
    "print(\"The data fits to a normal distribution with mean\", mean, \"and width\", std)\n"
   ]
  },
  {
   "cell_type": "markdown",
   "id": "950f68ab",
   "metadata": {},
   "source": [
    "**Are these results expected?  Why or why not?**"
   ]
  },
  {
   "cell_type": "markdown",
   "id": "13f24110",
   "metadata": {},
   "source": [
    "/ your answer here /"
   ]
  },
  {
   "cell_type": "markdown",
   "id": "cc84d9e9",
   "metadata": {},
   "source": [
    "## Simulation manager\n",
    "\n",
    "We're all ready to run some simulations!  First let's make things a little easier on ourselves by defining a simulation manager.  This will be a function that takes in initial positions, velocities, masses, an integrator and a set of parameters, and returns a trajectory. "
   ]
  },
  {
   "cell_type": "code",
   "execution_count": 14,
   "id": "a024d6cf",
   "metadata": {},
   "outputs": [],
   "source": [
    "def sim_manager(init_pos, init_vel, m, force_fn, integrator, params):\n",
    "    \"\"\"\n",
    "    init_pos : initial positions \n",
    "    np.array, shape = (N,ndim)\n",
    "    \n",
    "    init_vel : initial velocities \n",
    "    np.array, shape = (N,ndim)\n",
    "    \n",
    "    m : masses\n",
    "    np.array, shape = (N)\n",
    "    \n",
    "    force_fn : force function\n",
    "    callable function that takes in x, returns a np.array with same shape\n",
    "    \n",
    "    integrator : integrator function\n",
    "    callable function that takes in x, v, m, force_alg, params\n",
    "\n",
    "    params : parameter dict\n",
    "    dict (must contain dt, gamma, kT [floats], \n",
    "          n_steps, report_freq [integers])\n",
    "    \"\"\"\n",
    "    \n",
    "    # define empty arrays for (periodically) saving x and v\n",
    "    n_steps = params['n_steps']\n",
    "    report_freq = params['report_freq']\n",
    "    \n",
    "    n_reports = int(n_steps/report_freq) + 1\n",
    "    \n",
    "    N = init_pos.shape[0]\n",
    "    ndim = init_pos.shape[1]\n",
    "    \n",
    "    traj_x = np.zeros((n_reports, N, ndim))\n",
    "    traj_v = np.zeros((n_reports, N, ndim))\n",
    "    \n",
    "    current_x = init_pos\n",
    "    current_v = init_vel\n",
    "    \n",
    "    for step in range(n_steps):\n",
    "        \n",
    "        current_x, current_v = integrator(current_x, current_v, m, force_fn, params)\n",
    "        \n",
    "        if step % report_freq == 0:\n",
    "            # time to report\n",
    "            report_idx = int(step/report_freq)\n",
    "            traj_x[report_idx] = current_x\n",
    "            traj_v[report_idx] = current_v\n",
    "            \n",
    "    return traj_x, traj_v"
   ]
  },
  {
   "cell_type": "markdown",
   "id": "3e76a1b0",
   "metadata": {},
   "source": [
    "**Run three trajectories starting at x=0, v=0:**"
   ]
  },
  {
   "cell_type": "code",
   "execution_count": 15,
   "id": "d3996e6a",
   "metadata": {},
   "outputs": [
    {
     "name": "stdout",
     "output_type": "stream",
     "text": [
      "Running trajectory 1 of 3\n",
      "Running trajectory 2 of 3\n",
      "Running trajectory 3 of 3\n"
     ]
    }
   ],
   "source": [
    "params = {'dt' : 0.01,\n",
    "         'gamma' : 1.0,\n",
    "         'kT' : 100,\n",
    "          'n_steps' : 10000,\n",
    "          'report_freq' : 100\n",
    "         }\n",
    "\n",
    "all_trajs = []\n",
    "n_traj = 3\n",
    "for i in range(n_traj):\n",
    "    print(\"Running trajectory\",i+1,\"of\",n_traj)\n",
    "    pos_traj, _ = sim_manager(np.array([[0.]]),\n",
    "                              np.array([[0.]]),\n",
    "                              np.array([1.]),\n",
    "                              force,\n",
    "                              VV_langevin,\n",
    "                              params)\n",
    "    all_trajs.append(pos_traj)"
   ]
  },
  {
   "cell_type": "markdown",
   "id": "70baad5c",
   "metadata": {},
   "source": [
    "**Here's a nice plot of our trajectories, along with the potential:**"
   ]
  },
  {
   "cell_type": "code",
   "execution_count": 16,
   "id": "52a24f6a",
   "metadata": {},
   "outputs": [],
   "source": [
    "def traj_plot(traj_list,x_vals,potential,n_steps):\n",
    "    fig, ax = plt.subplots(nrows=2,ncols=1, figsize=(4,8),sharex=True)\n",
    "    for i, traj in enumerate(traj_list):\n",
    "        ax[0].plot(traj[:,0,0],np.linspace(0,int(n_steps),pos_traj.shape[0]), label=f\"Traj {i+1}\")\n",
    "        \n",
    "    ax[0].set_ylabel(\"Time\")\n",
    "    ax[0].legend()\n",
    "\n",
    "    ax[1].plot(x_vals,potential(x_vals))\n",
    "    ax[1].set_xlabel(\"x\")\n",
    "    ax[1].set_ylabel(\"U(x)\")"
   ]
  },
  {
   "cell_type": "code",
   "execution_count": 17,
   "id": "f5696824",
   "metadata": {},
   "outputs": [
    {
     "data": {
      "image/png": "[encoded data removed]",
      "text/plain": [
       "<Figure size 288x576 with 2 Axes>"
      ]
     },
     "metadata": {
      "needs_background": "light"
     },
     "output_type": "display_data"
    }
   ],
   "source": [
    "traj_plot(all_trajs,x_vals,potential,params['n_steps'])"
   ]
  },
  {
   "cell_type": "markdown",
   "id": "1d9473b0",
   "metadata": {},
   "source": [
    "**Run this again, using a larger number of trajectories and a larger number of steps.  What is happening here?  Why?**"
   ]
  },
  {
   "cell_type": "markdown",
   "id": "e1c56daf",
   "metadata": {},
   "source": [
    "/your answer here/"
   ]
  },
  {
   "cell_type": "markdown",
   "id": "bbbe824c",
   "metadata": {},
   "source": [
    "**Try starting at `x=3` instead.  Run a set of trajectories below and describe their behavior.**"
   ]
  },
  {
   "cell_type": "code",
   "execution_count": 18,
   "id": "7805a738",
   "metadata": {},
   "outputs": [],
   "source": [
    "# your code here"
   ]
  },
  {
   "cell_type": "markdown",
   "id": "3f757918",
   "metadata": {},
   "source": [
    "/your description here/"
   ]
  },
  {
   "cell_type": "markdown",
   "id": "c124f634",
   "metadata": {},
   "source": [
    "## Free energy plots\n",
    "\n",
    "A great way to analyze your trajectories is to show the probability of visiting a given value of $x$, which we denote $P(x)$.  Probabilities are in the range $[0,1]$, but sometimes it can be difficult to see the probabilities of rarely visited states in your trajectory when the probability is plotted directly.\n",
    "\n",
    "For this reason it is customary to instead plot $f(x) = -\\log(P(x))$.\n",
    "\n",
    "Since $x$ is continuous, we can first use the `np.histogram` function to bin it.  Let's use the `all_trajs[0]` array for an example:"
   ]
  },
  {
   "cell_type": "code",
   "execution_count": 20,
   "id": "2d2e36c1",
   "metadata": {},
   "outputs": [],
   "source": [
    "counts, bins = np.histogram(all_trajs[0],bins=20)\n",
    "cent_bins = 0.5*(bins[1:] + bins[:-1])  # get the center of each bin\n"
   ]
  },
  {
   "cell_type": "markdown",
   "id": "1de5165d",
   "metadata": {},
   "source": [
    "Now the probability can be computed using the counts:"
   ]
  },
  {
   "cell_type": "code",
   "execution_count": 21,
   "id": "fd485c1e",
   "metadata": {},
   "outputs": [],
   "source": [
    "P = counts/counts.sum()"
   ]
  },
  {
   "cell_type": "markdown",
   "id": "9f651bdd",
   "metadata": {},
   "source": [
    "And the `f` can be computed using `np.log`, although since $\\log(0) \\rightarrow \\infty$, we need to handle the non-zero values appropriately:"
   ]
  },
  {
   "cell_type": "code",
   "execution_count": 22,
   "id": "f15c05c9",
   "metadata": {},
   "outputs": [],
   "source": [
    "# the \"where\" argument only computes the log where the P values are greater than 0\n",
    "f = -params['kT']*np.log(P,where=P>0)\n",
    "\n",
    "# the P>0 is a \"mask\" used to select only the values of f where P > 0\n",
    "f -= f[P>0].min()\n",
    "\n",
    "fmax = 10000\n",
    "# again, we use a P==0 mask to select only elements of f where P = 0, \n",
    "# and then we set those to fmax\n",
    "f[P==0] = fmax"
   ]
  },
  {
   "cell_type": "markdown",
   "id": "4940bf3a",
   "metadata": {},
   "source": [
    "This `f` array is actually the **free energy of the system in units of `kT`**. This can be plotted along with the potential as follows:"
   ]
  },
  {
   "cell_type": "code",
   "execution_count": 23,
   "id": "a154cb81",
   "metadata": {},
   "outputs": [
    {
     "data": {
      "text/plain": [
       "Text(0, 0.5, 'Free energy (kT)')"
      ]
     },
     "execution_count": 23,
     "metadata": {},
     "output_type": "execute_result"
    },
    {
     "data": {
      "image/png": "[encoded data removed]",
      "text/plain": [
       "<Figure size 432x288 with 2 Axes>"
      ]
     },
     "metadata": {
      "needs_background": "light"
     },
     "output_type": "display_data"
    }
   ],
   "source": [
    "zeroed_potential = potential(x_vals)\n",
    "zeroed_potential -= zeroed_potential.min()\n",
    "\n",
    "fig, ax = plt.subplots(1,1)\n",
    "ax.plot(x_vals,zeroed_potential, color='blue',label='U(x)')\n",
    "ax.set_xlabel('x')\n",
    "ax.set_ylim([-1,18])  # set the same range of y-values\n",
    "ax.set_ylabel('U(x)',color='blue')\n",
    "\n",
    "ax2 = ax.twinx()\n",
    "ax2.plot(cent_bins[f < fmax], f[f < fmax], color='red', label='Free energy (kT)')\n",
    "ax2.set_ylim([-100,1800]) # set the same range of y-values\n",
    "ax2.set_ylabel('Free energy (kT)',color='red')"
   ]
  },
  {
   "cell_type": "markdown",
   "id": "11d3309f",
   "metadata": {},
   "source": [
    "If we want to **combine multiple trajectories together**, we can't just average the free energy!  Instead we need to **average the probabilities**, or, equivalently, just **sum the counts**.  Let's make a function that does this:"
   ]
  },
  {
   "cell_type": "code",
   "execution_count": 24,
   "id": "2c268c6b",
   "metadata": {},
   "outputs": [],
   "source": [
    "def free_energy(coord_list, kT, nbins=20, fmax=10000):\n",
    "    # get global min and max\n",
    "    c_min = np.array(coord_list).min()\n",
    "    c_max = np.array(coord_list).max()\n",
    "    \n",
    "    # define a total counts array\n",
    "    tot_counts = np.zeros((nbins))\n",
    "    \n",
    "    for coord in coord_list:\n",
    "        counts, bins = np.histogram(coord,bins=nbins,range=(c_min,c_max))\n",
    "        tot_counts += counts\n",
    "        \n",
    "    cent_bins = 0.5*(bins[1:] + bins[:-1])  # get the center of each bin\n",
    "    \n",
    "    P = tot_counts/tot_counts.sum()\n",
    "\n",
    "    f_nrg = -kT*np.log(P,where=P>0)\n",
    "\n",
    "    f_nrg -= f_nrg[P>0].min()   # subtract the free energy minimum, so that\n",
    "                   # the lowest value is zero\n",
    "\n",
    "    f_nrg[P==0] = fmax # for all unvisited bins, assign them the maximum\n",
    "                   # free energy\n",
    "    \n",
    "    return cent_bins, f_nrg, P"
   ]
  },
  {
   "cell_type": "markdown",
   "id": "ca0ff667",
   "metadata": {},
   "source": [
    "And use it to plot a **global** free energy distribution for the whole `all_trajs` list:"
   ]
  },
  {
   "cell_type": "code",
   "execution_count": 25,
   "id": "528c1e91",
   "metadata": {},
   "outputs": [
    {
     "data": {
      "text/plain": [
       "Text(0, 0.5, 'Free energy (kT)')"
      ]
     },
     "execution_count": 25,
     "metadata": {},
     "output_type": "execute_result"
    },
    {
     "data": {
      "image/png": "[encoded data removed]",
      "text/plain": [
       "<Figure size 432x288 with 2 Axes>"
      ]
     },
     "metadata": {
      "needs_background": "light"
     },
     "output_type": "display_data"
    }
   ],
   "source": [
    "bins, f, P = free_energy(all_trajs, params['kT'])\n",
    "\n",
    "fig, ax = plt.subplots(1,1)\n",
    "ax.plot(x_vals,zeroed_potential, color='blue',label='U(x)')\n",
    "ax.set_xlabel('x')\n",
    "ax.set_ylim([-1,18])  # set the same range of y-values\n",
    "ax.set_ylabel('U(x)',color='blue')\n",
    "\n",
    "ax2 = ax.twinx()\n",
    "ax2.plot(bins[f < fmax], f[f < fmax], color='red', label='Free energy (kT)')\n",
    "ax2.set_ylim([-100,1800])  # set the same range of y-values\n",
    "ax2.set_ylabel('Free energy (kT)',color='red')"
   ]
  },
  {
   "cell_type": "markdown",
   "id": "3b3a03bd",
   "metadata": {},
   "source": [
    "## Turning up the heat\n",
    "\n",
    "To finish off our lab today, **run sets of 10 trajectories (starting at `x=0`, each with 50000 steps, for each `kT` value in the following list: `100, 150, 200, 250, 300`.**\n",
    "\n",
    "Save each trajectory set separately, then plot their `P(x)` curves (averaged over all the trajectories in the set).  Set the `plt.yscale('log')` and make sure to mask out the `P=0` values!"
   ]
  },
  {
   "cell_type": "code",
   "execution_count": 26,
   "id": "b0b69b35",
   "metadata": {},
   "outputs": [],
   "source": [
    "# your code here"
   ]
  },
  {
   "cell_type": "code",
   "execution_count": null,
   "id": "72f417fd",
   "metadata": {},
   "outputs": [],
   "source": []
  }
 ],
 "metadata": {
  "kernelspec": {
   "display_name": "Python 3 (ipykernel)",
   "language": "python",
   "name": "python3"
  },
  "language_info": {
   "codemirror_mode": {
    "name": "ipython",
    "version": 3
   },
   "file_extension": ".py",
   "mimetype": "text/x-python",
   "name": "python",
   "nbconvert_exporter": "python",
   "pygments_lexer": "ipython3",
   "version": "3.8.12"
  }
 },
 "nbformat": 4,
 "nbformat_minor": 5
}
