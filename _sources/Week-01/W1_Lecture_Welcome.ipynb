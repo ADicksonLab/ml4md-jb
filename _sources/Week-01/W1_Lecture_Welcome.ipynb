{
 "cells": [
  {
   "cell_type": "markdown",
   "id": "ad3e341f",
   "metadata": {
    "slideshow": {
     "slide_type": "slide"
    }
   },
   "source": [
    "# Week 01 Lecture: Welcome to ML4MD\n",
    "Welcome to Machine Learning for Molecular Dynamics!"
   ]
  },
  {
   "cell_type": "markdown",
   "id": "7725bc35",
   "metadata": {
    "slideshow": {
     "slide_type": "slide"
    }
   },
   "source": [
    "## Course details and instructors\n",
    "\n",
    "This is a graduate special topics course in the Biochemistry & Molecular Dynamics department at Michigan State University (BMB 961 Sec 003).  This is being offered for the first time in the Spring 2022 semester.\n",
    "\n",
    "The main instructors for this course are:  \n",
    "* Alex Dickson (alexrd@msu.edu)\n",
    "* Michael Feig (feig@msu.edu)"
   ]
  },
  {
   "cell_type": "markdown",
   "id": "581e9244",
   "metadata": {
    "slideshow": {
     "slide_type": "fragment"
    }
   },
   "source": [
    "This course will also feature lectures by:  \n",
    "* Jose Mendoza (jmendoza@egr.msu.edu)\n",
    "* Samik Bose (bosesami@msu.edu)\n",
    "* Giacomo Janson (giacomo.janson@gmail.com)\n",
    "* and others to be named!"
   ]
  },
  {
   "cell_type": "markdown",
   "id": "105bc7cf",
   "metadata": {
    "slideshow": {
     "slide_type": "slide"
    }
   },
   "source": [
    "## Why Molecular Dynamics?\n",
    "\n",
    "* **Atomic-scale models of molecular systems are indispensible tools for drug discovery, molecular engineering, catalysis and beyond!**  "
   ]
  },
  {
   "cell_type": "markdown",
   "id": "0414477d",
   "metadata": {
    "slideshow": {
     "slide_type": "fragment"
    }
   },
   "source": [
    "* Recent progress both experimentally (Cryo-EM) and computationally (AlphaFold) has dramatically improved our knowledge of biomolecular **structures**"
   ]
  },
  {
   "cell_type": "markdown",
   "id": "ca1d0018",
   "metadata": {
    "slideshow": {
     "slide_type": "fragment"
    }
   },
   "source": [
    "* But structures are only single snapshots!"
   ]
  },
  {
   "cell_type": "markdown",
   "id": "44b05b23",
   "metadata": {
    "slideshow": {
     "slide_type": "fragment"
    }
   },
   "source": [
    "* ***Molecular dynamics uses physics to bring these structures to life:***\n",
    "   * Mechanisms\n",
    "   * Rates\n",
    "   * Free energies"
   ]
  },
  {
   "cell_type": "markdown",
   "id": "2af3a9f2",
   "metadata": {
    "slideshow": {
     "slide_type": "slide"
    }
   },
   "source": [
    "## Why Machine Learning for Molecular Dynamics?\n",
    "\n",
    "* Machine learning has revolutionized one area of computation after another (image recognition, language processing)"
   ]
  },
  {
   "cell_type": "markdown",
   "id": "e49470ed",
   "metadata": {
    "slideshow": {
     "slide_type": "fragment"
    }
   },
   "source": [
    "* ML can be used to learn about molecular systems in a number of ways:\n",
    "  * Protein structure prediction \n",
    "  * Chemical property prediction\n",
    "  * Identification of collective motions in biomolecular systems\n",
    "  * Predictions of energies and forces"
   ]
  },
  {
   "cell_type": "markdown",
   "id": "c157299a",
   "metadata": {
    "slideshow": {
     "slide_type": "fragment"
    }
   },
   "source": [
    "* Interesting reading material:\n",
    "  * [ACS In Focus: Machine Learning in Chemistry](https://pubs.acs.org/doi/book/10.1021/acs.infocus.7e4001)\n",
    "  * [The Golden Age of Structural Biology (Blog Post)](https://www.javiertordable.com/the-golden-age-of-structural-biology)"
   ]
  },
  {
   "cell_type": "markdown",
   "id": "7bc63de6",
   "metadata": {
    "slideshow": {
     "slide_type": "slide"
    }
   },
   "source": [
    "## Recommended background for this course\n",
    "\n",
    "* Math (calculus, differential equations, chain rule differentiation)"
   ]
  },
  {
   "cell_type": "markdown",
   "id": "545ce9c6",
   "metadata": {
    "slideshow": {
     "slide_type": "fragment"
    }
   },
   "source": [
    "* Biochemistry (amino acid structure, protein secondary structure)"
   ]
  },
  {
   "cell_type": "markdown",
   "id": "b8f8684b",
   "metadata": {
    "slideshow": {
     "slide_type": "fragment"
    }
   },
   "source": [
    "* Chemistry (basic organic chemistry, reaction rates, free energies)"
   ]
  },
  {
   "cell_type": "markdown",
   "id": "ab4ee04a",
   "metadata": {
    "slideshow": {
     "slide_type": "fragment"
    }
   },
   "source": [
    "* Physics (Newton's laws, Hamiltonian mechanics)"
   ]
  },
  {
   "cell_type": "markdown",
   "id": "d4e5a107",
   "metadata": {
    "slideshow": {
     "slide_type": "fragment"
    }
   },
   "source": [
    "* Computer programming (Python, numpy, matplotlib)"
   ]
  },
  {
   "cell_type": "markdown",
   "id": "b4e773a9",
   "metadata": {
    "slideshow": {
     "slide_type": "fragment"
    }
   },
   "source": [
    "We will do our best to provide relevant background resources over the course of the semester.  **If you have any questions or concerns about any of these points let us know and we will try to help!**"
   ]
  },
  {
   "cell_type": "markdown",
   "id": "cf1106ea",
   "metadata": {
    "slideshow": {
     "slide_type": "slide"
    }
   },
   "source": [
    "## Course grade breakdown\n",
    "\n",
    "The course grade will be calculated based on the following assessments:\n",
    "\n",
    "* Participation, attendance and in-class activities (50%)\n",
    "* Independent study proposal (10%)\n",
    "* Independent study project (40%)\n",
    "\n",
    "Rubric for the independent study project is forthcoming and will be posted to the website."
   ]
  },
  {
   "cell_type": "markdown",
   "id": "d1a56cae",
   "metadata": {
    "slideshow": {
     "slide_type": "slide"
    }
   },
   "source": [
    "## Course website\n",
    "\n",
    "If you are looking at this notebook you likely have already found the course website: [https://adicksonlab.github.io/ml4md-jb](https://adicksonlab.github.io/ml4md-jb).  This is a jupyter book, which is a collection of ipython notebooks and markdown files that are rendered into a website.  \n",
    "\n",
    "If you are interested in the source code, it is hosted in a public Github repository here: [https://github.com/ADicksonLab/ml4md-jb](https://github.com/ADicksonLab/ml4md-jb)."
   ]
  },
  {
   "cell_type": "markdown",
   "id": "00f8aaed",
   "metadata": {
    "slideshow": {
     "slide_type": "slide"
    }
   },
   "source": [
    "## Jupyter Notebooks\n",
    "\n",
    "Both the lectures and laboratories will be offered via Jupyter notebooks. This allows us to intersperse comments, links and documentation (in Markdown cells) with executable code written in Python. You can interact with these notebooks either:  \n",
    "\n",
    "* by launching on your own machine (`jupyter notebook`)\n",
    "* by launching on Google Colab via the course website\n",
    "\n",
    "Let's use the following code cell to demonstrate both of these approaches."
   ]
  },
  {
   "cell_type": "markdown",
   "id": "79122fa5",
   "metadata": {
    "slideshow": {
     "slide_type": "notes"
    }
   },
   "source": [
    "This is a test of the notebook functionality and working with Google Colab.  If you are viewing this on the course website, hover over the Launch button in the top right (looks like a rocket ship) and click \"Colab\" to launch the notebook in Google Colab.\n",
    "\n",
    "Alternatively, download this notebook as an `.ipynb` file and then open it with Jupyter.  Instructions for installing jupyter are found in the [Software Setup Guide](https://adicksonlab.github.io/ml4md-jb/Course_Materials/SoftwareSetupGuide.html)."
   ]
  },
  {
   "cell_type": "code",
   "execution_count": null,
   "id": "99f12428",
   "metadata": {
    "slideshow": {
     "slide_type": "slide"
    }
   },
   "outputs": [],
   "source": [
    "import numpy as np\n",
    "import matplotlib.pyplot as plt\n",
    "\n",
    "x = np.linspace(0,10,1000)\n",
    "y = np.sin(x)\n",
    "plt.plot(x,y,label='sin(x)')\n",
    "plt.xlabel('x')\n",
    "plt.ylabel('y')"
   ]
  },
  {
   "cell_type": "code",
   "execution_count": null,
   "id": "6f467314",
   "metadata": {
    "slideshow": {
     "slide_type": "fragment"
    }
   },
   "outputs": [],
   "source": [
    "plt.savefig('test.pdf')"
   ]
  },
  {
   "cell_type": "markdown",
   "id": "353a6e70",
   "metadata": {
    "slideshow": {
     "slide_type": "slide"
    }
   },
   "source": [
    "## Discussion on Slack\n",
    "\n",
    "To allow us to communicate even outside of lectures and labratory periods, we are going to use Slack.  If you haven't already, join the Slack workspace with your MSU address using [this link](https://join.slack.com/t/ml4mdbmb961/shared_invite/zt-1104s1e4l-DVWxtS7rnUZfXBe74tDO1A).  \n",
    "\n",
    "### BMB Community Standards\n",
    "\n",
    "This is also a good time to remind you of the BMB community standards.  In all of our classroom communications it is important to:  \n",
    "*  Be fair and respectful to others\n",
    "*  Be welcoming and inclusive of all people\n",
    "\n",
    "A copy of these community standards is available in the course website under \"Week 01\"."
   ]
  },
  {
   "cell_type": "markdown",
   "id": "e7629438",
   "metadata": {
    "slideshow": {
     "slide_type": "slide"
    }
   },
   "source": [
    "## In-class Activity 1: Introductions\n",
    "\n",
    "***Post a message on the class Slack channel that includes the following:***\n",
    "\n",
    "* Your name and preferred pronouns\n",
    "* Your home department\n",
    "* A one sentence description of your research area\n",
    "* One thing you look forward to learning in this course"
   ]
  },
  {
   "cell_type": "markdown",
   "id": "ca71bd31",
   "metadata": {
    "slideshow": {
     "slide_type": "slide"
    }
   },
   "source": [
    "## In-class Activity 2: Visualize a protein with NGLview\n",
    "\n",
    "***Open this notebook either on your own machine or in Colab and execute the following cells.***\n",
    "\n",
    "Acknowledgements and props to the following resources:\n",
    "* mdtraj (https://www.mdtraj.org/)\n",
    "* NGLview (http://nglviewer.org/)"
   ]
  },
  {
   "cell_type": "code",
   "execution_count": null,
   "id": "888a523a",
   "metadata": {
    "slideshow": {
     "slide_type": "slide"
    }
   },
   "outputs": [],
   "source": [
    "# Uncomment the lines below to install packages to Colab!\n",
    "# You can skip this step if you already installed them locally\n",
    "## install the necessary libraries to this Colab instance\n",
    "#!pip install mdtraj\n",
    "#!pip install nglview"
   ]
  },
  {
   "cell_type": "code",
   "execution_count": null,
   "id": "276066cf",
   "metadata": {
    "slideshow": {
     "slide_type": "fragment"
    }
   },
   "outputs": [],
   "source": [
    "# import the packages we'll need\n",
    "import mdtraj as mdj\n",
    "import nglview as nv\n",
    "\n",
    "# Create an mdtraj trajectory object using the files sEH_nowater.pdb and sEH_unbinding.dcd\n",
    "# note that if you are on Colab you need to upload these files to the working directory\n",
    "pdb = mdj.load_pdb('sEH_nowater.pdb')\n",
    "traj = mdj.load_dcd('sEH_unbinding.dcd',top=pdb.top)\n",
    "\n",
    "# Pass this trajectory to nglview\n",
    "w = nv.NGLWidget(nv.MDTrajTrajectory(traj))\n",
    "w"
   ]
  },
  {
   "cell_type": "markdown",
   "id": "dde531f2",
   "metadata": {
    "slideshow": {
     "slide_type": "slide"
    }
   },
   "source": [
    "## That's all for Lecture 1.\n",
    "\n",
    "See you on Thursday for the first Lab!"
   ]
  },
  {
   "cell_type": "code",
   "execution_count": null,
   "id": "e75ac256",
   "metadata": {},
   "outputs": [],
   "source": []
  }
 ],
 "metadata": {
  "celltoolbar": "Slideshow",
  "kernelspec": {
   "display_name": "Python 3 (ipykernel)",
   "language": "python",
   "name": "python3"
  },
  "language_info": {
   "codemirror_mode": {
    "name": "ipython",
    "version": 3
   },
   "file_extension": ".py",
   "mimetype": "text/x-python",
   "name": "python",
   "nbconvert_exporter": "python",
   "pygments_lexer": "ipython3",
   "version": "3.9.9"
  }
 },
 "nbformat": 4,
 "nbformat_minor": 5
}
