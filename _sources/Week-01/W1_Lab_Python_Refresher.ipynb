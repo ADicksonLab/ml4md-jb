{
 "cells": [
  {
   "cell_type": "markdown",
   "id": "2221ddf8",
   "metadata": {},
   "source": [
    "# Week 01 Lab: Python Refresher Course"
   ]
  },
  {
   "cell_type": "markdown",
   "id": "d6026372",
   "metadata": {},
   "source": [
    "## Student Name: YOUR NAME HERE"
   ]
  },
  {
   "cell_type": "markdown",
   "id": "00fb0942",
   "metadata": {},
   "source": [
    "\n",
    "![python](https://www.ksn.com/wp-content/uploads/sites/13/2021/07/GettyImages-487568800.jpg?w=876&h=493&crop=1)"
   ]
  },
  {
   "cell_type": "markdown",
   "id": "67b8c749",
   "metadata": {},
   "source": [
    "Before we start our 4-week machine learning content, we thought we should take some time to make sure everyone has the necessary tools and background knowledge.  While a lot of the upcoming content will be heavily scaffolded with pre-written code, ideally by the end of this course you will not only be able to **fully understand what this code is doing and how it works**, but also be able to **adapt these tools to your own purposes** and even **create and share your own tools with the scientific community**.\n",
    "\n",
    "Today we will learn (or practice) the following:\n",
    "\n",
    "- Shortcuts for working with jupyter notebooks\n",
    "- Installing and importing packages\n",
    "- Creating, manipulating, reading and writing Numpy arrays\n",
    "- Object oriented programming: Defining classes\n",
    "\n",
    "**For this class we will be working in pairs.**  Each pair will be working in their own Zoom breakout room.  Remember to work together as you go through the notebook!  If you have questions or difficulties either come back to the main session or use the \"ask for help\" Zoom function.\n"
   ]
  },
  {
   "cell_type": "markdown",
   "id": "e048bba6",
   "metadata": {},
   "source": [
    "___\n",
    "# Part 1: Shortcuts for working with Jupyter notebooks\n",
    "\n",
    "As you've already seen, Jupyter notebooks are great ways to combine code, formatted text, images, and even YouTube videos together into a single interactive document.\n",
    "\n",
    "There are some keyboard shortcuts that make working in Jupyter much easier and learning them now will save you a lot of time in the long run!\n",
    "\n",
    "## Running cells\n",
    "\n",
    "### Click on the cell below and press Shift+Enter"
   ]
  },
  {
   "cell_type": "code",
   "execution_count": null,
   "id": "e68ed444",
   "metadata": {},
   "outputs": [],
   "source": [
    "# some python code\n",
    "x = 2\n",
    "y = x*10\n",
    "print('y equals',y)"
   ]
  },
  {
   "cell_type": "markdown",
   "id": "60bbbd35",
   "metadata": {},
   "source": [
    "**This is the most common way to traverse through notebooks:  holding down the Shift key and executing the cells one at a time.**"
   ]
  },
  {
   "cell_type": "markdown",
   "id": "578a20a8",
   "metadata": {},
   "source": [
    "### Execute the cells below and notice the asterisks on the left hand side"
   ]
  },
  {
   "cell_type": "code",
   "execution_count": null,
   "id": "b61d9c98",
   "metadata": {},
   "outputs": [],
   "source": [
    "# more python code\n",
    "from time import sleep\n",
    "sleep(10)\n",
    "print(\"Finally...\")"
   ]
  },
  {
   "cell_type": "code",
   "execution_count": null,
   "id": "21c6176d",
   "metadata": {},
   "outputs": [],
   "source": [
    "# this cell won't run until the one above finishes\n",
    "print(\"That took a while..\")"
   ]
  },
  {
   "cell_type": "markdown",
   "id": "ccc6c7a7",
   "metadata": {},
   "source": [
    "**Cells are run one at a time.  An asterisk denotes either that a cell is currently being executed, or it is waiting for another cell to finish.  Cells can be executed in any order and the number that appears on the left indicates the order in which it was executed.**\n",
    "\n",
    "### Double click on the Markdown cell below to see its \"code\" and then \"run\" it with Shift+Enter"
   ]
  },
  {
   "cell_type": "markdown",
   "id": "b4f679e4",
   "metadata": {},
   "source": [
    "Check out this picture of a penguin!\n",
    "\n",
    "![penguin](https://img.rawpixel.com/s3fs-private/rawpixel_images/website_content/upwk62273402-wikimedia-image.jpg?w=800&dpr=1&fit=default&crop=default&q=65&vib=3&con=3&usm=15&bg=F4F4F3&auto=format&ixlib=js-2.2.1&s=24cefcf6cab5e52d909f73fb3ce39b1b)"
   ]
  },
  {
   "cell_type": "markdown",
   "id": "469363d1",
   "metadata": {},
   "source": [
    "**Markdown cells can be edited and run just like code cells.**"
   ]
  },
  {
   "cell_type": "markdown",
   "id": "175e7777",
   "metadata": {},
   "source": [
    "## Manipulating cells\n",
    "\n",
    "When working on a notebook often you want to create a new cell, change its type (e.g. \"Code\" to \"Markdown\"), move it, or delete it entirely.  While there are tools to do these things in the menu above, there are also useful keyboard shortcuts that you should learn.  \n",
    "\n",
    "**Use the Esc key on the cell below to change into \"Command Mode\".**  The box surrounding the cell should turn blue.\n",
    "\n",
    "**Then go back to \"Edit Mode\" by pressing Enter.** The box should turn green."
   ]
  },
  {
   "cell_type": "code",
   "execution_count": null,
   "id": "23a20c3e",
   "metadata": {},
   "outputs": [],
   "source": [
    "# some python code\n",
    "a,b = 2,3"
   ]
  },
  {
   "cell_type": "markdown",
   "id": "8e51070d",
   "metadata": {},
   "source": [
    "**When you are in Edit Mode you can (obviously) edit the cells, add and remove text, etc.  In Command Mode you can do things like the following:**\n",
    "\n",
    "- Add a cell above this one (a)\n",
    "- Add a cell below this one (b)\n",
    "- Remove this cell (x)\n",
    "- Copy this cell (c)\n",
    "- Paste this cell (v)\n",
    "- **Open up a help screen that tells you all of this and more! (h)**"
   ]
  },
  {
   "cell_type": "markdown",
   "id": "5221c2bc",
   "metadata": {},
   "source": [
    "### Make three empty cells below, write some code in each, copy the middle one and paste it, then delete them all"
   ]
  },
  {
   "cell_type": "code",
   "execution_count": null,
   "id": "9838072e",
   "metadata": {},
   "outputs": [],
   "source": []
  },
  {
   "cell_type": "markdown",
   "id": "c735d15b",
   "metadata": {},
   "source": [
    "___\n",
    "# Part 2: Installing and importing packages, finding documentation and source code\n",
    "\n",
    "A great thing about the Python language is that we can make use of a whole world of packages for numerical analysis, data visualization, statistics and machine learning.  There are also a number of great packages for analysing biomolecular data, performing and analyzing molecular dynamics simulations, and even (as we saw on Tuesday) visualize biomolecular structures directly in Jupyter notebooks!  **This truly lets us stand on the shoulders of giants.**\n",
    "\n",
    "![BFG](https://i0.wp.com/images.amcnetworks.com/bbcamerica.com/wp-content/uploads/2016/05/anglo_2000x1025_thebfg-1600x720.jpg)"
   ]
  },
  {
   "cell_type": "markdown",
   "id": "f9b7d1d0",
   "metadata": {},
   "source": [
    "## Importing packages\n",
    "\n",
    "**Say we want to solve the linear equation:**\n",
    "\n",
    "\\begin{equation}\n",
    "{\\bf A}{\\bf x} = {\\bf B}\n",
    "\\end{equation}\n",
    "\n",
    "where ${\\bf A}$ and ${\\bf B}$ are known matrices and $x$ is unknown.  We can do this by importing a particular package from `scipy`:"
   ]
  },
  {
   "cell_type": "code",
   "execution_count": null,
   "id": "f5114a86",
   "metadata": {},
   "outputs": [],
   "source": [
    "from scipy.linalg import solve"
   ]
  },
  {
   "cell_type": "markdown",
   "id": "de00966e",
   "metadata": {},
   "source": [
    "**Note that if you see a message like: `ModuleNotFoundError: No module named 'scipy'` then this indicates scipy has not been installed or is not accessible to this Python kernel.**\n",
    "\n",
    "## Installing packages\n",
    "\n",
    "To install a new package you should use a package manager such as `pip` or `conda` using the command line.  To make these new packages accessible you should shutdown and restart the server running the Jupyter notebook.  \n",
    "\n",
    "**However, there is a shortcut:** in Jupyter notebooks (and on Google Colab) you can run command line commands without leaving the notebook:"
   ]
  },
  {
   "cell_type": "code",
   "execution_count": null,
   "id": "fbd5f4a6",
   "metadata": {},
   "outputs": [],
   "source": [
    "# no need to run this if you already have scipy\n",
    "!pip install scipy"
   ]
  },
  {
   "cell_type": "markdown",
   "id": "58f95fb7",
   "metadata": {},
   "source": [
    "**Any command that starts with \"!\" is run in the command line.  Try out some other `bash` commands below such as `pwd`, `ls -ltr` and `top`.**"
   ]
  },
  {
   "cell_type": "code",
   "execution_count": null,
   "id": "4cbec5e9",
   "metadata": {},
   "outputs": [],
   "source": [
    "# try out some bash commands\n"
   ]
  },
  {
   "cell_type": "markdown",
   "id": "21ecee81",
   "metadata": {},
   "source": [
    "## Finding documentation\n",
    "\n",
    "**Back to our linear equation example.** Now that we imported the `solve` function, what if we forget how to format the inputs?  Or we want to know which options are available when we call it?  **This information is in the documentation for this function, also known as the \"doc string\"**.  Documentation is of course available on the `scipy` webpage ([found here](https://scipy.github.io/devdocs/reference/generated/scipy.linalg.solve.html#scipy.linalg.solve)), but again there is a shortcut:"
   ]
  },
  {
   "cell_type": "code",
   "execution_count": null,
   "id": "8b5a1b0c",
   "metadata": {},
   "outputs": [],
   "source": [
    "solve?"
   ]
  },
  {
   "cell_type": "markdown",
   "id": "a31d2a98",
   "metadata": {},
   "source": [
    "**Adding a question mark to any function or object will bring up the doc string for that object.** It also works with user-defined functions: "
   ]
  },
  {
   "cell_type": "code",
   "execution_count": null,
   "id": "866842ac",
   "metadata": {},
   "outputs": [],
   "source": [
    "def my_function(a):\n",
    "    \"\"\"This function returns the square of a number.\"\"\"\n",
    "    return a**2"
   ]
  },
  {
   "cell_type": "code",
   "execution_count": null,
   "id": "146d6345",
   "metadata": {},
   "outputs": [],
   "source": [
    "my_function?"
   ]
  },
  {
   "cell_type": "markdown",
   "id": "6397dc30",
   "metadata": {},
   "source": [
    "## Examining source code\n",
    "\n",
    "**What if we want to see the source code?** Well you could look at the bottom of the docstring to find the location of the file on your computer, open the file in a text editor, and search for the corresponding function name.  But as you probably guessed, **there is an easier way!**  Just add another question mark:"
   ]
  },
  {
   "cell_type": "code",
   "execution_count": null,
   "id": "a6a53886",
   "metadata": {},
   "outputs": [],
   "source": [
    "solve??"
   ]
  },
  {
   "cell_type": "markdown",
   "id": "a834fd31",
   "metadata": {},
   "source": [
    "**Scrolling down past the call signature and the docstring shows the source code of this function.**"
   ]
  },
  {
   "cell_type": "markdown",
   "id": "5a4c0171",
   "metadata": {},
   "source": [
    "___\n",
    "# Part 3: Working with Numpy arrays\n",
    "\n",
    "One library that is going to be indispensible in this course (and in most of scientific computing) is called `numpy`.  This provides a convenient structure for organizing large sets of data of the same datatype (e.g. integers or floats) into single objects called \"arrays\".  \n",
    "\n",
    "These arrays can be one-dimensional (like vectors), two-dimensional (like matrices) or have three or more dimensions.  Each dimension of the array is also referred to as an \"axis\".\n",
    "\n",
    "![arrays](https://predictivehacks.com/wp-content/uploads/2020/08/numpy_arrays-1024x572.png)"
   ]
  },
  {
   "cell_type": "markdown",
   "id": "e29551c4",
   "metadata": {},
   "source": [
    "The size of an array along each axis is revealed by its \"shape\", which is a list of integers, the first integer giving the shape along axis 0, the second integer giving the shape along axis 1, and so on.  \n",
    "\n",
    "The length of the shape list reveals the \"dimensionality\" of the array.\n",
    "\n",
    "## Numpy basics\n",
    "\n",
    "**Here are some YouTube videos made by the CMSE 201 team at MSU that give some background on Numpy arrays and multi-dimensional Numpy arrays:**"
   ]
  },
  {
   "cell_type": "code",
   "execution_count": null,
   "id": "151c24fd",
   "metadata": {},
   "outputs": [],
   "source": [
    "# Numpy basics\n",
    "\n",
    "from IPython.display import YouTubeVideo\n",
    "YouTubeVideo(\"g7epZeDA_lQ\",width=640,height=360)"
   ]
  },
  {
   "cell_type": "code",
   "execution_count": null,
   "id": "d63216a3",
   "metadata": {},
   "outputs": [],
   "source": [
    "# Mathematical operations with Numpy \n",
    "\n",
    "from IPython.display import YouTubeVideo\n",
    "YouTubeVideo(\"V2C9expTF1o\",width=640,height=360)"
   ]
  },
  {
   "cell_type": "markdown",
   "id": "6bbf9b78",
   "metadata": {},
   "source": [
    "### Turn the following list into a numpy array, square all of the elements and print out the sum of the squares.\n",
    "\n",
    "Hint: summing an array can be done easily with the `.sum()` function"
   ]
  },
  {
   "cell_type": "code",
   "execution_count": null,
   "id": "eeaf3a09",
   "metadata": {},
   "outputs": [],
   "source": [
    "import numpy as np\n",
    "\n",
    "some_list = [1.6,8,3,1,22,64.7]"
   ]
  },
  {
   "cell_type": "markdown",
   "id": "b523f1c4",
   "metadata": {},
   "source": [
    "**Check: the sum should be 4746.65**"
   ]
  },
  {
   "cell_type": "markdown",
   "id": "66ec99be",
   "metadata": {},
   "source": [
    "## Manipulating multidimensional arrays\n",
    "\n",
    "**Here's another CMSE 201 video describing two-dimensional arrays:**"
   ]
  },
  {
   "cell_type": "code",
   "execution_count": null,
   "id": "f51bc91e",
   "metadata": {},
   "outputs": [],
   "source": [
    "from IPython.display import YouTubeVideo\n",
    "YouTubeVideo(\"KXPtg7iHbfw\",width=640,height=360)"
   ]
  },
  {
   "cell_type": "markdown",
   "id": "7f030c2f",
   "metadata": {},
   "source": [
    "**Much of our hands-on experience with arrays will be in \"reshaping\" them.**  Let's practice starting with a 1D array of the numbers 1 through 120:"
   ]
  },
  {
   "cell_type": "code",
   "execution_count": null,
   "id": "3856f943",
   "metadata": {},
   "outputs": [],
   "source": [
    "arr = np.arange(1,121)\n",
    "print(\"arr:\",arr)\n",
    "print(\"arr.shape:\",arr.shape)"
   ]
  },
  {
   "cell_type": "markdown",
   "id": "cff836d8",
   "metadata": {},
   "source": [
    "**We know this starts as a 1D array since `arr.shape` has only one element.**  Let's reshape this as a 2D array that is (10,12):"
   ]
  },
  {
   "cell_type": "code",
   "execution_count": null,
   "id": "1de591c5",
   "metadata": {},
   "outputs": [],
   "source": [
    "arr2D = arr.reshape((10,12))\n",
    "print(\"arr2D: \",arr2D)\n",
    "print(\"arr2D.shape:\",arr2D.shape)"
   ]
  },
  {
   "cell_type": "markdown",
   "id": "06cd99c9",
   "metadata": {},
   "source": [
    "**Note that this did not change `arr`!  The `.reshape` command does not occur \"in place\".  It returns a new array that we have assigned to a new variable: `arr2d`.**\n",
    "\n",
    "Now let's go further and break each row of 12 into (3,4):"
   ]
  },
  {
   "cell_type": "code",
   "execution_count": null,
   "id": "28917a9e",
   "metadata": {},
   "outputs": [],
   "source": [
    "arr3D = arr2D.reshape((10,3,4))\n",
    "print(\"arr3D: \",arr3D)\n",
    "print(\"arr3D.shape:\",arr3D.shape)"
   ]
  },
  {
   "cell_type": "markdown",
   "id": "6e1d7d0e",
   "metadata": {},
   "source": [
    "**You can think of this as having a collection of 10 3x4 matrices.**  \n",
    "\n",
    "Now let's say we want to get the 3x4 matrix that contains the average values of the 10 matrices above.  To do this we can use the `.mean()` command that is built into each numpy array, but we sure to specify that we want to take the mean over the first axis (axis=0):"
   ]
  },
  {
   "cell_type": "code",
   "execution_count": null,
   "id": "b449e2a4",
   "metadata": {},
   "outputs": [],
   "source": [
    "avgs = arr3D.mean(axis=0)\n",
    "print(\"avgs: \", avgs)\n",
    "print(\"avgs.shape: \", avgs.shape)"
   ]
  },
  {
   "cell_type": "markdown",
   "id": "83ecd6a6",
   "metadata": {},
   "source": [
    "**At any point we can flatten this back to a 1D array using the `.flatten()` function:**"
   ]
  },
  {
   "cell_type": "code",
   "execution_count": null,
   "id": "f51d0b0b",
   "metadata": {},
   "outputs": [],
   "source": [
    "avgs1D = avgs.flatten()\n",
    "avgs1D"
   ]
  },
  {
   "cell_type": "markdown",
   "id": "395ee315",
   "metadata": {},
   "source": [
    "### Reshape the `a` array below to a 2D array of shape (3,3).  Then input `a` and `b` to the `solve` function you imported from `scipy`.  Then use the `np.matmul` command to see if `ax = b`."
   ]
  },
  {
   "cell_type": "code",
   "execution_count": null,
   "id": "263bec9a",
   "metadata": {},
   "outputs": [],
   "source": [
    "a = np.array([1,2,4,3,5,6,7,8,9])\n",
    "b = np.array([0,0,1])"
   ]
  },
  {
   "cell_type": "code",
   "execution_count": null,
   "id": "a1b5c1ed",
   "metadata": {},
   "outputs": [],
   "source": [
    "# your code here"
   ]
  },
  {
   "cell_type": "markdown",
   "id": "42452fe8",
   "metadata": {},
   "source": [
    "## Reading and writing numpy arrays\n",
    "\n",
    "There are two main ways to read and write numpy arrays.  **The first is as a human-readable text file.**  This can be done with `np.savetxt` and `np.loadtxt`:"
   ]
  },
  {
   "cell_type": "code",
   "execution_count": null,
   "id": "dfc4ef90",
   "metadata": {},
   "outputs": [],
   "source": [
    "a = np.random.random((1000))\n",
    "np.savetxt('random_numbers.txt',a)\n",
    "\n",
    "!ls -l random_numbers.txt"
   ]
  },
  {
   "cell_type": "code",
   "execution_count": null,
   "id": "30c0a3fc",
   "metadata": {},
   "outputs": [],
   "source": [
    "b = np.loadtxt('random_numbers.txt')\n",
    "print(\"b.shape:\",b.shape)"
   ]
  },
  {
   "cell_type": "markdown",
   "id": "59309eae",
   "metadata": {},
   "source": [
    "This has benefits in that you can easily transport this data to other applications, such as Excel, and it is easy to look inside and see the contents.\n",
    "\n",
    "**However, this does not work for arrays of dimensionality 3 or higher:**"
   ]
  },
  {
   "cell_type": "code",
   "execution_count": null,
   "id": "d05c6643",
   "metadata": {},
   "outputs": [],
   "source": [
    "a3D = a.reshape((10,10,10))\n",
    "#np.savetxt('random_numbers.txt',a3D) # this will throw an error!"
   ]
  },
  {
   "cell_type": "markdown",
   "id": "e4399b6a",
   "metadata": {},
   "source": [
    "**Also, saving this data as human-readable text is not very efficient, since it takes up much more space than using a binary representation.**\n",
    "\n",
    "This brings us to the second way to read and write, which is `np.save` and `np.load`:"
   ]
  },
  {
   "cell_type": "code",
   "execution_count": null,
   "id": "45e2e58b",
   "metadata": {},
   "outputs": [],
   "source": [
    "np.save('random_numbers_binary.npy',a3D)\n",
    "\n",
    "!ls -l random_numbers*"
   ]
  },
  {
   "cell_type": "markdown",
   "id": "dd9ea649",
   "metadata": {},
   "source": [
    "**Note that the binary file is much smaller than the txt file**."
   ]
  },
  {
   "cell_type": "code",
   "execution_count": null,
   "id": "0ea7445d",
   "metadata": {},
   "outputs": [],
   "source": [
    "b3D = np.load('random_numbers_binary.npy')\n",
    "print(\"b3D.shape: \",b3D.shape)"
   ]
  },
  {
   "cell_type": "markdown",
   "id": "d531ca57",
   "metadata": {},
   "source": [
    "**Arrays are pretty much conceptually identical to tensors, which are the fundamental data type of machine learning.  You will get a lot of experience working with these datatypes in the coming weeks.**"
   ]
  },
  {
   "cell_type": "markdown",
   "id": "244ecfc7",
   "metadata": {},
   "source": [
    "___\n",
    "# Part 4: Object oriented programming\n",
    "\n",
    "The last stop on our high-speed recap of Python concepts is the idea of working with objects.  An object is a generalization of a data type (like string, int, and float) that is defined to make things easier for a specific task.  \n",
    "**We have already seen this for numpy arrays.**  The creators of the numpy package thought it would be useful to make a standard \"object\" that could have an arbitrary shape and could hold only objects of the same type (and they were right!) and they called this object an \"array\".  \n",
    "\n",
    "When they defined this new object they also defined a set of functions that were associated with it.  We've already accessed a few of these today (`.mean()`, `.reshape()` and `.flatten()`).  \n",
    "\n",
    "**In Jupyter, a full set of functions associated with a given variable's datatype can be accessed by typing the name of the variable, a period, and then pressing TAB:**"
   ]
  },
  {
   "cell_type": "code",
   "execution_count": null,
   "id": "516a614b",
   "metadata": {},
   "outputs": [],
   "source": [
    "a = np.array([1,2,3,4])"
   ]
  },
  {
   "cell_type": "code",
   "execution_count": null,
   "id": "39c82137",
   "metadata": {},
   "outputs": [],
   "source": [
    "# go to the end of the last line and hit TAB\n",
    "a."
   ]
  },
  {
   "cell_type": "markdown",
   "id": "19669b26",
   "metadata": {},
   "source": [
    "**Wow, you can do a lot of things with numpy arrays!**  All of these functions (e.g. `.mean()`) and attributes (e.g. `.shape`) are embedded within the object itself.  This type of programming usually results in a workflow where the user constructs objects, uses them to create other objects, which are used to create bigger more complex objects, and which finally culminates in a function call like:  `simulation_manager.run()` or `neural_network.train()`.\n",
    "\n",
    "**This hides a lot of detail from the user and it can be frustrating when things don't work since errors messages often involve a multi-level hierarchy of functions calling functions calling functions...** \n",
    "\n",
    "To help us debug these errors when they occur, let's spend a bit of time learning how objects are defined in Python."
   ]
  },
  {
   "cell_type": "markdown",
   "id": "cc84d139",
   "metadata": {},
   "source": [
    "## The Class statement\n",
    "\n",
    "To define a new custom object we use a `class` statement. **Let's make one for a playing card to demonstrate:**"
   ]
  },
  {
   "cell_type": "code",
   "execution_count": null,
   "id": "ea1f752c",
   "metadata": {},
   "outputs": [],
   "source": [
    "class Card(object):\n",
    "    \n",
    "    def __init__(self, rank, suit):\n",
    "        \"\"\"\n",
    "        A playing card.  This must have a rank (e.g. \"2\", \"3\", \"K\", \"A\") and a suit\n",
    "        (e.g. \"hearts\", \"spades\", \"diamonds\", \"clubs\")\n",
    "        \"\"\"\n",
    "        self.rank = rank\n",
    "        self.suit = suit\n",
    "        if rank == \"J\":\n",
    "            self.num_rank = 11\n",
    "        elif rank == \"Q\":\n",
    "            self.num_rank = 12\n",
    "        elif rank == \"K\":\n",
    "            self.num_rank = 13\n",
    "        elif rank == \"A\":\n",
    "            self.num_rank = 14\n",
    "        else:\n",
    "            self.num_rank = int(self.rank)\n",
    "        \n",
    "    def full_name(self):\n",
    "        \"\"\"\n",
    "        Returns the full name of the card.\n",
    "        \"\"\"\n",
    "        return self.rank + \" of \" + self.suit"
   ]
  },
  {
   "cell_type": "markdown",
   "id": "02042049",
   "metadata": {},
   "source": [
    "**This code defines a class called \"Card\" that has three associated attributes (`rank`, `suit` and `num_rank`) and one associated function (`full_name`).**  The word in the parentheses on the first line is the class wish to inherit from.  If we specified another class, then all of its functions and attributes would be included in our new object by default.  Here we used `object`, which is the simplest base class built into python and has no attributes or functions. \n",
    "\n",
    "Note that each attribute within the class is preceded by `self.`.  This helps the class functions access the information stored within the object.  \n",
    "\n",
    "Also, all class functions have `self` as a first argument.  This is not included explicitly in the list of arguments when the functions are called.  For example, `my_array.mean()` automatically includes `my_array` as the first argument to the `mean()` function associated with numpy arrays.\n",
    "\n",
    "Now we can define a deck, which is a collection of these cards:"
   ]
  },
  {
   "cell_type": "code",
   "execution_count": null,
   "id": "3ca30c33",
   "metadata": {},
   "outputs": [],
   "source": [
    "def full_deck():\n",
    "    deck = []\n",
    "    for s in ['hearts','spades','diamonds','clubs']:\n",
    "        for r in ['2','3','4','5','6','7','8','9','10','J','Q','K','A']:\n",
    "            new_card = Card(r,s)\n",
    "            deck.append(new_card)\n",
    "    return deck"
   ]
  },
  {
   "cell_type": "markdown",
   "id": "2bf3ef50",
   "metadata": {},
   "source": [
    "**Note how we define each new card simply by calling the name of the class as a function and passing it two arguments.** This calls the `__init__` function, and we can see that those two arguments are `rank` and `suit`.  Each time we call the this function we are **\"instantiating\"** the `Card` class.  This is a fancy way of saying we are making a new instance of the `Card` class.  \n",
    "\n",
    "Just like we can make any number of separate arrays in a given program, we can also create as many `Card` objects as we want.  In the above function we return a full deck of 52 cards that are stored in a list."
   ]
  },
  {
   "cell_type": "code",
   "execution_count": null,
   "id": "ce5c9e6b",
   "metadata": {},
   "outputs": [],
   "source": [
    "import random\n",
    "\n",
    "# get a full, unshuffled deck of cards\n",
    "deck = full_deck()\n",
    "\n",
    "# shuffle it\n",
    "random.shuffle(deck)\n",
    "\n",
    "# deal out the top five cards\n",
    "my_hand = deck[0:5]\n",
    "\n",
    "# print their values\n",
    "for x in my_hand:\n",
    "    print(x.full_name())"
   ]
  },
  {
   "cell_type": "markdown",
   "id": "ee27ed04",
   "metadata": {},
   "source": [
    "**Here we accessed the `full_name` function that we defined to be associated with each `Card` object.** We can also access the attributes:"
   ]
  },
  {
   "cell_type": "code",
   "execution_count": null,
   "id": "4bcd65f3",
   "metadata": {},
   "outputs": [],
   "source": [
    "print(\"Numerical rank of the first card:\",my_hand[0].num_rank)"
   ]
  },
  {
   "cell_type": "markdown",
   "id": "0406b437",
   "metadata": {},
   "source": [
    "### Perform 10000 random trials where you shuffle the deck and deal out two cards.  What is the probability that they are \"suited connectors\"?  (That they have the same suit and differ by one in their numerical rank?)"
   ]
  },
  {
   "cell_type": "code",
   "execution_count": null,
   "id": "bff7ae1a",
   "metadata": {},
   "outputs": [],
   "source": [
    "# your code here"
   ]
  },
  {
   "cell_type": "markdown",
   "id": "9c2e885a",
   "metadata": {},
   "source": [
    "**Error check: the answer should be around 0.036.**"
   ]
  },
  {
   "cell_type": "markdown",
   "id": "6655b4f5",
   "metadata": {},
   "source": [
    "___\n",
    "# Congratulations!  You are all done with Lab 1.  Save this file and upload it to the corresponding D2L folder."
   ]
  },
  {
   "cell_type": "markdown",
   "id": "682a549f",
   "metadata": {},
   "source": [
    "&#169; Copyright 2022,  Michigan State University Board of Trustees"
   ]
  },
  {
   "cell_type": "code",
   "execution_count": null,
   "id": "f346c4db",
   "metadata": {},
   "outputs": [],
   "source": []
  }
 ],
 "metadata": {
  "kernelspec": {
   "display_name": "Python 3 (ipykernel)",
   "language": "python",
   "name": "python3"
  },
  "language_info": {
   "codemirror_mode": {
    "name": "ipython",
    "version": 3
   },
   "file_extension": ".py",
   "mimetype": "text/x-python",
   "name": "python",
   "nbconvert_exporter": "python",
   "pygments_lexer": "ipython3",
   "version": "3.8.12"
  }
 },
 "nbformat": 4,
 "nbformat_minor": 5
}
