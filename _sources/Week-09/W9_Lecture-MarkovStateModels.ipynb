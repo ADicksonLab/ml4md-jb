{
 "cells": [
  {
   "cell_type": "markdown",
   "id": "a4e1953a",
   "metadata": {
    "slideshow": {
     "slide_type": "slide"
    }
   },
   "source": [
    "# Week 09 Lecture: Biomolecular Simulation (Part II)\n",
    "\n",
    "## An introduction to Markov State Modeling for knowledge-driven analysis of MD data.\n",
    "\n",
    "\n",
    "<br>\n",
    "\n",
    "**Things we have learnt so far:**\n",
    "\n",
    "- **What is MD simulation?**\n",
    "\n",
    "- **How to run an MD simulation?**\n",
    "\n",
    "- **How to analyze the MD simulation trajectories?**"
   ]
  },
  {
   "cell_type": "markdown",
   "id": "5e120d85",
   "metadata": {
    "slideshow": {
     "slide_type": "slide"
    }
   },
   "source": [
    "## Motivation of MD simulation:\n",
    "\n",
    "\n",
    "- **Provides us with both macroscopic and microscopic view of systems of our interest.**\n",
    "\n",
    "- **Propagation of a large biomolecular system with time in the conformational space. This helps us to interpret the dynamical changes in the system over time.**\n",
    "\n",
    "- **Comibining of MD trajectories with physics/chemistry based knowledge (thermodynamics and kinetics) can lead to understanding mechanisms (*e.g.* conformational changes such as folded or unfolded protein, possibility ligand bound or unbound states) which are at times difficult to interpret by laboratory experiments solely.**"
   ]
  },
  {
   "cell_type": "markdown",
   "id": "ba5f5b78",
   "metadata": {
    "slideshow": {
     "slide_type": "slide"
    }
   },
   "source": [
    "## Some examples of what can we do with MD:\n",
    "\n",
    "- Removal of a bound ligand from a protein structure, followed by MD simulation to study the effect of presence/absence of the ligand in protein functionality (Dror et al., 2013; Wacker et al., 2017). \n",
    "- Replace a ligand by a different one, or adding a ligand in an experimentally obtained crystal structure to study the stability and conformation (McCorvy et al., 2018; Provasi et al., 2011). \n",
    "- Mutate one or more amino acids in a protein to explain the stability vs functionality of a mutation (Cordero-Morales et al., 2007).\n",
    "- Change the protonation state of an acidic or basic amino acid (Liu et al., 2015) to enhance the ligand binding.\n",
    "- Apply external forces to simulated atoms to capture the effect of transmembrane voltage or of mechanical strain (Delemotte et al., 2011)."
   ]
  },
  {
   "cell_type": "markdown",
   "id": "9b1208c0",
   "metadata": {
    "slideshow": {
     "slide_type": "slide"
    }
   },
   "source": [
    "## Drawbacks of standard MD simulation: \n",
    "- **Timescale problem:**\n",
    "    - Bio-chemical processes that have timescales in the order of milisecond or more. \n",
    "    - To sample such events with statistical relevance, we need to run simulations that would require massive (at times prohivitive) computational time.\n",
    "    - With 2 fs timestep, we would need 500000000000 MD steps to run a milisecond long simulation. This will take days, if not weeks even in a MSU HPC facility for a standard solvated protein system. \n",
    "\n",
    "![fig1](Timescale.png)\n",
    "\n"
   ]
  },
  {
   "cell_type": "markdown",
   "id": "ba5c2bf4",
   "metadata": {
    "slideshow": {
     "slide_type": "subslide"
    }
   },
   "source": [
    "![fig2](free_energy.png)\n",
    "\n",
    "*Figure taken from: https://doi.org/10.1016/j.xpro.2021.100919 and doi:10.3390/e14030581*\n"
   ]
  },
  {
   "cell_type": "markdown",
   "id": "4ad565d9",
   "metadata": {
    "slideshow": {
     "slide_type": "slide"
    }
   },
   "source": [
    "**Dimensionality problem:**\n",
    "\n",
    "- The dimensionaility of the phase space of a biomolecular is excessively high even if we remove the solvent degrees of freedom. \n",
    "    - For example, for a 25000 atom protein, we have 150,000 degrees of freedom in phase space. 75000 each for cartesian coordinates and velocities. \n",
    "    \n",
    "- Hence, extracting/identifying relevent degrees of freedom or important **features** from MD trajectory become cumbersome most of the time."
   ]
  },
  {
   "cell_type": "markdown",
   "id": "26d14928",
   "metadata": {
    "slideshow": {
     "slide_type": "slide"
    }
   },
   "source": [
    "# Markov State Models (MSM) : A method to explore the unexplorables!\n",
    "\n",
    "**Protein (un)folding?**\n",
    "\n",
    "**Ligand (un)binding?**"
   ]
  },
  {
   "cell_type": "markdown",
   "id": "8f7e687d",
   "metadata": {
    "slideshow": {
     "slide_type": "slide"
    }
   },
   "source": [
    "## What is MSM?\n",
    "\n",
    "\n",
    "**A method to extract stochastic kinetic information from multiple simulations that are shorter than the timescales of interest, to build a discrete state based stochastic model capable of describing long-time statistical dynamics of the system.**\n",
    "\n",
    "-- \"Markov state models of biomolecular conformational dynamics\" by John D Chodera and Frank Noe ́.\n",
    "\n",
    "**Does that mean we can study protein folding or ligand binding with 1000 simulations of 1000 ns in length?**\n",
    "\n",
    "YES but under some *certain conditions!*\n"
   ]
  },
  {
   "cell_type": "markdown",
   "id": "e2879000",
   "metadata": {
    "slideshow": {
     "slide_type": "slide"
    }
   },
   "source": [
    "Voelz and co-workers built a 2000-macrostate MSM to describe the folding of ACB protein from its unfolded state (takes around 30 miliseconds) with smaller prallel simulations. The 15 highest flux folding pathways are shown and experimentally reported native folded and near folded structures are circled.\n",
    "\n",
    "![fig3](Example_MSM.png)"
   ]
  },
  {
   "cell_type": "markdown",
   "id": "b4aa585e",
   "metadata": {
    "slideshow": {
     "slide_type": "slide"
    }
   },
   "source": [
    "MSMs describe the stochastic dynamics of a biomolecular system using a two-step workflow: \n",
    "\n",
    "1. Discretization of the high-dimensional molecular state space, usually into n **disjoint** conformational sets S1,S2 . . ., Sn.\n",
    "    - In simple words **clustering** all the MD configurations based on some intuitive knowledge!\n",
    "    - Clustering is a unsupervised learning method that labels each datapoint of the dataset.\n",
    "    - This labeling is completely dependent upon the representation of the data *i.e.* the features that are being provided to the algorithm. \n",
    "\n",
    "*We will discuss about features and the importance of selecting relevant features in details later.*"
   ]
  },
  {
   "cell_type": "markdown",
   "id": "9ac922c8",
   "metadata": {
    "slideshow": {
     "slide_type": "subslide"
    }
   },
   "source": [
    "2. Model the stochastic transitions between these discrete and disjoint states, usually described by a matrix of conditional transition probabilities estimated from the simulation trajectories x$_t$, and termed as the transition probability matrix **T**($\\tau$) $\\equiv$ (p$_{ij}$):(p$_{ij}(\\tau$)) = **Prob**(x$_{t+\\tau}$ $\\in$ *S*$_j$ | x$_{t}$ $\\in$ *S*$_i$).\n",
    "    - **T** is an n $\\times$ n square matrix, where n=number of disjoint states.\n",
    "    - Here, $\\tau$ is the lag time or observation interval for which the **T** is constructed, *i* and *j* are the indices of two disjoint states. The lag-time is an important parameter in determining the approximation quality and utility of the MSM. Larger lag-times will lead to better accuracy (markovian character increases) but coarser temporal resolution (less sampling accross total time). \n",
    "    - Theoretically for an exact Markov state model, the lag-time should be such that the memory of the previous state will have no effect in the transition from current state to next state. **This is the reason why we can stitch multiple small simulations together to study a large time-scale property.**\n",
    "    \n"
   ]
  },
  {
   "cell_type": "markdown",
   "id": "dadf3d9d",
   "metadata": {
    "slideshow": {
     "slide_type": "subslide"
    }
   },
   "source": [
    "Suppose we have 10 separate small simulation trajectories and have stored 100 snapshots from each one at identical lag-times. Now, consider the following set of relations between the trajectories, snapshots and the cluster labels after discretization:\n",
    "\n",
    "i. Trajectory 1, Snapshot 1: Cluster 1\n",
    "\n",
    "ii. Trajectory 1, Snapshot 2: Cluster 2\n",
    "\n",
    "iii. Trajectory 10, Snapshot 70: Cluster 2\n",
    "\n",
    "iv. Trajectory 10, Snapshot 71: Cluster 1\n",
    "\n",
    "- Now, the L.H.S has no consequence in the building of MSM. The only identity of the system is inherited into its states. Since all snapshots in all the trajectories are memoryless (markovian), it does not matter which snapshot or which trajectory gives us a transition. \n",
    "- What matters is the states that are involved into the transition. \n",
    "- So, instead of running a single stochastic trajectory of 500000000 steps to capture a long timescale phenomena, we can easily build an MSM with 5000 stochastic simulations with 100000 steps.  "
   ]
  },
  {
   "cell_type": "markdown",
   "id": "9010e632",
   "metadata": {
    "slideshow": {
     "slide_type": "slide"
    }
   },
   "source": [
    "MSM practical workflow is simple: \n",
    "\n",
    "- Define states from MD simulation trajectories (configuration space) by clustering using 'relevent' features. \n",
    "- Compute the rate of transitions between those states. \n",
    "\n",
    "\n",
    "![fig4](MSM_scheme.jpeg)"
   ]
  },
  {
   "cell_type": "markdown",
   "id": "019b65a2",
   "metadata": {
    "slideshow": {
     "slide_type": "slide"
    }
   },
   "source": [
    "### Some properties of MSMs:\n",
    "\n",
    "- Suppose that p(t) $\\in$ **R$^n$** is a column vector whose elements denote the probability, or population, at time t. After a lag-time $\\tau$,the probabilities will have changed according to the equation: \n",
    "\n",
    "    **p**$^T$(t+$\\tau$) = **p**(t)$^{T}$**T**($\\tau$)\n",
    "\n",
    "    where, **T**($\\tau$) is the transition probability matrix.\n",
    "    \n",
    "    \n",
    "    \n",
    "- Suppose, $\\Pi$ defines the population of a stationary state: hence, $\\Pi$(t+$\\tau$) = $\\Pi(t)$ = $\\Pi$.\n",
    "\n",
    "   **$\\Pi$**$^T$(t+$\\tau$) = **$\\Pi$**$^{T}$(t)**T**($\\tau$)\n",
    "   \n",
    "   **$\\Pi$** = **$\\Pi$T**($\\tau$)\n",
    "   \n",
    "   So, the stationary state will always have eigenvalue equals to one with respect to transtion matrix."
   ]
  },
  {
   "cell_type": "markdown",
   "id": "be657956",
   "metadata": {
    "slideshow": {
     "slide_type": "slide"
    }
   },
   "source": [
    "### Some properties of MSMs:\n",
    "\n",
    "Suppose the following matrix is a 3 state transition probability matrix:\n",
    "\n",
    "![fig6](https://github.com/ADicksonLab/ml4md-jb/raw/main/Week-09/MSM_1.jpg)\n",
    "\n"
   ]
  },
  {
   "cell_type": "markdown",
   "id": "3883cf68",
   "metadata": {},
   "source": [
    "- Each row of this matrix is a distribution that represents the probability of transitioning from the row-indexed state to the column-indexed state, where the diagonal entry represents the probability of staying in the same state.\n",
    "\n",
    "- State populations and consequently probabilities can be obtained from counting the number of entries in each state from the MSM.\n"
   ]
  },
  {
   "cell_type": "markdown",
   "id": "ff721453",
   "metadata": {
    "slideshow": {
     "slide_type": "subslide"
    }
   },
   "source": [
    "- The state populations can be converted to free energies using the equation: $\\Delta$G = -RTln($p_i/p_j$) where $\\Delta$G is the difference between free energy if i$^{th}$ state and j$^{th}$ state.\n",
    "\n",
    "-  The transition matrix can provide valuable thermodynamic and kinetic information about the system through its eigen-value decomposition. \n",
    "\n",
    "- The eigenvectors corresponding to each eigenvalue have n elements corresponding to each of the n states. The magnitudes and signs of these elements explain which states are contributing to the process identified by the eigenvalue.\n",
    "\n",
    "- The highest eigenvalue is 1, and its corresponding eigenfunction represents the equilibrium stationary distribution.\n",
    "\n",
    "- The higher the eigenvalue is, slower the process involving the corresponding eigen vector is. The eigenvectors corresponding to each eigenvalue have n elements corresponding to each of the n states. The magnitudes and signs of these elements explain which states are contributing to the process identified by the eigenvalue. "
   ]
  },
  {
   "cell_type": "markdown",
   "id": "72b7da1b",
   "metadata": {
    "slideshow": {
     "slide_type": "slide"
    }
   },
   "source": [
    "## Pictorial illustration of MSM:\n",
    "Prinz et al. (J. Chem. Phys. 134, 174105, 2011) defined a potential energy function with four metastable basins. The PE and corresponding stationary state density:\n",
    "\n",
    "![fig8](model_energy.png)"
   ]
  },
  {
   "cell_type": "markdown",
   "id": "e8e15fcf",
   "metadata": {
    "slideshow": {
     "slide_type": "subslide"
    }
   },
   "source": [
    "The following plot shows transition density between the states. Note that, transition density is large within blocks allowing rapid transitions within metastable basins, and small or nearly zero for jumps between different metastable basins.\n",
    "\n",
    "![fig9](model_density.png)"
   ]
  },
  {
   "cell_type": "markdown",
   "id": "1bc3fd25",
   "metadata": {
    "slideshow": {
     "slide_type": "subslide"
    }
   },
   "source": [
    "The four dominant eigenfunctions of the transition matrix operator, which indicate the associated dynamical processes in the system. \n",
    "- The first eigenfunction is associated with the stationary process.\n",
    "- The second to a transition between (A + B) -$>$ (C + D). \n",
    "- The third and fourth eigenfunction to transitions between A -$>$ B and C -$>$ D, respectively.\n",
    "\n",
    "![fig10](model_eigenvec.png)"
   ]
  },
  {
   "cell_type": "markdown",
   "id": "85f38989",
   "metadata": {
    "slideshow": {
     "slide_type": "subslide"
    }
   },
   "source": [
    "Eigenvalues of the transition matrix, the gap between the four metastable processes and the fast processes is clearly visible.\n",
    "![fig9](model_eigenvalues.png)"
   ]
  },
  {
   "cell_type": "markdown",
   "id": "a20e569b",
   "metadata": {
    "slideshow": {
     "slide_type": "slide"
    }
   },
   "source": [
    "## Features\n",
    "\n",
    "Features are a set descriptors which represents the system and the properties under investigation.\n",
    "\n",
    "Lets consider a single water molecule. The features to describe this molecule can be:\n",
    "\n",
    "- The atom-types and cartesian coordinates.\n",
    "\n",
    "- Charge, sigma, epsilon and internal coordinates (r and $\\theta$)."
   ]
  },
  {
   "cell_type": "markdown",
   "id": "11c67a37",
   "metadata": {
    "slideshow": {
     "slide_type": "subslide"
    }
   },
   "source": [
    "Now consider we have 1000 separate water dimers (from a large set of water molecules in a simulation trajectory. We want to classify them according to the strength of the non-bonded interactions (electrostatics and LJ term from FF) without calculating the interaction energies. \n",
    "\n",
    "How can we represent the dimers to achieve the goal?\n",
    "\n",
    "![fig5](water_cluster.gif)"
   ]
  },
  {
   "cell_type": "markdown",
   "id": "7c13d150",
   "metadata": {
    "slideshow": {
     "slide_type": "slide"
    }
   },
   "source": [
    "**Is it possible to approximately describe a biomolecular system with more than 10000s of degrees of freedom by a few features?**\n",
    "\n",
    "*YES, it is.*\n",
    "\n",
    "Let us revisit vector space, linear algebra and think about an example where we have a point in 3-D space.\n",
    "\n",
    "![fig6](3D_vectors.png)\n",
    "\n"
   ]
  },
  {
   "cell_type": "markdown",
   "id": "e281cb0e",
   "metadata": {},
   "source": [
    "- The position of any point around us can be found out by a linear combination of 3 linearly independent axes (X,Y and Z in this case).\n",
    "- This is because we live in a 3 dimensional space and hence the number of basis functions (orthogonal and linearly independent) to describe the complete set is 3.\n",
    "- So ideally we can built a dataset of millions and milllions of points in 3-D and all of them can be exactly expressed by a linear combination of these basis functions. "
   ]
  },
  {
   "cell_type": "markdown",
   "id": "ab0d17d0",
   "metadata": {
    "slideshow": {
     "slide_type": "subslide"
    }
   },
   "source": [
    "Lets move to biological systems:\n",
    "- Dimensions of biological systems: thousands to billions. \n",
    "- But these dimensions are not **linearly independent**, when it comes to dynamical motions! \n",
    "- Rather dynamic movements in such large systems are known to be **massively correlated**.\n",
    "- Hence, number of basis fiunction needed exactly describe the dynamics of the system is **significantly less**.\n",
    "- *So if we can select our features in such a way that they are linearly independent and construct the basis functions of the space, then we can exactly describe the dynamics of the ultra-high dimensional system with less number of features. The number of features depends upon the system.*\n",
    "- This is theoretically probable and practically impossible!"
   ]
  },
  {
   "cell_type": "markdown",
   "id": "a4ba51e1",
   "metadata": {
    "slideshow": {
     "slide_type": "subslide"
    }
   },
   "source": [
    "Various ways to extract features out of a dataset:\n",
    "\n",
    "- Machine learning based automated feature extraction.\n",
    "\n",
    "- Intuition/knoweldge based definition of features.\n",
    "    - Has been the a popular appoach in MSM of biological systems as we already have a lot of information about such systems.\n",
    "    - Ligand (un)binding: The distance between binding site residues (COM) and the ligand COM is a single feature that can qualititively describe the dynamics.\n",
    "    - Protein (un)folding: The coordinates of C$\\alpha$ atoms and their distance distribution in configuration space can be a good indicator if the protein is unfolded or in folded state.\n",
    "    \n",
    "- Variational approach to extract features.\n",
    "    - Last few years variational approach for Markov processes (VAMP) has gained a significant attraction. \n",
    "    \n",
    "In some later class, we will learn about VAMPnets which combine the variational approach to automated feature extraction (via neural network). "
   ]
  },
  {
   "cell_type": "markdown",
   "id": "2e78f460",
   "metadata": {
    "slideshow": {
     "slide_type": "slide"
    }
   },
   "source": [
    "The following figure is taken from the article *'Markov State Models: From an Art to a Science' by Husic and Pande (J. Am. Chem. Soc. 2018, 140, 2386−2396)*.\n",
    "\n",
    "![fig7](features.jpeg)\n",
    "\n"
   ]
  },
  {
   "cell_type": "markdown",
   "id": "04eac55d",
   "metadata": {
    "slideshow": {
     "slide_type": "slide"
    }
   },
   "source": [
    "- In the lab class, we will build MSM and analyze MD simulations.\n",
    "\n",
    "- References:\n",
    "\n",
    "    1. J. Am. Chem. Soc. 2018, 140, 7, 2386–2396. (Nice story-telling)\n",
    "    2. J. Chem. Phys. 2011, 134, 174105. (Mathematically detailed explanation)\n",
    "    3. Cur. Op. in Struc. Bio. 2014, 25, 135–144. (Good review for bio/chem background)\n",
    "    4. J. Chem. Theory Comput. 2014, 10, 1739– 1752. (Variational approach)\n",
    "    5. J. Chem. Phys. 2009, 131, 124101. (MSMBuilder software)\n",
    "    6. J. Chem. Theory Comput. 2015, 11, 11, 5525–5542. (PyEMMA software: we will be using this)"
   ]
  }
 ],
 "metadata": {
  "celltoolbar": "Slideshow",
  "kernelspec": {
   "display_name": "Python 3 (ipykernel)",
   "language": "python",
   "name": "python3"
  },
  "language_info": {
   "codemirror_mode": {
    "name": "ipython",
    "version": 3
   },
   "file_extension": ".py",
   "mimetype": "text/x-python",
   "name": "python",
   "nbconvert_exporter": "python",
   "pygments_lexer": "ipython3",
   "version": "3.8.12"
  }
 },
 "nbformat": 4,
 "nbformat_minor": 5
}
