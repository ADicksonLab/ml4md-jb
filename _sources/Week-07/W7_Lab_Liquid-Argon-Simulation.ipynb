{
 "cells": [
  {
   "cell_type": "markdown",
   "id": "74dfd123",
   "metadata": {},
   "source": [
    "# Week 06 Lab: Liquid Argon Simulation\n"
   ]
  },
  {
   "cell_type": "markdown",
   "id": "bbad2e2c",
   "metadata": {},
   "source": [
    "## Student Name: YOUR NAME HERE"
   ]
  },
  {
   "cell_type": "markdown",
   "id": "130fd128",
   "metadata": {},
   "source": [
    "![Liquid Argon](https://upload.wikimedia.org/wikipedia/commons/thumb/4/40/Argon_ice_1_edit.jpg/1344px-Argon_ice_1_edit.jpg?20070502070646)"
   ]
  },
  {
   "cell_type": "markdown",
   "id": "266c7361",
   "metadata": {},
   "source": [
    "Today we'll combine our knowledge of Classical Mechanics with the concepts of **periodic boundary conditions**, **Maxwell-Boltzmann distributions** and **Lennard-Jones interactions** that we learned in the last lecture.\n",
    "\n",
    "We will apply these to the simulation of **Liquid Argon**.  Argon, or course, is a noble gas at room temperature.  But below its boiling point (87 K), it forms a liquid that is held together by van der Waals interactions. \n",
    "\n",
    "Since each Argon atom is uncharged and forms no covalent bonds, this is actually one of the simplest many-particle systems we can study!"
   ]
  },
  {
   "cell_type": "markdown",
   "id": "6760844c",
   "metadata": {},
   "source": [
    "**Let's start by recalling some of the functions we've already written that can help us:**"
   ]
  },
  {
   "cell_type": "code",
   "execution_count": 2,
   "id": "d7195992",
   "metadata": {},
   "outputs": [],
   "source": [
    "from scipy.special import erfinv\n",
    "import numpy as np\n",
    "\n",
    "def init_vel(kt_over_m, shape):\n",
    "    \"\"\"\n",
    "    Initializes velocities according to the Maxwell-Boltzmann distribution.\n",
    "    \n",
    "    Inputs:\n",
    "    kt_over_m : float\n",
    "                The value of kT/m \n",
    "    \n",
    "    shape :     tuple (of int)\n",
    "                The shape of the velocity array to return\n",
    "    \"\"\"\n",
    "    \n",
    "    R = np.random.random(shape)   # generates a set of numbers uniformly in [0,1]\n",
    "    return np.sqrt(2*kt_over_m)*erfinv(2*R-1)\n",
    "    \n",
    "def apply_pbc(positions, box_size):\n",
    "    \"\"\"\n",
    "    Wraps the positions to conform to the periodic boundaries.  \n",
    "    \n",
    "    Inputs:\n",
    "    positions : array, shape (N,ndim)\n",
    "                Positions of the particles\n",
    "                \n",
    "    box_size :  array, shape (ndim)\n",
    "                Length of the periodic unit cell in each dimension\n",
    "    \"\"\"\n",
    "    # positions and box size are both arrays with\n",
    "    # a dimensionality equal to the number of spatial dimensions\n",
    "    # i.e. if we are in 2D space, each array has two elements\n",
    "    \n",
    "    half_box_size = box_size * 0.5\n",
    "    pbc_wrap_positions = np.zeros_like(positions)\n",
    "\n",
    "    old_positions = positions\n",
    "\n",
    "    # this while loop allows adjustments to be made until \n",
    "    # the positions of the particles stops changing\n",
    "    while np.any(pbc_wrap_positions != old_positions):\n",
    "        #\n",
    "        # Note on np.where syntax:\n",
    "        # np.where(CONDITION, value_if_true, value_if_false)\n",
    "        #\n",
    "        pbc_wrap_positions = np.where(positions > half_box_size,\n",
    "                                      positions - box_size,\n",
    "                                      positions)\n",
    "\n",
    "        pbc_wrap_positions = np.where(positions <= -half_box_size,\n",
    "                                      positions + box_size,\n",
    "                                      pbc_wrap_positions)\n",
    "        old_positions = pbc_wrap_positions\n",
    "    return pbc_wrap_positions\n",
    "\n",
    "def shortest_disp_vector(posA, posB, box_size):\n",
    "    \"\"\"\n",
    "    Returns the shortest displacement vector between two atoms.\n",
    "    \n",
    "    Inputs:\n",
    "    posA     :  array, shape (ndim)\n",
    "                position of particle A\n",
    "    \n",
    "    posB     :  array, shape (ndim)\n",
    "                position of particle B\n",
    "    \n",
    "    box_size :  array, shape (ndim)\n",
    "                Length of the periodic unit cell in each dimension\n",
    "    \"\"\"\n",
    "\n",
    "    r = posA - posB   # has one element for each spatial dimension\n",
    "\n",
    "    # loop over spatial dimensions\n",
    "    for i in range(len(posA)):\n",
    "        \n",
    "        # if difference is greater than half the box length, adjust\n",
    "        if r[i] < -0.5*box_size[i]:\n",
    "            \n",
    "            # determine number of adjustments needed\n",
    "            n = int((r[i] + 0.5*box_size[i])/box_size[i]) + 1  \n",
    "\n",
    "            # make them\n",
    "            r[i] += n*box_size[i]\n",
    "        elif r[i] > 0.5*box_size[i]: # same thing in the negative direction\n",
    "            n = int((r[i] - 0.5*box_size[i])/box_size[i]) + 1\n",
    "            r[i] -= n*box_size[i]\n",
    "\n",
    "    return r\n",
    "\n",
    "def VVLangevin(x, v, m, force_alg, params):\n",
    "    \"\"\"\n",
    "    Applies Velocity Verlet Langevin equations to move the system\n",
    "    forward one timestep.\n",
    "    \n",
    "    x : positions \n",
    "    np.array, shape = (N,ndim)\n",
    "    \n",
    "    v : velocities \n",
    "    np.array, shape = (N,ndim)\n",
    "    \n",
    "    m : masses\n",
    "    np.array, shape = (N)\n",
    "    \n",
    "    force_alg : force function\n",
    "    callable function that takes in x, returns a np.array with same shape\n",
    "    \n",
    "    params : parameter dict\n",
    "    dict (must contain dt, gamma, kT [all floats])\n",
    "    \"\"\"\n",
    "    \n",
    "    dt = params['dt']\n",
    "    gamma = params['gamma']\n",
    "    kT = params['kT']\n",
    "    \n",
    "    # define arrays for new positions and new velocities\n",
    "    new_x = np.zeros_like(x)\n",
    "    new_v = np.zeros_like(x)\n",
    "    \n",
    "    N = x.shape[0]\n",
    "    \n",
    "    # compute f(t)\n",
    "    f = force_alg(x, params)\n",
    "    \n",
    "    # use f to update x\n",
    "    for i in range(N):\n",
    "        # new_x[i] is the (new) position for particle i\n",
    "        new_x[i] = x[i] + v[i]*dt + 0.5*f[i]*dt**2/m[i]\n",
    "    \n",
    "    # compute f(t+dt)\n",
    "    new_f = force_alg(new_x, params)\n",
    "    \n",
    "    # use f(t+dt) and f(t) to update v\n",
    "    for i in range(N):\n",
    "        # define Langevin prefactor\n",
    "        prefac = np.sqrt(2*gamma*dt*kT/m[i])\n",
    "        \n",
    "        new_v[i] = v[i] + 0.5*(f[i] + new_f[i])*dt/m[i] - gamma*v[i]*dt + prefac*np.random.normal()\n",
    "        \n",
    "    return new_x, new_v\n",
    "\n",
    "def sim_manager(init_pos, init_vel, m, force_fn, integrator, params, show_progress=True):\n",
    "    \"\"\"\n",
    "    init_pos : initial positions \n",
    "    np.array, shape = (N,ndim)\n",
    "    \n",
    "    init_vel : initial velocities \n",
    "    np.array, shape = (N,ndim)\n",
    "    \n",
    "    m : masses\n",
    "    np.array, shape = (N)\n",
    "    \n",
    "    force_fn : force function\n",
    "    callable function that takes in x, returns a np.array with same shape\n",
    "    \n",
    "    integrator : integrator function\n",
    "    callable function that takes in x, v, m, force_alg, params\n",
    "\n",
    "    params : parameter dict\n",
    "    dict (must contain dt, gamma, kT [floats], \n",
    "          n_steps, report_freq [integers])\n",
    "          \n",
    "    show_progress: Boolean\n",
    "    whether to call the \"update_progress\" function for a status bar\n",
    "    \"\"\"\n",
    "    \n",
    "    # define empty arrays for (periodically) saving x and v\n",
    "    n_steps = params['n_steps']\n",
    "    report_freq = params['report_freq']\n",
    "    \n",
    "    n_reports = int(n_steps/report_freq)\n",
    "    \n",
    "    N = init_pos.shape[0]\n",
    "    ndim = init_pos.shape[1]\n",
    "    \n",
    "    traj_x = np.zeros((n_reports, N, ndim))\n",
    "    traj_v = np.zeros((n_reports, N, ndim))\n",
    "    \n",
    "    current_x = init_pos\n",
    "    current_v = init_vel\n",
    "    \n",
    "    for step in range(n_steps):\n",
    "        \n",
    "        current_x, current_v = integrator(current_x, current_v, m, force_fn, params)\n",
    "        \n",
    "        if step % report_freq == 0:\n",
    "            # time to report\n",
    "            report_idx = int(step/report_freq)\n",
    "            current_x = apply_pbc(current_x, params['box_size'])\n",
    "            traj_x[report_idx] = current_x\n",
    "            traj_v[report_idx] = current_v\n",
    "            \n",
    "        if show_progress and step % 10 == 0:\n",
    "            update_progress(step/n_steps)\n",
    "    \n",
    "    if show_progress:\n",
    "        update_progress(step/n_steps)\n",
    "            \n",
    "    return traj_x, traj_v\n",
    "\n",
    "from IPython.display import clear_output\n",
    "\n",
    "def update_progress(progress):\n",
    "    bar_length = 20\n",
    "    if isinstance(progress, int):\n",
    "        progress = float(progress)\n",
    "    if not isinstance(progress, float):\n",
    "        progress = 0\n",
    "    if progress < 0:\n",
    "        progress = 0\n",
    "    if progress >= 1:\n",
    "        progress = 1\n",
    "\n",
    "    block = int(round(bar_length * progress))\n",
    "\n",
    "    clear_output(wait = True)\n",
    "    text = \"Progress: [{0}] {1:.1f}%\".format( \"#\" * block + \"-\" * (bar_length - block), progress * 100)\n",
    "    print(text)"
   ]
  },
  {
   "cell_type": "markdown",
   "id": "3e21926b",
   "metadata": {},
   "source": [
    "**Now let's write some functions specific to our system:**\n",
    "\n",
    "Since the particles are uncharged and there are no bonds in our system, the internal energy is given as:\n",
    "\n",
    "$$U({\\bf x}) = U_{\\text{LJ}} = \\sum_{i \\ne j} 4\\epsilon_{ij} \\left[ \\left( \\frac{\\sigma_{ij}}{r_{ij}}\\right)^{12} - \\left( \\frac{\\sigma_{ij}}{r_{ij}} \\right)^6\\right]$$\n",
    "\n",
    "or, since all of our particles are identical:\n",
    "\n",
    "$$U({\\bf x}) =  4\\epsilon \\sum_{i \\ne j} \\left[ \\left( \\frac{\\sigma}{r_{ij}}\\right)^{12} - \\left( \\frac{\\sigma}{r_{ij}} \\right)^6\\right]$$"
   ]
  },
  {
   "cell_type": "markdown",
   "id": "77b342b4",
   "metadata": {},
   "source": [
    "**Fill in the missing lines below:**"
   ]
  },
  {
   "cell_type": "code",
   "execution_count": 3,
   "id": "b1f9cef8",
   "metadata": {},
   "outputs": [],
   "source": [
    "def LJEnergy(positions, params):\n",
    "    \"\"\"\n",
    "    Calculate the internal energy from Lennard Jones interactions.\n",
    "    \n",
    "    Inputs:\n",
    "    positions:  np.array, shape = (N,ndim)\n",
    "    \n",
    "    params : parameter dict\n",
    "    dict (must contain box_size [array, size ndim], epsilon and sigma [floats])\n",
    "    \"\"\"\n",
    "    energy = 0\n",
    "    N = positions.shape[0]\n",
    "    for i in range(N - 1):\n",
    "        for j in range(i+1, N):\n",
    "            r_vec = shortest_disp_vector(positions[i], positions[j], params['box_size'])\n",
    "            r_len = np.sqrt(np.sum(np.square(r_vec)))\n",
    "\n",
    "            # use rlen to add to energy function\n",
    "            energy += None # COMPLETE THIS LINE\n",
    "    return energy"
   ]
  },
  {
   "cell_type": "markdown",
   "id": "c4b85a4a",
   "metadata": {},
   "source": [
    "Now it's time to compute our derivatives for the force function.  The derivative of $U$ function with respect to a particular $r$ is:\n",
    "\n",
    "\\begin{equation}\n",
    "\\frac{dU}{dr} = 4\\epsilon \\left[(-12)\\frac{\\sigma^{12}}{r^{13}} + 6\\frac{\\sigma^6}{r^7}\\right]\n",
    "\\end{equation}\n",
    "\n",
    "But to get the force, we must find the derivative of this function with respect to a given particle's **position**, $x_i$.  As an intermediate step, let's determine $dr_{ij}/dx_{i}$:\n",
    "\n",
    "\\begin{align}\n",
    "\\frac{dr_{ij}}{dx_i} &= \\frac{d}{dx_i} \\sqrt{(x_i - x_j)^2 + (y_i - y_j)^2 + (z_i - z_j)^2} \\\\\n",
    "&= \\frac{(x_i - x_j)}{r_{ij}}\n",
    "\\end{align}\n",
    "\n",
    "Note that $\\frac{dr_{ij}}{dx_i} = -\\frac{dr_{ij}}{dx_j}$.\n",
    "\n",
    "Now let's use this to determine $dU/dx_i$:\n",
    "\n",
    "\\begin{equation} \\frac{dU({\\bf x})}{dx_i} = 4\\epsilon \\sum_{j \\ne i} \\frac{dU}{dr_{ij}}\\frac{r_{ij}}{dx_{i}} = 4\\epsilon \\sum_{j \\ne i} \\left[(-12)\\frac{\\sigma^{12}}{r_{ij}^{14}} + 6\\frac{\\sigma^6}{r_{ij}^8}\\right] (x_i-x_j) \\end{equation}"
   ]
  },
  {
   "cell_type": "markdown",
   "id": "f51efd06",
   "metadata": {},
   "source": [
    "**Fill in the missing lines below:**"
   ]
  },
  {
   "cell_type": "code",
   "execution_count": 4,
   "id": "6bee5fd4",
   "metadata": {},
   "outputs": [],
   "source": [
    "def LJForces(positions, params):\n",
    "    \"\"\"\n",
    "    Calculate the forces arising from Lennard Jones interactions.\n",
    "    \n",
    "    Inputs:\n",
    "    positions:  np.array, shape = (N,ndim)\n",
    "    \n",
    "    params : parameter dict\n",
    "    dict (must contain box_size [array, size ndim], epsilon and sigma [floats])\n",
    "    \"\"\"\n",
    "    dUdx = np.zeros_like(positions)\n",
    "    N = positions.shape[0]\n",
    "\n",
    "    for i in range(N - 1):\n",
    "        for j in range(i+1, N):\n",
    "            r_vec = shortest_disp_vector(positions[i], positions[j], params['box_size'])\n",
    "            r_len = np.sqrt(np.sum(np.square(r_vec)))\n",
    "            sig_over_r6 = (params['sigma']/r_len)**6\n",
    "            sig_over_r12 = sig_over_r6**2\n",
    "\n",
    "            # use the quantities above to compute dUdx\n",
    "            dUdx[i] += None  # COMPLETE THIS LINE\n",
    "            dUdx[j] -= None  # COMPLETE THIS LINE\n",
    "\n",
    "    dUdx *= (4 * params['epsilon'])\n",
    "    return -dUdx"
   ]
  },
  {
   "cell_type": "markdown",
   "id": "b64e0738",
   "metadata": {},
   "source": [
    "**We also need a function to initialize our positions.  Fill in the missing lines:**"
   ]
  },
  {
   "cell_type": "code",
   "execution_count": 5,
   "id": "65ed918f",
   "metadata": {},
   "outputs": [],
   "source": [
    "def init_positions(params):\n",
    "    \"\"\"\n",
    "    Initialize the positions in a way that two particles aren't overlapping\n",
    "    \n",
    "    Inputs:\n",
    "    positions:  np.array, shape = (N,ndim)\n",
    "    \n",
    "    params : parameter dict\n",
    "    dict (must contain box_size [array, size ndim], epsilon and sigma [floats])\n",
    "    \"\"\"\n",
    "    \n",
    "    particles_placed = 0\n",
    "    max_trials = 100\n",
    "    \n",
    "    # initialize empty position array\n",
    "    N = params['N']\n",
    "    ndim = len(params['box_size'])\n",
    "    positions = np.zeros((N,ndim))\n",
    "    \n",
    "    trials = 0\n",
    "    while particles_placed < N:\n",
    "        # randomly place new particle\n",
    "        new_pos = np.random.random((ndim))*params['box_size']\n",
    "        trials += 1\n",
    "        \n",
    "        clash = False\n",
    "        if particles_placed > 0:\n",
    "            # check for clashes with existing particles\n",
    "            \n",
    "            # use a loop that checks if there is a clash between new_pos and \n",
    "            # any of the positions defined so far.  If there is a clash, then\n",
    "            # set clash = True.  Be sure to use shortest_disp_vector\n",
    "            # to take into account the periodic boundary conditions!\n",
    "            \n",
    "            # your code here\n",
    "        \n",
    "        # if there aren't clashes, add this particle and move on\n",
    "        if clash == False:\n",
    "            positions[particles_placed] = new_pos\n",
    "            particles_placed += 1\n",
    "            trials = 0\n",
    "        elif trials > max_trials:\n",
    "            print(\"Error!  max_trials = {max_trials} was reached!  Try a larger box or a smaller N!\")\n",
    "            return False\n",
    "            \n",
    "    return positions"
   ]
  },
  {
   "cell_type": "markdown",
   "id": "1e0c35e1",
   "metadata": {},
   "source": [
    "## A note on units\n",
    "\n",
    "The units need to be consistent throughout the program.  For this we will use the following convention:\n",
    "\n",
    "- distance (nm)\n",
    "- time (ps)\n",
    "- mass (Da)\n",
    "\n",
    "It would be nice to use a unit like \"eV\" for energy, but we are constrained here, because a unit of energy is also defined as:\n",
    "\n",
    "`[mass]*[distance]**2/[time]**2`\n",
    "\n",
    "And so our units of energy will be in \"dalnaps\" (which is a term I just made up).  \n",
    "\n",
    "**The following two cells determine how to convert \"dalnaps\" to eV with help from the units handling package `pint`.**  If you have trouble installing `pint` in your environment, feel free to skip these cells."
   ]
  },
  {
   "cell_type": "code",
   "execution_count": 7,
   "id": "b8a62983",
   "metadata": {},
   "outputs": [
    {
     "name": "stdout",
     "output_type": "stream",
     "text": [
      "Collecting pint\n",
      "  Using cached Pint-0.18-py2.py3-none-any.whl (209 kB)\n",
      "Requirement already satisfied: packaging in /Users/alexrd/anaconda3/envs/ml4md/lib/python3.8/site-packages (from pint) (21.3)\n",
      "Requirement already satisfied: pyparsing!=3.0.5,>=2.0.2 in /Users/alexrd/anaconda3/envs/ml4md/lib/python3.8/site-packages (from packaging->pint) (3.0.6)\n",
      "Installing collected packages: pint\n",
      "Successfully installed pint-0.18\n"
     ]
    }
   ],
   "source": [
    "!pip install pint"
   ]
  },
  {
   "cell_type": "code",
   "execution_count": 8,
   "id": "82028438",
   "metadata": {},
   "outputs": [
    {
     "data": {
      "text/html": [
       "0.010364269652680507 electron_volt"
      ],
      "text/latex": [
       "$0.010364269652680507\\ \\mathrm{electron\\_volt}$"
      ],
      "text/plain": [
       "0.010364269652680507 <Unit('electron_volt')>"
      ]
     },
     "execution_count": 8,
     "metadata": {},
     "output_type": "execute_result"
    }
   ],
   "source": [
    "from pint import UnitRegistry\n",
    "unit = UnitRegistry()\n",
    "\n",
    "dalnap = 1.0*unit.Da*unit.nm**2/unit.ps**2\n",
    "dalnap.to(unit.eV)"
   ]
  },
  {
   "cell_type": "markdown",
   "id": "3e354de9",
   "metadata": {},
   "source": [
    "As we can see, a \"dalnap\" is equal to 0.010364 eV.  \n",
    "\n",
    "Let's define some conversion factors we can use in our program:"
   ]
  },
  {
   "cell_type": "code",
   "execution_count": 10,
   "id": "29de02b4",
   "metadata": {},
   "outputs": [],
   "source": [
    "dalnap_to_eV = 0.010364\n",
    "eV_to_dalnap = 1/dalnap_to_eV"
   ]
  },
  {
   "cell_type": "markdown",
   "id": "fd1c6737",
   "metadata": {},
   "source": [
    "## Defining parameters"
   ]
  },
  {
   "cell_type": "code",
   "execution_count": 11,
   "id": "e4018856",
   "metadata": {},
   "outputs": [],
   "source": [
    "N = 40\n",
    "mass = 40                # Da\n",
    "kB = 8.617e-5            # eV/kelvin\n",
    "T = 50                   # kelvin\n",
    "epsilon_eV = 0.00802236  # eV\n",
    "\n",
    "params = {'N' : N,\n",
    "          'dt' : 0.01,                         # ps \n",
    "          'gamma' : 1.0,                       # 1/ps\n",
    "          'kT' : kB*T*eV_to_dalnap,            # dalnaps\n",
    "          'n_steps' : 10000,\n",
    "          'report_freq' : 100,\n",
    "          'box_size' : np.array([2.0,2.0,2.0]),      # nm\n",
    "          'sigma' : 0.354,                     # nm\n",
    "          'epsilon' : epsilon_eV*eV_to_dalnap  # dalnaps\n",
    "         }"
   ]
  },
  {
   "cell_type": "code",
   "execution_count": 12,
   "id": "0da948c8",
   "metadata": {},
   "outputs": [],
   "source": [
    "init_x = init_positions(params)\n",
    "init_v = init_vel(params['kT']/mass, (N,3))\n",
    "m = np.ones((N))*mass"
   ]
  },
  {
   "cell_type": "markdown",
   "id": "58c99c04",
   "metadata": {},
   "source": [
    "## Running a simulation\n",
    "\n",
    "With the help of our simulation manager, we can run a simulation in one line.  **This can take 5-10 minutes depending on your machine.** If you aren't able to run these for yourself you can instead load the trajectories from the course website."
   ]
  },
  {
   "cell_type": "code",
   "execution_count": 14,
   "id": "593c11fd",
   "metadata": {},
   "outputs": [
    {
     "name": "stdout",
     "output_type": "stream",
     "text": [
      "Progress: [####################] 100.0%\n"
     ]
    }
   ],
   "source": [
    "traj_pos, traj_vel = sim_manager(init_x,init_v,m,LJForces,VVLangevin,params,show_progress=True)"
   ]
  },
  {
   "cell_type": "code",
   "execution_count": 23,
   "id": "4068322c",
   "metadata": {},
   "outputs": [],
   "source": [
    "# saving the positions and velocities\n",
    "np.save(f'traj_pos_T{T}.npy',traj_pos)\n",
    "np.save(f'traj_vel_T{T}.npy',traj_vel)\n",
    "\n",
    "# loading positions and velocites (if you were unable to run)\n",
    "# traj_pos = np.load(f'traj_pos_T{T}.npy')\n",
    "# traj_vel = np.load(f'traj_vel_T{T}.npy')"
   ]
  },
  {
   "cell_type": "markdown",
   "id": "09e197ac",
   "metadata": {},
   "source": [
    "## Visualizing a trajectory\n",
    "\n",
    "To visualize the trajectory we first need to build a \"topology\" for the system.  This holds all of the information of the chemical types of the atoms in our simulation.\n",
    "\n",
    "Our topology is extremely simple, as all atoms have the same type (Argon), and each are in their own \"residue\".\n",
    "\n",
    "The following function builds an `mdtraj` topology object with `N` Argon atoms:"
   ]
  },
  {
   "cell_type": "code",
   "execution_count": 15,
   "id": "5d28d4a3",
   "metadata": {},
   "outputs": [],
   "source": [
    "import mdtraj as mdj\n",
    "\n",
    "def build_mdtraj_top(N):\n",
    "    new_top = mdj.Topology()\n",
    "    chain = new_top.add_chain()\n",
    "    \n",
    "    for i in range(N):\n",
    "        res = new_top.add_residue(f'Ar{i}',chain)\n",
    "        _ = new_top.add_atom(f'Ar{i}',mdj.element.Element.getBySymbol('Ar'),res)\n",
    "\n",
    "    return new_top"
   ]
  },
  {
   "cell_type": "markdown",
   "id": "21c2c91c",
   "metadata": {},
   "source": [
    "We can merge our trajectory data with the topology to create a `Trajectory` object."
   ]
  },
  {
   "cell_type": "code",
   "execution_count": 17,
   "id": "7fe3ce81",
   "metadata": {},
   "outputs": [],
   "source": [
    "mdj_traj = mdj.Trajectory(traj_pos, build_mdtraj_top(params['N']))"
   ]
  },
  {
   "cell_type": "markdown",
   "id": "40663c1d",
   "metadata": {},
   "source": [
    "This can be saved in dcd format or we can visualize it directly in the notebook using `nglview`:"
   ]
  },
  {
   "cell_type": "code",
   "execution_count": 18,
   "id": "b810657b",
   "metadata": {},
   "outputs": [
    {
     "data": {
      "application/vnd.jupyter.widget-view+json": {
       "model_id": "9cb89f0d7dd64e90a1c579a5a3ac298b",
       "version_major": 2,
       "version_minor": 0
      },
      "text/plain": [
       "NGLWidget(max_frame=99)"
      ]
     },
     "metadata": {},
     "output_type": "display_data"
    }
   ],
   "source": [
    "import nglview as nv\n",
    "w = nv.show_mdtraj(mdj_traj)\n",
    "w.add_representation('spacefill', selection='all', color='atomindex', radius='2.3')\n",
    "w"
   ]
  },
  {
   "cell_type": "markdown",
   "id": "f705e11c",
   "metadata": {},
   "source": [
    "## Analyze the radial distribution function \n",
    "\n",
    "A common way to analyze particle interactions is the [\"radial distribution function\"](https://en.wikipedia.org/wiki/Radial_distribution_function).  The radial distribution function is determined by calculating the distance between all particle pairs and binning them into a probability distribution $P(r)$. \n",
    "\n",
    "The radial distribution function (or RDF) is then normalized by the density of the system times the volume of the spherical shell with radius $r$ and thickness $dr$:  \n",
    "\n",
    "\\begin{equation}\n",
    "g(r) = \\frac{P(r)}{\\rho 4 \\pi r^2 dr}\n",
    "\\end{equation}\n",
    "\n",
    "This normalization is important to interpret the $g(r)$ curve.  Now a value of $g(r) = 1$ would indicate a normal atomic density that one would find in a bulk solution."
   ]
  },
  {
   "cell_type": "markdown",
   "id": "224784e1",
   "metadata": {},
   "source": [
    "**Write a function that calculates takes in a trajectory and computes $g(r)$:**"
   ]
  },
  {
   "cell_type": "code",
   "execution_count": 65,
   "id": "fad9a84d",
   "metadata": {},
   "outputs": [],
   "source": [
    "def calc_RDF(pos, params):\n",
    "    \"\"\"\n",
    "    Computes the radial distribution function g(r)\n",
    "    \n",
    "    Input:\n",
    "    \n",
    "    pos : numpy array of positions (shape (nframes, N,3))\n",
    "    \n",
    "    params :  dict\n",
    "              dictionary of parameters\n",
    "    \"\"\"\n",
    "    \n",
    "    nframes = pos.shape[0]\n",
    "    N = pos.shape[1]\n",
    "    Nr = 100 # number of bins\n",
    "    \n",
    "    # first, make a long list of r values\n",
    "    r_list = []\n",
    "\n",
    "    for i in range(nframes):\n",
    "        for a in range(N-1):\n",
    "            for b in range(a+1,N):\n",
    "                r_vec = shortest_disp_vector(pos[i,a], pos[i,b], params['box_size'])\n",
    "                r_list.append(np.sqrt(np.sum(np.square(r_vec))))\n",
    "    \n",
    "    # compute histogram of r values (only go out to Lx/2) to avoid periodic \n",
    "    # boundary effects\n",
    "    counts_r, bins_r = np.histogram(r_list, bins=Nr, range=(0,params['box_size'][0]))\n",
    "    r_values = 0.5*(bins_r[:-1] + bins_r[1:])\n",
    "\n",
    "    # determine Pr\n",
    "    Pr = counts_r/counts_r.sum()*N\n",
    "\n",
    "    # determine gr\n",
    "    V = params['box_size'][0]*params['box_size'][1]*params['box_size'][2]\n",
    "    density = params['N']/V\n",
    "    dr = params['box_size'][0]/Nr\n",
    "    \n",
    "    gr = None  # COMPLETE THIS LINE\n",
    "    \n",
    "    return gr, r_values"
   ]
  },
  {
   "cell_type": "markdown",
   "id": "df314b73",
   "metadata": {},
   "source": [
    "**Now let's use this function to plot the RDF:**"
   ]
  },
  {
   "cell_type": "code",
   "execution_count": 63,
   "id": "79321c24",
   "metadata": {},
   "outputs": [],
   "source": [
    "gr, r_vals = calc_RDF(traj_pos, params)"
   ]
  },
  {
   "cell_type": "code",
   "execution_count": 74,
   "id": "f2c7185d",
   "metadata": {},
   "outputs": [
    {
     "data": {
      "text/plain": [
       "<matplotlib.legend.Legend at 0x7f8559550f70>"
      ]
     },
     "execution_count": 74,
     "metadata": {},
     "output_type": "execute_result"
    },
    {
     "data": {
      "image/png": "[encoded data removed]",
      "text/plain": [
       "<Figure size 432x288 with 1 Axes>"
      ]
     },
     "metadata": {
      "needs_background": "light"
     },
     "output_type": "display_data"
    }
   ],
   "source": [
    "import matplotlib.pyplot as plt\n",
    "\n",
    "plt.plot(r_vals,gr)\n",
    "xmin = 0.7*params['sigma']\n",
    "xmax = params['box_size'][0]/2\n",
    "plt.xlim([xmin,xmax])\n",
    "plt.hlines(1.0,xmin,xmax,color=\"red\",label='Bulk density')\n",
    "\n",
    "plt.xlabel(\"r\")\n",
    "plt.ylabel(\"g(r)\")\n",
    "plt.legend()"
   ]
  },
  {
   "cell_type": "markdown",
   "id": "a5a5c3de",
   "metadata": {},
   "source": [
    "**Does this curve make sense given the visualization above?  Why or why not?**"
   ]
  },
  {
   "cell_type": "markdown",
   "id": "b056843a",
   "metadata": {},
   "source": [
    "/your answer here/"
   ]
  },
  {
   "cell_type": "markdown",
   "id": "6f236b63",
   "metadata": {},
   "source": [
    "## Running trajectories at different temperatures\n",
    "\n",
    "Finally, to examine the behavior of this system at different temperatures, run an additional trajectory at each of the following:  $T = 80$, $T = 120$ and $T = 200 K$.\n",
    "\n",
    "**Save each trajectory to its own numpy array, visualize them using NGLview, and plot their RDF curves.**"
   ]
  },
  {
   "cell_type": "code",
   "execution_count": null,
   "id": "5bdd9e1e",
   "metadata": {},
   "outputs": [],
   "source": [
    "# your code here"
   ]
  },
  {
   "cell_type": "code",
   "execution_count": 75,
   "id": "ba428b11",
   "metadata": {},
   "outputs": [
    {
     "name": "stdout",
     "output_type": "stream",
     "text": [
      "Progress: [####################] 100.0%\n"
     ]
    }
   ],
   "source": [
    "all_trajs = {}\n",
    "all_trajs[50] = traj_pos\n",
    "for T in [80,120,200]:\n",
    "    params['kT'] = kB*T*eV_to_dalnap\n",
    "    all_trajs[T], _ = sim_manager(init_x,init_v,m,LJForces,VVLangevin,params,show_progress=True)"
   ]
  },
  {
   "cell_type": "markdown",
   "id": "6583cdbc",
   "metadata": {},
   "source": [
    "**What differences do you observe in the trajectories?**"
   ]
  },
  {
   "cell_type": "markdown",
   "id": "6b2137ef",
   "metadata": {},
   "source": [
    "/ your answer here /"
   ]
  },
  {
   "cell_type": "markdown",
   "id": "21741641",
   "metadata": {},
   "source": [
    "**How are these differences reflected in the $g(r)$ curves?**"
   ]
  },
  {
   "cell_type": "markdown",
   "id": "06916583",
   "metadata": {},
   "source": [
    "/ your answer here /"
   ]
  },
  {
   "cell_type": "code",
   "execution_count": null,
   "id": "9d807ec5",
   "metadata": {},
   "outputs": [],
   "source": []
  }
 ],
 "metadata": {
  "kernelspec": {
   "display_name": "Python 3 (ipykernel)",
   "language": "python",
   "name": "python3"
  },
  "language_info": {
   "codemirror_mode": {
    "name": "ipython",
    "version": 3
   },
   "file_extension": ".py",
   "mimetype": "text/x-python",
   "name": "python",
   "nbconvert_exporter": "python",
   "pygments_lexer": "ipython3",
   "version": "3.8.12"
  }
 },
 "nbformat": 4,
 "nbformat_minor": 5
}
