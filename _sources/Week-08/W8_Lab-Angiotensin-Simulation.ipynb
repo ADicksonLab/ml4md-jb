{
 "cells": [
  {
   "cell_type": "markdown",
   "id": "6ed9bd54",
   "metadata": {},
   "source": [
    "# Biomolecular Simulation (Lab 1)\n",
    "\n",
    "## Name: \n",
    "\n",
    "### Department: \n",
    "\n",
    "### Michigan State University"
   ]
  },
  {
   "cell_type": "markdown",
   "id": "6d72068a",
   "metadata": {},
   "source": [
    "## Outline of the class:\n",
    "\n",
    "1. Run a simulation (name: sim1) with a small polypeptide angiotensin (1N9U PDB). It is a 10 amino acid long polypeptide. The provided input pdb has water and 0.15 mM of KCL. \n",
    "\n",
    "     - You will add the necessary reporters for storing (i) temperature, (ii) Potential energy and (iii) Total energy in a file.\n",
    "          - Hint: You can check the code block from Tuesday's lecture. \n",
    "     - Visualize.\n",
    "----------------------------------------\n",
    "\n",
    "2. A new simulation (name: pullforce) with the same polypeptide. \n",
    "    - Here we will add a 'pulling force' to the sytem. The first residue will be pulled to positive x,y,z axes. The last residue will be pulled to the negative x,y,z axes. The pulling force will be a equal contribution of both the forces. And hence we would expect with time, the protein to strech an uncoil. The code block is provided.\n",
    "    - Visualize and see the difference.\n",
    "    - You can play with the parameters of the pulling force and see how they are impacting the 'pulling'. {Do this after you are done with the next part}\n",
    "    \n",
    "-----------------------------------------\n",
    "\n",
    "\n",
    "3. Using mdtraj as a tool for analysis:\n",
    "    - Loading MD simulation data by mdtraj, PBC removal and recenter.\n",
    "    - How we can make atom selection with mdtraj.\n",
    "    - Plot radius of gyration for both sim1 and pullforce and compare.\n",
    "    - Plot RMSD for both sim1 and pullforce and compare.\n",
    "    - Plot atom-atom distance and compare.    \n",
    "    \n",
    "-----------------------------------------\n",
    "\n",
    "**Softwares needed: OpenMM and MDTRAJ**\n",
    "\n",
    "**Keep track of the filenames that you are generating**"
   ]
  },
  {
   "cell_type": "code",
   "execution_count": null,
   "id": "61015a19",
   "metadata": {},
   "outputs": [],
   "source": [
    "# Import the required python modules\n",
    "\n",
    "import matplotlib.pyplot as plt\n",
    "import mdtraj\n",
    "import nglview\n",
    "import numpy as np\n",
    "from openmm.app import *\n",
    "from openmm import *\n",
    "from openmm.unit import *\n",
    "from sys import stdout\n",
    "import time"
   ]
  },
  {
   "cell_type": "code",
   "execution_count": null,
   "id": "09bffb12",
   "metadata": {},
   "outputs": [],
   "source": [
    "# Total steps of the simulations\n",
    "N_STEPS_SIM=20000\n",
    "\n",
    "# reporting interval\n",
    "N_STEPS_REPORT=100"
   ]
  },
  {
   "cell_type": "code",
   "execution_count": null,
   "id": "a85d406b",
   "metadata": {
    "scrolled": true,
    "slideshow": {
     "slide_type": "skip"
    }
   },
   "outputs": [],
   "source": [
    "### SIM_1\n",
    "\n",
    "# loading the input pdb.\n",
    "pdb = PDBFile('angiotensin.pdb')\n",
    "\n",
    "# defining the forcefield \n",
    "forcefield = ForceField('amber14-all.xml', 'amber14/tip3pfb.xml')\n",
    "\n",
    "# building the system using the forcefield and pdb topology\n",
    "system = forcefield.createSystem(pdb.topology, nonbondedMethod=PME,\n",
    "        nonbondedCutoff=1*nanometer, constraints=HBonds)\n",
    "\n",
    "# defining the integrator\n",
    "integrator = LangevinMiddleIntegrator(300*kelvin, 1/picosecond, 0.002*picoseconds)\n",
    "\n",
    "# defining the platform\n",
    "platform = Platform.getPlatformByName('CPU')\n",
    "\n",
    "# creating the simulation object\n",
    "simulation = Simulation(pdb.topology, system, integrator,platform)\n",
    "\n",
    "# setting the initial positions to pdb positions\n",
    "simulation.context.setPositions(pdb.positions)\n",
    "\n",
    "# energy before minimization\n",
    "state0 = simulation.context.getState(getEnergy=True)\n",
    "print(state0.getPotentialEnergy())\n",
    "\n",
    "# minimize the energy\n",
    "simulation.minimizeEnergy(tolerance= 5*kilojoule/mole, maxIterations=500)\n",
    "\n",
    "# print the energy afterwards\n",
    "state1 = simulation.context.getState(getEnergy=True)\n",
    "print(state1.getPotentialEnergy())\n",
    "\n",
    "# defining a DCD reporter which will save the trajectory\n",
    "simulation.reporters.append(DCDReporter(f'angio_{int(N_STEPS_SIM/N_STEPS_REPORT)}frames.dcd', N_STEPS_REPORT))\n",
    "\n",
    "# printing the PE and Temp to screen\n",
    "simulation.reporters.append(StateDataReporter(stdout, 500, step=True,\n",
    "        potentialEnergy=True, totalEnergy=True, temperature=True, speed=True))\n",
    "\n",
    "################\n",
    "# Here you will add the necessary reporters for storing\n",
    "# (i) temperature, (ii) Potential energy and (iii) Total energy in a file.\n",
    "\n",
    "\n",
    "################\n",
    "\n",
    "\n",
    "# Lets go!!!\n",
    "t_start = time.time()\n",
    "simulation.step(N_STEPS_SIM)\n",
    "t_end = time.time()\n",
    "print('time taken in seconds')\n",
    "print(t_end - t_start)\n",
    "\n",
    "# Dont forget to run after adding the lines!! :)"
   ]
  },
  {
   "cell_type": "code",
   "execution_count": null,
   "id": "a55d25e5",
   "metadata": {
    "scrolled": false
   },
   "outputs": [],
   "source": [
    "# Change the filename  \n",
    "view = nglview.show_mdtraj(mdtraj.load(\"filename\", top = \"angiotensin.pdb\"))\n",
    "\n",
    "#Comment the next line out to see only the angiotensin molecule and ions (no water).\n",
    "view.add_line(\"water\")\n",
    "\n",
    "view"
   ]
  },
  {
   "cell_type": "markdown",
   "id": "610ed99b",
   "metadata": {},
   "source": [
    "**Note: You can build the system with AMBER, CHARMM or GROMACS generated input files as well, instead of starting with a PDB.**\n",
    "\n",
    "**The example codes and instructions are provided in the following links:**\n",
    "\n",
    "- *http://docs.openmm.org/7.0.0/userguide/application.html#using-amber-files*\n",
    "\n",
    "- *http://docs.openmm.org/7.0.0/userguide/application.html#using-gromacs-files*\n",
    "\n",
    "- *http://docs.openmm.org/7.0.0/userguide/application.html#using-charmm-files*"
   ]
  },
  {
   "cell_type": "code",
   "execution_count": null,
   "id": "eb415c4d",
   "metadata": {},
   "outputs": [],
   "source": [
    "# PULLFORCE simulation: \n",
    "#All important objects are named by '_1'. \n",
    "# Don't overwrite the objects of the previous simulation.\n",
    "\n",
    "N_STEPS_SIM=20000\n",
    "\n",
    "N_STEPS_REPORT=100\n",
    "\n",
    "pdb_1 = PDBFile('angiotensin.pdb')\n",
    "\n",
    "# defining the forcefield \n",
    "forcefield_1 = ForceField('amber14-all.xml', 'amber14/tip3pfb.xml')\n",
    "\n",
    "# building the system using the forcefield and pdb topology\n",
    "system_1 = forcefield_1.createSystem(pdb_1.topology, nonbondedMethod=PME,\n",
    "        nonbondedCutoff=1*nanometer, constraints=HBonds)\n",
    "\n",
    "########### Lets mess up with the system ###################################\n",
    "## Add a pulling force that will pull the two end of the protein in two different directions:\n",
    "# Force constant of the force (# You can play with this parameter)\n",
    "\n",
    "pull_force_constant = 1000.0 * kilojoules_per_mole / 1.0 * nanometers \n",
    "\n",
    "#This is a list of the indices of first residue of the protein\n",
    "# not an efficient way, right?\n",
    "# We will learn a more efficient way later\n",
    "\n",
    "group1 = [0,1,2,3,4,5,6,7,8,9,10,11,12,13] \n",
    "\n",
    "# This is a list of the indices of the last residue of the protein\n",
    "\n",
    "group2 = [162,163,164,165,166,167,168,169,170,171,172,173,174,175,176,177,178,179,180,181]\n",
    "\n",
    "# Pulling in negative x direction not in y or z\n",
    "\n",
    "fx = -1.0               # pull in x\n",
    "fy = fz = -1.0          # pull in y and z, you can switch this on/off later simulations\n",
    "\n",
    "# defining a custom centroid bond force from openmm (we have to provide the energy function)\n",
    "# x1,y1,z1 is for group1\n",
    "# x2,y2,z2 is for group2 (openmm can figure out these notations)\n",
    "# Note that we are adding fx to one group and (-fx) to another\n",
    "\n",
    "pullforce = CustomCentroidBondForce(2, \"pull_force_constant * (x1*fx + y1*fy + z1*fz) + pull_force_constant * (x2*(-fx) + y1*(-fy) + z1*(-fz))\" )\n",
    "\n",
    "# global parameters for calculation of the energy, openmm needs these few lines \n",
    "\n",
    "pullforce.addGlobalParameter('pull_force_constant', pull_force_constant)\n",
    "pullforce.addGlobalParameter('fx', fx)\n",
    "pullforce.addGlobalParameter('fy', fy)\n",
    "pullforce.addGlobalParameter('fz', fz)\n",
    "\n",
    "# defining the group indices and adding them to the pullforce\n",
    "\n",
    "group1_idx = pullforce.addGroup(group1)\n",
    "group2_idx = pullforce.addGroup(group2)\n",
    "                                     \n",
    "# defining the hypothetical bond that will pull the groups\n",
    "\n",
    "pullforce.addBond([group1_idx, group2_idx])\n",
    "\n",
    "# finally adding them to the system\n",
    "\n",
    "system_1.addForce(pullforce)\n",
    "######################################## pullforce adding section ends here ###################\n",
    "\n",
    "# defining the integrator\n",
    "integrator_1 = LangevinMiddleIntegrator(300*kelvin, 1/picosecond, 0.002*picoseconds)\n",
    "\n",
    "# defining the platform\n",
    "platform_1 = Platform.getPlatformByName('CPU')\n",
    "\n",
    "# creating the simulation object\n",
    "simulation_1 = Simulation(pdb_1.topology, system_1, integrator_1,platform_1)\n",
    "\n",
    "# setting the initial positions to pdb positions\n",
    "simulation_1.context.setPositions(pdb_1.positions)\n",
    "\n",
    "simulation_1.reporters.append(DCDReporter(f'angio_{int(N_STEPS_SIM/N_STEPS_REPORT)}frames_pullforce.dcd', N_STEPS_REPORT))\n",
    "\n",
    "# printing the PE and Temp to screen\n",
    "simulation_1.reporters.append(StateDataReporter(stdout, 500, step=True,\n",
    "        potentialEnergy=True, totalEnergy=True, temperature=True, speed=True))\n",
    "\n",
    "t_start = time.time()\n",
    "simulation_1.step(N_STEPS_SIM)\n",
    "t_end = time.time()\n",
    "print('time taken in seconds')\n",
    "print(t_end - t_start)\n"
   ]
  },
  {
   "cell_type": "code",
   "execution_count": null,
   "id": "83d7b2a3",
   "metadata": {
    "scrolled": true
   },
   "outputs": [],
   "source": [
    "# add the filenames here\n",
    "# you can play with nglview with a bit of guidance from this webpage:\n",
    "# https://projects.volkamerlab.org/teachopencadd/talktorials/T017_advanced_nglview_usage.html#Basic-API-usage\n",
    "view = nglview.show_mdtraj(mdtraj.load(\"filename\", top = \"pdb filename\"))\n",
    "#view.add_ball_and_stick()\n",
    "#view.add_line(\"water\")\n",
    "view"
   ]
  },
  {
   "cell_type": "markdown",
   "id": "be54fdbd",
   "metadata": {},
   "source": [
    "# MDTRAJ is nice tool that can do various analysis for us.\n",
    "\n",
    "**The API and the utility is here: https://mdtraj.org/1.9.4/index.html**\n",
    "\n",
    "## We can have a better way to grab the indices for forces in the previous code.\n",
    "\n"
   ]
  },
  {
   "cell_type": "code",
   "execution_count": null,
   "id": "2e72523a",
   "metadata": {},
   "outputs": [],
   "source": [
    "#loading a trajectory (change the filenmaes if you need to):\n",
    "trj_sim1 = mdtraj.load(\"angio_200frames.dcd\", top = \"angiotensin.pdb\").remove_solvent()\n",
    "trj_pullforce = mdtraj.load(\"angio_200frames_pullforce.dcd\", top = \"angiotensin.pdb\").remove_solvent()"
   ]
  },
  {
   "cell_type": "code",
   "execution_count": null,
   "id": "c6ba22cb",
   "metadata": {
    "scrolled": true
   },
   "outputs": [],
   "source": [
    "#viewing in nglview\n",
    "nglview.show_mdtraj(trj_sim1)"
   ]
  },
  {
   "cell_type": "code",
   "execution_count": null,
   "id": "03c9bbed",
   "metadata": {
    "scrolled": true
   },
   "outputs": [],
   "source": [
    "#viewing the pullforce simulation\n",
    "nglview.show_mdtraj(trj_pullforce)"
   ]
  },
  {
   "cell_type": "code",
   "execution_count": null,
   "id": "c823489a",
   "metadata": {},
   "outputs": [],
   "source": [
    "## Recenter and apply periodic boundary conditions to the molecules in each frame of the trajectory.\n",
    "trj_sim1 = trj_sim1.image_molecules(anchor_molecules=[set(trj_sim1.top.residue(0).atoms)])\n",
    "trj_pullforce = trj_pullforce.image_molecules(anchor_molecules=[set(trj_sim1.top.residue(0).atoms)])"
   ]
  },
  {
   "cell_type": "code",
   "execution_count": null,
   "id": "fdec7b20",
   "metadata": {
    "scrolled": true
   },
   "outputs": [],
   "source": [
    "# what does printing trj give us?\n",
    "trj_sim1"
   ]
  },
  {
   "cell_type": "code",
   "execution_count": null,
   "id": "207a76da",
   "metadata": {},
   "outputs": [],
   "source": [
    "# How does the topology look like\n",
    "trj_sim1.top"
   ]
  },
  {
   "cell_type": "code",
   "execution_count": null,
   "id": "ffd2352b",
   "metadata": {
    "scrolled": true
   },
   "outputs": [],
   "source": [
    "#list of residues\n",
    "list(trj_sim1.top.residues)"
   ]
  },
  {
   "cell_type": "code",
   "execution_count": null,
   "id": "0abd28cf",
   "metadata": {},
   "outputs": [],
   "source": [
    "##### Check youself the list of residues in pullforce simulation."
   ]
  },
  {
   "cell_type": "code",
   "execution_count": null,
   "id": "a1014584",
   "metadata": {},
   "outputs": [],
   "source": [
    "# list of atoms in the first residue\n",
    "list(trj_sim1.top.residue(0).atoms)"
   ]
  },
  {
   "cell_type": "code",
   "execution_count": null,
   "id": "c4f21f67",
   "metadata": {},
   "outputs": [],
   "source": [
    "# Find out the list of atoms in the last residue of pullforce simulation here"
   ]
  },
  {
   "cell_type": "code",
   "execution_count": null,
   "id": "b401069b",
   "metadata": {
    "scrolled": true
   },
   "outputs": [],
   "source": [
    "print(trj_sim1.top.residue(0).atom(0))\n",
    "print(trj_sim1.top.residue(0).atom(1))"
   ]
  },
  {
   "cell_type": "code",
   "execution_count": null,
   "id": "abb9e3f7",
   "metadata": {},
   "outputs": [],
   "source": [
    "# Index of any atom in the topology can be found out like this\n",
    "trj_sim1.top.residue(9).atom(0).index"
   ]
  },
  {
   "cell_type": "code",
   "execution_count": null,
   "id": "368dd509",
   "metadata": {
    "scrolled": true
   },
   "outputs": [],
   "source": [
    "## Now lets see a better way to print group1 in the pullforce example\n",
    "\n",
    "# creating an empty list\n",
    "group1_list=[]\n",
    "\n",
    "# loop over all the atoms of the residue0 \n",
    "for i in range(len(list(trj_sim1.top.residue(0).atoms))):\n",
    "    \n",
    "    #put the indices in a list\n",
    "    group1_list.append(trj_sim1.top.residue(0).atom(i).index)\n",
    "\n",
    "print(group1_list)"
   ]
  },
  {
   "cell_type": "code",
   "execution_count": null,
   "id": "878eb26b",
   "metadata": {},
   "outputs": [],
   "source": [
    "######### Write the similar code block for group2 in the pullforce example here ############"
   ]
  },
  {
   "cell_type": "code",
   "execution_count": null,
   "id": "a702df70",
   "metadata": {
    "scrolled": true
   },
   "outputs": [],
   "source": [
    "### There are other ways to select atoms/groups/residues as well\n",
    "\n",
    "trj_sim1.top.select('resname HIS')\n",
    "\n",
    "# See this directly gives the indices as array as well"
   ]
  },
  {
   "cell_type": "code",
   "execution_count": null,
   "id": "f4681c9b",
   "metadata": {
    "scrolled": true
   },
   "outputs": [],
   "source": [
    "# We can add or/and etc in the select arg string\n",
    "trj_sim1.top.select('resname HIS or resname ASP')"
   ]
  },
  {
   "cell_type": "code",
   "execution_count": null,
   "id": "f9b1eb3e",
   "metadata": {},
   "outputs": [],
   "source": [
    "# print all the backbone atom indices\n",
    "trj.top.select('name N or name H or name C or name O')"
   ]
  },
  {
   "cell_type": "code",
   "execution_count": null,
   "id": "1df2407f",
   "metadata": {},
   "outputs": [],
   "source": [
    "####### Write a similar code block to print all the atom indices for group1 and group2 using this tool ########"
   ]
  },
  {
   "cell_type": "code",
   "execution_count": null,
   "id": "e8d45a9b",
   "metadata": {},
   "outputs": [],
   "source": [
    "##### Computing some properties ####\n",
    "\n",
    "#Compute the radius of gyration for every frame.\n",
    "rg_sim1 = mdtraj.compute_rg(trj_sim1)\n",
    "rg_pull = mdtraj.compute_rg(trj_pullforce)\n",
    "\n",
    "#print(rg_pull)\n",
    "#print(rg_sim1)"
   ]
  },
  {
   "cell_type": "code",
   "execution_count": null,
   "id": "1f2e193e",
   "metadata": {
    "scrolled": true
   },
   "outputs": [],
   "source": [
    "plt.plot(rg_sim1, label='Normal simulation')\n",
    "plt.plot(rg_pull, label='Pullforce simulation')\n",
    "plt.legend()\n",
    "plt.xlabel('Number of snapshots')\n",
    "plt.ylabel('R_g in nanometer')\n",
    "plt.show()"
   ]
  },
  {
   "cell_type": "code",
   "execution_count": null,
   "id": "aaf82d5a",
   "metadata": {},
   "outputs": [],
   "source": []
  },
  {
   "cell_type": "code",
   "execution_count": null,
   "id": "52e83eed",
   "metadata": {
    "scrolled": true
   },
   "outputs": [],
   "source": [
    "### Next we will calculate the RMSD of the polypeptide\n",
    "\n",
    "## The reference struture will be first frame of the trajectory.\n",
    "\n",
    "# Hence, slice a trajectory to extract the first frame.\n",
    "trj_sim1_frame1 =  trj_sim1.slice([0])\n",
    "print(trj_sim1_frame1)"
   ]
  },
  {
   "cell_type": "code",
   "execution_count": null,
   "id": "bbb25167",
   "metadata": {},
   "outputs": [],
   "source": [
    "# Do the same for pullforce: Store the first frame of trj_pullforce in trj_pullforce_frame1\n"
   ]
  },
  {
   "cell_type": "code",
   "execution_count": null,
   "id": "722980c2",
   "metadata": {},
   "outputs": [],
   "source": [
    "#Calculating RMSD:\n",
    "sim1_rmsd = mdtraj.rmsd(trj_sim1, trj_sim1_frame1)"
   ]
  },
  {
   "cell_type": "code",
   "execution_count": null,
   "id": "89fefa7f",
   "metadata": {},
   "outputs": [],
   "source": [
    "####### calculate the rmsd of trj_pullforce ############\n",
    "\n",
    "####### plot the two rmsd in a single matplotlib plot ############\n",
    "\n"
   ]
  },
  {
   "cell_type": "code",
   "execution_count": null,
   "id": "f7dc0e81",
   "metadata": {},
   "outputs": [],
   "source": [
    "# Compute the distances between pairs of atoms in each frame through the trajectory\n",
    "# This should give us an idea how far the amino acids are stretched by the pull force. \n",
    "\n",
    "sim1_dist = mdtraj.compute_distances(trj_sim1, [(trj_sim1.top.residue(0).atom(2).index, \n",
    "                                             trj_sim1.top.residue(9).atom(2).index)],periodic=False )\n",
    "\n",
    "pullforce_dist = mdtraj.compute_distances(trj_pullforce, [(trj_pullforce.top.residue(0).atom(2).index, \n",
    "                                             trj_pullforce.top.residue(9).atom(2).index)],periodic=False)\n",
    "\n",
    "plt.plot(sim1_dist,label='Normal simulation')\n",
    "plt.plot(pullforce_dist,label='Pullforce simulation')\n",
    "plt.legend()\n",
    "plt.xlabel('Number of snapshots')\n",
    "plt.ylabel('Distance in nanometer')\n",
    "plt.show()\n",
    "#pullforce_dist\n"
   ]
  }
 ],
 "metadata": {
  "kernelspec": {
   "display_name": "Python 3 (ipykernel)",
   "language": "python",
   "name": "python3"
  },
  "language_info": {
   "codemirror_mode": {
    "name": "ipython",
    "version": 3
   },
   "file_extension": ".py",
   "mimetype": "text/x-python",
   "name": "python",
   "nbconvert_exporter": "python",
   "pygments_lexer": "ipython3",
   "version": "3.8.12"
  }
 },
 "nbformat": 4,
 "nbformat_minor": 5
}
