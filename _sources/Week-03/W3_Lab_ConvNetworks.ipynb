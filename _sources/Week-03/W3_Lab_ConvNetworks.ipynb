{
 "cells": [
  {
   "cell_type": "markdown",
   "id": "7ad0edc9",
   "metadata": {
    "slideshow": {
     "slide_type": "slide"
    }
   },
   "source": [
    "# Week 03 Lab: Convolutional Networks"
   ]
  },
  {
   "cell_type": "markdown",
   "id": "279e22ec",
   "metadata": {
    "slideshow": {
     "slide_type": "fragment"
    }
   },
   "source": [
    "## Student Name: YOUR NAME HERE"
   ]
  },
  {
   "cell_type": "markdown",
   "id": "8b2c1cd8",
   "metadata": {
    "slideshow": {
     "slide_type": "subslide"
    }
   },
   "source": [
    "## Predicting molecular properties\n",
    "\n",
    "In this lab we will build networks that learn how to predict molecular properties from PDB structures.\n",
    "\n",
    "As a test system we will use simulation-generated snapshots of $AAQAA_5$. This peptide assumes partial helical structures. An example conformation is shown below:\n",
    "\n",
    "<img alt=\"image_with_pixels\" src=\"https://github.com/ADicksonLab/ml4md-jb/raw/main/Week-03/aaqaa.png\" width=\"500px\"/>\n",
    "\n"
   ]
  },
  {
   "cell_type": "markdown",
   "id": "8eb1be86",
   "metadata": {
    "slideshow": {
     "slide_type": "subslide"
    }
   },
   "source": [
    "## Downloading data\n",
    "\n",
    "We begin by downloading a set of conformations in PDB format for $AAQAA_5$ that we will use for this tutorial:\n",
    "\n",
    "[aq15_pdbs.tgz](https://raw.githubusercontent.com/ADicksonLab/ml4md-jb/main/Week-03/aq15_pdbs.tgz)\n",
    "\n",
    "Instead of downloading it via the browswer you can use `wget`. That may be convenient for example when using Google Colab."
   ]
  },
  {
   "cell_type": "code",
   "execution_count": null,
   "id": "7f4e0e4d",
   "metadata": {},
   "outputs": [],
   "source": [
    "!wget -nc https://raw.githubusercontent.com/ADicksonLab/ml4md-jb/main/Week-03/aq15_pdbs.tgz"
   ]
  },
  {
   "cell_type": "markdown",
   "id": "534ce617",
   "metadata": {
    "slideshow": {
     "slide_type": "subslide"
    }
   },
   "source": [
    "Once downloaded, we unpack the data:"
   ]
  },
  {
   "cell_type": "code",
   "execution_count": null,
   "id": "1dd912bc",
   "metadata": {},
   "outputs": [],
   "source": [
    "!tar xzf aq15_pdbs.tgz"
   ]
  },
  {
   "cell_type": "markdown",
   "id": "3e255123",
   "metadata": {
    "slideshow": {
     "slide_type": "subslide"
    }
   },
   "source": [
    "## Preparing target data\n",
    "\n",
    "As target data we will use different molecular properties. For training and validation, they are calculated based on conventional methods from the PDB structures. The goal of machine learning is then to learn models that can predict these properties from the input conformations.\n",
    "\n",
    "Let's begin by calculating the radius of gyration based on $C\\alpha$ atoms from the PDB files using `mdtraj`.\n",
    "\n",
    "Note: `mdtraj` should be installed along with `openmm`. Install it now if you get an error message below."
   ]
  },
  {
   "cell_type": "code",
   "execution_count": null,
   "id": "d8c0d561",
   "metadata": {},
   "outputs": [],
   "source": [
    "import os.path\n",
    "import mdtraj as md\n",
    "import numpy as np\n",
    "\n",
    "if os.path.isfile('aq15.rgyr.dat'):\n",
    "    print('output file exists already, skipping')\n",
    "else:\n",
    "    rgout=open('aq15.rgyr.dat','w')\n",
    "\n",
    "    ndata=8000\n",
    "    for n in range(ndata):\n",
    "        fname=f'aq15_pdbs/aq15.{n+1}.pdb'\n",
    "        if ((n+1)%1000==0): \n",
    "            print(f'reading: {fname}')\n",
    "    \n",
    "        # reading PDB\n",
    "        pdb=md.load_pdb(fname)\n",
    "    \n",
    "        # selecting CA atoms\n",
    "        calist=pdb.topology.select(\"name CA\")\n",
    "        pdbca=pdb.atom_slice(calist)\n",
    "    \n",
    "        # calculating radius of gyration (output is in [nm])\n",
    "        rg=md.compute_rg(pdbca)\n",
    "    \n",
    "        # writing output to file\n",
    "        rgout.write(f'{n+1} {rg[0]}\\n')\n",
    "\n",
    "    rgout.close()"
   ]
  },
  {
   "cell_type": "markdown",
   "id": "b325d9e1",
   "metadata": {
    "slideshow": {
     "slide_type": "subslide"
    }
   },
   "source": [
    "If the above code does not work or runs too slow, you can download the data file from here:\n",
    "\n",
    "[aq15.rgyr.dat](https://raw.githubusercontent.com/ADicksonLab/ml4md-jb/main/Week-03/aq15.rgyr.dat)\n",
    "\n",
    "To check, we can make a histogram and plot the distribution of $R_g$ values:"
   ]
  },
  {
   "cell_type": "code",
   "execution_count": null,
   "id": "bc04dfdc",
   "metadata": {},
   "outputs": [],
   "source": [
    "import matplotlib.pyplot as plt\n",
    "import numpy as np\n",
    "\n",
    "rgdata=np.loadtxt('aq15.rgyr.dat')\n",
    "rgdata=rgdata[:,1]\n",
    "\n",
    "rgmin=np.min(rgdata)\n",
    "rgmax=np.max(rgdata)\n",
    "\n",
    "bins=20\n",
    "hist=np.zeros(bins+1)\n",
    "delta=(rgmax-rgmin)/bins\n",
    "\n",
    "for d in rgdata:\n",
    "    inx=int((d-rgmin)/delta+0.5)\n",
    "    hist[inx]+=1\n",
    "\n",
    "hist/=len(rgdata)\n",
    "    \n",
    "xhist=np.linspace(rgmin,rgmax,bins+1)\n",
    "plt.plot(xhist,hist,'r')\n",
    "plt.show()"
   ]
  },
  {
   "cell_type": "markdown",
   "id": "282ba997",
   "metadata": {
    "slideshow": {
     "slide_type": "subslide"
    }
   },
   "source": [
    "Let's also download data files with pre-calculated solvation free energies (using PB and GB models) and pre-calculated solvent-accessible surface areas. We will need these files later.\n",
    "\n",
    "[aq15_pb.dat](https://raw.githubusercontent.com/ADicksonLab/ml4md-jb/main/Week-03/aq15.pb.dat)\n",
    "\n",
    "[aq15_gb.dat](https://raw.githubusercontent.com/ADicksonLab/ml4md-jb/main/Week-03/aq15.gb.dat)\n",
    "\n",
    "[aq15.sasa.dat](https://raw.githubusercontent.com/ADicksonLab/ml4md-jb/main/Week-03/aq15.sasa.dat)\n",
    "\n",
    "As before, you can use `wget` to download all of the files:"
   ]
  },
  {
   "cell_type": "code",
   "execution_count": null,
   "id": "f831ff4c",
   "metadata": {},
   "outputs": [],
   "source": [
    "!wget -nc https://raw.githubusercontent.com/ADicksonLab/ml4md-jb/main/Week-03/aq15.pb.dat\n",
    "!wget -nc https://raw.githubusercontent.com/ADicksonLab/ml4md-jb/main/Week-03/aq15.gb.dat\n",
    "!wget -nc https://raw.githubusercontent.com/ADicksonLab/ml4md-jb/main/Week-03/aq15.sasa.dat"
   ]
  },
  {
   "cell_type": "markdown",
   "id": "84f240ff",
   "metadata": {
    "slideshow": {
     "slide_type": "subslide"
    }
   },
   "source": [
    "## Preparing input features\n",
    "\n",
    "The input data used here are the structures from the PDB files. However, there are different ways how such conformations can be 'featurized' as input to the machine learning model.\n",
    "\n",
    "We will try the following features:\n",
    "\n",
    "* XYZ coordinates as is from the PDB\n",
    "* distance of each atom from the center of the molecule\n",
    "* pairwise distances for all pairs of atoms\n",
    "\n",
    "To keep things simple and manageable we will only use $C\\alpha$ atoms for now. It is easy to modify the code below to consider other atoms as well.\n",
    "\n",
    "Let's get started!"
   ]
  },
  {
   "cell_type": "markdown",
   "id": "c9018d43",
   "metadata": {
    "slideshow": {
     "slide_type": "subslide"
    }
   },
   "source": [
    "### Input feature: XYZ coordinates"
   ]
  },
  {
   "cell_type": "code",
   "execution_count": null,
   "id": "e6107d11",
   "metadata": {},
   "outputs": [],
   "source": [
    "import os.path\n",
    "import mdtraj as md\n",
    "import numpy as np\n",
    "\n",
    "oname='aq15.input.xyz.npy'\n",
    "\n",
    "if os.path.isfile(oname):\n",
    "    print('output file exists already, skipping')\n",
    "else:\n",
    "    xyzlist=[]\n",
    "    ndata=8000\n",
    "    for n in range(ndata):\n",
    "        fname=f'aq15_pdbs/aq15.{n+1}.pdb'\n",
    "        if ((n+1)%1000==0): \n",
    "            print(f'reading: {fname}')\n",
    "    \n",
    "        pdb=md.load_pdb(fname)\n",
    "    \n",
    "        x=y=z=[]\n",
    "        calist=pdb.topology.select(\"name CA\")\n",
    "        for ca in calist:\n",
    "            xyz=pdb.xyz[0][ca]\n",
    "            x=np.append(x,xyz[0])\n",
    "            y=np.append(y,xyz[1])\n",
    "            z=np.append(z,xyz[2])\n",
    "        xyzlist=np.append(xyzlist,[x,y,z])\n",
    "         \n",
    "    data=np.reshape(xyzlist,(ndata,3,-1))\n",
    "    np.save(oname,data)"
   ]
  },
  {
   "cell_type": "markdown",
   "id": "aa862d76",
   "metadata": {
    "slideshow": {
     "slide_type": "subslide"
    }
   },
   "source": [
    "### Input feature: Distance from center"
   ]
  },
  {
   "cell_type": "code",
   "execution_count": null,
   "id": "1a290ce8",
   "metadata": {},
   "outputs": [],
   "source": [
    "import os.path\n",
    "import mdtraj as md\n",
    "import numpy as np\n",
    "\n",
    "oname='aq15.input.distance_from_center.npy'\n",
    "\n",
    "if os.path.isfile(oname):\n",
    "    print('output file exists already, skipping')\n",
    "else:\n",
    "    d=[]\n",
    "    ndata=8000\n",
    "    for n in range(ndata):\n",
    "        fname=f'aq15_pdbs/aq15.{n+1}.pdb'\n",
    "        if ((n+1)%1000==0): \n",
    "            print(f'reading: {fname}')\n",
    "    \n",
    "        pdb=md.load_pdb(fname)\n",
    "        pdb.center_coordinates()\n",
    "        \n",
    "        calist=pdb.topology.select(\"name CA\")\n",
    "        for ca in calist:\n",
    "            d=np.append(d,np.linalg.norm(pdb.xyz[0][ca]))\n",
    "                                \n",
    "    data=np.reshape(d,(ndata,1,-1))\n",
    "    np.save(oname,data)"
   ]
  },
  {
   "cell_type": "markdown",
   "id": "663fa645",
   "metadata": {
    "slideshow": {
     "slide_type": "subslide"
    }
   },
   "source": [
    "### Input feature: Atom-atom distances"
   ]
  },
  {
   "cell_type": "code",
   "execution_count": null,
   "id": "210eb275",
   "metadata": {},
   "outputs": [],
   "source": [
    "import os.path\n",
    "import mdtraj as md\n",
    "import numpy as np\n",
    "\n",
    "oname='aq15.input.atom_atom.npy'\n",
    "\n",
    "if os.path.isfile(oname):\n",
    "    print('output file exists already, skipping')\n",
    "else:\n",
    "    d=[]\n",
    "    ndata=8000\n",
    "    for n in range(ndata):\n",
    "        fname=f'aq15_pdbs/aq15.{n+1}.pdb'\n",
    "        if ((n+1)%1000==0): \n",
    "            print(f'reading: {fname}')\n",
    "    \n",
    "        pdb=md.load_pdb(fname)\n",
    "        calist=pdb.topology.select(\"name CA\")\n",
    "        \n",
    "        pairs=[]\n",
    "        for cai in calist:\n",
    "            for caj in calist:\n",
    "                pairs=np.append(pairs,[cai,caj])\n",
    "        pairs=np.reshape(pairs,(-1,2))\n",
    "        \n",
    "        distances=md.compute_distances(pdb,pairs)\n",
    "        d=np.append(d,distances)\n",
    "                                \n",
    "    data=np.reshape(d,(ndata,1,len(calist),-1))\n",
    "    np.save(oname,data)"
   ]
  },
  {
   "cell_type": "markdown",
   "id": "b9f34412",
   "metadata": {
    "slideshow": {
     "slide_type": "subslide"
    }
   },
   "source": [
    "## Setting up the Data Loader\n",
    "\n",
    "We are now ready to set up the data functions and classes for machine learning.\n",
    "\n",
    "We will use the following function to read two files (one for the target data and one for a set of input features) and generate merged data sets for training and validation."
   ]
  },
  {
   "cell_type": "code",
   "execution_count": null,
   "id": "c95502ee",
   "metadata": {},
   "outputs": [],
   "source": [
    "import random\n",
    "import numpy as np\n",
    "import torch\n",
    "\n",
    "class Dataset(torch.utils.data.Dataset):\n",
    "# optional parameters allow target data to be shifted and scaled\n",
    "    def __init__(self, target, data, offset=0.0, scale=1.0):\n",
    "        self.label = (target[:,1].astype(np.float32)+offset)/scale\n",
    "# assumes that data is prepared in correct shape beforehand\n",
    "        self.input = data\n",
    "    def __len__(self):\n",
    "        return self.label.shape[0]\n",
    "    def __getitem__(self, index):\n",
    "        return self.input[index].astype(np.float32), self.label[index]\n",
    "    \n",
    "def randomsplitdata(targetfn,inputfn,training_fraction):\n",
    "    targetdata=np.loadtxt(targetfn)    \n",
    "    inputdata=np.load(inputfn)\n",
    "    \n",
    "    flag=np.zeros(len(targetdata),dtype=int)\n",
    "    while np.average(flag)<training_fraction:\n",
    "        flag[random.randint(0,len(targetdata)-1)]=1\n",
    "    \n",
    "    target_training=targetdata[np.nonzero(flag)].copy()\n",
    "    target_validation=targetdata[np.nonzero(1-flag)].copy()\n",
    "    input_training=inputdata[np.nonzero(flag)].copy()\n",
    "    input_validation=inputdata[np.nonzero(1-flag)].copy()\n",
    "        \n",
    "    return target_training,input_training,target_validation,input_validation\n",
    "\n",
    "# use optional parameters to shift and scale data if used above for Dataset class\n",
    "def get_loaders(targetfn,inputfn,training_fraction,batch_size=64,offset=0.0,scale=1.0):\n",
    "    [ttarget,tinput,vtarget,vinput]=randomsplitdata(targetfn,inputfn,training_fraction) \n",
    "    train_set=Dataset(ttarget,tinput,offset=offset,scale=scale)\n",
    "    validation_set=Dataset(vtarget,vinput,offset=offset,scale=scale)\n",
    "    train_loader = torch.utils.data.DataLoader(train_set, batch_size=batch_size, shuffle=True)\n",
    "    validation_loader = torch.utils.data.DataLoader(validation_set, batch_size=1)\n",
    "    return train_loader,validation_loader\n"
   ]
  },
  {
   "cell_type": "markdown",
   "id": "88e388dc",
   "metadata": {
    "slideshow": {
     "slide_type": "subslide"
    }
   },
   "source": [
    "## Setting up Training Functions\n",
    "\n",
    "As before we set up training functions."
   ]
  },
  {
   "cell_type": "code",
   "execution_count": null,
   "id": "5a2f2c0e",
   "metadata": {},
   "outputs": [],
   "source": [
    "import numpy as np\n",
    "\n",
    "# klfactor allows KL divergence to be used as additional loss\n",
    "# use factors of 0.01-0.3 to obtain useful results\n",
    "def train(m,loss_fn,opt,loader,klfactor=0.0):\n",
    "    klloss=nn.KLDivLoss(reduction='batchmean')\n",
    "    \n",
    "    loss_sum = 0.0\n",
    "    for input, label in loader:\n",
    "        opt.zero_grad()\n",
    "        \n",
    "        output = m(input)              # this is where the model is evaluated\n",
    "        output = torch.flatten(output)\n",
    "        \n",
    "        loss = loss_fn(output, label)  # this is where the model is evaluated\n",
    "        loss_sum += loss.item()        # accumulate MSE loss\n",
    "        \n",
    "        if (klfactor>0):               # additional KL loss if requested\n",
    "            loss=loss+klfactor*klloss(output,label)                         \n",
    "                \n",
    "        loss.backward()                # this calculates the back-propagated loss\n",
    "        opt.step()                     # this carries out the gradient descent\n",
    "    \n",
    "    return loss_sum / len(loader)      # Note: KL loss is not included in reported loss\n",
    "\n",
    "def validate(m,loss_fn,loader):\n",
    "    loss_sum = 0.0\n",
    "    for input, label in loader:\n",
    "        with torch.no_grad():\n",
    "            output = m(input)\n",
    "        \n",
    "        output=torch.flatten(output)\n",
    "        loss = loss_fn(output, label)\n",
    "        loss_sum += loss.item()\n",
    "    return loss_sum / len(loader)\n",
    "\n",
    "# klfactor allows KL divergence to be used as additional loss\n",
    "# use factors of 0.01-0.3 to obtain useful results\n",
    "def do_training(m,opt,tloader,vloader,epochs,output,klfactor=0.0):\n",
    "    # use MSE loss fucntion\n",
    "    loss_fn = nn.MSELoss()\n",
    "    \n",
    "    tloss=np.zeros(epochs)\n",
    "    vloss=np.zeros(epochs)\n",
    "\n",
    "    for i in range(epochs):\n",
    "        tloss[i] = train(m,loss_fn,opt,tloader,klfactor=klfactor)\n",
    "        vloss[i] = validate(m,loss_fn,vloader)\n",
    "        if (output):\n",
    "            print (i, tloss[i], vloss[i])\n",
    "            \n",
    "    return tloss,vloss\n"
   ]
  },
  {
   "cell_type": "markdown",
   "id": "03f92961",
   "metadata": {
    "slideshow": {
     "slide_type": "subslide"
    }
   },
   "source": [
    "We also set up plotting functions, including a calculation of linear regression for the analysis of results later."
   ]
  },
  {
   "cell_type": "code",
   "execution_count": null,
   "id": "d4252c5f",
   "metadata": {},
   "outputs": [],
   "source": [
    "import matplotlib.pyplot as plt\n",
    "import numpy as np\n",
    "from sklearn.linear_model import LinearRegression\n",
    "\n",
    "def plot_progress(epochs,tloss,vloss):\n",
    "    epoch_index=np.arange(epochs)\n",
    "    plt.plot(epoch_index,np.log(tloss),color='r',label='training')\n",
    "    plt.plot(epoch_index,np.log(vloss),color='b',label='validation')\n",
    "    plt.xlabel('epoch')\n",
    "    plt.ylabel('loss')\n",
    "    plt.legend()\n",
    "    plt.show()\n",
    "\n",
    "# specify offset/scale if used with DataSet\n",
    "def plot_validation(loader,m,offset=0.0,scale=1.0):    \n",
    "    target=[]\n",
    "    prediction=[]\n",
    "\n",
    "    for input, label in loader:        \n",
    "        with torch.no_grad():\n",
    "            output = m(input)\n",
    "        output=torch.flatten(output)        \n",
    "        target=np.append(target,label)\n",
    "        prediction=np.append(prediction,output)\n",
    "        \n",
    "    target=target*scale-offset\n",
    "    prediction=prediction*scale-offset\n",
    "    \n",
    "    minval=np.min(target)\n",
    "    maxval=np.max(target)\n",
    "    lin=np.linspace(minval-0.1*(maxval-minval),maxval+0.1*(maxval-minval),num=100)\n",
    "    \n",
    "    plt.plot(lin,lin,'k',linewidth=2)\n",
    "    plt.plot(target,prediction,'ro',markersize=2)\n",
    "    plt.xlabel('target')\n",
    "    plt.ylabel('prediction')\n",
    "    plt.show()\n",
    "    \n",
    "    x=target.reshape((-1,1))\n",
    "    y=prediction\n",
    "    \n",
    "    linmodel=LinearRegression().fit(x,y)\n",
    "    \n",
    "    r2=linmodel.score(x,y)\n",
    "    mval=linmodel.coef_[0]\n",
    "    nval=linmodel.intercept_\n",
    "    print(f'r2: {r2} slope: {mval} intercept: {nval}')    \n",
    "    "
   ]
  },
  {
   "cell_type": "markdown",
   "id": "3a3a8118",
   "metadata": {
    "slideshow": {
     "slide_type": "subslide"
    }
   },
   "source": [
    "## Building Models\n",
    "\n",
    "We now define models with convolutional layers."
   ]
  },
  {
   "cell_type": "code",
   "execution_count": null,
   "id": "006fd314",
   "metadata": {},
   "outputs": [],
   "source": [
    "import numpy as np\n",
    "import torch\n",
    "import torch.nn as nn\n",
    "import torch.nn.functional as F\n",
    "\n",
    "class ModelFC(nn.Module):\n",
    "    def __init__(self):\n",
    "        super(ModelFC, self).__init__()\n",
    "        # define layers to be used\n",
    "        self.fc_1 = nn.Linear(45,128)       \n",
    "        self.fc_2 = nn.Linear(128, 64)         \n",
    "        self.fc_f = nn.Linear(64, 1)           \n",
    "    def forward(self, x):\n",
    "        # back-propagation is done automatically\n",
    "        x = x.reshape(len(x),-1)\n",
    "        #print(x.size())\n",
    "        x = F.relu(self.fc_1(x))\n",
    "        x = F.relu(self.fc_2(x)) \n",
    "        x = self.fc_f(x)         \n",
    "        return x\n",
    "    def initialize_weights(self, m):\n",
    "        # initialization of weights, setting them to zero is not good\n",
    "        if hasattr(m, 'weight') and m.weight.dim() > 1:\n",
    "            nn.init.xavier_uniform_(m.weight.data)\n",
    "\n",
    "class Model1D(nn.Module):\n",
    "    def __init__(self):\n",
    "        super(Model1D, self).__init__()\n",
    "        # define layers to be used\n",
    "        self.conv_1 = nn.Conv1d(in_channels=1, out_channels=16, kernel_size=3, padding=1)\n",
    "        self.conv_2 = nn.Conv1d(in_channels=16, out_channels=16, kernel_size=3, padding=1)\n",
    "        self.conv_f = nn.Conv1d(in_channels=16, out_channels=16, kernel_size=3, padding=1)\n",
    "        # dimensional flattening\n",
    "        self.flatten = nn.Flatten(start_dim=1) \n",
    "        # fully connected layers\n",
    "        self.fc_1 = nn.Linear(240,128)       \n",
    "        self.fc_2 = nn.Linear(128, 64)         \n",
    "        self.fc_f = nn.Linear(64, 1)           \n",
    "    def forward(self, x):\n",
    "        # back-propagation is done automatically\n",
    "        x = self.conv_1(x)\n",
    "        x = F.relu(self.conv_2(x))\n",
    "        x = F.relu(self.conv_f(x))\n",
    "        x = self.flatten(x)\n",
    "        #print(x.size())\n",
    "        x = F.relu(self.fc_1(x))\n",
    "        x = F.relu(self.fc_2(x)) \n",
    "        x = self.fc_f(x)         \n",
    "        return x\n",
    "    def initialize_weights(self, m):\n",
    "        # initialization of weights, setting them to zero is not good\n",
    "        if hasattr(m, 'weight') and m.weight.dim() > 1:\n",
    "            nn.init.xavier_uniform_(m.weight.data)\n",
    "            \n",
    "class Model1D3(nn.Module):\n",
    "    def __init__(self):\n",
    "        super(Model1D3, self).__init__()\n",
    "        # define layers to be used\n",
    "        self.conv_1 = nn.Conv1d(in_channels=3, out_channels=16, kernel_size=3, padding=1)\n",
    "        self.conv_2 = nn.Conv1d(in_channels=16, out_channels=16, kernel_size=3, padding=1)\n",
    "        self.conv_f = nn.Conv1d(in_channels=16, out_channels=16, kernel_size=3, padding=1)\n",
    "        # dimensional flattening\n",
    "        self.flatten = nn.Flatten(start_dim=1) \n",
    "        # fully connected layers\n",
    "        self.fc_1 = nn.Linear(240,128)       \n",
    "        self.fc_2 = nn.Linear(128, 64)         \n",
    "        self.fc_f = nn.Linear(64, 1)           \n",
    "    def forward(self, x):\n",
    "        # back-propagation is done automatically\n",
    "        x = self.conv_1(x)\n",
    "        x = F.relu(self.conv_2(x))\n",
    "        x = F.relu(self.conv_f(x))\n",
    "        x = self.flatten(x)\n",
    "        #print(x.size())\n",
    "        x = F.relu(self.fc_1(x))\n",
    "        x = F.relu(self.fc_2(x)) \n",
    "        x = self.fc_f(x)         \n",
    "        return x\n",
    "    def initialize_weights(self, m):\n",
    "        # initialization of weights, setting them to zero is not good\n",
    "        if hasattr(m, 'weight') and m.weight.dim() > 1:\n",
    "            nn.init.xavier_uniform_(m.weight.data)\n",
    "            \n",
    "class Model2D(nn.Module):\n",
    "    def __init__(self):\n",
    "        super(Model2D, self).__init__()\n",
    "        # define layers to be used\n",
    "        self.conv_1 = nn.Conv2d(in_channels=1, out_channels=16, kernel_size=3, padding=1)\n",
    "        self.conv_2 = nn.Conv2d(in_channels=16, out_channels=16, kernel_size=3, padding=1)\n",
    "        self.conv_f = nn.Conv2d(in_channels=16, out_channels=16, kernel_size=3, padding=1)\n",
    "        # dimensional flattening\n",
    "        self.flatten = nn.Flatten(start_dim=1) \n",
    "        # fully connected layers\n",
    "        self.fc_1 = nn.Linear(3600,128)       \n",
    "        self.fc_2 = nn.Linear(128, 64)         \n",
    "        self.fc_f = nn.Linear(64, 1)           \n",
    "    def forward(self, x):\n",
    "        # back-propagation is done automatically\n",
    "        x = self.conv_1(x)\n",
    "        x = F.relu(self.conv_2(x))\n",
    "        x = F.relu(self.conv_f(x))\n",
    "        x = self.flatten(x)\n",
    "        #print(x.size())\n",
    "        x = F.relu(self.fc_1(x))\n",
    "        x = F.relu(self.fc_2(x)) \n",
    "        x = self.fc_f(x)         \n",
    "        return x\n",
    "    def initialize_weights(self, m):\n",
    "        # initialization of weights, setting them to zero is not good\n",
    "        if hasattr(m, 'weight') and m.weight.dim() > 1:\n",
    "            nn.init.xavier_uniform_(m.weight.data)\n"
   ]
  },
  {
   "cell_type": "markdown",
   "id": "7d42ea75",
   "metadata": {
    "slideshow": {
     "slide_type": "subslide"
    }
   },
   "source": [
    "## Training models\n",
    "\n",
    "We will start training models to predict the **radius of gyration**. Let's begin with a simple, fully-connected model and use XYZ coordinates as the input.\n",
    "\n",
    "We will use the class `ModelFC` that has been set up with the correct dimensions to work with XYZ data for this data set. For other input data, it would need to be adjusted. "
   ]
  },
  {
   "cell_type": "code",
   "execution_count": null,
   "id": "453fabec",
   "metadata": {},
   "outputs": [],
   "source": [
    "[tloader,vloader]=get_loaders('aq15.rgyr.dat','aq15.input.xyz.npy',0.8) \n",
    "\n",
    "m = ModelFC()\n",
    "m.apply(m.initialize_weights)\n",
    "m.zero_grad()\n",
    "\n",
    "opt = torch.optim.Adam(m.parameters(), lr=0.001, weight_decay=0.0000001)\n",
    "\n",
    "epochs=30\n",
    "showoutput=True\n",
    "\n",
    "[tloss,vloss]=do_training(m,opt,tloader,vloader,epochs,showoutput)\n",
    "\n",
    "plot_progress(epochs,tloss,vloss)\n",
    "plot_validation(vloader,m)"
   ]
  },
  {
   "cell_type": "markdown",
   "id": "340d039a",
   "metadata": {
    "slideshow": {
     "slide_type": "subslide"
    }
   },
   "source": [
    "That's pretty good. Now let's try with a convolutional network. \n",
    "\n",
    "We use the `Model1D3` class that uses 1D convolutions for data with a depth of 3. The data is arranged as 1D data because there is only one set of coordinates for each $C\\alpha$ atom and the x/y/z coordinate values are used as the depth layers (like RGB values for an image).\n",
    "\n",
    "The data could be arranged differently, for example as (N,3) 2D data with an initial layer depth of 1, or as N*3 1D data also with an initial layer depth of 1."
   ]
  },
  {
   "cell_type": "code",
   "execution_count": null,
   "id": "d519942d",
   "metadata": {},
   "outputs": [],
   "source": [
    "[tloader,vloader]=get_loaders('aq15.rgyr.dat','aq15.input.xyz.npy',0.8) \n",
    "\n",
    "m = Model1D3()\n",
    "m.apply(m.initialize_weights)\n",
    "m.zero_grad()\n",
    "\n",
    "opt = torch.optim.Adam(m.parameters(), lr=0.001, weight_decay=0.0000001)\n",
    "\n",
    "epochs=30\n",
    "showoutput=True\n",
    "\n",
    "[tloss,vloss]=do_training(m,opt,tloader,vloader,epochs,showoutput)\n",
    "\n",
    "plot_progress(epochs,tloss,vloss)\n",
    "plot_validation(vloader,m)"
   ]
  },
  {
   "cell_type": "markdown",
   "id": "bc09fb01",
   "metadata": {
    "slideshow": {
     "slide_type": "subslide"
    }
   },
   "source": [
    "Probably you will find that this performs better.\n",
    "\n",
    "Let's explore using different input data features.\n",
    "\n",
    "We will try next using the distance from the center. We will use `Model1D` which calculates 1D covolutions as above but for input data that has a depth of 1 (instead of 3 for the XYZ data)."
   ]
  },
  {
   "cell_type": "code",
   "execution_count": null,
   "id": "2c204336",
   "metadata": {},
   "outputs": [],
   "source": [
    "[tloader,vloader]=get_loaders('aq15.rgyr.dat','aq15.input.distance_from_center.npy',0.8) \n",
    "\n",
    "m = Model1D()\n",
    "m.apply(m.initialize_weights)\n",
    "m.zero_grad()\n",
    "\n",
    "opt = torch.optim.Adam(m.parameters(), lr=0.001, weight_decay=0.0000001)\n",
    "\n",
    "epochs=30\n",
    "showoutput=True\n",
    "\n",
    "[tloss,vloss]=do_training(m,opt,tloader,vloader,epochs,showoutput)\n",
    "\n",
    "plot_progress(epochs,tloss,vloss)\n",
    "plot_validation(vloader,m)"
   ]
  },
  {
   "cell_type": "markdown",
   "id": "0b69c866",
   "metadata": {
    "slideshow": {
     "slide_type": "subslide"
    }
   },
   "source": [
    "This should look even better.\n",
    "\n",
    "Finally, let's use the intramolecular distance matrix.\n",
    "\n",
    "For this we use `Model2D` that used 2D convolutions for input data that is 2D with a depth of 1:"
   ]
  },
  {
   "cell_type": "code",
   "execution_count": null,
   "id": "d20d16d6",
   "metadata": {},
   "outputs": [],
   "source": [
    "[tloader,vloader]=get_loaders('aq15.rgyr.dat','aq15.input.atom_atom.npy',0.8) \n",
    "\n",
    "m = Model2D()\n",
    "m.apply(m.initialize_weights)\n",
    "m.zero_grad()\n",
    "\n",
    "opt = torch.optim.Adam(m.parameters(), lr=0.001, weight_decay=0.0000001)\n",
    "\n",
    "epochs=30\n",
    "showoutput=True\n",
    "\n",
    "[tloss,vloss]=do_training(m,opt,tloader,vloader,epochs,showoutput)\n",
    "\n",
    "plot_progress(epochs,tloss,vloss)\n",
    "plot_validation(vloader,m)"
   ]
  },
  {
   "cell_type": "markdown",
   "id": "696fca9c",
   "metadata": {
    "slideshow": {
     "slide_type": "subslide"
    }
   },
   "source": [
    "This should also work well, but training the model was probably a bit slower since the model is larger and more data has to be used for training. \n",
    "\n",
    "TODO: Based on the loss curves, when should have stopped the training?\n",
    "\n",
    "TODO: Discuss why different input features give different results: \n",
    "* Why are the results with the XYZ coordinates not as good?\n",
    "* Why can you fit a very good model with just the distances from the center?"
   ]
  },
  {
   "cell_type": "markdown",
   "id": "6b9cbf49",
   "metadata": {
    "slideshow": {
     "slide_type": "subslide"
    }
   },
   "source": [
    "## Training models to represent more complex properties\n",
    "\n",
    "Now that we have some initial experience with convolutational networks, we will train models to predict more interesting features where a ML model would be of greater practical value. \n",
    "\n",
    "We will focus on **electrostatic solvation free energies**. An accurate calculation requires solving the Poisson equation which is numerically demanding and a ML model would offer practical advantages. \n",
    "\n",
    "We can reuse the model classes from above since only the target data is different.\n",
    "\n",
    "Let's start with using the xyz coordinates again as input:"
   ]
  },
  {
   "cell_type": "code",
   "execution_count": null,
   "id": "646d7aa1",
   "metadata": {},
   "outputs": [],
   "source": [
    "[tloader,vloader]=get_loaders('aq15.pb.dat','aq15.input.xyz.npy',0.8) \n",
    "\n",
    "m = Model1D3()\n",
    "m.apply(m.initialize_weights)\n",
    "m.zero_grad()\n",
    "\n",
    "opt = torch.optim.Adam(m.parameters(), lr=0.001, weight_decay=0.0000001)\n",
    "\n",
    "epochs=30\n",
    "showoutput=True\n",
    "\n",
    "[tloss,vloss]=do_training(m,opt,tloader,vloader,epochs,showoutput)\n",
    "\n",
    "plot_progress(epochs,tloss,vloss)\n",
    "plot_validation(vloader,m)"
   ]
  },
  {
   "cell_type": "markdown",
   "id": "324abb87",
   "metadata": {
    "slideshow": {
     "slide_type": "subslide"
    }
   },
   "source": [
    "Probably you are disappointed by the poor performance. But how bad is it?\n",
    "\n",
    "Let's compare with what can be achieved with a highly optimized Generalized Born model for the rapid calculation of approximate electrostatic free energies based on physics. "
   ]
  },
  {
   "cell_type": "code",
   "execution_count": null,
   "id": "0d80c820",
   "metadata": {},
   "outputs": [],
   "source": [
    "pbdata=np.loadtxt('aq15.pb.dat')\n",
    "pbdata=pbdata[:,1]\n",
    "\n",
    "gbdata=np.loadtxt('aq15.gb.dat')\n",
    "gbdata=gbdata[:,1]          \n",
    "    \n",
    "minval=np.min(pbdata)\n",
    "maxval=np.max(pbdata)\n",
    "lin=np.linspace(minval-0.1*(maxval-minval),maxval+0.1*(maxval-minval),num=100)\n",
    "    \n",
    "plt.plot(lin,lin,'k',linewidth=2)\n",
    "plt.plot(pbdata,gbdata,'ro',markersize=2)\n",
    "plt.xlabel('PB')\n",
    "plt.ylabel('GB')\n",
    "plt.show()\n",
    "    \n",
    "x=pbdata.reshape((-1,1))\n",
    "y=gbdata\n",
    "    \n",
    "linmodel=LinearRegression().fit(x,y)\n",
    "    \n",
    "r2=linmodel.score(x,y)\n",
    "mval=linmodel.coef_[0]\n",
    "nval=linmodel.intercept_\n",
    "print(f'r2: {r2} slope: {mval} intercept: {nval}')    "
   ]
  },
  {
   "cell_type": "markdown",
   "id": "9ceb1ccc",
   "metadata": {
    "slideshow": {
     "slide_type": "subslide"
    }
   },
   "source": [
    "As you can see, the GB model performs better, but it is not perfect.\n",
    "\n",
    "The GB model is our baseline here. Can we reach the same performance (or do better?) with a ML model?"
   ]
  },
  {
   "cell_type": "markdown",
   "id": "b47a27cd",
   "metadata": {
    "slideshow": {
     "slide_type": "subslide"
    }
   },
   "source": [
    "## Tuning the model\n",
    "\n",
    "To improve the model, we will try a number of different things.\n",
    "\n",
    "First, for numerical reasons, ML predictions work best for (output) data values around 1.\n",
    "\n",
    "Let's see if we can improve the model by shifting and scaling the data. This does not make any practical difference, because we can simply reverse the scaling and shift after the final output is obtained."
   ]
  },
  {
   "cell_type": "code",
   "execution_count": null,
   "id": "8965dfa8",
   "metadata": {},
   "outputs": [],
   "source": [
    "[tloader,vloader]=get_loaders('aq15.pb.dat','aq15.input.xyz.npy',0.8,offset=200,scale=100) \n",
    "\n",
    "m = Model1D3()\n",
    "m.apply(m.initialize_weights)\n",
    "m.zero_grad()\n",
    "\n",
    "opt = torch.optim.Adam(m.parameters(), lr=0.001, weight_decay=0.0000001)\n",
    "\n",
    "epochs=30\n",
    "showoutput=True\n",
    "\n",
    "[tloss,vloss]=do_training(m,opt,tloader,vloader,epochs,showoutput)\n",
    "\n",
    "plot_progress(epochs,tloss,vloss)\n",
    "plot_validation(vloader,m,offset=200,scale=100)"
   ]
  },
  {
   "cell_type": "markdown",
   "id": "7dc01261",
   "metadata": {
    "slideshow": {
     "slide_type": "subslide"
    }
   },
   "source": [
    "This should make a (small) difference. But the performance is still not very good. \n",
    "\n",
    "Can we improve the prediction by using different input data?\n",
    "\n",
    "TODO: Try training the model again using distances from the center. Remember to change the model class."
   ]
  },
  {
   "cell_type": "code",
   "execution_count": null,
   "id": "16cfffb6",
   "metadata": {},
   "outputs": [],
   "source": []
  },
  {
   "cell_type": "markdown",
   "id": "ba7984bb",
   "metadata": {
    "slideshow": {
     "slide_type": "subslide"
    }
   },
   "source": [
    "TODO: What about using the intramolecular distances as input? Again, you will need a different Model class."
   ]
  },
  {
   "cell_type": "code",
   "execution_count": null,
   "id": "68b74c34",
   "metadata": {},
   "outputs": [],
   "source": []
  },
  {
   "cell_type": "markdown",
   "id": "b4bc15a8",
   "metadata": {
    "slideshow": {
     "slide_type": "subslide"
    }
   },
   "source": [
    "The correlation probably improved when using the atom-atom distances, but there is a practical issue: The calculation of an intra-molecular distance is computationally a bit expensive because we have to evaluate all pairwise distances, which is an O(N*N) operation. If we want to have a very fast model, it would be better to use input features that can be calculated faster.\n",
    "\n",
    "TODO: Reconsider using XYZ coordinates, but think about how we could change the coordinates to make training more successful. Think about centering and/or rotating coordinates with respect to a reference. For this you will need to generate new input data and then rerun the model training. Hint: Check the `mdtraj` functions for centering and superposing a molecule!"
   ]
  },
  {
   "cell_type": "code",
   "execution_count": null,
   "id": "d50f68f6",
   "metadata": {},
   "outputs": [],
   "source": []
  },
  {
   "cell_type": "markdown",
   "id": "5a854b10",
   "metadata": {
    "slideshow": {
     "slide_type": "subslide"
    }
   },
   "source": [
    "Depending on the results you get decide whether to continue with the atom-atom distances or the updated XYZ coordinates."
   ]
  },
  {
   "cell_type": "markdown",
   "id": "358bc8b9",
   "metadata": {
    "slideshow": {
     "slide_type": "subslide"
    }
   },
   "source": [
    "## What is a good model? Improving the loss.\n",
    "\n",
    "In all cases above you should notice that predictions are biases at the most negative solvation free energies. As a result, the slope in all of the predictions is less than 1.\n",
    "\n",
    "One way to address this issue is to change the loss function. So far we have only used MSE (mean-squared error) as the loss. We can add a second loss function based on [Kullback-Leibler divergence](https://en.wikipedia.org/wiki/Kullback%E2%80%93Leibler_divergence) which compares the distributions of input and output values. \n",
    "\n",
    "The KL loss function is already included in the training calculation above but it needs to be activated by giving it a non-zero weight.\n",
    "\n",
    "The following example below shows how to use for the XYZ input data set:"
   ]
  },
  {
   "cell_type": "code",
   "execution_count": null,
   "id": "6491270b",
   "metadata": {},
   "outputs": [],
   "source": [
    "[tloader,vloader]=get_loaders('aq15.pb.dat','aq15.input.xyz.npy',0.8,offset=200,scale=100) \n",
    "\n",
    "m = Model1D3()\n",
    "m.apply(m.initialize_weights)\n",
    "m.zero_grad()\n",
    "\n",
    "opt = torch.optim.Adam(m.parameters(), lr=0.001, weight_decay=0.0000001)\n",
    "\n",
    "epochs=30\n",
    "showoutput=True\n",
    "\n",
    "[tloss,vloss]=do_training(m,opt,tloader,vloader,epochs,showoutput,klfactor=0.4)\n",
    "\n",
    "plot_progress(epochs,tloss,vloss)\n",
    "plot_validation(vloader,m,offset=200,scale=100)"
   ]
  },
  {
   "cell_type": "markdown",
   "id": "b17036f4",
   "metadata": {},
   "source": [
    "You should find that the slope improves but the MSE loss (that is printed out) may be worse, especially if you use a large weight factor for the KL loss. One consequence is that will find that the output data has an offset, but that could be corrected for by applying a constant offset at the end.\n",
    "\n",
    "TODO: Experiment to find good values that improve the slope but still give a good model with low MSE and high R2 values."
   ]
  },
  {
   "cell_type": "markdown",
   "id": "621f1550",
   "metadata": {
    "slideshow": {
     "slide_type": "subslide"
    }
   },
   "source": [
    "## Going deeper\n",
    "\n",
    "The next step for improving the model is to try a deeper model with more (convolutional) layers and increased depths for each layer. \n",
    "\n",
    "TODO: Design a deep version of either Model1D3 (used with updated XYZ coordinates) or Model2D (used with atom-atom distance) and retrain using your new model. \n",
    "\n",
    "How much better is your model? Does it approach the performance of the GB model yet?"
   ]
  },
  {
   "cell_type": "code",
   "execution_count": null,
   "id": "d9f657d2",
   "metadata": {},
   "outputs": [],
   "source": []
  },
  {
   "cell_type": "markdown",
   "id": "6e5209bc",
   "metadata": {
    "slideshow": {
     "slide_type": "subslide"
    }
   },
   "source": [
    "## Increasing details\n",
    "\n",
    "Probably you are now approaching the maximal accuracy in predicting solvation free energies with a neural network based on the given input data (i.e. $C\\alpha$ coordinates). \n",
    "\n",
    "It may be possible to do a little bit better with a different type of model (i.e. a graph neural network) but the more promising direction for further improvements is to increase the detail in the input data. \n",
    "\n",
    "Only using $C\\alpha$ coordinates neglects the side chains and while the model may in principle be able to learn indirectly where side chains are located, there is significant uncertainty associated with that, especially for extended chains. \n",
    "\n",
    "TODO (optional): Let's see if we can improve the model further if we include additional atoms. To do that you will need to generate new data, for example XYZ coordinates for all heavy atoms, and then retrain the best model so far to see how much the performance can be improved."
   ]
  },
  {
   "cell_type": "code",
   "execution_count": null,
   "id": "b152791d",
   "metadata": {},
   "outputs": [],
   "source": []
  },
  {
   "cell_type": "markdown",
   "id": "5b749274",
   "metadata": {
    "slideshow": {
     "slide_type": "subslide"
    }
   },
   "source": [
    "## Reusing models\n",
    "\n",
    "You should now have a well-trained model that predicts solvation free energies reasonably well. In this model, the convolutional layers encode the structural information, while the linear layers are trained to predict the desired output (i.e. the electrostatic solvation free energies or radii of gyration at the beginning).\n",
    "\n",
    "Let's see if we can re-use the convolutional part and just re-train the output layers to target different properties.\n",
    "\n",
    "Assuming that your last model is stored in `m`, let's begin by 'saving the model' (i.e. the optimized weights):"
   ]
  },
  {
   "cell_type": "code",
   "execution_count": null,
   "id": "169be319",
   "metadata": {},
   "outputs": [],
   "source": [
    "torch.save(m.state_dict(),'greatmodel.dict')"
   ]
  },
  {
   "cell_type": "markdown",
   "id": "fcefd4ff",
   "metadata": {
    "slideshow": {
     "slide_type": "subslide"
    }
   },
   "source": [
    "Then we will create an instance of a new model (using the same Model class), read the saved model, turn off optimization for the convolutational layers and retrain it to target SASA (solvent-accessible surface area) values. "
   ]
  },
  {
   "cell_type": "code",
   "execution_count": null,
   "id": "68893b56",
   "metadata": {},
   "outputs": [],
   "source": [
    "# this assumes that you defined a deep 1D-model for XYZ coordinates that were are reusing\n",
    "# adjust if your Model class is different\n",
    "\n",
    "msasa = Model1D3deep()\n",
    "msasa.load_state_dict(torch.load('greatmodel.dict'))\n",
    "\n",
    "# turn off optimization for all layers\n",
    "for param in msasa.parameters():\n",
    "    param.requires_grad = False\n",
    "\n",
    "# turn optimization back on for linear layers\n",
    "for param in msasa.fc_1.parameters():\n",
    "    param.requires_grad = True\n",
    "for param in msasa.fc_2.parameters():\n",
    "    param.requires_grad = True\n",
    "for param in msasa.fc_f.parameters():\n",
    "    param.requires_grad = True\n",
    "\n",
    "# tell the optimizer to only optimize linear layers (where requires_grad = True)\n",
    "optsasa = torch.optim.Adam(filter(lambda p: p.requires_grad, msasa.parameters()), lr=0.001, weight_decay=0.0000001)\n",
    "\n",
    "# now load SASA data, offset/scale is not needed and train\n",
    "[tloader,vloader]=get_loaders('aq15.sasa.dat','aq15.input.xyz.npy',0.8) \n",
    "\n",
    "epochs=30\n",
    "showoutput=True\n",
    "\n",
    "# make sure to use 'msasa' and 'optsasa'\n",
    "[tloss,vloss]=do_training(msasa,optsasa,tloader,vloader,epochs,showoutput)\n",
    "\n",
    "plot_progress(epochs,tloss,vloss)\n",
    "plot_validation(vloader,m)"
   ]
  },
  {
   "cell_type": "markdown",
   "id": "1a96c9ad",
   "metadata": {
    "slideshow": {
     "slide_type": "subslide"
    }
   },
   "source": [
    "TODO: For comparison, also retrain another model as before, but without reusing any of the pretrained weights.\n",
    "\n",
    "Does it make a big difference?\n",
    "\n",
    "TODO (optional): `mdtraj` has a function for calculating SASA (shake_rupley) that uses a different algorithm than what was used for the SASA values provided in this exercise. How does the the error in the ML predictions compare to the differences between the provided and values calculated via `mdtraj`?"
   ]
  },
  {
   "cell_type": "code",
   "execution_count": null,
   "id": "6cf5fe48",
   "metadata": {},
   "outputs": [],
   "source": []
  },
  {
   "cell_type": "markdown",
   "id": "7058bf4d",
   "metadata": {},
   "source": [
    "## Final thoughts\n",
    "\n",
    "TODO: The models you have trained probably work fairly well by now and you could easily train new models for new properties, such as other kinds of energies, moments of inertia, rotational diffusion etc. However, there are serious limitations with the approach so far in terms of transferability. Discuss the following questions:\n",
    "\n",
    "* What practical applications could you imagine with the model(s) developed so far?\n",
    "* In what way is transferability to other applications limited?\n",
    "* How could transferability issues be overcome?"
   ]
  }
 ],
 "metadata": {
  "kernelspec": {
   "display_name": "Python 3 (ipykernel)",
   "language": "python",
   "name": "python3"
  },
  "language_info": {
   "codemirror_mode": {
    "name": "ipython",
    "version": 3
   },
   "file_extension": ".py",
   "mimetype": "text/x-python",
   "name": "python",
   "nbconvert_exporter": "python",
   "pygments_lexer": "ipython3",
   "version": "3.9.9"
  }
 },
 "nbformat": 4,
 "nbformat_minor": 5
}
