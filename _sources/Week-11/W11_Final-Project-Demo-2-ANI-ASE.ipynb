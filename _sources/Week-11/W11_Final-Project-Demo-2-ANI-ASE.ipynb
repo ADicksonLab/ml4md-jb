{
 "cells": [
  {
   "cell_type": "markdown",
   "id": "a6adb648",
   "metadata": {},
   "source": [
    "# Week 11: Final Project Demo 2 (Anakin-ASE)"
   ]
  },
  {
   "cell_type": "markdown",
   "id": "c5437421",
   "metadata": {},
   "source": [
    "**This week we will run through an example of how to run a simulation using the ANI-1ccx forcefield using \"Atomic Simulation Environment\" (ASE).**\n",
    "\n",
    "This lab takes advantage of the [TorchANI](https://github.com/aiqm/torchani) package and largely follows their example found [here](https://github.com/aiqm/torchani/blob/master/examples/ase_interface.py).\n",
    "\n",
    "Check out the repository (linked above) and the [TorchANI paper](https://pubs.acs.org/doi/10.1021/acs.jcim.0c00451) for more information."
   ]
  },
  {
   "cell_type": "markdown",
   "id": "4d8119f1",
   "metadata": {},
   "source": [
    "---\n",
    "## Overview of today's demo\n",
    "\n",
    "As we learned last week, the ANI-1ccx forcefield is trained using high-level coupled-cluster quantum mechanical energies.  The ANI-1x dataset was trained on 5 million DFT calculations [dataset paper](https://www.ncbi.nlm.nih.gov/pmc/articles/PMC7195467/).  The ANI-1ccx dataset augmented these with 500,000 QM calculations using CCSD(T)/CBS, which has higher accuracy than DFT but also higher computational cost.  The resulting forcefield can accurately predict QM energies for systems including C, H, N and O elements.\n",
    "\n",
    "**Today we will give an example of how to run a system using the ANI-1ccx forcefield.** We do not have to train this ourselves (thankfully!) and we use a pre-trained PyTorch model from the `TorchANI` toolkit.  \n",
    "\n",
    "**We will use `ASE` instead of `OpenMM` to run the simulations.** There are a lot of differences between the ANI simulations and the classical simulations that we are used to.  The \"Atomic Simulation Environment\" package is better suited to run these kinds of simulations.\n",
    "\n",
    "**The steps to run these simulations are as follows:**\n",
    "\n",
    "1.  **Build an `xyz` file that describes your system.**  This is a remarkably simple text file that only contains the element name and the $x$, $y$ and $z$ coordinates of each atom.  There are many possible ways to build this.  Here we will use `rdkit` to generate some molecular conformers and some bash scripts to merge our `xyz` files together.  \n",
    "\n",
    "2.  **Read this into an ASE `atoms` object and prepare it for simulation.**. In this example we will modify the velocities to simulate a molecular collision.  There are many other possible numerical \"experiments\" that you can do!\n",
    "\n",
    "3.  **Run the simulation.** The data is saved in a `.traj` file.\n",
    "\n",
    "4.  **Visualize it!** We can visualize our trajectories directly in the notebook using `NGLViewer`.\n",
    "\n",
    "---\n",
    "\n",
    "## Notes of caution\n",
    "\n",
    "**Reactive transition states were not included in the training data!** If you, like in this notebook, are designing a simulation that is \"reactive\", i.e. if you want to observe a chemical reaction taking place, then keep in mind that the training data mostly focused on structures in and around the ground state.  Reactive energy barriers are not likely to be very accurate.  However, a study like this could be an important first step in examining the baseline predictions of ANI-1ccx.  If you want to continue work in this direction after the class project you should further augment the ANI-1ccx dataset with energy calculations **along the reactive pathways**.  \n",
    "\n",
    "**System size should be limited!**  While we can handle hundreds of thousands of atoms (or even millions!) in a classical MD simulation, you should be much more conservative here.  The current `TorchANI` implementation (that is available to the public) does not handle large systems well, particularly in terms of memory usage.  If you get a memory error then your system is likely too big.  **We have found in some tests that the limit is between 1000 and 2000 atoms on our hardware.**  That said, smaller systems can be more fun since it is easier to generate large data sets.  In the example below we use an 8-atom system."
   ]
  },
  {
   "cell_type": "markdown",
   "id": "f9700e61",
   "metadata": {},
   "source": [
    "---\n",
    "## Installing packages"
   ]
  },
  {
   "cell_type": "code",
   "execution_count": null,
   "id": "1c133606",
   "metadata": {},
   "outputs": [],
   "source": [
    "## Uncomment and run the lines below if you are on Colab\n",
    "#import sys\n",
    "#print(sys.version)\n",
    "#!wget https://repo.anaconda.com/miniconda/Miniconda3-py37_4.10.3-Linux-x86_64.sh\n",
    "#!bash Miniconda3-py*.sh -bfp /usr/local"
   ]
  },
  {
   "cell_type": "code",
   "execution_count": null,
   "id": "34ace9fc",
   "metadata": {},
   "outputs": [],
   "source": [
    "!conda config --set always_yes yes\n",
    "!conda install -c conda-forge ase rdkit nglview torchani"
   ]
  },
  {
   "cell_type": "markdown",
   "id": "d8e81d01",
   "metadata": {},
   "source": [
    "---\n",
    "## Building the xyz file\n",
    "\n",
    "Here we are going to make a simple system that has two hydrogen peroxide molecules that we will bash together at high speeds!  It is possible that we can see some water molecules form."
   ]
  },
  {
   "cell_type": "code",
   "execution_count": null,
   "id": "65b0ee7f",
   "metadata": {},
   "outputs": [],
   "source": [
    "from rdkit import Chem\n",
    "from rdkit.Chem import AllChem\n",
    "import nglview as nv\n",
    "import numpy as np"
   ]
  },
  {
   "cell_type": "markdown",
   "id": "560a158d",
   "metadata": {},
   "source": [
    "**First we make a hydrogen peroxide molecule using `rdkit`:**"
   ]
  },
  {
   "cell_type": "code",
   "execution_count": null,
   "id": "9bec11b1",
   "metadata": {},
   "outputs": [],
   "source": [
    "perox = Chem.AddHs(Chem.MolFromSmiles('OO'))\n",
    "perox"
   ]
  },
  {
   "cell_type": "markdown",
   "id": "ec631fc4",
   "metadata": {},
   "source": [
    "**Then we generate some \"conformers\" that contain 3D positions of each atom:**"
   ]
  },
  {
   "cell_type": "code",
   "execution_count": null,
   "id": "58513372",
   "metadata": {},
   "outputs": [],
   "source": [
    "_ = AllChem.EmbedMultipleConfs(perox, useExpTorsionAnglePrefs=True, useBasicKnowledge=True)"
   ]
  },
  {
   "cell_type": "code",
   "execution_count": null,
   "id": "0880cf32",
   "metadata": {},
   "outputs": [],
   "source": [
    "view = nv.show_rdkit(perox,conf_id=1)\n",
    "view"
   ]
  },
  {
   "cell_type": "code",
   "execution_count": null,
   "id": "e6a3e78d",
   "metadata": {},
   "outputs": [],
   "source": [
    "conf0 = perox.GetConformer(0)\n",
    "conf1 = perox.GetConformer(1)"
   ]
  },
  {
   "cell_type": "code",
   "execution_count": null,
   "id": "d8f03f60",
   "metadata": {},
   "outputs": [],
   "source": [
    "xyz0 = np.array([[conf0.GetAtomPosition(i).x, conf0.GetAtomPosition(i).y, conf0.GetAtomPosition(i).z] for i in range(4)])\n",
    "xyz1 = np.array([[conf1.GetAtomPosition(i).x, conf1.GetAtomPosition(i).y, conf1.GetAtomPosition(i).z] for i in range(4)])\n",
    "print(\"conf0: \")\n",
    "print(xyz0)\n",
    "\n",
    "print(\"conf1: \")\n",
    "print(xyz1)"
   ]
  },
  {
   "cell_type": "markdown",
   "id": "de45e2e4",
   "metadata": {},
   "source": [
    "**Now let's move all of the atoms in `conf1` to center them at `(10,0,0)`:**"
   ]
  },
  {
   "cell_type": "code",
   "execution_count": null,
   "id": "17b0ff71",
   "metadata": {},
   "outputs": [],
   "source": [
    "for i in range(4):\n",
    "    pos = conf1.GetAtomPosition(i)\n",
    "    pos.x += 10\n",
    "    conf1.SetAtomPosition(i,pos)\n",
    "    "
   ]
  },
  {
   "cell_type": "code",
   "execution_count": null,
   "id": "29aec509",
   "metadata": {},
   "outputs": [],
   "source": [
    "new_xyz1 = np.array([[conf1.GetAtomPosition(i).x, conf1.GetAtomPosition(i).y, conf1.GetAtomPosition(i).z] for i in range(4)])\n",
    "new_xyz1"
   ]
  },
  {
   "cell_type": "markdown",
   "id": "ead2c5bc",
   "metadata": {},
   "source": [
    "**Write both conformers to `xyz` files.**"
   ]
  },
  {
   "cell_type": "code",
   "execution_count": null,
   "id": "dd81ab61",
   "metadata": {},
   "outputs": [],
   "source": [
    "Chem.rdmolfiles.MolToXYZFile(perox,'perox0.xyz',confId=0)\n",
    "Chem.rdmolfiles.MolToXYZFile(perox,'perox1.xyz',confId=1)"
   ]
  },
  {
   "cell_type": "markdown",
   "id": "f7228c5f",
   "metadata": {},
   "source": [
    "**Combine both into one merged `xyz` file:**"
   ]
  },
  {
   "cell_type": "code",
   "execution_count": null,
   "id": "2c1d8f33",
   "metadata": {},
   "outputs": [],
   "source": [
    "! echo \"8\" > perox_2mol.xyz\n",
    "! echo \"\" >> perox_2mol.xyz\n",
    "! tail -n 4 perox0.xyz >> perox_2mol.xyz\n",
    "! tail -n 4 perox1.xyz >> perox_2mol.xyz"
   ]
  },
  {
   "cell_type": "markdown",
   "id": "afb72d4d",
   "metadata": {},
   "source": [
    "**Our combined xyz file looks like this:**"
   ]
  },
  {
   "cell_type": "code",
   "execution_count": null,
   "id": "530a7819",
   "metadata": {},
   "outputs": [],
   "source": [
    "! cat perox_2mol.xyz"
   ]
  },
  {
   "cell_type": "markdown",
   "id": "17f94b7f",
   "metadata": {},
   "source": [
    "## Create ASE atoms object and prepare it for simulation"
   ]
  },
  {
   "cell_type": "code",
   "execution_count": null,
   "id": "d3320f59",
   "metadata": {},
   "outputs": [],
   "source": [
    "import torchani\n",
    "\n",
    "from ase.md.langevin import Langevin\n",
    "from ase.md.verlet import VelocityVerlet\n",
    "from ase.md.velocitydistribution import MaxwellBoltzmannDistribution\n",
    "from ase.optimize import BFGS\n",
    "from ase import units\n",
    "from ase import io\n",
    "from ase.io import read, write\n",
    "from ase import Atoms\n",
    "from ase.io.trajectory import Trajectory"
   ]
  },
  {
   "cell_type": "markdown",
   "id": "f68f8644",
   "metadata": {},
   "source": [
    "**Read in the xyz file into an `atoms` object:**"
   ]
  },
  {
   "cell_type": "code",
   "execution_count": null,
   "id": "f10554cc",
   "metadata": {},
   "outputs": [],
   "source": [
    "my_atoms=io.read(\"perox_2mol.xyz\")\n",
    "my_atoms.set_pbc((True, True, True))\n",
    "my_atoms.set_cell([20,20,20])\n",
    "print(type(my_atoms))"
   ]
  },
  {
   "cell_type": "code",
   "execution_count": null,
   "id": "98edd4ae",
   "metadata": {},
   "outputs": [],
   "source": [
    "n=len(my_atoms)\n",
    "print(len(my_atoms), \"atoms in the system\")"
   ]
  },
  {
   "cell_type": "markdown",
   "id": "dadc7696",
   "metadata": {},
   "source": [
    "**Set the calculator to be `ANI1ccx` from the `torchani` package:**"
   ]
  },
  {
   "cell_type": "code",
   "execution_count": null,
   "id": "f11c3001",
   "metadata": {},
   "outputs": [],
   "source": [
    "calculator = torchani.models.ANI1ccx().ase()\n",
    "my_atoms.set_calculator(calculator)\n",
    "print(\"Done!\")"
   ]
  },
  {
   "cell_type": "markdown",
   "id": "8f7a3e81",
   "metadata": {},
   "source": [
    "**Minimize the energy:**"
   ]
  },
  {
   "cell_type": "code",
   "execution_count": null,
   "id": "3ef369fe",
   "metadata": {},
   "outputs": [],
   "source": [
    "#Using BFGS method for minimizing                                                                                                                                \n",
    "optimum=BFGS(my_atoms)\n",
    "optimum.run(fmax=0.001)"
   ]
  },
  {
   "cell_type": "markdown",
   "id": "cde3a3f9",
   "metadata": {},
   "source": [
    "**Define a function to print the energy and temperature during the simulation:**"
   ]
  },
  {
   "cell_type": "code",
   "execution_count": null,
   "id": "11e49187",
   "metadata": {},
   "outputs": [],
   "source": [
    "def print_energy(a=my_atoms):\n",
    "    Potential_Energy=a.get_potential_energy()/n\n",
    "    Kinetic_energy=a.get_kinetic_energy()/n\n",
    "\n",
    "    print('Energy per atom: Epot=%4feV Ekin=%4feV (T=%4.0f K\")  '\n",
    "            'Etot = %.3feV' % (Potential_Energy,\n",
    "            Kinetic_energy, Kinetic_energy / (1.5 * units.kB), Potential_Energy + Kinetic_energy))"
   ]
  },
  {
   "cell_type": "markdown",
   "id": "f4f4a798",
   "metadata": {},
   "source": [
    "**Initialize the velocities via the Maxwell-Boltzmann distribution:**"
   ]
  },
  {
   "cell_type": "code",
   "execution_count": null,
   "id": "b71e0e1b",
   "metadata": {},
   "outputs": [],
   "source": [
    "MaxwellBoltzmannDistribution(my_atoms,temperature_K=300)\n",
    "v = my_atoms.get_velocities()\n",
    "v"
   ]
  },
  {
   "cell_type": "markdown",
   "id": "593fa4e0",
   "metadata": {},
   "source": [
    "**Add a positive `x` velocity to molecule 0 and a negative `x` velocity to molecule 1:**"
   ]
  },
  {
   "cell_type": "code",
   "execution_count": null,
   "id": "b029ebb0",
   "metadata": {},
   "outputs": [],
   "source": [
    "impact_vel = 0.3"
   ]
  },
  {
   "cell_type": "code",
   "execution_count": null,
   "id": "19ae4932",
   "metadata": {},
   "outputs": [],
   "source": [
    "v[0:4,0] += impact_vel\n",
    "v[4:8,0] -= impact_vel\n",
    "\n",
    "my_atoms.set_velocities(v)"
   ]
  },
  {
   "cell_type": "markdown",
   "id": "1fb90798",
   "metadata": {},
   "source": [
    "**Run an MD simulation with constant temperature using the Langevin algorithm:**  \n",
    "Time step of 1 fs, temperature = 300K and the friction coefficient to 0.02 / ps."
   ]
  },
  {
   "cell_type": "code",
   "execution_count": null,
   "id": "b438727c",
   "metadata": {
    "scrolled": true
   },
   "outputs": [],
   "source": [
    "dyn = VelocityVerlet(my_atoms, timestep=0.5*units.fs, trajectory='collision.traj', loginterval=50)\n",
    "dyn.attach(print_energy, interval=50)\n",
    "dyn.run(2000)"
   ]
  },
  {
   "cell_type": "markdown",
   "id": "e8b93a9e",
   "metadata": {},
   "source": [
    "**Visualize the trajectory with NGLView:**"
   ]
  },
  {
   "cell_type": "code",
   "execution_count": null,
   "id": "27b15d09",
   "metadata": {},
   "outputs": [],
   "source": [
    "traj=Trajectory('collision.traj')"
   ]
  },
  {
   "cell_type": "code",
   "execution_count": null,
   "id": "f2731fd7",
   "metadata": {},
   "outputs": [],
   "source": [
    "t = nv.ASETrajectory(traj)\n",
    "w = nv.NGLWidget(t, viewer=\"ngl\")\n",
    "w.add_spacefill()\n",
    "w"
   ]
  },
  {
   "cell_type": "markdown",
   "id": "78e1e42c",
   "metadata": {},
   "source": [
    "**What do you see?**  If you run it again with the same starting positions, but different random velocities, would you see the same thing?\n",
    "\n",
    "**What if you change the impact velocity?**"
   ]
  },
  {
   "cell_type": "markdown",
   "id": "47db4221",
   "metadata": {},
   "source": [
    "## Analysis\n",
    "\n",
    "Analysis of these trajectories can be a little more complicated than Classical trajectories.  This is because we can't take advantage of a constant molecular topology.  Bonds that are present at the beginning of a simulation are not necessarily present at the end!\n",
    "\n",
    "That said, the `traj` variable that was read from our `collision.traj` file is essentially a list of `Atoms` objects."
   ]
  },
  {
   "cell_type": "code",
   "execution_count": null,
   "id": "4a8710f1",
   "metadata": {},
   "outputs": [],
   "source": [
    "traj[0]"
   ]
  },
  {
   "cell_type": "markdown",
   "id": "b0e46d45",
   "metadata": {},
   "source": [
    "**We can get distances between atoms as follows:**"
   ]
  },
  {
   "cell_type": "code",
   "execution_count": null,
   "id": "0523d5e3",
   "metadata": {},
   "outputs": [],
   "source": [
    "n = len(traj)\n",
    "d02 = np.zeros((n))  # distance between H-O in conf 0\n",
    "d06 = np.zeros((n))  # distance between O in conf 0 and H in conf 1\n",
    "d07 = np.zeros((n))  # distance between O in conf 0 and other H in conf 1\n",
    "\n",
    "for i in range(n):\n",
    "    d02[i] = traj[i].get_distance(0,2)\n",
    "    d06[i] = traj[i].get_distance(0,6)\n",
    "    d07[i] = traj[i].get_distance(0,7)"
   ]
  },
  {
   "cell_type": "code",
   "execution_count": null,
   "id": "0384824b",
   "metadata": {},
   "outputs": [],
   "source": [
    "import matplotlib.pyplot as plt\n",
    "\n",
    "plt.plot(d02,label='original O-H')\n",
    "plt.plot(d06,label='swapped O-H1')\n",
    "plt.plot(d07,label='swapped O-H2')\n",
    "plt.legend()"
   ]
  },
  {
   "cell_type": "code",
   "execution_count": null,
   "id": "b399c296",
   "metadata": {},
   "outputs": [],
   "source": []
  }
 ],
 "metadata": {
  "kernelspec": {
   "display_name": "Python 3 (ipykernel)",
   "language": "python",
   "name": "python3"
  },
  "language_info": {
   "codemirror_mode": {
    "name": "ipython",
    "version": 3
   },
   "file_extension": ".py",
   "mimetype": "text/x-python",
   "name": "python",
   "nbconvert_exporter": "python",
   "pygments_lexer": "ipython3",
   "version": "3.8.12"
  }
 },
 "nbformat": 4,
 "nbformat_minor": 5
}
