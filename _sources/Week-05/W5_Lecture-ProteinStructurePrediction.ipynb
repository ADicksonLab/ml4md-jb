{
 "cells": [
  {
   "cell_type": "markdown",
   "id": "7ad0edc9",
   "metadata": {
    "slideshow": {
     "slide_type": "slide"
    }
   },
   "source": [
    "# Week 05 Lecture: Protein Structure Prediction in the Age of Artificial Intelligence\n"
   ]
  },
  {
   "cell_type": "markdown",
   "id": "279e22ec",
   "metadata": {
    "slideshow": {
     "slide_type": "fragment"
    }
   },
   "source": [
    "High-accuracy structural biology at the intersection of machine learning and physical modeling."
   ]
  },
  {
   "cell_type": "markdown",
   "id": "b19912f2",
   "metadata": {
    "slideshow": {
     "slide_type": "slide"
    }
   },
   "source": [
    "## Protein sequence - structure - function paradigm\n",
    "\n",
    "<img alt=\"sequence-structure-function homology\" src=\"https://github.com/ADicksonLab/ml4md-jb/raw/main/Week-05/sequence-structure-function.png\" width=\"500px\"/>\n",
    "\n",
    "Proteins with **similar amino acid sequence** have **similar structure** and **similar function**.\n",
    "\n",
    "If we know the sequence, can we predict the structure?  \n",
    "If we know the structure, can we understand function?"
   ]
  },
  {
   "cell_type": "markdown",
   "id": "bb29b58f",
   "metadata": {
    "slideshow": {
     "slide_type": "slide"
    }
   },
   "source": [
    "## Levels of protein structure\n",
    "\n",
    "<img alt=\"protein-structure-hierarchy\" src=\"https://github.com/ADicksonLab/ml4md-jb/raw/main/Week-05/protein-structure-hierarchy.png\" width=\"750px\"/>\n"
   ]
  },
  {
   "cell_type": "markdown",
   "id": "e7bcb5b1",
   "metadata": {
    "slideshow": {
     "slide_type": "slide"
    }
   },
   "source": [
    "## Secondary structure prediction"
   ]
  },
  {
   "cell_type": "markdown",
   "id": "70de18ae",
   "metadata": {
    "slideshow": {
     "slide_type": "slide"
    }
   },
   "source": [
    "Neural networks were used early on for secondary structure prediction.\n",
    "\n",
    "<img alt=\"karplus-neuralnetwork-secondary\" src=\"notpublic/karplusnn.png\" width=\"350px\"/>\n",
    "\n",
    "[Holley, L.H. and Karplus, M., **1989**. Protein secondary structure prediction with a neural network. PNAS, 86, 152-156](https://doi.org/10.1073/pnas.86.1.152)"
   ]
  },
  {
   "cell_type": "markdown",
   "id": "2bfd1459",
   "metadata": {
    "slideshow": {
     "slide_type": "slide"
    }
   },
   "source": [
    "Neural networks were used early on for secondary structure prediction.\n",
    "\n",
    "<img alt=\"cohen-langridge-neuralnetwork-secondary\" src=\"notpublic/cohennn.png\" width=\"450px\"/>\n",
    "\n",
    "[Kneller, D.G., Cohen, F.E. and Langridge, R., **1990**. Improvements in protein secondary structure prediction by an enhanced neural network. J. Mol. Biol., 214, 171-182](https://www.sciencedirect.com/science/article/pii/002228369090154E?via%3Dihub)"
   ]
  },
  {
   "cell_type": "markdown",
   "id": "d2111aa2",
   "metadata": {
    "slideshow": {
     "slide_type": "slide"
    }
   },
   "source": [
    "Weight matrices in early networks were simple.\n",
    "\n",
    "<img alt=\"cohen-langridge-neuralnetwork-secondary-weightmatrix\" src=\"notpublic/cohenweights.png\" width=\"700px\"/>\n",
    "\n",
    "[Kneller, D.G., Cohen, F.E. and Langridge, R., **1990**. Improvements in protein secondary structure prediction by an enhanced neural network. J. Mol. Biol., 214, 171-182](https://www.sciencedirect.com/science/article/pii/002228369090154E?via%3Dihub)"
   ]
  },
  {
   "cell_type": "markdown",
   "id": "f7150f3c",
   "metadata": {
    "slideshow": {
     "slide_type": "slide"
    }
   },
   "source": [
    "Improved networks learn from sequence alignments.\n",
    "\n",
    "<img alt=\"rost-sander-neuralnetwork-secondary\" src=\"notpublic/rostsander.png\" width=\"700px\"/>\n",
    "\n",
    "[Rost, B. and Sander, C., **1993**. Improved prediction of protein secondary structure by use of sequence profiles and neural networks. PNAS, 90, 7558-7562](https://doi.org/10.1073/pnas.90.16.7558)"
   ]
  },
  {
   "cell_type": "markdown",
   "id": "1edec04e",
   "metadata": {
    "slideshow": {
     "slide_type": "slide"
    }
   },
   "source": [
    "Improved networks learn from sequence alignments (encoded with more sensitive position-specific iterated alignment matrices).\n",
    "\n",
    "<img alt=\"psipred-network\" src=\"notpublic/psipred.gif\" width=\"550px\"/>\n",
    "\n",
    "[Jones, D.T., **1999**. Protein secondary structure prediction based on position-specific scoring matrices. J. Mol. Biol., 292, 195-202](https://doi.org/10.1006/jmbi.1999.3091)"
   ]
  },
  {
   "cell_type": "markdown",
   "id": "8d7c34c1",
   "metadata": {
    "slideshow": {
     "slide_type": "slide"
    }
   },
   "source": [
    "Secondary structure prediction accuracies routinely reached 80% by 2002 (CASP5).\n",
    "\n",
    "[Aloy, P., Stark, A., Hadley, C. and Russell, R.B., **2003**. Predictions without templates: new folds, secondary structure, and contacts in CASP5. Proteins, 53, 436-456](https://doi.org/10.1002/prot.10546)\n",
    "\n",
    "PSIPRED server gives reliable answers in a few minutes.\n",
    "\n",
    "[http://bioinf.cs.ucl.ac.uk/psipred](http://bioinf.cs.ucl.ac.uk/psipred/)\n",
    "\n",
    "<img alt=\"psipred-output\" src=\"https://github.com/ADicksonLab/ml4md-jb/raw/main/Week-05/psipred-output.png\" width=\"800px\"/>\n",
    "\n"
   ]
  },
  {
   "cell_type": "markdown",
   "id": "395ed5f9",
   "metadata": {
    "slideshow": {
     "slide_type": "slide"
    }
   },
   "source": [
    "Simulations can predict secondary structures as well, but with much more computational effort and results are very sensitive to the choice of force field.\n",
    "\n",
    "<img alt=\"dill-peptidesampling\" src=\"notpublic/dillff.png\" width=\"650px\"/>\n",
    "\n",
    "[Shell, M.S., Ritterson, R. and Dill, K.A., **2008**. A test on peptide stability of AMBER force fields with implicit solvation. The J. Phys. Chem. B, 112, 6878-6886](https://doi.org/10.1021/jp800282x)"
   ]
  },
  {
   "cell_type": "markdown",
   "id": "df18f8be",
   "metadata": {
    "slideshow": {
     "slide_type": "slide"
    }
   },
   "source": [
    "## Tertiary structure prediction"
   ]
  },
  {
   "cell_type": "markdown",
   "id": "551659cf",
   "metadata": {
    "slideshow": {
     "slide_type": "slide"
    }
   },
   "source": [
    "Tertiary protein structure prediction accuracy has improved dramatically in recent years.\n",
    "\n",
    "<img alt=\"casp progress\" src=\"https://github.com/ADicksonLab/ml4md-jb/raw/main/Week-05/casp-progress.png\" width=\"600px\"/>\n",
    "\n",
    "[CASP](https://predictioncenter.org/) | [GDT](https://en.wikipedia.org/wiki/Global_distance_test)"
   ]
  },
  {
   "cell_type": "markdown",
   "id": "2e676edb",
   "metadata": {
    "slideshow": {
     "slide_type": "slide"
    }
   },
   "source": [
    "#### Homology modeling\n",
    "\n",
    "Structures are predicted based on sequence-structure similarity.\n",
    "\n",
    "<img alt=\"sequence-structure-function homology\" src=\"https://github.com/ADicksonLab/ml4md-jb/raw/main/Week-05/sequence-structure-function.png\" width=\"500px\"/>\n",
    "\n",
    "If we know structure for one protein, we can generate a good model for another protein with a similar sequence (e.g. Human thioredoxin based on E. coli). This requires good sequence alignment and model building tools to mutate side chains and add missing parts. \n",
    "\n",
    "[SWISS-MODEL](https://swissmodel.expasy.org/) | [Modeller](https://salilab.org/modeller/)"
   ]
  },
  {
   "cell_type": "markdown",
   "id": "852598d3",
   "metadata": {
    "slideshow": {
     "slide_type": "slide"
    }
   },
   "source": [
    "Improved protocols assemble structures from homologous and de novo **fragments**.\n",
    "\n",
    "<img alt=\"i-tasser\" src=\"https://upload.wikimedia.org/wikipedia/commons/thumb/9/91/I-TASSER-pipeline.jpg/1920px-I-TASSER-pipeline.jpg\" width=\"700px\"/>\n",
    "\n",
    "[I-Tasser](https://zhanggroup.org/I-TASSER/) | [Rosetta](https://www.rosettacommons.org/software) "
   ]
  },
  {
   "cell_type": "markdown",
   "id": "3a8f68d8",
   "metadata": {
    "slideshow": {
     "slide_type": "slide"
    }
   },
   "source": [
    "#### Physics-based protein folding\n",
    "\n",
    "Molecular dynamics simulations can fold proteins, but with great computational effort.\n",
    "\n",
    "<img alt=\"shaw-folding\" src=\"notpublic/shaw-folding.jpeg\" width=\"500px\"/>\n",
    "\n",
    "[Lindorff-Larsen, K., Piana, S., Dror, R.O. and Shaw, D.E., **2011**. How fast-folding proteins fold. Science, 334, 517-520](https://doi.org/10.1126/science.1208351)"
   ]
  },
  {
   "cell_type": "markdown",
   "id": "7c747749",
   "metadata": {
    "slideshow": {
     "slide_type": "slide"
    }
   },
   "source": [
    "Molecular dynamics simulations can also **refine predictions**.\n",
    "\n",
    "<img alt=\"refinement_via_md\" src=\"https://github.com/ADicksonLab/ml4md-jb/raw/main/Week-05/refinement.png\" width=\"800px\"/>\n",
    "\n",
    "[Heo, L. and Feig, M., **2018**. Experimental accuracy in protein structure refinement via molecular dynamics simulations. PNAS, 115, 13276-13281.](https://doi.org/10.1073/pnas.1811364115)"
   ]
  },
  {
   "cell_type": "markdown",
   "id": "7e9bf3b6",
   "metadata": {
    "slideshow": {
     "slide_type": "slide"
    }
   },
   "source": [
    "#### Coeevolutionary couplings \n",
    "\n",
    "Residue contacts are extracted from multiple sequence alignments.\n",
    "\n",
    "<img alt=\"coevolutionary coupling\" src=\"https://journals.plos.org/plosone/article/figure/image?size=large&id=10.1371/journal.pone.0028766.g001\" width=\"800px\"/>\n"
   ]
  },
  {
   "cell_type": "markdown",
   "id": "aa2d5e9b",
   "metadata": {
    "slideshow": {
     "slide_type": "slide"
    }
   },
   "source": [
    "#### Homology modeling without contact restraints\n",
    "\n",
    "<video controls autoplay loop src=\"https://predictioncenter.org/video/T0915.1.mp4\" />\n",
    "     \n"
   ]
  },
  {
   "cell_type": "markdown",
   "id": "2e29130a",
   "metadata": {
    "slideshow": {
     "slide_type": "fragment"
    }
   },
   "source": [
    "#### Modeling with contact restraints\n",
    "\n",
    "<video controls autoplay loop src=\"https://predictioncenter.org/video/T0915.2.mp4\" />\n",
    "\n"
   ]
  },
  {
   "cell_type": "markdown",
   "id": "31b159c6",
   "metadata": {
    "slideshow": {
     "slide_type": "slide"
    }
   },
   "source": [
    "#### Contact predictions via machine learning\n",
    "\n",
    "Initial methods were based on statistical inference, but ML methods perform better.\n",
    "\n",
    "<img alt=\"contacts-neural-network\" src=\"https://journals.plos.org/ploscompbiol/article/figure/image?size=large&id=10.1371/journal.pcbi.1005324.g001\" width=\"600px\"/>\n",
    "\n",
    "[Ma, J., Wang, S., Wang, Z. and Xu, J., **2015**. Protein contact prediction by integrating joint evolutionary coupling analysis and supervised learning. Bioinformatics, 31, 3506-3513.](https://doi.org/10.1093/bioinformatics/btv472)\n",
    "\n",
    "[Wang, S., Sun, S., Li, Z., Zhang, R. and Xu, J., **2017**. Accurate de novo prediction of protein contact map by ultra-deep learning model. PLoS Comp. Biol., 13, e1005324.](https://doi.org/10.1371/journal.pcbi.1005324)"
   ]
  },
  {
   "cell_type": "markdown",
   "id": "91a9a9f5",
   "metadata": {
    "slideshow": {
     "slide_type": "slide"
    }
   },
   "source": [
    "#### AlphaFold 1\n",
    "\n",
    "Combined **distograms** (and **backbone torsion angles**) predicted from coevolutionary couplings with **generative models** trained to **maximize GDT** similarity scores.\n",
    "\n",
    "<img alt=\"af1-gdtnet\" src=\"https://onlinelibrary.wiley.com/cms/asset/1167cec5-05c3-4254-ac09-6b1bfd2e7d0c/prot25834-fig-0001-m.jpg\" width=\"600 px\"/>\n",
    "\n",
    "[Senior, A.W., Evans, R., Jumper, J., Kirkpatrick, J., Sifre, L., Green, T., Qin, C., Žídek, A., Nelson, A.W., Bridgland, A. and Penedones, H., **2019**. Protein structure prediction using multiple deep neural networks in the 13th Critical Assessment of Protein Structure Prediction (CASP13). Proteins, 87, 1141-1148.](https://doi.org/10.1002/prot.25834)"
   ]
  },
  {
   "cell_type": "markdown",
   "id": "ba0f3829",
   "metadata": {
    "slideshow": {
     "slide_type": "slide"
    }
   },
   "source": [
    "**AlphaFold 1** generated actual structures either via a complex **simulated annealing protocol** or via **gradient descent** using potentials augmented by other potentials (Rosetta etc.)\n",
    "\n",
    "<img alt=\"af1-simulatedannealing\" src=\"https://onlinelibrary.wiley.com/cms/asset/9460e6ad-ac63-432c-92ca-3a76d7f7ca2d/prot25834-fig-0002-m.jpg\" width=\"600px\"/>\n",
    "\n",
    "[Senior, A.W., Evans, R., Jumper, J., Kirkpatrick, J., Sifre, L., Green, T., Qin, C., Žídek, A., Nelson, A.W., Bridgland, A. and Penedones, H., **2019**. Protein structure prediction using multiple deep neural networks in the 13th Critical Assessment of Protein Structure Prediction (CASP13). Proteins, 87, 1141-1148.](https://doi.org/10.1002/prot.25834)"
   ]
  },
  {
   "cell_type": "markdown",
   "id": "1b246593",
   "metadata": {
    "slideshow": {
     "slide_type": "slide"
    }
   },
   "source": [
    "**trRosetta** improves over AlphaFold1 by predicting residue distances and relative orientations\n",
    "\n",
    "<img alt=\"trRosetta\" src=\"https://yanglab.nankai.edu.cn/trRosetta/help/flowchart.png\" width=\"550px\"/>\n",
    "\n",
    "[Yang, J., Anishchenko, I., Park, H., Peng, Z., Ovchinnikov, S. and Baker, D., **2020**. Improved protein structure prediction using predicted interresidue orientations. PNAS, 117, 1496-1503.](https://doi.org/10.1073/pnas.1914677117)"
   ]
  },
  {
   "cell_type": "markdown",
   "id": "bb47d89d",
   "metadata": {
    "slideshow": {
     "slide_type": "slide"
    }
   },
   "source": [
    "#### AlphaFold2 \n",
    "\n",
    "Introduction of attention-based transformer architecture with iterative refinement and directly generates structures (end-to-end predictions).\n",
    "\n",
    "<img alt=\"af2-overall\" src=\"https://github.com/ADicksonLab/ml4md-jb/raw/main/Week-05/af2-overall.png\" width=\"900px\"/>\n",
    "\n",
    "[Jumper, J., Evans, R., Pritzel, A., Green, T., Figurnov, M., Ronneberger, O., Tunyasuvunakool, K., Bates, R., Žídek, A., Potapenko, A. and Bridgland, A., **2021**. Highly accurate protein structure prediction with AlphaFold. Nature, 596, 583-589.](https://doi.org/10.1038/s41586-021-03819-2)\n"
   ]
  },
  {
   "cell_type": "markdown",
   "id": "ec106355",
   "metadata": {
    "slideshow": {
     "slide_type": "slide"
    }
   },
   "source": [
    "**AlphaFold2**'s 'evoformer' convolutes co-evolutionary information from the multiple sequence alignment with structural information (initially from templates, then iteratively from models that are generated). The architecture uses elements of graph neural networks to maintain equivariance.\n",
    "\n",
    "<img alt=\"af2-evoformer\" src=\"https://github.com/ADicksonLab/ml4md-jb/raw/main/Week-05/af2-evoformer.png\" width=\"900px\"/>\n",
    "\n",
    "[Jumper, J., Evans, R., Pritzel, A., Green, T., Figurnov, M., Ronneberger, O., Tunyasuvunakool, K., Bates, R., Žídek, A., Potapenko, A. and Bridgland, A., **2021**. Highly accurate protein structure prediction with AlphaFold. Nature, 596, 583-589.](https://doi.org/10.1038/s41586-021-03819-2)\n"
   ]
  },
  {
   "cell_type": "markdown",
   "id": "f84198b2",
   "metadata": {
    "slideshow": {
     "slide_type": "slide"
    }
   },
   "source": [
    "**AlphaFold2**'s structure module directly generates structures via an attention-based module trained on actual structures but also augmented with physical constraints. Final models are generated after minimization with Amber (not shown).\n",
    "\n",
    "<img alt=\"af2-structuremodule\" src=\"https://github.com/ADicksonLab/ml4md-jb/raw/main/Week-05/af2-structuremodule.png\" width=\"900px\"/>\n",
    "\n",
    "[Jumper, J., Evans, R., Pritzel, A., Green, T., Figurnov, M., Ronneberger, O., Tunyasuvunakool, K., Bates, R., Žídek, A., Potapenko, A. and Bridgland, A., **2021**. Highly accurate protein structure prediction with AlphaFold. Nature, 596, 583-589.](https://doi.org/10.1038/s41586-021-03819-2)\n"
   ]
  },
  {
   "cell_type": "markdown",
   "id": "d4fafdf9",
   "metadata": {
    "slideshow": {
     "slide_type": "slide"
    }
   },
   "source": [
    "AlphaFold2 models are remarkably accurate at the atomistic detail, including for side chains. \n",
    "\n",
    "<img alt=\"af2 prediction\" src=\"https://github.com/ADicksonLab/ml4md-jb/raw/main/Week-02/alphafold-7m7a.png\" width=\"600px\"/>\n",
    "\n",
    "Errors are generally around 1Å RMSD but may be larger in loop regions or parts of a structure subject to contacts with other units, for example due to crystal packing."
   ]
  },
  {
   "cell_type": "markdown",
   "id": "2d3f2795",
   "metadata": {
    "slideshow": {
     "slide_type": "slide"
    }
   },
   "source": [
    "Errors are generally around 1Å RMSD but may be larger in loop regions or parts of a structure subject to contacts with other units, for example due to crystal packing.\n",
    "\n",
    "<img alt=\"af2-errors\" src=\"https://github.com/ADicksonLab/ml4md-jb/raw/main/Week-05/af2-errors.png\" width=\"600px\"/>\n",
    "\n",
    "[Heo, L., Janson, G. and Feig, M., **2021**. Physics‐based protein structure refinement in the era of artificial intelligence. Proteins, 89, 1870-1887.](https://doi.org/10.1002/prot.26161)"
   ]
  },
  {
   "cell_type": "markdown",
   "id": "3efc6974",
   "metadata": {
    "slideshow": {
     "slide_type": "slide"
    }
   },
   "source": [
    "What happens when AlphaFold2 structures are used in simulations?\n",
    "\n",
    "<img alt=\"af2-md\" src=\"https://github.com/ADicksonLab/ml4md-jb/raw/main/Week-05/af2-md.png\" width=\"800px\"/>\n",
    "\n",
    "[Heo, L., Janson, G. and Feig, M., **2021**. Physics‐based protein structure refinement in the era of artificial intelligence. Proteins, 89, 1870-1887.](https://doi.org/10.1002/prot.26161)"
   ]
  },
  {
   "cell_type": "markdown",
   "id": "b8bf0f3c",
   "metadata": {
    "slideshow": {
     "slide_type": "slide"
    }
   },
   "source": [
    "AlphaFold2 is very good at generating **one** structure, but what if there are multiple functional states?\n",
    "\n",
    "<img alt=\"GPCR-predictions\" src=\"https://github.com/ADicksonLab/ml4md-jb/raw/main/Week-05/af2-gpcr.png\" width=\"800px\"/>\n",
    "\n",
    "[Heo, L., Feig, M. **2021**. Multi-State Modeling of G-protein Coupled Receptors at Experimental Accuracy. bioRxiv, 2021.11.26.470086](https://www.biorxiv.org/content/10.1101/2021.11.26.470086v1)"
   ]
  },
  {
   "cell_type": "markdown",
   "id": "35b03700",
   "metadata": {
    "slideshow": {
     "slide_type": "slide"
    }
   },
   "source": [
    "**RoseTTAfold** is an alternative but conceptually similar approach to provide structures at accuracy approaching AlphaFold2.\n",
    "\n",
    "<img alt=\"RosetTTAfold architecture\" src=\"notpublic/rosettafold.png\" width=\"900px\"/>\n",
    "\n",
    "[Baek, M., DiMaio, F., Anishchenko, I., Dauparas, J., Ovchinnikov, S., Lee, G.R., Wang, J., Cong, Q., Kinch, L.N., Schaeffer, R.D. and Millán, C., **2021**. Accurate prediction of protein structures and interactions using a three-track neural network. Science, 373, 871-876.](https://doi.org/10.1126/science.abj8754)"
   ]
  },
  {
   "cell_type": "markdown",
   "id": "3e69af3b",
   "metadata": {
    "slideshow": {
     "slide_type": "slide"
    }
   },
   "source": [
    "## Quaternary structure prediction"
   ]
  },
  {
   "cell_type": "markdown",
   "id": "6a9feb63",
   "metadata": {
    "slideshow": {
     "slide_type": "slide"
    }
   },
   "source": [
    "Predictions of complexes have remained a challenge, but much progress is being made:\n",
    "\n",
    "\n",
    "<img alt=\"Complex predictions\" src=\"notpublic/complex-predictions.png\" width=\"900px\"/>\n",
    "\n",
    "[Bryant, P., Pozzati, G. and Elofsson, A., **2021**. Improved prediction of protein-protein interactions using AlphaFold2 and extended multiple-sequence alignments. BioRxiv 2021.09.15.460468.](https://doi.org/10.1101/2021.09.15.460468)\n",
    "\n",
    "[Evans, R., O'Neill, M., Pritzel, A., Antropova, N., Senior, A.W., Green, T., Žídek, A., Bates, R., Blackwell, S., Yim, J. and Ronneberger, O., **2021**. Protein complex prediction with AlphaFold-Multimer. BioRxiv 2021.10.04.463034.](https://doi.org/10.1101/2021.10.04.463034)"
   ]
  },
  {
   "cell_type": "markdown",
   "id": "99603f5c",
   "metadata": {
    "slideshow": {
     "slide_type": "slide"
    }
   },
   "source": [
    "### Are we done?\n",
    "\n",
    "*\"At present, for the best cases, the C-alpha coordinate RMSD accuracy of AlphaFold-predicted structures roughly corresponds to the accuracy expected for structures determined at resolutions no better than ∼4 Å. Thus, although structural predictions by AlphaFold and RoseTTAfold may be accurate enough to assist with experimental structure determination, they alone cannot provide the kind of detailed understanding of molecular and chemical interactions that is required for studies of molecular mechanisms and for structure-based drug design.\"*\n",
    "\n",
    "and\n",
    "\n",
    "*\"... solving the protein-folding problem means making accurate predictions of structures from amino acid sequences starting from first principles based on the underlying physics and chemistry.\"*\n",
    "\n",
    "[Moore, P.B., Hendrickson, W.A., Henderson, R. and Brunger, A.T., **2022**. The protein-folding problem: Not yet solved. Science, 375, 507-507.](https://doi.org/10.1126/science.abn9422)"
   ]
  }
 ],
 "metadata": {
  "celltoolbar": "Slideshow",
  "kernelspec": {
   "display_name": "Python 3 (ipykernel)",
   "language": "python",
   "name": "python3"
  },
  "language_info": {
   "codemirror_mode": {
    "name": "ipython",
    "version": 3
   },
   "file_extension": ".py",
   "mimetype": "text/x-python",
   "name": "python",
   "nbconvert_exporter": "python",
   "pygments_lexer": "ipython3",
   "version": "3.9.9"
  }
 },
 "nbformat": 4,
 "nbformat_minor": 5
}
