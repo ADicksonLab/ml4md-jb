{
 "cells": [
  {
   "cell_type": "markdown",
   "id": "7ad0edc9",
   "metadata": {
    "slideshow": {
     "slide_type": "slide"
    }
   },
   "source": [
    "# Week 05 Lab: Structure Prediction"
   ]
  },
  {
   "cell_type": "markdown",
   "id": "279e22ec",
   "metadata": {
    "slideshow": {
     "slide_type": "fragment"
    }
   },
   "source": [
    "## Student Name: YOUR NAME HERE"
   ]
  },
  {
   "cell_type": "markdown",
   "id": "8b2c1cd8",
   "metadata": {
    "slideshow": {
     "slide_type": "subslide"
    }
   },
   "source": [
    "## Predicting protein structures\n",
    "\n",
    "In this lab we will predict and compare protein structures that were generated via different methods.\n",
    "\n",
    "As a test system we will predict a recently solved crystal structure. The experimental structure will be our reference agains we can compare the predictions.\n",
    "\n",
    "Many prediction tools use structural databases based on the PDB that are updated regularly. We will use a structure that was made available just yesterday so that it is less likely that structural databases used by different prediction servers have been updated already to reflect the newly solved structure.\n",
    "\n",
    "The following three PDBs are good candidates:\n",
    "[7EFY](https://www.rcsb.org/structure/7EFY)\n",
    "[7TRV](https://www.rcsb.org/structure/7TRV)\n",
    "[7E90](https://www.rcsb.org/structure/7E90)\n",
    "\n",
    "In the following the notebook contains the results for the first (7EFY). \n",
    "\n",
    "Your task will be to study this esample and then rerun as much as you can for one of the other targets. The third target (7E90) can probably be done faster and is recommended."
   ]
  },
  {
   "cell_type": "code",
   "execution_count": null,
   "id": "80944432",
   "metadata": {},
   "outputs": [],
   "source": [
    "pdbid='7EFY'"
   ]
  },
  {
   "cell_type": "markdown",
   "id": "12135d71",
   "metadata": {
    "slideshow": {
     "slide_type": "subslide"
    }
   },
   "source": [
    "### Setting up a working directory\n",
    "\n",
    "We may want to store all of the data in a separate working directory. This would be useful if we work on multiple targets. Let's set it up below:"
   ]
  },
  {
   "cell_type": "code",
   "execution_count": null,
   "id": "dd532ff1",
   "metadata": {},
   "outputs": [],
   "source": [
    "import os\n",
    "\n",
    "# if we want to store files in current directory uncomment below:\n",
    "# dir='.'\n",
    "\n",
    "dir=f'work-{pdbid.lower()}'\n",
    "\n",
    "if not os.path.isdir(dir):\n",
    "    os.mkdir(dir)"
   ]
  },
  {
   "cell_type": "markdown",
   "id": "8eb1be86",
   "metadata": {
    "slideshow": {
     "slide_type": "subslide"
    }
   },
   "source": [
    "### Getting files from the PDB\n",
    "\n",
    "We begin by downloading files and information from the PDB"
   ]
  },
  {
   "cell_type": "code",
   "execution_count": null,
   "id": "7f4e0e4d",
   "metadata": {
    "scrolled": false
   },
   "outputs": [],
   "source": [
    "import requests\n",
    "import os\n",
    "\n",
    "def get_pdb_from_rcsb(pdb_id):\n",
    "    response=requests.get(f'http://files.rcsb.org/download/{pdb_id}.pdb')\n",
    "    return(response.text)\n",
    "\n",
    "def get_uniprot_id_from_rcsb(pdb_id):\n",
    "    query='query={polymer_entity(entry_id:\"'+pdb_id+'\", entity_id:\"1\"){uniprots{rcsb_id}}}'\n",
    "    response=requests.get('http://data.rcsb.org/graphql',params=query)\n",
    "    return(response.json()['data']['polymer_entity']['uniprots'][0]['rcsb_id'])\n",
    "\n",
    "def get_title_from_rcsb(pdb_id):\n",
    "    query='query={entry(entry_id:\"'+pdb_id+'\"){struct{title}}}'\n",
    "    response=requests.get('http://data.rcsb.org/graphql',params=query)\n",
    "    return(response.json()['data']['entry']['struct']['title'])\n",
    "\n",
    "def get_fasta_from_uniprot(uniprot_id):\n",
    "    response=requests.get(f'https://www.uniprot.org/uniprot/{uniprot_id}.fasta')\n",
    "    return(response.text)\n",
    "\n",
    "title=get_title_from_rcsb(pdbid)\n",
    "uniprot=get_uniprot_id_from_rcsb(pdbid)\n",
    "\n",
    "pdbfile=f'{dir}/{pdbid}.pdb'\n",
    "if not os.path.isfile(pdbfile):\n",
    "    contents=get_pdb_from_rcsb(pdbid)\n",
    "    out=open(pdbfile,'w')\n",
    "    out.write(contents)\n",
    "    out.close()\n",
    "\n",
    "fastafile=f'{dir}/{uniprot}.fasta'    \n",
    "if not os.path.isfile(fastafile):\n",
    "    contents=get_fasta_from_uniprot(uniprot)\n",
    "    out=open(fastafile,'w')\n",
    "    out.write(contents)\n",
    "    out.close()\n",
    "\n",
    "print(title)\n",
    "print(f'PDB ID: {pdbid}')\n",
    "print(f'Uniprot ID: {uniprot}')\n",
    "print()\n",
    "\n",
    "with open(fastafile) as f: fasta = f.read()\n",
    "print(fasta)\n"
   ]
  },
  {
   "cell_type": "markdown",
   "id": "534ce617",
   "metadata": {
    "slideshow": {
     "slide_type": "subslide"
    }
   },
   "source": [
    "Once loaded we can look at the PDB structure"
   ]
  },
  {
   "cell_type": "code",
   "execution_count": null,
   "id": "1dd912bc",
   "metadata": {},
   "outputs": [],
   "source": [
    "import mdtraj as md\n",
    "import nglview as nv\n",
    "\n",
    "pdb=md.load_pdb(pdbfile)\n",
    "view = nv.NGLWidget(nv.MDTrajTrajectory(pdb))\n",
    "view.clear_representations()\n",
    "view.add_cartoon('protein',color_scheme=\"chainindex\")\n",
    "view.camera='orthographic'\n",
    "view"
   ]
  },
  {
   "cell_type": "markdown",
   "id": "dbdf9b25",
   "metadata": {
    "slideshow": {
     "slide_type": "subslide"
    }
   },
   "source": [
    "Let's do a bit more analysis of what we have here:"
   ]
  },
  {
   "cell_type": "code",
   "execution_count": null,
   "id": "191d6c9a",
   "metadata": {},
   "outputs": [],
   "source": [
    "def chaininfo(p):\n",
    "    t=p.topology\n",
    "    for chain in t.chains:\n",
    "        seglist=[]\n",
    "        first=last=-999\n",
    "        for res in chain.residues:\n",
    "            if (first<-100):\n",
    "                first=res.resSeq\n",
    "            else:\n",
    "                if (res.resSeq>last+1):\n",
    "                    seglist+=[[first, last]]\n",
    "                    first=res.resSeq\n",
    "            last=res.resSeq\n",
    "        seglist+=[[first,last]]\n",
    "        print(f'chain {chain.index} has residues {seglist}, first residue: {chain.residue(0)}')\n",
    "    \n",
    "print(pdb.topology)\n",
    "chaininfo(pdb)"
   ]
  },
  {
   "cell_type": "markdown",
   "id": "4103a6b1",
   "metadata": {
    "slideshow": {
     "slide_type": "subslide"
    }
   },
   "source": [
    "So in this case, there is only one protein chain. The second 'chain' contains water molecules.\n",
    "\n",
    "The protein chain covers residues 201-322, with a break between 248-256. So the PDB structure does not cover the entire sequence!\n",
    "\n",
    "Let's set up a pdb that contains just one chain and a selection string we will use later for analysis:"
   ]
  },
  {
   "cell_type": "code",
   "execution_count": null,
   "id": "abe4175d",
   "metadata": {},
   "outputs": [],
   "source": [
    "refchain=pdb.topology.select(\"chainid 0\")\n",
    "pdbref=pdb.atom_slice(refchain)\n",
    "\n",
    "firstres=pdbref.topology.residue(0).resSeq\n",
    "lastres=pdbref.topology.residue(pdbref.topology.n_residues-1).resSeq\n",
    "\n",
    "refresidues=\"residue 201 to 247 or residue 257 to 322\""
   ]
  },
  {
   "cell_type": "markdown",
   "id": "3e255123",
   "metadata": {
    "slideshow": {
     "slide_type": "subslide"
    }
   },
   "source": [
    "## Secondary structure prediction\n",
    "\n",
    "It is a good idea to start with a prediction of the secondary structure to get an overall idea of a protein. \n",
    "\n",
    "Secondary structure prediction traditionally means predicting helices and sheets, but there is additional information about which parts of a sequence may be disordered or correspond to transmembrane helices.\n",
    "\n",
    "So let's start with submitting the amino acid sequence (from the FASTA file above) to the PSIPRED server at:\n",
    "\n",
    "[http://bioinf.cs.ucl.ac.uk/psipred](http://bioinf.cs.ucl.ac.uk/psipred)\n",
    "\n",
    "There are many options, some of which take a bit of time. A good start is to request only the following:\n",
    "\n",
    "- PSIPRED 4.0 (secondary structure)\n",
    "- DISOPRED3 (disordered elements)\n",
    "- MEMSAT-SVM (prediction of transmembrane helices)\n",
    "\n",
    "It should take 5-20 minutes to obtain an answer.\n",
    "\n",
    "The results will appear in the web browser and you can download a package with the results."
   ]
  },
  {
   "cell_type": "markdown",
   "id": "cff59a04",
   "metadata": {},
   "source": [
    "The results for the first system are [here](http://bioinf.cs.ucl.ac.uk/psipred/&uuid=73062586-898b-11ec-9b8f-00163e100d53)\n",
    "\n",
    "The first view that comes up shows the prediction of transmembrane helices. It predicts one TM helix in the middle of the sequence as shown below (the figure is from the package that can be downloaded from the PSIPRED server):\n",
    "\n",
    "<img alt=\"psipred-membrane-topology\" src=\"https://github.com/ADicksonLab/ml4md-jb/raw/main/Week-05/work-7efy/psipred.membrane.png\" width=\"300px\"/> \n",
    "\n",
    "This would suggest two domains on different sides of a membrane. However the [sequence entry in Uniprot](https://www.uniprot.org/uniprot/A0A0S4TE75) does not say anything about it and it may be an incorrect prediction. You may need to check the literature for more information.\n",
    "\n",
    "To see the secondary structure prediction, click on `Show Psipred`.\n",
    "\n",
    "The following figure should appear (which you can download and save to your 'work' directory):\n",
    "\n",
    "<img alt=\"psipred\" src=\"https://github.com/ADicksonLab/ml4md-jb/raw/main/Week-05/work-7efy/psipred.png\" width=\"900px\"/> \n",
    "\n",
    "So the structure is mostly ordered with both beta-sheets and alpha-helices. Potentially there are a few disordered segments that could be flexible linkers between different domains. \n",
    "\n",
    "How consistent are the predictions from PSIPRED with the experimental structure?"
   ]
  },
  {
   "cell_type": "markdown",
   "id": "3fec48a8",
   "metadata": {
    "slideshow": {
     "slide_type": "subslide"
    }
   },
   "source": [
    "## Tertiary structure prediction\n",
    "\n",
    "In the rest of the lab we will focus on tertiary structure prediction.\n",
    "\n",
    "We will show you how to obtain models via the following tools:\n",
    "\n",
    "- AlphaFold2\n",
    "- RoseTTAfold\n",
    "- RaptorX\n",
    "- I-Tasser\n",
    "- Homology modeling via SWISS-MODEL"
   ]
  },
  {
   "cell_type": "markdown",
   "id": "eca7dc89",
   "metadata": {
    "slideshow": {
     "slide_type": "subslide"
    }
   },
   "source": [
    "### AlphaFold2 predictions\n",
    "\n",
    "Before you think about making predictions, you should check whether a model has already been generated.\n",
    "\n",
    "There is a database of AlphaFold2 models available here:\n",
    "\n",
    "https://alphafold.ebi.ac.uk/\n",
    "\n",
    "You can download structures for entire proteomes from here:\n",
    "\n",
    "https://alphafold.ebi.ac.uk/download#proteomes-section\n",
    "\n",
    "Alphafold Structures are also provided directly in many uniprot entries, e.g. here:\n",
    "\n",
    "https://www.uniprot.org/uniprot/Q5VSL9\n",
    "\n",
    "If you cannot find a model, you can run AlphaFold2 by yourself. There are three options:\n",
    "\n",
    "#### Install AlphaFold2 on your own computer\n",
    "\n",
    "official distribution with docker: \n",
    "\n",
    "https://github.com/deepmind/alphafold\n",
    "\n",
    "modified installations without docker: \n",
    "\n",
    "https://pythonrepo.com/repo/kuixu-alphafold\n",
    "\n",
    "https://github.com/kalininalab/alphafold_non_docker\n",
    "\n",
    "Note that 2TB disk space and a recent GPU card are needed and it may take several days just to download the necessary databases.\n",
    "\n",
    "#### Run AlphaFold2 via the DeepMind Colab notebook: \n",
    "\n",
    "https://colab.research.google.com/github/deepmind/alphafold/blob/main/notebooks/AlphaFold.ipynb\n",
    "\n",
    "#### Run AlphaFold2 via an alternative Colab notebook:\n",
    "\n",
    "https://colab.research.google.com/github/sokrypton/ColabFold/blob/main/AlphaFold2.ipynb\n",
    "\n",
    "All versions should run the same AlphaFold2 model, but they differ in how the multiple sequence alignment is generated and whether an initial template is taken from a template database.\n",
    "\n",
    "The easiest and fastest way is the last notebook. It uses MMseqs2 for fast alignments and can be run without searching for templates (which often does not make much of a difference).\n",
    "\n",
    "For the systems we are working on here (200-400 residues) predictions take between 30 minutes to five hours depending on the Runtime that you are connected to. \n",
    "\n",
    "*Notes:* \n",
    "- You will need to login to Google with a non-MSU account and connect to a GPU runtime. \n",
    "- You may run out of resources in which case Google will prevent you from running until some time has passed (typically next day)."
   ]
  },
  {
   "cell_type": "markdown",
   "id": "097fd447",
   "metadata": {},
   "source": [
    "At the end of an AlphaFold2 run, five models are generated along with some additional analysis. all is packaged up into a zip file and presented for download.\n",
    "\n",
    "Let's look what we get for the example:\n",
    "\n",
    "First, the following graph shows you the **multiple sequence coverage** as a function of residue. \n",
    "\n",
    "<img alt=\"af2-msa\" src=\"https://github.com/ADicksonLab/ml4md-jb/raw/main/Week-05/work-7efy/af2_msa_coverage.png\" width=\"600px\"/> \n",
    "\n",
    "Better coverage means more reliable contact predictions and more reliable structures for those residues. So in this case we have coverage across the entire sequence, but it is best towards the N-terminus.\n",
    "\n",
    "The **contact maps** used in the predictions are shown next:\n",
    "\n",
    "<img alt=\"af2-contacts\" src=\"https://github.com/ADicksonLab/ml4md-jb/raw/main/Week-05/work-7efy/af2_contactmap.png\" width=\"900px\"/> \n",
    "\n",
    "To assess the **quality of the models** that are generated, AlphaFold2 predicts lDDT scores as a measure of local residue accuracy. The maximum value is 100 and many parts of the structure reach such values as shown in the next plot. Residues for which the plDDT values are lower indicate that the model is likely less accurate - or that there is a dynamic region for which a single structure makes less sense.\n",
    "\n",
    "<img alt=\"af2-plddt\" src=\"https://github.com/ADicksonLab/ml4md-jb/raw/main/Week-05/work-7efy/af2_plddt.png\" width=\"700px\"/> \n",
    "\n",
    "Finally, we look at the models themselves. The models are ranked by the total plDDT scores.\n",
    "\n",
    "*Note:* The names of the model PDBs in the downloaded package are different than what is used below (for simplicity). When you generate models yourself, you should either rename the PDBs to match the names below or change the code in the notebook. This also applies to all of the other methods below."
   ]
  },
  {
   "cell_type": "code",
   "execution_count": null,
   "id": "3a7d8804",
   "metadata": {},
   "outputs": [],
   "source": [
    "import mdtraj as md\n",
    "import nglview as nv\n",
    "\n",
    "def showmodels(mol):\n",
    "    view = nv.NGLWidget()\n",
    "    for n in range(len(mol)):\n",
    "        view.add_trajectory(nv.MDTrajTrajectory(mol[n]))\n",
    "    \n",
    "    for n in range(len(mol)):\n",
    "        view[n].clear_representations()\n",
    "\n",
    "    if (len(mol)>0): view[0].add_cartoon('protein',color='red')\n",
    "    if (len(mol)>1): view[1].add_cartoon('protein',color='blue')\n",
    "    if (len(mol)>2): view[2].add_cartoon('protein',color='green')\n",
    "    if (len(mol)>3): view[3].add_cartoon('protein',color='orange')\n",
    "    if (len(mol)>4): view[4].add_cartoon('protein',color='brown')\n",
    "    if (len(mol)>5): view[5].add_cartoon('protein',color='purple')\n",
    "    if (len(mol)>6): view[6].add_cartoon('protein',color='black')\n",
    "    if (len(mol)>7): view[7].add_cartoon('protein',color='magenta')\n",
    "    if (len(mol)>8): view[8].add_cartoon('protein',color='yellow')\n",
    "    if (len(mol)>9): view[9].add_cartoon('protein',color='cyan')\n",
    "\n",
    "    view.camera='orthographic'\n",
    "    return(view)\n",
    "\n",
    "af=[]\n",
    "for n in range(5):\n",
    "    affile=f'{dir}/af2_rank_{n+1}.pdb'\n",
    "    af+=[md.load_pdb(affile)]\n",
    "    \n",
    "afnlist=af[0].topology.select(f'residue>={firstres} and residue<={lastres}')\n",
    "for n in range(len(af)-1):\n",
    "    af[n+1].superpose(af[0],atom_indices=afnlist)\n",
    "\n",
    "showmodels(af)"
   ]
  },
  {
   "cell_type": "markdown",
   "id": "bdd8522a",
   "metadata": {},
   "source": [
    "The topology is similar, but there is quite a bit of diversity, especially in the C-terminal domain. \n",
    "\n",
    "We only have the experimental structure for the N-terminal domain, but let's compare: "
   ]
  },
  {
   "cell_type": "code",
   "execution_count": null,
   "id": "2cac8252",
   "metadata": {
    "scrolled": true
   },
   "outputs": [],
   "source": [
    "def get_rmsd(target,ref,residues):\n",
    "    reflist=ref.topology.select(\"name CA\")\n",
    "    targetlist=target.topology.select(\"name CA and (\"+residues+\")\")\n",
    "    return(md.rmsd(target,ref,atom_indices=targetlist,ref_atom_indices=reflist))\n",
    "\n",
    "print(refresidues)\n",
    "for n in range(len(af)):\n",
    "    rmsd=get_rmsd(af[n],pdbref,refresidues)\n",
    "    print(f'model {n+1}: {rmsd[0]*10} Å')"
   ]
  },
  {
   "cell_type": "markdown",
   "id": "b13ba990",
   "metadata": {},
   "source": [
    "So how good is the best model for the N-terminal domain?"
   ]
  },
  {
   "cell_type": "code",
   "execution_count": null,
   "id": "4bf6e0ea",
   "metadata": {},
   "outputs": [],
   "source": [
    "def comparewithpdb(pdb,model,residues):\n",
    "    reflist=pdb.topology.select(\"name CA\")\n",
    "    targetlist=model.topology.select(\"name CA and (\"+residues+\")\")\n",
    "    smodel=model.superpose(pdb,atom_indices=targetlist,ref_atom_indices=reflist)\n",
    "\n",
    "    view = nv.NGLWidget()\n",
    "\n",
    "    view.add_trajectory(nv.MDTrajTrajectory(pdb))\n",
    "    view.add_trajectory(nv.MDTrajTrajectory(smodel))\n",
    "    \n",
    "    view[0].clear_representations()\n",
    "    view[0].add_cartoon('protein',color='red')\n",
    "    view[1].clear_representations()\n",
    "    view[1].add_cartoon('protein',color='blue')\n",
    "\n",
    "    view.camera='orthographic'\n",
    "    return(view)    \n",
    "\n",
    "afnterm=af[0].atom_slice(afnlist)\n",
    "\n",
    "comparewithpdb(pdbref,afnterm,refresidues)"
   ]
  },
  {
   "cell_type": "markdown",
   "id": "0cdf791d",
   "metadata": {
    "slideshow": {
     "slide_type": "subslide"
    }
   },
   "source": [
    "### RoseTTAFold predictions\n",
    "\n",
    "To run RoseTTAfold, you can install it again locally. For more details check [here](https://github.com/RosettaCommons/RoseTTAFold)\n",
    "\n",
    "Alternatively, you can obtain predictions via the Robetta server:\n",
    "\n",
    "https://robetta.bakerlab.org/submit.php\n",
    "\n",
    "You have to create an account and login in order to submit predictions but the server is responsive and you can get results relatively quickly.\n",
    "\n",
    "When submitting a job, there are different options. Make sure you select `RoseTTAFold` to get the best predictions. Older methods are available as well if you are interested in comparisons.\n"
   ]
  },
  {
   "cell_type": "markdown",
   "id": "63a4934d",
   "metadata": {},
   "source": [
    "At the end five models are generated. \n",
    "\n",
    "The results for the example are [here](https://robetta.bakerlab.org/results.php?id=207611)\n",
    "\n",
    "On the web site there is additional information about predicated accuracy as a function of residue index for each of the model. \n",
    "\n",
    "You can download only a single PDB that contains all five models.\n",
    "\n",
    "The resulting PDB is processed below:"
   ]
  },
  {
   "cell_type": "code",
   "execution_count": null,
   "id": "6e0411d4",
   "metadata": {},
   "outputs": [],
   "source": [
    "rff=[]\n",
    "\n",
    "rfile=f'{dir}/rff_models.pdb'\n",
    "for n in range(5):\n",
    "    rff+=[md.load_pdb(rfile,frame=n)]\n",
    "\n",
    "rfnlist=rff[0].topology.select(f'residue>={firstres} and residue<={lastres}')\n",
    "for n in range(len(rff)-1):\n",
    "    rff[n+1].superpose(rff[0],atom_indices=rfnlist)\n",
    "    \n",
    "showmodels(rff)"
   ]
  },
  {
   "cell_type": "markdown",
   "id": "01f5bb2b",
   "metadata": {},
   "source": [
    "As you can see, there is again quite a bit of diversity, especially in the C-terminal domain. \n",
    "\n",
    "Let's compare again with the N-terminal experimental structure:"
   ]
  },
  {
   "cell_type": "code",
   "execution_count": null,
   "id": "a5d81064",
   "metadata": {
    "scrolled": true
   },
   "outputs": [],
   "source": [
    "print(refresidues)\n",
    "for n in range(len(rff)):\n",
    "    rmsd=get_rmsd(rff[n],pdbref,refresidues)\n",
    "    print(f'model {n+1}: {rmsd[0]*10} Å')"
   ]
  },
  {
   "cell_type": "code",
   "execution_count": null,
   "id": "28e4bb58",
   "metadata": {},
   "outputs": [],
   "source": [
    "rffnterm=rff[0].atom_slice(rfnlist)\n",
    "\n",
    "comparewithpdb(pdbref,rffnterm,refresidues)"
   ]
  },
  {
   "cell_type": "markdown",
   "id": "23554dac",
   "metadata": {
    "slideshow": {
     "slide_type": "subslide"
    }
   },
   "source": [
    "### RaptorX predictions\n",
    "\n",
    "RaptorX is available for download [here](http://raptorx.uchicago.edu/download/)\n",
    "\n",
    "Otherwise, we can submit a sequence to the server at:\n",
    "\n",
    "http://raptorx.uchicago.edu/ContactMap/\n",
    "\n",
    "There are no important options, just the amino acid sequence is needed.\n",
    "\n",
    "No registration is needed, but once an email is provided, there is an automatic registration process.\n",
    "\n",
    "It may take a few hours to obtain a prediction depending on how busy the server is."
   ]
  },
  {
   "cell_type": "markdown",
   "id": "bda01430",
   "metadata": {},
   "source": [
    "At the end five models are generated.\n",
    "\n",
    "The results for the example are [here](http://raptorx.uchicago.edu/ContactMap/myjobs/22110354_703375/)\n",
    "\n",
    "There is quite a bit information on the web interface and a package with the complete results can be downloaded.\n",
    "\n",
    "The models are ranked by a scoring function. The models are anlyzed below:"
   ]
  },
  {
   "cell_type": "code",
   "execution_count": null,
   "id": "85c22d18",
   "metadata": {},
   "outputs": [],
   "source": [
    "rx=[]\n",
    "for n in range(5):\n",
    "    rfile=f'{dir}/rx_rank_{n+1}.pdb'\n",
    "    rx+=[md.load_pdb(rfile)]\n",
    "    \n",
    "rxnlist=rx[0].topology.select(f'residue>={firstres} and residue<={lastres}')\n",
    "for n in range(len(rx)-1):\n",
    "    rx[n+1].superpose(rx[0],atom_indices=rxnlist)\n",
    "    \n",
    "showmodels(rx)"
   ]
  },
  {
   "cell_type": "markdown",
   "id": "d646d873",
   "metadata": {},
   "source": [
    "Let's compare with the experimental structure:"
   ]
  },
  {
   "cell_type": "code",
   "execution_count": null,
   "id": "b3c6bfaa",
   "metadata": {
    "scrolled": true
   },
   "outputs": [],
   "source": [
    "print(refresidues)\n",
    "for n in range(len(rx)):\n",
    "    rmsd=get_rmsd(rx[n],pdbref,refresidues)\n",
    "    print(f'model {n+1}: {rmsd[0]*10} Å')"
   ]
  },
  {
   "cell_type": "code",
   "execution_count": null,
   "id": "29e3aaea",
   "metadata": {},
   "outputs": [],
   "source": [
    "rxnterm=rx[0].atom_slice(rxnlist)\n",
    "\n",
    "comparewithpdb(pdbref,rxnterm,refresidues)"
   ]
  },
  {
   "cell_type": "markdown",
   "id": "0026f414",
   "metadata": {
    "slideshow": {
     "slide_type": "subslide"
    }
   },
   "source": [
    "### I-Tasser predictions\n",
    "\n",
    "I-Tasser software can be downloaded from [here](https://zhanggroup.org/I-TASSER/download/)\n",
    "\n",
    "The server is available via the following link:\n",
    "\n",
    "https://zhanggroup.org/I-TASSER/\n",
    "\n",
    "Registration (not with a .com email address!) is required and only one job can be submitted at a time.\n",
    "\n",
    "The input is the amino acid sequence, an email address, a password (obtained after registering) . There are additional options to include restraints but for standard structure prediction they are not needed.\n",
    "\n",
    "The server is quite busy and it may take about a day to obtain results."
   ]
  },
  {
   "cell_type": "markdown",
   "id": "4e7c566b",
   "metadata": {},
   "source": [
    "At the end five models are generated.\n",
    "\n",
    "The output for the example is [here](https://zhanggroup.org/I-TASSER/output/S669847/384vym/)\n",
    "\n",
    "The models are ranked by `C-score`, a confidence score that is correlated with expected model accuracy.  Larger values are better and in this example, none of the C-scores are very good.\n",
    "\n",
    "There is a package with the results that can be downloaded with a lot of information, including structures of the fragments from threading that were used in the model assembly.\n",
    "\n",
    "Below, we look at the models:"
   ]
  },
  {
   "cell_type": "code",
   "execution_count": null,
   "id": "ed779afc",
   "metadata": {},
   "outputs": [],
   "source": [
    "it=[]\n",
    "for n in range(5):\n",
    "    rfile=f'{dir}/it_rank_{n+1}.pdb'\n",
    "    it+=[md.load_pdb(rfile)]\n",
    "\n",
    "itnlist=it[0].topology.select(f'residue>={firstres} and residue<={lastres}')\n",
    "for n in range(len(it)-1):\n",
    "    it[n+1].superpose(it[0],atom_indices=itnlist)\n",
    "    \n",
    "showmodels(it)"
   ]
  },
  {
   "cell_type": "markdown",
   "id": "8e7aa374",
   "metadata": {},
   "source": [
    "The topology is similar, but there is quite a bit of diversity, especially in the C-terminal domain. \n",
    "\n",
    "We only have the experimental structure for the N-terminal domain, but let's compare: "
   ]
  },
  {
   "cell_type": "code",
   "execution_count": null,
   "id": "57a08c26",
   "metadata": {
    "scrolled": true
   },
   "outputs": [],
   "source": [
    "print(refresidues)\n",
    "for n in range(len(it)):\n",
    "    rmsd=get_rmsd(it[n],pdbref,refresidues)\n",
    "    print(f'model {n+1}: {rmsd[0]*10} Å')"
   ]
  },
  {
   "cell_type": "code",
   "execution_count": null,
   "id": "c5cc5aa8",
   "metadata": {},
   "outputs": [],
   "source": [
    "itnterm=it[0].atom_slice(itnlist)\n",
    "\n",
    "comparewithpdb(pdbref,itnterm,refresidues)"
   ]
  },
  {
   "cell_type": "markdown",
   "id": "99307279",
   "metadata": {},
   "source": [
    "That is not so great but there is another model ..."
   ]
  },
  {
   "cell_type": "code",
   "execution_count": null,
   "id": "7fbe5a7a",
   "metadata": {},
   "outputs": [],
   "source": [
    "itnterm2=it[3].atom_slice(itnlist)\n",
    "\n",
    "comparewithpdb(pdbref,itnterm2,refresidues)"
   ]
  },
  {
   "cell_type": "markdown",
   "id": "32f3554d",
   "metadata": {
    "slideshow": {
     "slide_type": "subslide"
    }
   },
   "source": [
    "### SWISS-MODEL predictions\n",
    "\n",
    "Finally, we come to homology modeling. The classic software for homology modeling is [MODELLER](https://salilab.org/modeller/). The software can be installed easily, but to use it, one has to find templates and generate alignments separately, for example via [HHpred](https://toolkit.tuebingen.mpg.de/tools/hhpred). \n",
    "\n",
    "Another way to do homology is via the SWISS-MODEL service:\n",
    "\n",
    "https://swissmodel.expasy.org/interactive\n",
    "\n",
    "There are two steps: \n",
    "- Search for possible templates based on PDB structures based on the given sequence\n",
    "- Model building after selecting a template\n",
    "\n",
    "We want to select the best template, but SWISS-MODEL updates their databases very rapidly and already had the new PDB structures immediately after they were released. \n",
    "\n",
    "To test homology modeling we have to check the presented templates carefully and select one that is not identical to the experimental structure.\n",
    "\n",
    "For the example, we choose 4Z2Z as the best template that is listed after the actual PDB structures. Once we have selected a template, we can build a model.\n",
    "\n",
    "It is possible to build multiple models based on multiple templates. Homology modeling is fast and results are available quickly. \n",
    "\n",
    "An alternative is to build models based on a user-provided template via the same [link](https://swissmodel.expasy.org/interactive). In this case, we have to provide a PDB structure.\n",
    "With the large number of AlphaFold2 models, it is an interesting option to use one of those models from the [AlphaFold database](https://alphafold.ebi.ac.uk/) as a template. You can find suitable templates based on sequence via this interface:\n",
    "\n",
    "https://www.ebi.ac.uk/Tools/sss/fasta/\n",
    "\n",
    "You will have to go to the `Structures` tab and select `AlphaFold DB`.\n",
    "\n",
    "For the example, the closest template is [AFDB:AF-Q8IM03-F1](https://alphafold.ebi.ac.uk/entry/Q8IM03)"
   ]
  },
  {
   "cell_type": "markdown",
   "id": "7cc4cc29",
   "metadata": {
    "slideshow": {
     "slide_type": "subslide"
    }
   },
   "source": [
    "The results for the example based on 4Z2Z are [here](https://swissmodel.expasy.org/interactive/SjBcL8/models/)\n",
    "\n",
    "The result for the example based on the AlphaFold2 template structure are [here](https://swissmodel.expasy.org/interactive/YhjybT/models/)\n",
    "\n",
    "As with other methods, there is an estimate of model quality and the generated model can be downloaded (under the `Model 01` tab on the left)."
   ]
  },
  {
   "cell_type": "markdown",
   "id": "86a38db0",
   "metadata": {},
   "source": [
    "Let's look first at the homology model based on the closest template from the PDB (4Z2Z):"
   ]
  },
  {
   "cell_type": "code",
   "execution_count": null,
   "id": "7644f514",
   "metadata": {},
   "outputs": [],
   "source": [
    "rfile=f'{dir}/swissmodel_hm.pdb'\n",
    "smhm=[md.load_pdb(rfile)]\n",
    "showmodels(smhm)"
   ]
  },
  {
   "cell_type": "markdown",
   "id": "2e7ac667",
   "metadata": {},
   "source": [
    "The homology model was built as a dimer because the template is a dimer. Let's continue with just the first chain."
   ]
  },
  {
   "cell_type": "code",
   "execution_count": null,
   "id": "09390e37",
   "metadata": {
    "scrolled": true
   },
   "outputs": [],
   "source": [
    "chaininfo(smhm[0])\n",
    "smhm[0]=smhm[0].atom_slice(smhm[0].topology.select(\"chainid 0\"))"
   ]
  },
  {
   "cell_type": "code",
   "execution_count": null,
   "id": "c3c9bfcd",
   "metadata": {
    "scrolled": true
   },
   "outputs": [],
   "source": [
    "print(refresidues)\n",
    "\n",
    "for n in range(len(smhm)):\n",
    "    rmsd=get_rmsd(smhm[n],pdbref,refresidues)\n",
    "    print(f'model {n+1}: {rmsd[0]*10} Å')"
   ]
  },
  {
   "cell_type": "code",
   "execution_count": null,
   "id": "aaebc878",
   "metadata": {
    "scrolled": true
   },
   "outputs": [],
   "source": [
    "smhmnlist=smhm[0].topology.select(f'residue>={firstres} and residue<={lastres}')\n",
    "\n",
    "smhmnterm=smhm[0].atom_slice(smhmnlist)\n",
    "\n",
    "comparewithpdb(pdbref,smhmnterm,refresidues)"
   ]
  },
  {
   "cell_type": "markdown",
   "id": "e8cd6269",
   "metadata": {},
   "source": [
    "Finally let's look at the homology model based on the closest AF2 template (AF_Q8IM03):"
   ]
  },
  {
   "cell_type": "code",
   "execution_count": null,
   "id": "cc9ec9f0",
   "metadata": {},
   "outputs": [],
   "source": [
    "rfile=f'{dir}/swissmodel_af.pdb'\n",
    "smaf=[md.load_pdb(rfile)]\n",
    "showmodels(smaf)"
   ]
  },
  {
   "cell_type": "code",
   "execution_count": null,
   "id": "ee8ef7a3",
   "metadata": {
    "scrolled": true
   },
   "outputs": [],
   "source": [
    "print(refresidues)\n",
    "\n",
    "for n in range(len(smaf)):\n",
    "    rmsd=get_rmsd(smaf[n],pdbref,refresidues)\n",
    "    print(f'model {n+1}: {rmsd[0]*10} Å')"
   ]
  },
  {
   "cell_type": "code",
   "execution_count": null,
   "id": "c7cc9812",
   "metadata": {},
   "outputs": [],
   "source": [
    "smafnlist=smaf[0].topology.select(f'residue>={firstres} and residue<={lastres}')\n",
    "\n",
    "smafnterm=smaf[0].atom_slice(smafnlist)\n",
    "\n",
    "comparewithpdb(pdbref,smafnterm,refresidues)"
   ]
  },
  {
   "cell_type": "markdown",
   "id": "cbba3619",
   "metadata": {},
   "source": [
    "Here is the analysis for all of the models together:"
   ]
  },
  {
   "cell_type": "code",
   "execution_count": null,
   "id": "ee540f98",
   "metadata": {},
   "outputs": [],
   "source": [
    "print(refresidues)\n",
    "\n",
    "for n in range(len(af)):\n",
    "    rmsd=get_rmsd(af[n],pdbref,refresidues)\n",
    "    print(f'AlphaFold2        model {n+1}: {rmsd[0]*10} Å')\n",
    "    \n",
    "for n in range(len(rff)):\n",
    "    rmsd=get_rmsd(rff[n],pdbref,refresidues)\n",
    "    print(f'RoseTTAFold       model {n+1}: {rmsd[0]*10} Å')\n",
    "    \n",
    "for n in range(len(rx)):\n",
    "    rmsd=get_rmsd(rx[n],pdbref,refresidues)\n",
    "    print(f'Raptor X          model {n+1}: {rmsd[0]*10} Å')\n",
    "    \n",
    "for n in range(len(it)):\n",
    "    rmsd=get_rmsd(it[n],pdbref,refresidues)\n",
    "    print(f'I-Tasser          model {n+1}: {rmsd[0]*10} Å')\n",
    "    \n",
    "for n in range(len(smhm)):\n",
    "    rmsd=get_rmsd(smhm[n],pdbref,refresidues)\n",
    "    print(f'SWISS-MODEL (PDB) model {n+1}: {rmsd[0]*10} Å')\n",
    "    \n",
    "for n in range(len(smaf)):\n",
    "    rmsd=get_rmsd(smaf[n],pdbref,refresidues)\n",
    "    print(f'SWISS-MODEL (AF)  model {n+1}: {rmsd[0]*10} Å')"
   ]
  },
  {
   "cell_type": "code",
   "execution_count": null,
   "id": "3df2dc5a",
   "metadata": {},
   "outputs": [],
   "source": [
    "best=[pdbref]\n",
    "reflist=pdbref.topology.select(\"name CA\")\n",
    "\n",
    "list=af[0].topology.select(\"name CA and (\"+refresidues+\")\")\n",
    "best+=[af[0].superpose(pdbref,atom_indices=list,ref_atom_indices=reflist)]\n",
    "\n",
    "list=rff[0].topology.select(\"name CA and (\"+refresidues+\")\")\n",
    "best+=[rff[0].superpose(pdbref,atom_indices=list,ref_atom_indices=reflist)]\n",
    "\n",
    "list=rx[0].topology.select(\"name CA and (\"+refresidues+\")\")\n",
    "best+=[rx[0].superpose(pdbref,atom_indices=list,ref_atom_indices=reflist)]\n",
    "\n",
    "list=it[0].topology.select(\"name CA and (\"+refresidues+\")\")\n",
    "best+=[it[0].superpose(pdbref,atom_indices=list,ref_atom_indices=reflist)]\n",
    "\n",
    "list=smhm[0].topology.select(\"name CA and (\"+refresidues+\")\")\n",
    "best+=[smhm[0].superpose(pdbref,atom_indices=list,ref_atom_indices=reflist)]\n",
    "\n",
    "list=smaf[0].topology.select(\"name CA and (\"+refresidues+\")\")\n",
    "best+=[smaf[0].superpose(pdbref,atom_indices=list,ref_atom_indices=reflist)]\n",
    "\n",
    "showmodels(best)\n"
   ]
  },
  {
   "cell_type": "markdown",
   "id": "0d4dff60",
   "metadata": {},
   "source": [
    "How do your predictions look like? \n",
    "\n",
    "Can you think of more ways in which the models can be analyzed/compared?\n",
    "\n",
    "Which model you would select and which parts you would trust?"
   ]
  }
 ],
 "metadata": {
  "kernelspec": {
   "display_name": "Python 3 (ipykernel)",
   "language": "python",
   "name": "python3"
  },
  "language_info": {
   "codemirror_mode": {
    "name": "ipython",
    "version": 3
   },
   "file_extension": ".py",
   "mimetype": "text/x-python",
   "name": "python",
   "nbconvert_exporter": "python",
   "pygments_lexer": "ipython3",
   "version": "3.9.9"
  }
 },
 "nbformat": 4,
 "nbformat_minor": 5
}
