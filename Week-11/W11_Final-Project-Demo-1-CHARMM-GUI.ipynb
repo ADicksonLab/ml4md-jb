{
 "cells": [
  {
   "cell_type": "markdown",
   "id": "a6adb648",
   "metadata": {},
   "source": [
    "# Week 11: Final Project Demo 1 (CHARMM-GUI)"
   ]
  },
  {
   "cell_type": "markdown",
   "id": "c5437421",
   "metadata": {},
   "source": [
    "**This week we will run through an example of how to build a system with CHARMM-GUI and simulate it on your own machines, Google Colab, or on HPCC.**  \n",
    "\n",
    "If you don't already have an HPCC account, have your research advisor request one for you at this link:  [https://contact.icer.msu.edu/account](https://contact.icer.msu.edu/account)\n",
    "\n",
    "This lab will use the [CHARMM-GUI](https://www.charmm-gui.org/) website.  To follow along you will need to register for a free account.  This can take some time to verify your email address so it is best to do ahead of time.\n",
    "\n",
    "There are some [great video demos](https://www.charmm-gui.org/?doc=demo) that demonstrate the broad capabilities of CHARMM-GUI.  Today we are only scratching the surface, so feel free to check those out as well!"
   ]
  },
  {
   "cell_type": "markdown",
   "id": "4d8119f1",
   "metadata": {},
   "source": [
    "---\n",
    "## Overview of today's demo\n",
    "\n",
    "Today we will build the simulation inputs for a **ligand binding simulation**.  The system will include a protein, multiple copies of a ligand, and a solvent composed of water molecules and ions.  The ligand molecules will be initialized in the \"unbound state\": in random orientations that are freely floating in solution.\n",
    "\n",
    "**The steps to produce these inputs are as follows:**\n",
    "\n",
    "1.  Locate a structure that contains the protein of interest.  Here we will use the trypsin protein from [1a0j](https://www.rcsb.org/structure/1A0J).\n",
    "2.  Use the [PDB Reader](https://www.charmm-gui.org/?doc=input/pdbreader) to generate `psf` and `crd` files for the protein.  This will allow you to model in missing residues, make mutations, and add modifications to your protein.  The output files contain information on the protein structure (`psf`) and the coordinates of each atom in the protein (`crd`).\n",
    "3.  Use the [Ligand Reader and Modeler](https://www.charmm-gui.org/?doc=input/ligandrm) to generate files for your ligand.  This can grab ligands from existing pdb files, or upload ligand structures from `mol2`, `SMILES` or `sdf` files.  You can also simply draw the ligand you want!  The outputs will be `psf` files, as well as `rtf` and `prm` files if your ligand is not included in the standard forcefield.\n",
    "4.  Use the [Multicomponent Assembler](https://www.charmm-gui.org/?doc=input/multicomp) to put these together, with a single copy of the protein and 10 copies of the ligand.  This will construct and minimize the system, and output a set of files we can use to run simulations in OpenMM.\n",
    "\n",
    "---\n",
    "\n",
    "**After the inputs are constructed we will run the simulations on HPCC and on Google Colab.**\n",
    "\n",
    "*  For Colab, we need to upload all of the necessary files, install the packages, and use the CHARMM-GUI scripts to launch OpenMM simulations.  Use the `CHARMM_GUI_COLAB.ipynb` notebook on the course webpage for help with this.\n",
    "*  For HPCC, use the `CHARMM_GUI_HPCC.ipynb` notebook on the course webpage."
   ]
  },
  {
   "cell_type": "code",
   "execution_count": null,
   "id": "65b0ee7f",
   "metadata": {},
   "outputs": [],
   "source": []
  }
 ],
 "metadata": {
  "kernelspec": {
   "display_name": "Python 3 (ipykernel)",
   "language": "python",
   "name": "python3"
  },
  "language_info": {
   "codemirror_mode": {
    "name": "ipython",
    "version": 3
   },
   "file_extension": ".py",
   "mimetype": "text/x-python",
   "name": "python",
   "nbconvert_exporter": "python",
   "pygments_lexer": "ipython3",
   "version": "3.8.12"
  }
 },
 "nbformat": 4,
 "nbformat_minor": 5
}
