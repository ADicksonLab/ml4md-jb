{
 "cells": [
  {
   "cell_type": "markdown",
   "metadata": {
    "id": "ivKsPQoBeaVj"
   },
   "source": [
    "# Simulating CHARMM-GUI systems in Google Colab"
   ]
  },
  {
   "cell_type": "markdown",
   "metadata": {
    "id": "CjwK6LqLeaVm"
   },
   "source": [
    "**Alex Dickson, Michigan State University**  \n",
    "BMB 961, Machine Learning for Molecular Dynamics\n",
    "\n",
    "---\n",
    "\n",
    "This workbook assumes that you have already used CHARMM-GUI to setup your system and that you **have selected `openmm`** in the Simulation Script section.\n",
    "\n",
    "No need to unpack the `charmm-gui.tgz` file.  We will upload this directly to Colab!\n",
    "\n",
    "**To get started,** upload this notebook to [Colab](https://colab.research.google.com/) if you aren't already there.  \n",
    "\n",
    "Also, change your runtime type to GPU, using `Runtime > Change runtime type > Hardware accelerator > GPU`\n",
    "\n",
    "---"
   ]
  },
  {
   "cell_type": "markdown",
   "metadata": {
    "id": "tNo0HhFmaryX"
   },
   "source": [
    "**First install `csh` so you can run the CHARMM-GUI script** "
   ]
  },
  {
   "cell_type": "code",
   "execution_count": null,
   "metadata": {
    "colab": {
     "base_uri": "https://localhost:8080/"
    },
    "id": "P-Buw9dcr49a",
    "outputId": "b8ff9863-8933-4cdb-c7ea-a4127bd8cf24"
   },
   "outputs": [],
   "source": [
    "!sudo apt-get install csh"
   ]
  },
  {
   "cell_type": "markdown",
   "metadata": {
    "id": "btl92Irutjhx"
   },
   "source": [
    "**Install OpenMM and other packages (this will take a few minutes):**"
   ]
  },
  {
   "cell_type": "code",
   "execution_count": null,
   "metadata": {
    "colab": {
     "base_uri": "https://localhost:8080/",
     "height": 926
    },
    "id": "j9WZfgIws2Jc",
    "outputId": "23b91161-292d-4477-b77c-d86cfab0808c"
   },
   "outputs": [],
   "source": [
    "import sys\n",
    "print(sys.version)\n",
    "!wget https://repo.anaconda.com/miniconda/Miniconda3-py37_4.10.3-Linux-x86_64.sh\n",
    "!bash Miniconda3-py*.sh -bfp /usr/local\n",
    "!conda config --set always_yes yes\n",
    "!conda config --add channels conda-forge\n",
    "!conda install python=3.7 cudatoolkit=10.0 git jupyterlab numpy pandas scipy matplotlib ipympl rdkit openbabel openmm mdtraj pymbar pdbfixer parmed openff-toolkit openmoltools openmmforcefields\n",
    "sys.path.append('/usr/local/lib/python3.7/site-packages')\n",
    "import openmm.testInstallation\n",
    "openmm.testInstallation.main()"
   ]
  },
  {
   "cell_type": "markdown",
   "metadata": {
    "id": "WP0fPNsqqpKk"
   },
   "source": [
    "**Upload your charmm-gui tarball.**  \n",
    "To upload, select the Files icon on the left, then click \"Upload to Session Storage\", or link to your Google Drive.  Select the file `charmm-gui.tgz` that you downloaded at the last step of your CHARMM-GUI setup."
   ]
  },
  {
   "cell_type": "markdown",
   "metadata": {},
   "source": []
  },
  {
   "cell_type": "markdown",
   "metadata": {},
   "source": [
    "**Unpack the tarball.**  \n",
    "After uploading, run this command to unpack.  You can see the unpacked files by pressing the Refresh button in the Files menu."
   ]
  },
  {
   "cell_type": "code",
   "execution_count": null,
   "metadata": {
    "id": "B3UuU1XUqHvo"
   },
   "outputs": [],
   "source": [
    "! tar xzf charmm-gui.tgz"
   ]
  },
  {
   "cell_type": "markdown",
   "metadata": {
    "id": "fWcDmj0dqx7K"
   },
   "source": [
    "**Change to the openmm directory**  \n",
    "Note: you will need to change the Run ID below from \"4908284510\" to whatever yours is.  "
   ]
  },
  {
   "cell_type": "code",
   "execution_count": null,
   "metadata": {
    "colab": {
     "base_uri": "https://localhost:8080/"
    },
    "id": "P1l9fJhmqUTi",
    "outputId": "b4e57869-ae4c-4846-ed62-9bf89b155001"
   },
   "outputs": [],
   "source": [
    "%cd charmm-gui-4908284510/openmm"
   ]
  },
  {
   "cell_type": "markdown",
   "metadata": {
    "id": "v68POHWvaLjr"
   },
   "source": [
    "**Now change `README` into an executable**  \n",
    "The `README` file is a `csh` script that contains all of the commands for heating up our system and running some preliminary trajectories.  "
   ]
  },
  {
   "cell_type": "code",
   "execution_count": null,
   "metadata": {
    "id": "uUDbjLrVukIX"
   },
   "outputs": [],
   "source": [
    "!chmod +x README"
   ]
  },
  {
   "cell_type": "markdown",
   "metadata": {},
   "source": [
    "**Run the README!**  \n",
    "Note that *this will take a long time.*  You can get updates by refreshing your file list.  The first output file is `step5_equilibration.out` in the `openmm` directory.  The last column gives you estimates for how long this will take.\n",
    "\n",
    "After the equilibration there will be 10 trajectory segments (`step6_*`). You can download the `.dcd` and `.rst` files after they are generated.  **(Note that the step indices (e.g. 5, 6) might differ depending on which CHARMM-GUI tool you used for setup.)**"
   ]
  },
  {
   "cell_type": "code",
   "execution_count": null,
   "metadata": {
    "colab": {
     "base_uri": "https://localhost:8080/"
    },
    "id": "dUM9orFPq76j",
    "outputId": "408f9215-a7e9-48ac-eec5-9536782222d5"
   },
   "outputs": [],
   "source": [
    "!./README"
   ]
  },
  {
   "cell_type": "markdown",
   "metadata": {
    "id": "s1_hgMMshg-L"
   },
   "source": [
    "**To run longer (or shorter) simulations** you could modify the `nstep` parameter in the `step5_production.inp` file."
   ]
  },
  {
   "cell_type": "code",
   "execution_count": null,
   "metadata": {},
   "outputs": [],
   "source": []
  }
 ],
 "metadata": {
  "accelerator": "GPU",
  "colab": {
   "name": "CHARMM_GUI_COLAB.ipynb",
   "provenance": []
  },
  "kernelspec": {
   "display_name": "Python 3 (ipykernel)",
   "language": "python",
   "name": "python3"
  },
  "language_info": {
   "codemirror_mode": {
    "name": "ipython",
    "version": 3
   },
   "file_extension": ".py",
   "mimetype": "text/x-python",
   "name": "python",
   "nbconvert_exporter": "python",
   "pygments_lexer": "ipython3",
   "version": "3.8.12"
  }
 },
 "nbformat": 4,
 "nbformat_minor": 1
}
