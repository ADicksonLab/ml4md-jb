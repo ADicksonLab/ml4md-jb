{
 "cells": [
  {
   "cell_type": "markdown",
   "metadata": {
    "id": "ivKsPQoBeaVj"
   },
   "source": [
    "# Simulating CHARMM-GUI systems on HPCC"
   ]
  },
  {
   "cell_type": "markdown",
   "metadata": {
    "id": "CjwK6LqLeaVm"
   },
   "source": [
    "**Alex Dickson, Michigan State University**  \n",
    "BMB 961, Machine Learning for Molecular Dynamics\n",
    "\n",
    "---\n",
    "\n",
    "This workbook assumes that you have already used CHARMM-GUI to setup your system and that you **have selected `openmm`** in the Simulation Script section.\n",
    "\n",
    "This notebook contains a set of commands that you should execute in a command shell, such as Terminal for MacOS or [WSL](https://docs.microsoft.com/en-us/windows/wsl/about) for Windows. \n",
    "\n",
    "**This notebook will use one of the development nodes to run your simulations.**  These are only meant for short-duration jobs (e.g. less than 2 hours).  If your job lasts longer than this it might be killed by a sys admin.  \n",
    "\n",
    "**For longer simulations you will need to write a SLURM script to submit your job to the queue.**  An example of this can be found here: [https://wiki.hpcc.msu.edu/display/ITH/Job+Script+and+Job+Submission](https://wiki.hpcc.msu.edu/display/ITH/Job+Script+and+Job+Submission).\n",
    "\n",
    "---\n"
   ]
  },
  {
   "cell_type": "markdown",
   "metadata": {
    "id": "tNo0HhFmaryX"
   },
   "source": [
    "## Instructions:\n",
    "\n",
    "**Navigate to the directory containing your `charmm-gui.tgz` tarball, then upload it to HPCC:**  \n",
    "\n",
    "`cd ~/Downloads`  \n",
    "`scp charmm-gui.tgz [USERNAME]@hpcc.msu.edu:~`  "
   ]
  },
  {
   "cell_type": "markdown",
   "metadata": {},
   "source": [
    "**Connect to HPCC and ssh to a development node with GPU support:**  \n",
    "\n",
    "`ssh [USERNAME]@hpcc.msu.edu`  \n",
    "`ssh dev-intel16-k80`  "
   ]
  },
  {
   "cell_type": "markdown",
   "metadata": {},
   "source": [
    "**(If you haven't already) Install Conda if the home directory of your HPCC account**:  \n",
    "\n",
    "`wget https://repo.anaconda.com/miniconda/Miniconda3-py37_4.10.3-Linux-x86_64.sh`  \n",
    "`bash Miniconda3-py37_4.10.3-Linux-x86_64.sh -bfp ~`  "
   ]
  },
  {
   "cell_type": "markdown",
   "metadata": {},
   "source": [
    "**(If you haven't already) Install `openmm` in your conda distribution.**  \n",
    "You could install this to a specific environment, but here we are installing in the base environment.  Note that the install step could take a while.\n",
    "\n",
    "```conda config --add channels conda-forge\n",
    "conda install python=3.7 cudatoolkit=10.0 git jupyterlab numpy pandas scipy matplotlib ipympl rdkit openbabel openmm mdtraj pymbar pdbfixer parmed openff-toolkit openmoltools openmmforcefields```"
   ]
  },
  {
   "cell_type": "markdown",
   "metadata": {},
   "source": [
    "**Load the CUDA module:**  \n",
    "\n",
    "`module load CUDA/10.0.130`  "
   ]
  },
  {
   "cell_type": "markdown",
   "metadata": {},
   "source": [
    "**Look at the current jobs being run on the GPUs.**  \n",
    "At the bottom this will list the GPUs that are currently occupied.  By default jobs will run on GPU 0.  If this is currently busy you can change which device you will use in the next step.  \n",
    "\n",
    "`nvidia-smi`  "
   ]
  },
  {
   "cell_type": "markdown",
   "metadata": {},
   "source": [
    "**(Optional) Change the default GPU index.**  \n",
    "Choose `X` to be a GPU index that is unoccupied (e.g. 5)  \n",
    "\n",
    "`export CUDA_VISIBLE_DEVICES=X`"
   ]
  },
  {
   "cell_type": "markdown",
   "metadata": {},
   "source": [
    "**Test your `openmm` installation:**  \n",
    "You should see 4 platforms available, including CUDA.  \n",
    "\n",
    "`python -m openmm.testInstallation`"
   ]
  },
  {
   "cell_type": "markdown",
   "metadata": {
    "id": "WP0fPNsqqpKk"
   },
   "source": [
    "**Make a work directory, then move and unpack the `charmm-gui.tgz` file.**  \n",
    "\n",
    "`mkdir bmb961_sims`  \n",
    "`mv charmm-gui.tgz bmb961_sims`  \n",
    "`cd bmb961_sims`  \n",
    "`tar xzf charmm-gui.tgz`"
   ]
  },
  {
   "cell_type": "markdown",
   "metadata": {},
   "source": [
    "**List the files in this directory with the `ls` command.**  \n",
    "You should see a folder named `charmm-gui-XXXXXXXXXX`, where `XXXXXXXXXX` is your job ID.  "
   ]
  },
  {
   "cell_type": "markdown",
   "metadata": {
    "id": "fWcDmj0dqx7K"
   },
   "source": [
    "**Change to the openmm directory**  \n",
    "Note: you will need to change the Run ID below from \"4908284510\" to whatever yours is.  \n",
    "\n",
    "`cd charmm-gui-4908284510/openmm`"
   ]
  },
  {
   "cell_type": "markdown",
   "metadata": {
    "id": "v68POHWvaLjr"
   },
   "source": [
    "**Change the `README` file into an executable**  \n",
    "The `README` file is a `csh` script that contains all of the commands for heating up our system and running some preliminary trajectories.  \n",
    "\n",
    "`chmod +x README`"
   ]
  },
  {
   "cell_type": "markdown",
   "metadata": {},
   "source": [
    "**Run the README!**  \n",
    "\n",
    "`./README > charmm-gui.out &`"
   ]
  },
  {
   "cell_type": "markdown",
   "metadata": {
    "colab": {
     "base_uri": "https://localhost:8080/"
    },
    "id": "dUM9orFPq76j",
    "outputId": "408f9215-a7e9-48ac-eec5-9536782222d5"
   },
   "source": [
    "Note that *this will take a while.*  You can get updates by listing the files in your directory with `ls -ltr`.  The first output file is `step5_equilibration.out` in the `openmm` directory.  **(Note that the step indices (e.g. 5, 6) might differ depending on which CHARMM-GUI tool you used for setup.)**  \n",
    "\n",
    "A helpful way to view this file is:\n",
    "\n",
    "`tail -f step5_equilibration.out`  \n",
    "\n",
    "The last column gives you estimates for how long this will take.\n",
    "\n",
    "After the equilibration there will be 10 trajectory segments (`step6_*`). The trajectories are stored in `.dcd` files. You can copy these back to your local machine and analyze them after they are generated.  \n",
    "\n",
    "You can also watch your job run by viewing `nvidia-smi` again, which will confirm that you have targeted the correct GPU."
   ]
  },
  {
   "cell_type": "markdown",
   "metadata": {
    "id": "s1_hgMMshg-L"
   },
   "source": [
    "**To run longer (or shorter) simulations** you could modify the `nstep` parameter in the `step5_production.inp` file.  This can be done with a text editor such as Emacs, vim, or Nano."
   ]
  },
  {
   "cell_type": "code",
   "execution_count": null,
   "metadata": {},
   "outputs": [],
   "source": []
  }
 ],
 "metadata": {
  "accelerator": "GPU",
  "colab": {
   "name": "CHARMM_GUI_COLAB.ipynb",
   "provenance": []
  },
  "kernelspec": {
   "display_name": "Python 3 (ipykernel)",
   "language": "python",
   "name": "python3"
  },
  "language_info": {
   "codemirror_mode": {
    "name": "ipython",
    "version": 3
   },
   "file_extension": ".py",
   "mimetype": "text/x-python",
   "name": "python",
   "nbconvert_exporter": "python",
   "pygments_lexer": "ipython3",
   "version": "3.8.12"
  }
 },
 "nbformat": 4,
 "nbformat_minor": 1
}
