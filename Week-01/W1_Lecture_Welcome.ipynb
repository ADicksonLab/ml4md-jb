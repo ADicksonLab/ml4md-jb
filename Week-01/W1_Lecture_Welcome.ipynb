{
 "cells": [
  {
   "cell_type": "markdown",
   "id": "ad3e341f",
   "metadata": {},
   "source": [
    "# Week 01 Lecture: Welcome to ML4MD"
   ]
  },
  {
   "cell_type": "markdown",
   "id": "72e0b5ba",
   "metadata": {},
   "source": [
    "This is a test of the notebook functionality and working with Google Colab.  If you are viewing this on the course website, hover over the Launch button in the top right (looks like a rocket ship) and click \"Colab\" to launch the notebook in Google Colab.\n",
    "\n",
    "Once you are in Colab, execute the cells below to test it out!"
   ]
  },
  {
   "cell_type": "code",
   "execution_count": null,
   "id": "99f12428",
   "metadata": {},
   "outputs": [],
   "source": [
    "import numpy as np\n",
    "import matplotlib.pyplot as plt"
   ]
  },
  {
   "cell_type": "code",
   "execution_count": null,
   "id": "8705cf03",
   "metadata": {},
   "outputs": [],
   "source": [
    "x = np.linspace(0,10,1000)\n",
    "y = np.sin(x)\n",
    "plt.plot(x,y,label='sin(x)')\n",
    "plt.xlabel('x')\n",
    "plt.ylabel('y')"
   ]
  },
  {
   "cell_type": "code",
   "execution_count": null,
   "id": "d433b94f",
   "metadata": {},
   "outputs": [],
   "source": [
    "plt.savefig('test.pdf')"
   ]
  },
  {
   "cell_type": "code",
   "execution_count": null,
   "id": "276066cf",
   "metadata": {},
   "outputs": [],
   "source": []
  }
 ],
 "metadata": {
  "kernelspec": {
   "display_name": "Python 3 (ipykernel)",
   "language": "python",
   "name": "python3"
  },
  "language_info": {
   "codemirror_mode": {
    "name": "ipython",
    "version": 3
   },
   "file_extension": ".py",
   "mimetype": "text/x-python",
   "name": "python",
   "nbconvert_exporter": "python",
   "pygments_lexer": "ipython3",
   "version": "3.9.5"
  }
 },
 "nbformat": 4,
 "nbformat_minor": 5
}
