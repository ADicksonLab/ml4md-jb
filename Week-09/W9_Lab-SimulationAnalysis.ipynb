{
 "cells": [
  {
   "cell_type": "markdown",
   "id": "e8e47d78",
   "metadata": {},
   "source": [
    "# Week 09 Lab: Analysis of MD trajectories with Markov State Models\n",
    "\n",
    "### Softwares used : PyEMMA and mdshare\n"
   ]
  },
  {
   "cell_type": "markdown",
   "id": "891ed1fe",
   "metadata": {},
   "source": [
    "> ``` pip install pyemma ```\n",
    "\n",
    "> ``` pip install mdshare ```\n",
    "\n",
    "> ``` conda list ``` #The list should have pyemma, mdhare, matplotlib, numpy etc...\n"
   ]
  },
  {
   "cell_type": "markdown",
   "id": "fa426feb",
   "metadata": {},
   "source": [
    "- PyEMMA has a set of packages that can be used for analysis of MD data with Markov state models or even only to generate features or reduce the dimension of the data space.\n",
    "\n",
    "- The documentation of PyEMMA can be found here (keep it handy for the class): http://www.emma-project.org/latest/api/index.html\n",
    "\n",
    "- You will see a few packages are mentioned there (like coordinates, msm etc) with each having separate APIs. We will be using coordinates, msm and plots packages extensively.\n",
    "\n",
    "- This lab follows the PyEMMA examples found here: [https://github.com/markovmodel/pyemma_tutorials](https://github.com/markovmodel/pyemma_tutorials)."
   ]
  },
  {
   "cell_type": "code",
   "execution_count": null,
   "id": "140aa5f6",
   "metadata": {},
   "outputs": [],
   "source": [
    "# importing modules required for the class\n",
    "\n",
    "%matplotlib inline\n",
    "import matplotlib.pyplot as plt\n",
    "import matplotlib as mpl\n",
    "import numpy as np\n",
    "import mdshare\n",
    "import pyemma\n",
    "from pyemma.util.contexts import settings\n",
    "import nglview\n",
    "import mdtraj\n",
    "from threading import Timer\n",
    "from nglview.player import TrajectoryPlayer"
   ]
  },
  {
   "cell_type": "markdown",
   "id": "0752d020",
   "metadata": {},
   "source": [
    "- Download the pdb (topology) and example simulation trajectories from the PyEMMA server of Prof Frank Noe's group.\n",
    "- The system is pentapeptide model.\n",
    "- There are 25 separate small simulations (500 ns each), where the system is recorded at 0.1 ns. So each trajectory has (500/0.1)= 5000 frames\n",
    "- The downloaded data is stored into a folder (data) under your current working directory"
   ]
  },
  {
   "cell_type": "code",
   "execution_count": null,
   "id": "6ce2688d",
   "metadata": {},
   "outputs": [],
   "source": [
    "# Download the pdb (topology) and files\n",
    "\n",
    "pdb = mdshare.fetch('pentapeptide-impl-solv.pdb', working_directory='data')\n",
    "files = mdshare.fetch('pentapeptide-*-500ns-impl-solv.xtc', working_directory='data')"
   ]
  },
  {
   "cell_type": "markdown",
   "id": "952ad007",
   "metadata": {},
   "source": [
    "- View the system in nglview.\n",
    "- The stop_spin() function is to ensure that the view window closes after 60 seconds."
   ]
  },
  {
   "cell_type": "code",
   "execution_count": null,
   "id": "a856422f",
   "metadata": {},
   "outputs": [],
   "source": [
    "# View the system in nglview as you have done in previous class\n",
    "\n",
    "widget = nglview.show_mdtraj(mdtraj.load(pdb))\n",
    "p = TrajectoryPlayer(widget)\n",
    "widget.add_ball_and_stick()\n",
    "widget.add_line('water')\n",
    "p.spin = True\n",
    "def stop_spin():\n",
    "    p.spin = False\n",
    "    widget.close()\n",
    "Timer(60, stop_spin).start()\n",
    "widget"
   ]
  },
  {
   "cell_type": "markdown",
   "id": "9d443357",
   "metadata": {},
   "source": [
    "- Selecting the features from the data using 'coordinates' package of pyemma.\n",
    "\n",
    "- This is where you will find all the APIs of pyemma.coordinate: http://www.emma-project.org/v2.4/api/index_coor.html\n",
    "\n",
    "- We will extract the features using [pyemma.coordinates.featurizer function]( http://www.emma-project.org/latest/api/generated/pyemma.coordinates.featurizer.html#pyemma.coordinates.featurizer) in the following code block.\n",
    "\n",
    "- Notice in the featurizer documentation webpage, you can have a lot of options to select from under the methods section. Some common choices are add_backbone_torsions, add_distances_ca etc. As we discussed in the last class, selecting feature requires knowledge and intuition about the data and the process that you are tageting to observe.\n",
    "\n",
    "- For example lets see how we create a feature of C$\\alpha$ distances."
   ]
  },
  {
   "cell_type": "code",
   "execution_count": null,
   "id": "ee796b2a",
   "metadata": {},
   "outputs": [],
   "source": [
    "#first we pass the topology to featurizer function \n",
    "\n",
    "distances_feat_ca = pyemma.coordinates.featurizer(pdb)"
   ]
  },
  {
   "cell_type": "code",
   "execution_count": null,
   "id": "8722457e",
   "metadata": {
    "scrolled": true
   },
   "outputs": [],
   "source": [
    "# Now we tell the featurizer which method to use to extract the features\n",
    "\n",
    "distances_feat_ca.add_distances_ca(periodic=False, excluded_neighbors=1)"
   ]
  },
  {
   "cell_type": "code",
   "execution_count": null,
   "id": "4084ef47",
   "metadata": {},
   "outputs": [],
   "source": [
    "# Now we load all the data files with 'pyemma.coordinates.load' utility\n",
    "# and store the features using the definition in the previous step.\n",
    "\n",
    "ca_dist_data = pyemma.coordinates.load(files, features=distances_feat_ca)\n",
    "#labels = ['C_alpha']"
   ]
  },
  {
   "cell_type": "code",
   "execution_count": null,
   "id": "8aaac9e5",
   "metadata": {},
   "outputs": [],
   "source": [
    "# TO DO\n",
    "# What is the dimension of ca_dist_data?\n"
   ]
  },
  {
   "cell_type": "markdown",
   "id": "713d0476",
   "metadata": {},
   "source": [
    "Lets do the same thing with backbone torsions and positions of backbone atoms.\n",
    "\n",
    "Backbone torsions are known to be better features for slow processes. \n",
    "\n",
    "You will initialize the featurizers and create the feature list in the code block below.\n",
    "\n",
    "Follow the previous example of C$\\alpha$ distances in both cases."
   ]
  },
  {
   "cell_type": "code",
   "execution_count": null,
   "id": "e35123f9",
   "metadata": {},
   "outputs": [],
   "source": [
    "torsions_feat = #Fill up this space\n",
    "torsions_feat.add_backbone_torsions(cossin=True, periodic=False)\n",
    "torsions_data = #Fill up this space\n",
    "labels = ['backbone\\ntorsions']\n",
    "\n",
    "positions_feat = #Fill up this space\n",
    "positions_feat.add_selection(positions_feat.select_Backbone())\n",
    "positions_data = #Fill up this space\n",
    "labels += ['backbone atom\\npositions']"
   ]
  },
  {
   "cell_type": "code",
   "execution_count": null,
   "id": "ab445b32",
   "metadata": {},
   "outputs": [],
   "source": [
    "##Fill up this space: \n",
    "# What is the dimension of torsions_data? \n",
    "# How many features are there for each frame?"
   ]
  },
  {
   "cell_type": "markdown",
   "id": "2a64b954",
   "metadata": {},
   "source": [
    "Next, we compare the VAMP2 score. VAMP is variational approaches for markov process and VAMP2 score is a parameter to prove the effectiveness of the features by measuring the timescale of associated processes.\n",
    "\n",
    "The following code block is taken from a PyEMMA example file.\n",
    "\n",
    "The score_cv function compute a cross-validated VAMP2 score. We randomly split the list of independent trajectories into a training and a validation set, compute the VAMP2 score and repeat this process several times.\n",
    "    \n",
    "Parameters are:\n",
    "\n",
    "data : list of numpy.ndarrays (the input data).\n",
    "\n",
    "dim : int (Number of slow/important processes to score)\n",
    "\n",
    "lag : int (lag time for the VAMP2 scoring)\n",
    "\n",
    "number_of_splits : int, optional, default=10. How often do we repeat the splitting and score calculation.\n",
    "\n",
    "validation_fraction : int, optional, default=0.5. Fraction of trajectories which should go into the validation set during a split."
   ]
  },
  {
   "cell_type": "code",
   "execution_count": null,
   "id": "36b8365d",
   "metadata": {
    "scrolled": false
   },
   "outputs": [],
   "source": [
    "def score_cv(data, dim, lag, number_of_splits=10, validation_fraction=0.5):\n",
    "\n",
    "    # we temporarily suppress very short-lived progress bars\n",
    "    with pyemma.util.contexts.settings(show_progress_bars=False):\n",
    "        nval = int(len(data) * validation_fraction)\n",
    "        scores = np.zeros(number_of_splits)\n",
    "        for n in range(number_of_splits):\n",
    "            ival = np.random.choice(len(data), size=nval, replace=False)\n",
    "            vamp = pyemma.coordinates.vamp(\n",
    "                [d for i, d in enumerate(data) if i not in ival], lag=lag, dim=dim)\n",
    "            scores[n] = vamp.score([d for i, d in enumerate(data) if i in ival])\n",
    "    return scores\n",
    "\n",
    "\n",
    "dim = 10\n",
    "\n",
    "fig, axes = plt.subplots(1, 3, figsize=(12, 3), sharey=True)\n",
    "\n",
    "for ax, lag in zip(axes.flat, [5, 10, 20]):\n",
    "    \n",
    "    torsions_scores = score_cv(torsions_data, lag=lag, dim=dim)\n",
    "    scores = [torsions_scores.mean()]\n",
    "    errors = [torsions_scores.std()]\n",
    "    positions_scores = score_cv(positions_data, lag=lag, dim=dim)\n",
    "    scores += [positions_scores.mean()]\n",
    "    errors += [positions_scores.std()]\n",
    "    \n",
    "    ax.bar(labels, scores, yerr=errors, color=['C0', 'C1', 'C2'])\n",
    "    \n",
    "    ax.set_title(r'lag time $\\tau$={:.1f}ns'.format(lag * 0.1))\n",
    "    \n",
    "    if lag == 5:\n",
    "        # save for later\n",
    "        vamp_bars_plot = dict(\n",
    "            labels=labels, scores=scores, errors=errors, dim=dim, lag=lag)\n",
    "axes[0].set_ylabel('VAMP2 score')\n",
    "fig.tight_layout()"
   ]
  },
  {
   "cell_type": "markdown",
   "id": "63cbc400",
   "metadata": {},
   "source": [
    "*Why do you think it is better to work with backbone torsions?*\n",
    "\n",
    "*Hint: think about the dimensionality of the each feature space as well*"
   ]
  },
  {
   "cell_type": "markdown",
   "id": "c0ebc705",
   "metadata": {},
   "source": [
    "In the next step, we will only modify the lag-time and the dimensions (number of slow processes) thing  is to see how the score changes with respect to vamp2."
   ]
  },
  {
   "cell_type": "code",
   "execution_count": null,
   "id": "59ad99c9",
   "metadata": {
    "scrolled": false
   },
   "outputs": [],
   "source": [
    "lags = [1, 2, 5, 10, 20]\n",
    "dims = [i + 1 for i in range(10)]\n",
    "\n",
    "fig, ax = plt.subplots()\n",
    "for i, lag in enumerate(lags):\n",
    "    scores_ = np.array([score_cv(torsions_data, dim, lag)\n",
    "                        for dim in dims])\n",
    "    scores = np.mean(scores_, axis=1)\n",
    "    errors = np.std(scores_, axis=1, ddof=1)\n",
    "    color = 'C{}'.format(i)\n",
    "    ax.fill_between(dims, scores - errors, scores + errors, alpha=0.4, facecolor=color)\n",
    "    ax.plot(dims, scores, '--o', color=color, label='lag={:.1f}ns'.format(lag * 0.1))\n",
    "ax.legend()\n",
    "ax.set_xlabel('number of dimensions')\n",
    "ax.set_ylabel('VAMP2 score')\n",
    "fig.tight_layout()"
   ]
  },
  {
   "cell_type": "markdown",
   "id": "2e094f33",
   "metadata": {},
   "source": [
    "The figure above tells us that there is no more than four slow processes in data set."
   ]
  },
  {
   "cell_type": "markdown",
   "id": "3917b746",
   "metadata": {},
   "source": [
    "- Now we will reduce the dimensionality of the feature space but projecting it into a few 'important' dimensions. \n",
    "\n",
    "- Remember the basis functions we were talking about in the final few slides of the lecture.\n",
    "\n",
    "- This is an attempt to reach as close to the basis functions as possible using a mathematical tool called tICA (Time-Lagged Independent Component Analysis)."
   ]
  },
  {
   "cell_type": "code",
   "execution_count": null,
   "id": "986751a8",
   "metadata": {},
   "outputs": [],
   "source": [
    "tica = pyemma.coordinates.tica(torsions_data, lag=5)\n",
    "tica_output = tica.get_output()\n",
    "tica_concatenated = np.concatenate(tica_output)"
   ]
  },
  {
   "cell_type": "code",
   "execution_count": null,
   "id": "3eb7e41b",
   "metadata": {},
   "outputs": [],
   "source": [
    "## Fill up this:\n",
    "\n",
    "# How many dimensions are there in the projected data?\n",
    "# Change the inputs to positions_data. \n",
    "# What are the changes in the number of dimensions?\n",
    "# Revert back to torsions_data as we want that for msm building.\n",
    "\n"
   ]
  },
  {
   "cell_type": "markdown",
   "id": "2186ad78",
   "metadata": {},
   "source": [
    "These many metastable basins are present with respect to the dynamical motion."
   ]
  },
  {
   "cell_type": "markdown",
   "id": "bcd7e499",
   "metadata": {},
   "source": [
    "- Plot the ICs with respect to feature values.\n",
    "- It shows that each IC has high density in a certain range of average feature values."
   ]
  },
  {
   "cell_type": "code",
   "execution_count": null,
   "id": "3bf04093",
   "metadata": {
    "scrolled": true
   },
   "outputs": [],
   "source": [
    "fig, axes = plt.subplots(1, 2, figsize=(10, 4))\n",
    "pyemma.plots.plot_feature_histograms(\n",
    "    tica_concatenated,\n",
    "    ax=axes[0],\n",
    "    feature_labels=['IC1', 'IC2', 'IC3', 'IC4'],\n",
    "    ylog=True)\n",
    "pyemma.plots.plot_density(*tica_concatenated[:, :2].T, ax=axes[1], logscale=True)\n",
    "axes[1].set_xlabel('IC 1')\n",
    "axes[1].set_ylabel('IC 2')\n",
    "fig.tight_layout()"
   ]
  },
  {
   "cell_type": "markdown",
   "id": "27edc208",
   "metadata": {},
   "source": [
    "Inspect one of the trajectories and see how the tICA components change with time. \n",
    "\n",
    "Any slow transition is the dynamics should come up as a sharp jump in tICA space.\n",
    "\n",
    "Do you see any? Comment on that. "
   ]
  },
  {
   "cell_type": "code",
   "execution_count": null,
   "id": "084578d5",
   "metadata": {
    "scrolled": true
   },
   "outputs": [],
   "source": [
    "fig, axes = plt.subplots(4, 1, figsize=(12, 5), sharex=True)\n",
    "x = 0.1 * np.arange(tica_output[0].shape[0])\n",
    "for i, (ax, tic) in enumerate(zip(axes.flat, tica_output[0].T)):\n",
    "    ax.plot(x, tic)\n",
    "    ax.set_ylabel('IC {}'.format(i + 1))\n",
    "axes[-1].set_xlabel('time / ns')\n",
    "fig.tight_layout()"
   ]
  },
  {
   "cell_type": "markdown",
   "id": "bf07355b",
   "metadata": {},
   "source": [
    "Can you figure out how to take the 2nd frame of first trajectory for the above plot?\n",
    "Try that and see if things change."
   ]
  },
  {
   "cell_type": "markdown",
   "id": "3391ba18",
   "metadata": {},
   "source": [
    "**Clustering**\n",
    "\n",
    "Let's do clustering with the tICA outputs. We have reduced the dimension of 16 torsion features to 4 tICAs. Now we can define the states that we have talked about in the lecture.\n",
    "\n",
    "We use kmeans clustering object from pyemma (the functions inside actually calls scikit-learn kmeans)."
   ]
  },
  {
   "cell_type": "code",
   "execution_count": null,
   "id": "2c84ca5d",
   "metadata": {},
   "outputs": [],
   "source": [
    "cluster = pyemma.coordinates.cluster_kmeans(\n",
    "    tica_output, k=25, max_iter=5000, stride=1)\n",
    "dtrajs_concatenated = np.concatenate(cluster.dtrajs)"
   ]
  },
  {
   "cell_type": "markdown",
   "id": "080ed438",
   "metadata": {},
   "source": [
    "Visualization of the clusters with respect to tICA.\n",
    "\n",
    "You can see the small black dots (cluster centers of kmeans) are actually spanning all the densities of ICs (even the low desnity spaces also fall into clusters)"
   ]
  },
  {
   "cell_type": "code",
   "execution_count": null,
   "id": "c85aad06",
   "metadata": {
    "scrolled": true
   },
   "outputs": [],
   "source": [
    "fig, ax = plt.subplots(figsize=(4, 4))\n",
    "pyemma.plots.plot_density(\n",
    "    *tica_concatenated[:, :2].T, ax=ax, cbar=True, alpha=0.3)\n",
    "ax.scatter(*cluster.clustercenters[:, :2].T, s=5, c='Black')\n",
    "ax.set_xlabel('IC 1')\n",
    "ax.set_ylabel('IC 2')\n",
    "fig.tight_layout()"
   ]
  },
  {
   "cell_type": "markdown",
   "id": "16dc0294",
   "metadata": {},
   "source": [
    "**Build an MSM with the clusters**\n",
    "\n",
    "**Lag time is again 5 steps which means 5$\\times$0.1ns = 0.5 ns**"
   ]
  },
  {
   "cell_type": "code",
   "execution_count": null,
   "id": "5e6f60eb",
   "metadata": {
    "scrolled": false
   },
   "outputs": [],
   "source": [
    "msm = pyemma.msm.bayesian_markov_model(cluster.dtrajs, lag=5, dt_traj='0.1 ns')\n",
    "print('fraction of states used = {:.2f}'.format(msm.active_state_fraction))\n",
    "print('fraction of counts used = {:.2f}'.format(msm.active_count_fraction))"
   ]
  },
  {
   "cell_type": "markdown",
   "id": "57616bca",
   "metadata": {},
   "source": [
    "How does the eigenvalues look? \n",
    "Try with different lag time in the above code and see how that effects."
   ]
  },
  {
   "cell_type": "code",
   "execution_count": null,
   "id": "317ea6ce",
   "metadata": {
    "scrolled": false
   },
   "outputs": [],
   "source": [
    "msm.eigenvalues()"
   ]
  },
  {
   "cell_type": "markdown",
   "id": "17696501",
   "metadata": {},
   "source": [
    "The eigenvectors corresponding to the slowest processes contain information about what configurational changes are happening on which timescales. \n",
    "\n",
    "We analyze the slowest processes by inspecting the value of the first four eigenfunctions projected on two the first TICA coordinates.\n",
    "\n",
    "Please keep lag=5 in the msm model building step to do this."
   ]
  },
  {
   "cell_type": "code",
   "execution_count": null,
   "id": "2b1bda63",
   "metadata": {
    "scrolled": true
   },
   "outputs": [],
   "source": [
    "eigvec = msm.eigenvectors_right()\n",
    "print('The first eigenvector is one: {} (min={}, max={})'.format(\n",
    "    np.allclose(eigvec[:, 0], 1, atol=1e-15), eigvec[:, 0].min(), eigvec[:, 0].max()))\n",
    "\n",
    "fig, axes = plt.subplots(1, 4, figsize=(15, 3), sharex=True, sharey=True)\n",
    "for i, ax in enumerate(axes.flat):\n",
    "    pyemma.plots.plot_contour(\n",
    "        *tica_concatenated[:, :2].T,\n",
    "        eigvec[dtrajs_concatenated, i + 1],\n",
    "        ax=ax,\n",
    "        cmap='PiYG',\n",
    "        cbar_label='{}. right eigenvector'.format(i + 2),\n",
    "        mask=True)\n",
    "    ax.set_xlabel('IC 1')\n",
    "axes[0].set_ylabel('IC 2')\n",
    "fig.tight_layout()"
   ]
  },
  {
   "cell_type": "markdown",
   "id": "3c25c1c7",
   "metadata": {},
   "source": [
    "We analyze the stationary distribution and the free energy computed over the first two TICA coordinates. \n",
    "\n",
    "The stationary distribution is stored in msm.pi. \n",
    "\n",
    "We compute the free energy landscape by re-weighting the trajectory frames with stationary probabilities from the MSM (returned by msm.trajectory_weights())."
   ]
  },
  {
   "cell_type": "code",
   "execution_count": null,
   "id": "d34ea074",
   "metadata": {},
   "outputs": [],
   "source": [
    "fig, axes = plt.subplots(1, 2, figsize=(10, 4), sharex=True, sharey=True)\n",
    "pyemma.plots.plot_contour(\n",
    "    *tica_concatenated[:, :2].T,\n",
    "    msm.pi[dtrajs_concatenated],\n",
    "    ax=axes[0],\n",
    "    mask=True,\n",
    "    cbar_label='stationary distribution')\n",
    "pyemma.plots.plot_free_energy(\n",
    "    *tica_concatenated[:, :2].T,\n",
    "    weights=np.concatenate(msm.trajectory_weights()),\n",
    "    ax=axes[1],\n",
    "    legacy=False)\n",
    "for ax in axes.flat:\n",
    "    ax.set_xlabel('IC 1')\n",
    "axes[0].set_ylabel('IC 2')\n",
    "axes[0].set_title('Stationary distribution', fontweight='bold')\n",
    "axes[1].set_title('Reweighted free energy surface', fontweight='bold')\n",
    "fig.tight_layout()"
   ]
  },
  {
   "cell_type": "markdown",
   "id": "c97b8f96",
   "metadata": {},
   "source": [
    "# To do:\n",
    "\n",
    "Here is a code block for clustering with varibale number of cluster centers.\n",
    "\n",
    "Work on the n_clustercenters (a list) and tell us what do you think is the optimum number of clusters for this tICA outputs of torsion features.\n",
    "\n",
    "You can modify with max_itr and stride to see how that effects with figure as well. \n",
    "\n",
    "Once you find an optimum number for the clustering, rerun the msm model building part. "
   ]
  },
  {
   "cell_type": "code",
   "execution_count": null,
   "id": "723425b8",
   "metadata": {},
   "outputs": [],
   "source": [
    "n_clustercenters = #Fix this\n",
    "\n",
    "scores = np.zeros((len(n_clustercenters), 5))\n",
    "\n",
    "\n",
    "for n, k in enumerate(n_clustercenters):\n",
    "    for m in range(5):\n",
    "        with pyemma.util.contexts.settings(show_progress_bars=False):\n",
    "            _cl = pyemma.coordinates.cluster_kmeans(\n",
    "                tica_output, k=k, max_iter=500, stride=10)\n",
    "            _msm = pyemma.msm.estimate_markov_model(_cl.dtrajs, 5)\n",
    "            scores[n, m] = _msm.score_cv(#what will be the input here?, \n",
    "                n=1, score_method='VAMP2', score_k=min(10, k))\n",
    "\n",
    "fig, ax = plt.subplots()\n",
    "lower, upper = pyemma.util.statistics.confidence_interval(scores.T.tolist(), conf=0.9)\n",
    "ax.fill_between(n_clustercenters, lower, upper, alpha=0.3)\n",
    "ax.plot(n_clustercenters, np.mean(scores, axis=1), '-o')\n",
    "#ax.semilogx()\n",
    "ax.set_xlabel('number of cluster centers')\n",
    "ax.set_ylabel('VAMP-2 score')\n",
    "fig.tight_layout()"
   ]
  }
 ],
 "metadata": {
  "kernelspec": {
   "display_name": "Python 3 (ipykernel)",
   "language": "python",
   "name": "python3"
  },
  "language_info": {
   "codemirror_mode": {
    "name": "ipython",
    "version": 3
   },
   "file_extension": ".py",
   "mimetype": "text/x-python",
   "name": "python",
   "nbconvert_exporter": "python",
   "pygments_lexer": "ipython3",
   "version": "3.8.12"
  }
 },
 "nbformat": 4,
 "nbformat_minor": 5
}
