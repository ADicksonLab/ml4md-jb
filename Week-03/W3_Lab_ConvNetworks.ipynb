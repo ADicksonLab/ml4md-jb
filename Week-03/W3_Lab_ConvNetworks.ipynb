{
 "cells": [
  {
   "cell_type": "markdown",
   "id": "7ad0edc9",
   "metadata": {
    "slideshow": {
     "slide_type": "slide"
    }
   },
   "source": [
    "# Week 02 Lab: Machine Learning Basics"
   ]
  },
  {
   "cell_type": "markdown",
   "id": "279e22ec",
   "metadata": {
    "slideshow": {
     "slide_type": "fragment"
    }
   },
   "source": [
    "## Student Name: YOUR NAME HERE"
   ]
  },
  {
   "cell_type": "markdown",
   "id": "8b2c1cd8",
   "metadata": {
    "slideshow": {
     "slide_type": "subslide"
    }
   },
   "source": [
    "## How long does it take for an object to fall to earth from a given height?\n",
    "\n",
    "<img alt=\"newton-apple\" src=\"http://3.bp.blogspot.com/-ex0MoQErWu8/U3jenn_DFMI/AAAAAAAAAUY/49lw-QXQyVM/s1600/philosophy-apple-newton.jpg\" width=\"300\"/>\n"
   ]
  },
  {
   "cell_type": "markdown",
   "id": "49c9f8ee",
   "metadata": {
    "slideshow": {
     "slide_type": "subslide"
    }
   },
   "source": [
    "On earth there is gravitational force:\n",
    "\n",
    "$$\n",
    "F_{grav} = mg\n",
    "$$\n",
    "\n",
    "where $m$ is the mass and $g = 9.81 m/s^2$.\n",
    "\n",
    "In vacuum (which isn't very realistic) there is only gravitational force and the equations of motion are given as:\n",
    "\n",
    "Total force:\n",
    "\n",
    "$$\n",
    "F = F_{grav}\n",
    "$$\n",
    "\n",
    "Acceleration:\n",
    "\n",
    "$$\n",
    "a = \\frac{F}{m} = g\n",
    "$$\n",
    "\n",
    "Velocity after time $t$:\n",
    "\n",
    "$$\n",
    "v = at = gt\n",
    "$$\n",
    "\n",
    "Distance after time $t$:\n",
    "\n",
    "$$\n",
    "h = \\frac{1}{2}at^2 = \\frac{1}{2}gt^2\n",
    "$$\n",
    "\n",
    "We can solve this for the time it takes to fall from a given height:\n",
    "\n",
    "$$\n",
    "t = \\sqrt{\\frac{2h}{g}}\n",
    "$$"
   ]
  },
  {
   "cell_type": "markdown",
   "id": "1650edf7",
   "metadata": {},
   "source": [
    "We can plot time as a function of height based on this equation using `matplotlib`:"
   ]
  },
  {
   "cell_type": "code",
   "execution_count": 1,
   "id": "5a2f2c0e",
   "metadata": {},
   "outputs": [],
   "source": [
    "import matplotlib.pyplot as plt\n",
    "import numpy as np"
   ]
  },
  {
   "cell_type": "code",
   "execution_count": 2,
   "id": "b8496a03",
   "metadata": {},
   "outputs": [
    {
     "data": {
      "image/png": "[encoded data removed]",
      "text/plain": [
       "<Figure size 432x288 with 1 Axes>"
      ]
     },
     "metadata": {
      "needs_background": "light"
     },
     "output_type": "display_data"
    }
   ],
   "source": [
    "g=9.81\n",
    "height=np.arange(0.0,50.0,0.1)\n",
    "time=np.sqrt(2.0*height/g)\n",
    "\n",
    "plt.plot(height,time)\n",
    "plt.xlabel('height [m]')\n",
    "plt.ylabel('time [s]')\n",
    "\n",
    "#you can adjust the figure size if you like\n",
    "#plt.rcParams[\"figure.figsize\"] = (7,5)\n",
    "\n",
    "plt.show()\n"
   ]
  },
  {
   "cell_type": "markdown",
   "id": "d8d647aa",
   "metadata": {
    "slideshow": {
     "slide_type": "fragment"
    }
   },
   "source": [
    "## Can we learn this function from observational data?\n",
    "\n",
    "<img alt=\"apple experiments\" src=\"https://github.com/ADicksonLab/ml4md-jb/raw/main/Week-02/apple-experiment.png\" width=\"400\"/>\n",
    "\n",
    "Here is a data set that was taken in vacuum:\n",
    "\n",
    "[apple.vacuum.dat](https://raw.githubusercontent.com/ADicksonLab/ml4md-jb/main/Week-02/apple.vacuum.dat)\n",
    "\n",
    "Please download this file to your local directory so that you can run the following part of the notebook."
   ]
  },
  {
   "cell_type": "code",
   "execution_count": 3,
   "id": "1fa29b7b",
   "metadata": {},
   "outputs": [
    {
     "data": {
      "image/png": "[encoded data removed]",
      "text/plain": [
       "<Figure size 432x288 with 1 Axes>"
      ]
     },
     "metadata": {
      "needs_background": "light"
     },
     "output_type": "display_data"
    }
   ],
   "source": [
    "data=np.loadtxt('apple.vacuum.dat')\n",
    "data_x=data[:,0]\n",
    "data_y=data[:,1]\n",
    "\n",
    "# note: 'ro' means 'red circles'\n",
    "plt.plot(data_x,data_y,'ro')\n",
    "plt.xlabel('height [m]')\n",
    "plt.ylabel('time [s]')\n",
    "plt.show()\n"
   ]
  },
  {
   "cell_type": "markdown",
   "id": "c7df9d5a",
   "metadata": {},
   "source": [
    "## Training a neural network\n",
    "\n",
    "In the following we will train a neural network using the data above. The goal is to develop a model that takes a height value as input and predicts the time it takes to hit the ground. We will train the model based on the (noisy) data shown above, but we will test it afterwards using the exact answer given by the equation above."
   ]
  },
  {
   "cell_type": "markdown",
   "id": "755fdd96",
   "metadata": {},
   "source": [
    "### Setting things up \n",
    "\n",
    "We will use `pytorch` for machine learning.\n",
    "\n",
    "Please try the following to load the modules (and to check that the installation is fine):"
   ]
  },
  {
   "cell_type": "code",
   "execution_count": 4,
   "id": "525ed725",
   "metadata": {},
   "outputs": [],
   "source": [
    "import torch\n",
    "import torch.nn as nn\n",
    "import torch.nn.functional as F"
   ]
  },
  {
   "cell_type": "markdown",
   "id": "a9d9be24",
   "metadata": {},
   "source": [
    "If you get error messages above, you probably need to install `pytorch`. \n",
    "\n",
    "Try the following command if you are using a conda environment:\n",
    "\n",
    "`conda install pytorch -c pytorch`\n",
    "\n",
    "If you do not have a GPU (and no CUDA), try the following command instead:\n",
    "\n",
    "`conda install pytorch cpuonly -c pytorch`\n"
   ]
  },
  {
   "cell_type": "markdown",
   "id": "a820b086",
   "metadata": {},
   "source": [
    "You can check for CUDA and the presence of GPUs with the following command (on Linux)"
   ]
  },
  {
   "cell_type": "code",
   "execution_count": 5,
   "id": "fa6dbbe7",
   "metadata": {},
   "outputs": [
    {
     "name": "stdout",
     "output_type": "stream",
     "text": [
      "/bin/bash: nvidia-smi: command not found\r\n"
     ]
    }
   ],
   "source": [
    "!nvidia-smi"
   ]
  },
  {
   "cell_type": "markdown",
   "id": "8cc40bca",
   "metadata": {},
   "source": [
    "If it says 'command not found' or if there is another error message you probably do not have GPUs that can be used via CUDA."
   ]
  },
  {
   "cell_type": "markdown",
   "id": "bd9aae57",
   "metadata": {},
   "source": [
    "If the package import did not succeed earlier, go back and try again after installing the pytorch package before proceeding."
   ]
  },
  {
   "cell_type": "markdown",
   "id": "2b34372e",
   "metadata": {},
   "source": [
    "### Preparing the data\n",
    "\n",
    "We will begin by splitting the data into training and validation sets. This will be done with the following function:"
   ]
  },
  {
   "cell_type": "code",
   "execution_count": 6,
   "id": "7465494e",
   "metadata": {},
   "outputs": [],
   "source": [
    "import random\n",
    "\n",
    "def randomsplitdata(fn,training_fraction):\n",
    "    data=np.loadtxt(fn)\n",
    "    \n",
    "    tflag=np.zeros(len(data),dtype=int)\n",
    "    while np.average(tflag)<training_fraction:\n",
    "        tflag[random.randint(0,len(data)-1)]=1\n",
    "    \n",
    "    tdata=data[np.nonzero(tflag)].copy()\n",
    "    vdata=data[np.nonzero(1-tflag)].copy()\n",
    "    return tdata,vdata\n"
   ]
  },
  {
   "cell_type": "markdown",
   "id": "c198d52c",
   "metadata": {},
   "source": [
    "Now we generate the training and validation sets. We need to specify what fraction of data should be the training set. In the example below it is set to 0.8 (i.e. 80%), but feel free to try out other values."
   ]
  },
  {
   "cell_type": "code",
   "execution_count": 7,
   "id": "c9877a62",
   "metadata": {},
   "outputs": [],
   "source": [
    "[training,validation]=randomsplitdata('apple.vacuum.dat',0.8) "
   ]
  },
  {
   "cell_type": "markdown",
   "id": "e536cb1a",
   "metadata": {},
   "source": [
    "Next, we generate `Dataset` objects needed for `pytorch`. First we define a class:"
   ]
  },
  {
   "cell_type": "code",
   "execution_count": 8,
   "id": "8bf94547",
   "metadata": {},
   "outputs": [],
   "source": [
    "class Dataset(torch.utils.data.Dataset):\n",
    "    def __init__(self, data):\n",
    "        self.label = data[:,1].astype(np.float32)\n",
    "        self.input = data[:,0].reshape(-1,1)\n",
    "    def __len__(self):\n",
    "        return self.label.shape[0]\n",
    "    def __getitem__(self, index):\n",
    "        return self.input[index].astype(np.float32), self.label[index]"
   ]
  },
  {
   "cell_type": "markdown",
   "id": "34f07a2b",
   "metadata": {},
   "source": [
    "Now we use the class with the training and validation data sets generated above:"
   ]
  },
  {
   "cell_type": "code",
   "execution_count": 9,
   "id": "ab46e8bc",
   "metadata": {},
   "outputs": [],
   "source": [
    "train_set=Dataset(training)\n",
    "validation_set=Dataset(validation)"
   ]
  },
  {
   "cell_type": "markdown",
   "id": "a262cf14",
   "metadata": {},
   "source": [
    "Using the data sets we set up data loader objects that are needed by `pytorch` for batch processing. Batches are only needed for the training data. The initial data here is small and we can choose small batch sizes, but for larger data sets, the batch size should be increased. A good choice for larger sets is 64 or 128."
   ]
  },
  {
   "cell_type": "code",
   "execution_count": 10,
   "id": "b0c9440d",
   "metadata": {},
   "outputs": [],
   "source": [
    "train_loader = torch.utils.data.DataLoader(train_set, batch_size=16, shuffle=True, num_workers=2)\n",
    "validation_loader = torch.utils.data.DataLoader(validation_set, batch_size=1)"
   ]
  },
  {
   "cell_type": "markdown",
   "id": "d49325ad",
   "metadata": {},
   "source": [
    "### Building a model\n",
    "\n",
    "The neural network model is build as a class. \n",
    "\n",
    "In this case we are starting with the following architecture:\n",
    "\n",
    "<img alt=\"newton-nn\" src=\"https://github.com/ADicksonLab/ml4md-jb/raw/main/Week-02/newton-nn-model.png\" width=\"400\"/>"
   ]
  },
  {
   "cell_type": "code",
   "execution_count": 11,
   "id": "083f923f",
   "metadata": {},
   "outputs": [],
   "source": [
    "class Model(nn.Module):\n",
    "    def __init__(self):\n",
    "        super(Model, self).__init__()\n",
    "        # define layers to be used\n",
    "        self.fc_1 = nn.Linear(1, 4)    # fully connected layer 1 -> 4 nodes\n",
    "        self.fc_2 = nn.Linear(4, 4)    # fully connected layer 4 -> 4 nodes\n",
    "        self.fc_f = nn.Linear(4, 1)    # fully connected layer 4 -> 1 nodes\n",
    "    def forward(self, x):\n",
    "        # back-propagation is done automatically\n",
    "        x = F.relu(self.fc_1(x))       # run through first layer w/ ReLU activation\n",
    "        x = F.relu(self.fc_2(x))       # run through second layer w/ ReLU activation\n",
    "        x = self.fc_f(x)               # run through final layer w/o activation\n",
    "        return x\n",
    "    def initialize_weights(self, m):\n",
    "        # initialization of weights, setting them to zero is not good\n",
    "        if hasattr(m, 'weight') and m.weight.dim() > 1:\n",
    "            nn.init.xavier_uniform_(m.weight.data)"
   ]
  },
  {
   "cell_type": "markdown",
   "id": "3e2c9b3a",
   "metadata": {},
   "source": [
    "### Training a model"
   ]
  },
  {
   "cell_type": "markdown",
   "id": "2f4954d8",
   "metadata": {},
   "source": [
    "First, we write training and validation functions. \n",
    "\n",
    "The `train` function returns the loss after going through an epoch (i.e. a number of batches to cover the training data). \n",
    "\n",
    "The `validate` function calculates the loss for the validation set so that we can determine when to stop the training.\n",
    "\n",
    "The `do_training` function runs through a given number of epochs and returns the losses for the training and validation sets for further inspection."
   ]
  },
  {
   "cell_type": "code",
   "execution_count": 12,
   "id": "f9c36807",
   "metadata": {},
   "outputs": [],
   "source": [
    "def train(m,loss_fn,opt,loader):\n",
    "    loss_sum = 0.0\n",
    "    for input, label in loader:\n",
    "        opt.zero_grad()\n",
    "        \n",
    "        #input = input.to(\"cuda\")      # uncomment if CUDA/GPU platform available\n",
    "        #label = label.to(\"cuda\")      # uncomment if CUDA/GPU platofrm available\n",
    "        \n",
    "        output = m(input)              # this is where the model is evaluated\n",
    "        \n",
    "        output = torch.flatten(output)  \n",
    "        loss = loss_fn(output, label)  # this is where the loss function is calculated\n",
    "        loss.backward()                # this calculates the back-propagated loss\n",
    "        loss_sum += loss.item()\n",
    "        \n",
    "        opt.step()                     # this carries out the gradient descent\n",
    "    \n",
    "    return loss_sum / len(loader)\n",
    "\n",
    "def validate(m,loss_fn,loader):\n",
    "    loss_sum = 0.0\n",
    "    for input, label in loader:\n",
    "        #input = input.to(\"cuda\")     # if CUDA/GPU available\n",
    "        #label = label.to(\"cuda\")     # if CUDA/GPU available\n",
    "        \n",
    "        with torch.no_grad():\n",
    "            output = m(input)\n",
    "        \n",
    "        output=torch.flatten(output)\n",
    "        loss = loss_fn(output, label)\n",
    "        loss_sum += loss.item()\n",
    "    return loss_sum / len(loader)\n",
    "\n",
    "def do_training(m,opt,tloader,vloader,epochs,output):\n",
    "    # use MSE loss fucntion\n",
    "    loss_fn = nn.MSELoss()\n",
    "    \n",
    "    tloss=np.zeros(epochs)\n",
    "    vloss=np.zeros(epochs)\n",
    "\n",
    "    for i in range(epochs):\n",
    "        tloss[i] = train(m,loss_fn,opt,tloader)\n",
    "        vloss[i] = validate(m,loss_fn,vloader)\n",
    "        if (output):\n",
    "            print (i, tloss[i], vloss[i])\n",
    "            \n",
    "    return tloss,vloss"
   ]
  },
  {
   "cell_type": "markdown",
   "id": "ecaf77d6",
   "metadata": {},
   "source": [
    "We are now ready to train.\n",
    "\n",
    "First, we create a **model instance**. Then we initialize the weights (randomly) and set the gradients to zero. \n",
    "\n",
    "Then we initialize an **optimizer**. There are two good optimizers: Adam and SGD. Choose one! The learning rate is set with `lr` and may need to be adjusted. The `weight_decay` rate adds regularization in the Aadm optimizer to avoid overfitting.\n",
    "\n",
    "Then we run through 50 epochs to train the model. The output is the training data loss and the validation data loss."
   ]
  },
  {
   "cell_type": "code",
   "execution_count": 13,
   "id": "c0b49fd5",
   "metadata": {},
   "outputs": [
    {
     "name": "stdout",
     "output_type": "stream",
     "text": [
      "Model(\n",
      "  (fc_1): Linear(in_features=1, out_features=4, bias=True)\n",
      "  (fc_2): Linear(in_features=4, out_features=4, bias=True)\n",
      "  (fc_f): Linear(in_features=4, out_features=1, bias=True)\n",
      ")\n",
      "Adam (\n",
      "Parameter Group 0\n",
      "    amsgrad: False\n",
      "    betas: (0.9, 0.999)\n",
      "    eps: 1e-08\n",
      "    lr: 0.005\n",
      "    weight_decay: 1e-05\n",
      ")\n",
      "0 1.378403663635254 1.132428765296936\n",
      "1 1.0932860771814983 0.8066406808793545\n",
      "2 0.7328690687815348 0.5219953265041113\n",
      "3 0.4774714907010396 0.30091321968939155\n",
      "4 0.3650522530078888 0.16557758121052757\n",
      "5 0.15037268896897635 0.11371070201857947\n",
      "6 0.16099068025747934 0.09247798952856101\n",
      "7 0.06720009609125555 0.08552479908559008\n",
      "8 0.06533526256680489 0.08930377602416684\n",
      "9 0.07314382493495941 0.08783123605098808\n",
      "10 0.054540641605854034 0.08068813575664535\n",
      "11 0.06533886988957723 0.061513508275311324\n",
      "12 0.04741900414228439 0.05959793451148698\n",
      "13 0.041885355177025 0.059639706301823026\n",
      "14 0.03823556285351515 0.06531167510547675\n",
      "15 0.05344352498650551 0.047952723617527226\n",
      "16 0.042334980641802154 0.04941392167893355\n",
      "17 0.05793782944480578 0.042986321885109646\n",
      "18 0.032910383927325405 0.08225093508372083\n",
      "19 0.056756701320409775 0.06388643255922943\n",
      "20 0.04250165199240049 0.037501730635995045\n",
      "21 0.0448988638818264 0.04091374781273771\n",
      "22 0.04260841260353724 0.036480959970504045\n",
      "23 0.029520519077777863 0.06809076349600218\n",
      "24 0.03346911398693919 0.04764306597644463\n",
      "25 0.035027701407670975 0.03183298048679717\n",
      "26 0.0273226381589969 0.029355582502830657\n",
      "27 0.02862645499408245 0.028368085382680874\n",
      "28 0.01724701840430498 0.028203367030073423\n",
      "29 0.01791515341028571 0.030160920967318816\n",
      "30 0.018476743871967 0.03126308003905365\n",
      "31 0.017993667318175238 0.02681098080938682\n",
      "32 0.016080159849176805 0.024005937506444752\n",
      "33 0.021308620770772297 0.023237567307660356\n",
      "34 0.020446430581311386 0.02708116670328309\n",
      "35 0.01992575948437055 0.02410319099726621\n",
      "36 0.016605236877997715 0.021686152183974627\n",
      "37 0.01855808434387048 0.022220248909434304\n",
      "38 0.012413357675541192 0.022292451045359485\n",
      "39 0.014541969945033392 0.019922305629734183\n",
      "40 0.01553752894202868 0.01958920171284717\n",
      "41 0.012360000982880592 0.019767645604588324\n",
      "42 0.016598072679092486 0.01891387795723176\n",
      "43 0.013294924981892109 0.018071456372126704\n",
      "44 0.010195678488040963 0.020098631517612375\n",
      "45 0.01061962750585129 0.018030308407105622\n",
      "46 0.010563620366156101 0.017099580822105054\n",
      "47 0.01352012436836958 0.017932832488895656\n",
      "48 0.010027927268917361 0.020297786286391784\n",
      "49 0.01240655081346631 0.016638137480185833\n"
     ]
    }
   ],
   "source": [
    "model = Model()\n",
    "#model.to(\"cuda\")    # <--- uncomment this statement if you have CUDA and a GPU\n",
    "model.apply(model.initialize_weights)\n",
    "model.zero_grad()\n",
    "\n",
    "print(model)\n",
    "\n",
    "optimizer = torch.optim.Adam(model.parameters(), lr=0.005, weight_decay=0.00001)\n",
    "#optimizer = torch.optim.SGD(model.parameters(), lr=0.002, momentum=0.1)\n",
    "\n",
    "print(optimizer)\n",
    "\n",
    "epochs=50\n",
    "showoutput=True\n",
    "\n",
    "[training_loss,validation_loss]=do_training(model,optimizer,train_loader,validation_loader,epochs,showoutput)"
   ]
  },
  {
   "cell_type": "code",
   "execution_count": 14,
   "id": "4fee1599",
   "metadata": {},
   "outputs": [
    {
     "data": {
      "image/png": "[encoded data removed]",
      "text/plain": [
       "<Figure size 432x288 with 1 Axes>"
      ]
     },
     "metadata": {
      "needs_background": "light"
     },
     "output_type": "display_data"
    }
   ],
   "source": [
    "epoch_index=np.arange(epochs)\n",
    "plt.plot(epoch_index,np.log(training_loss),color='r')\n",
    "plt.plot(epoch_index,np.log(validation_loss),color='b')\n",
    "\n",
    "plt.xlabel('epoch')\n",
    "plt.ylabel('loss')\n",
    "\n",
    "plt.show()\n"
   ]
  },
  {
   "cell_type": "markdown",
   "id": "28198a7b",
   "metadata": {},
   "source": [
    "### Testing the model\n",
    "\n",
    "We now have a trained model that we can compare to the solution we know from physics"
   ]
  },
  {
   "cell_type": "code",
   "execution_count": 15,
   "id": "ef736624",
   "metadata": {},
   "outputs": [
    {
     "data": {
      "image/png": "[encoded data removed]",
      "text/plain": [
       "<Figure size 432x288 with 1 Axes>"
      ]
     },
     "metadata": {
      "needs_background": "light"
     },
     "output_type": "display_data"
    }
   ],
   "source": [
    "model_time=np.copy(height)\n",
    "for i in range(len(model_time)):\n",
    "    # this is ugly ... anybody know how to do this better?\n",
    "    tval=torch.tensor([[height[i].astype(np.float32)]])\n",
    "    model_time[i]=model(tval).item()\n",
    "\n",
    "plt.plot(height,time,color='k',linewidth=2)\n",
    "plt.plot(data_x,data_y,'ro')\n",
    "plt.plot(height,model_time,color='g',linewidth=2)\n",
    "\n",
    "plt.xlabel('height [m]')\n",
    "plt.ylabel('time [s]')\n",
    "\n",
    "plt.xlim([0,30])\n",
    "plt.ylim([0,3.0])\n",
    "\n",
    "plt.show()\n"
   ]
  },
  {
   "cell_type": "markdown",
   "id": "fa4c445b",
   "metadata": {},
   "source": [
    "What do you think about your first ML experiment?"
   ]
  },
  {
   "cell_type": "markdown",
   "id": "845a3fdf",
   "metadata": {},
   "source": [
    "### Exploring on your own\n",
    "\n",
    "**TODO:** If you run again, how different is the solution? \n",
    "You should train multiple models with different training/validation data splits and obtain an average of the final loss to have a statistically meaningful result\n",
    "\n",
    "**TODO:** Does training longer or changing the model improve accuracy?\n",
    "\n",
    "**TODO:** Does changing optimizer parameters improve the speed of training?\n",
    "\n",
    "**OPTION:** expand the notebook to calculate the loss with respect to the physics answer as the 'gold standard'."
   ]
  },
  {
   "cell_type": "markdown",
   "id": "83684156",
   "metadata": {},
   "source": [
    "### Using more data\n",
    "\n",
    "Machine learning is expected to work better with more data.\n",
    "\n",
    "Here is a much larger data set:\n",
    "\n",
    "[apple.vacuum.highres.dat](https://raw.githubusercontent.com/ADicksonLab/ml4md-jb/main/Week-02/apple.vacuum.highres.dat)\n",
    "\n",
    "Please also download this file to your local directory and check that you can plot the data:"
   ]
  },
  {
   "cell_type": "code",
   "execution_count": null,
   "id": "39628c23",
   "metadata": {
    "scrolled": true
   },
   "outputs": [],
   "source": [
    "data_hr=np.loadtxt('apple.vacuum.highres.dat')\n",
    "data_hr_x=data_hr[:,0]\n",
    "data_hr_y=data_hr[:,1]\n",
    "\n",
    "plt.plot(data_hr_x,data_hr_y,'ro',markersize=2)\n",
    "plt.xlabel('height [m]')\n",
    "plt.ylabel('time [s]')\n",
    "plt.show()\n"
   ]
  },
  {
   "cell_type": "markdown",
   "id": "3a2169e8",
   "metadata": {},
   "source": [
    "Now, retrain your model from above. \n",
    "\n",
    "First prepare the data:"
   ]
  },
  {
   "cell_type": "code",
   "execution_count": null,
   "id": "461e3c7b",
   "metadata": {},
   "outputs": [],
   "source": [
    "[traininghr,validationhr]=randomsplitdata('apple.vacuum.highres.dat',0.8) \n",
    "\n",
    "train_hr_set=Dataset(traininghr)\n",
    "validation_hr_set=Dataset(validationhr)\n",
    "\n",
    "train_hr_loader = torch.utils.data.DataLoader(train_hr_set, batch_size=32, shuffle=True, num_workers=4)\n",
    "validation_hr_loader = torch.utils.data.DataLoader(validation_hr_set, batch_size=1)"
   ]
  },
  {
   "cell_type": "markdown",
   "id": "572435a5",
   "metadata": {},
   "source": [
    "Then, run the training:"
   ]
  },
  {
   "cell_type": "code",
   "execution_count": null,
   "id": "91906875",
   "metadata": {},
   "outputs": [],
   "source": [
    "model_hr = Model()\n",
    "#model_hr.to(\"cuda\")    # uncomment this statement if you have CUDA and a GPU\n",
    "model_hr.apply(model_hr.initialize_weights)\n",
    "model_hr.zero_grad()\n",
    "\n",
    "optimizer_hr = torch.optim.Adam(model_hr.parameters(), lr=0.001, weight_decay=0.0001)\n",
    "\n",
    "epochs=50\n",
    "[training_hr_loss,validation_hr_loss]=do_training(model_hr,optimizer_hr,train_hr_loader,validation_hr_loader,epochs,True)\n",
    "\n",
    "epoch_index=np.arange(epochs)\n",
    "plt.plot(epoch_index,np.log(training_hr_loss),color='r')\n",
    "plt.plot(epoch_index,np.log(validation_hr_loss),color='b')\n",
    "\n",
    "plt.xlabel('epoch')\n",
    "plt.ylabel('loss')\n",
    "\n",
    "plt.show()"
   ]
  },
  {
   "cell_type": "markdown",
   "id": "9a194eee",
   "metadata": {},
   "source": [
    "and inspect the results:"
   ]
  },
  {
   "cell_type": "code",
   "execution_count": null,
   "id": "0834735b",
   "metadata": {},
   "outputs": [],
   "source": [
    "model_hr_time=np.copy(height)\n",
    "\n",
    "for i in range(len(model_hr_time)):\n",
    "    tval=torch.tensor([[height[i].astype(np.float32)]])\n",
    "    model_hr_time[i]=model_hr(tval).item()\n",
    "\n",
    "plt.plot(height,time,color='k',linewidth=2)\n",
    "plt.plot(data_hr_x,data_hr_y,'ro',markersize=2)\n",
    "\n",
    "# original model in green\n",
    "plt.plot(height,model_time,color='g',linewidth=2)\n",
    "\n",
    "# highres model in blue\n",
    "plt.plot(height,model_hr_time,color='b',linewidth=2)\n",
    "\n",
    "plt.xlabel('height [m]')\n",
    "plt.ylabel('time [s]')\n",
    "\n",
    "plt.xlim([0,30])\n",
    "plt.ylim([0,3.0])\n",
    "\n",
    "plt.show()\n"
   ]
  },
  {
   "cell_type": "markdown",
   "id": "752ed693",
   "metadata": {},
   "source": [
    "Is it better?"
   ]
  },
  {
   "cell_type": "markdown",
   "id": "c4cb9ffe",
   "metadata": {},
   "source": [
    "### Exploring on your own\n",
    "\n",
    "**TODO:** Build a new model with deeper layers (more layers and more nodes) and training again using the high-resolution data. For this you should create a new class (see template below that you can modify). "
   ]
  },
  {
   "cell_type": "code",
   "execution_count": null,
   "id": "83c98985",
   "metadata": {},
   "outputs": [],
   "source": [
    "# modify to make more complex model!\n",
    "\n",
    "class DeepModel(nn.Module):\n",
    "    def __init__(self):\n",
    "        super(DeepModel, self).__init__()\n",
    "        # define layers to be used\n",
    "        self.fc_1 = nn.Linear(1, 128)    # fully connected layer 1 -> 4 nodes\n",
    "        self.fc_2 = nn.Linear(128, 128)    # fully connected layer 4 -> 4 nodes\n",
    "        self.fc_3 = nn.Linear(128, 128)    # fully connected layer 4 -> 4 nodes\n",
    "        \n",
    "        self.fc_f = nn.Linear(128, 1)    # fully connected layer 4 -> 1 nodes\n",
    "    def forward(self, x):\n",
    "        # back-propagation is done automatically\n",
    "        x = F.relu(self.fc_1(x))       # run through first layer w/ ReLU activation\n",
    "        x = F.relu(self.fc_2(x))       # run through second layer w/ ReLU activation\n",
    "        x = F.relu(self.fc_3(x))       # run through second layer w/ ReLU activation\n",
    "        x = self.fc_f(x)               # run through final layer w/o activation\n",
    "        return x\n",
    "    def initialize_weights(self, m):\n",
    "        # initialization of weights, setting them to zero is not good\n",
    "        if hasattr(m, 'weight') and m.weight.dim() > 1:\n",
    "            nn.init.xavier_uniform_(m.weight.data)"
   ]
  },
  {
   "cell_type": "markdown",
   "id": "187e46d5",
   "metadata": {},
   "source": [
    "Let's train it:"
   ]
  },
  {
   "cell_type": "code",
   "execution_count": null,
   "id": "ec96a979",
   "metadata": {},
   "outputs": [],
   "source": [
    "deepmodel = DeepModel()\n",
    "#deepmodel.to(\"cuda\")    # uncomment this statement if you have CUDA and a GPU\n",
    "deepmodel.apply(deepmodel.initialize_weights)\n",
    "deepmodel.zero_grad()\n",
    "\n",
    "optimizer_deep = torch.optim.Adam(deepmodel.parameters(), lr=0.0002)\n",
    "\n",
    "epochs=50\n",
    "\n",
    "[training_deep_loss,validation_deep_loss]=do_training(deepmodel,optimizer_deep,train_hr_loader,validation_hr_loader,epochs,True)\n",
    "\n",
    "epoch_index=np.arange(epochs)\n",
    "plt.plot(epoch_index,np.log(training_deep_loss),color='r')\n",
    "plt.plot(epoch_index,np.log(validation_deep_loss),color='b')\n",
    "\n",
    "plt.xlabel('epoch')\n",
    "plt.ylabel('loss')\n",
    "\n",
    "plt.show()"
   ]
  },
  {
   "cell_type": "code",
   "execution_count": null,
   "id": "e30ea6aa",
   "metadata": {},
   "outputs": [],
   "source": [
    "model_deep_time=np.copy(height)\n",
    "\n",
    "for i in range(len(model_deep_time)):\n",
    "    tval=torch.tensor([[height[i].astype(np.float32)]])\n",
    "    model_deep_time[i]=deepmodel(tval).item()\n",
    "\n",
    "plt.plot(height,time,color='k',linewidth=2)\n",
    "plt.plot(data_hr_x,data_hr_y,'ro',markersize=1)\n",
    "plt.plot(height,model_time,color='g',linewidth=2)\n",
    "plt.plot(height,model_hr_time,color='b',linewidth=2)\n",
    "plt.plot(height,model_deep_time,color='cyan',linewidth=4)\n",
    "\n",
    "plt.xlabel('height [m]')\n",
    "plt.ylabel('time [s]')\n",
    "\n",
    "plt.xlim([0,30])\n",
    "plt.ylim([0,3.0])\n",
    "\n",
    "plt.show()\n"
   ]
  },
  {
   "cell_type": "markdown",
   "id": "78188dc1",
   "metadata": {},
   "source": [
    "**TODO** Most of the models are not very good at 0 because there is no data, but we know that the time is 0 for an initial height of 0. Augment the training data by repeating 0,0 ten times (Why no just once?). Then try again using one of the models above."
   ]
  },
  {
   "cell_type": "code",
   "execution_count": null,
   "id": "82ffda27",
   "metadata": {},
   "outputs": [],
   "source": [
    "# This is how you add ONE extra data point:\n",
    "# traininghr_augmented=np.concatenate((traininghr,[[0.0,0.0]]))\n",
    "\n",
    "# you will then need to re-generate a new training data loader:\n",
    "#train_aug_set=Dataset(traininghr_augmented)\n",
    "#train_aug_loader = torch.utils.data.DataLoader(train_aug_set, batch_size=32, shuffle=True, num_workers=4)"
   ]
  },
  {
   "cell_type": "markdown",
   "id": "f8ef7069",
   "metadata": {},
   "source": [
    "**TODO** Build a new model with the augmented data and run the training again. Start by copying the notebook cells from above."
   ]
  },
  {
   "cell_type": "code",
   "execution_count": null,
   "id": "47efc3e8",
   "metadata": {},
   "outputs": [],
   "source": []
  },
  {
   "cell_type": "markdown",
   "id": "0cbb2fca",
   "metadata": {},
   "source": [
    "## OPTIONAL HOMEWORK\n",
    "\n",
    "### Learning something useful\n",
    "\n",
    "In reality, objects fall in air where there is a drag force that opposes the gravitational force. Becuase of the drag force there is a terminal velocity and lighter objects fall slower than heavier objects with the same cross-section exposed to air. The solution to this problem is not quite so straightforward because it involves solving a differential equation and it would be good to have a ML model for this problem.\n",
    "\n",
    "Here is a data set for apples and leaves falling in air:\n",
    "\n",
    "[apple.leaf.air.highres.dat](https://raw.githubusercontent.com/ADicksonLab/ml4md-jb/main/Week-02/apple.leaf.air.highres.dat)\n",
    "\n",
    "Please also download this file to your local directory and check that you can plot the data."
   ]
  },
  {
   "cell_type": "code",
   "execution_count": null,
   "id": "dc7bc5ce",
   "metadata": {},
   "outputs": [],
   "source": [
    "data_air=np.loadtxt('apple.leaf.air.highres.dat')\n",
    "data_air_x=data_air[:,0]\n",
    "data_air_y=data_air[:,1]\n",
    "\n",
    "plt.plot(data_air_x,data_air_y,'ro',markersize=2)\n",
    "plt.xlabel('height [m]')\n",
    "plt.ylabel('time [s]')\n",
    "plt.show()\n"
   ]
  },
  {
   "cell_type": "markdown",
   "id": "e0b394ad",
   "metadata": {},
   "source": [
    "There are two curves, one for apples, with the faster times, and one for leaves, with the slower times. Both data is in the same file. \n",
    "\n",
    "Data in the third column distinguishes whether a data point belongs to an apple ('1') or to a leaf ('2'):"
   ]
  },
  {
   "cell_type": "code",
   "execution_count": null,
   "id": "7923a67d",
   "metadata": {},
   "outputs": [],
   "source": [
    "print(data_air[0])"
   ]
  },
  {
   "cell_type": "markdown",
   "id": "ae29f101",
   "metadata": {},
   "source": [
    "Think about how you could modify the above training protocol to take not one but two input values (i.e. height and classification (apple/leaf)) to train a model that correctly predicts the time it takes to fall to the ground for either an apple or a leaf.\n",
    "\n",
    "How would such a model work for predicting the time it takes for a branch to fall?\n",
    "\n",
    "How could the model be improved to be more transferable to other objects?"
   ]
  },
  {
   "cell_type": "markdown",
   "id": "7c4731be",
   "metadata": {},
   "source": [
    "**Additional notes:** \n",
    "\n",
    "The drag force that opposes the gravitational force is given as:\n",
    "\n",
    "$$\n",
    "F_{drag}=C_d \\frac{\\rho_{air}}{2} v^2 A\n",
    "$$\n",
    "\n",
    "$C_d$ is the drag coefficient (0.5 for a sphere, 2 for a flat plate) \n",
    "\n",
    "$\\rho_{air}$ is $1.225 kg/m^3$ on the surface of the earth. \n",
    "\n",
    "$v$ is the velocity of an object falling through air. \n",
    "\n",
    "$A$ is the cross-sectional area of the object in the direction it falls.\n",
    "\n",
    "The drag force has to be subtracted from the gravitational force to obtain the instantaneous acceleration:\n",
    "\n",
    "$$\n",
    "a = \\frac{F_{grav}-F_{drag}}{m} = g - \\frac{F_{drag}}{m}\n",
    "$$\n",
    "\n",
    "The velocity is then given as:\n",
    "\n",
    "$$\n",
    "\\frac{dv}{dt} = a\n",
    "$$\n",
    "\n",
    "and distance is obtained from:\n",
    "\n",
    "$$\n",
    "\\frac{dx}{dt} = v\n",
    "$$\n",
    "\n",
    "This gives the following differential equation to be solved:\n",
    "\n",
    "$$\n",
    "\\frac{dx^2}{dt^2}-g+\\frac{C_d}{m}\\frac{\\rho_{air}}{2}A\\left(\\frac{dx}{dt}\\right)^2 = 0\n",
    "$$\n"
   ]
  },
  {
   "cell_type": "code",
   "execution_count": null,
   "id": "8ccc9ab7",
   "metadata": {},
   "outputs": [],
   "source": []
  }
 ],
 "metadata": {
  "kernelspec": {
   "display_name": "Python 3 (ipykernel)",
   "language": "python",
   "name": "python3"
  },
  "language_info": {
   "codemirror_mode": {
    "name": "ipython",
    "version": 3
   },
   "file_extension": ".py",
   "mimetype": "text/x-python",
   "name": "python",
   "nbconvert_exporter": "python",
   "pygments_lexer": "ipython3",
   "version": "3.9.9"
  }
 },
 "nbformat": 4,
 "nbformat_minor": 5
}
