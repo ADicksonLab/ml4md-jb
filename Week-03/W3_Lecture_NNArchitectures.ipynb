{
 "cells": [
  {
   "cell_type": "markdown",
   "id": "7ad0edc9",
   "metadata": {
    "slideshow": {
     "slide_type": "slide"
    }
   },
   "source": [
    "### Week 03 Lecture: Neural Network Architectures\n"
   ]
  },
  {
   "cell_type": "markdown",
   "id": "279e22ec",
   "metadata": {
    "slideshow": {
     "slide_type": "fragment"
    }
   },
   "source": [
    "In the lecture we will survey the following types of neural networks:\n",
    "\n",
    "1. Convolutional Neural Networks\n",
    "2. Recurrent Neural Networks\n",
    "3. Graph Neural Networks\n",
    "4. Attention and Transfomers"
   ]
  },
  {
   "cell_type": "markdown",
   "id": "3cc99354",
   "metadata": {
    "slideshow": {
     "slide_type": "slide"
    }
   },
   "source": [
    "## Convolutional Neural Networks"
   ]
  },
  {
   "cell_type": "markdown",
   "id": "55374896",
   "metadata": {
    "slideshow": {
     "slide_type": "fragment"
    }
   },
   "source": [
    "![learning](https://github.com/ADicksonLab/ml4md-jb/raw/main/Week-02/learning.png)\n",
    "\n",
    "A model is built (automatically) based on training data:\n",
    "\n",
    "$$\n",
    "  action(dog_i) = f(interactions, treats)\n",
    "$$"
   ]
  },
  {
   "cell_type": "markdown",
   "id": "f79e06a0",
   "metadata": {
    "slideshow": {
     "slide_type": "slide"
    }
   },
   "source": [
    "## Recurrent Neural Networks"
   ]
  },
  {
   "cell_type": "markdown",
   "id": "a0e21396",
   "metadata": {
    "slideshow": {
     "slide_type": "slide"
    }
   },
   "source": [
    "## Graph Neural Networks"
   ]
  },
  {
   "cell_type": "markdown",
   "id": "3fade868",
   "metadata": {
    "slideshow": {
     "slide_type": "slide"
    }
   },
   "source": [
    "## Attention and Transformers"
   ]
  }
 ],
 "metadata": {
  "celltoolbar": "Slideshow",
  "kernelspec": {
   "display_name": "Python 3 (ipykernel)",
   "language": "python",
   "name": "python3"
  },
  "language_info": {
   "codemirror_mode": {
    "name": "ipython",
    "version": 3
   },
   "file_extension": ".py",
   "mimetype": "text/x-python",
   "name": "python",
   "nbconvert_exporter": "python",
   "pygments_lexer": "ipython3",
   "version": "3.9.9"
  }
 },
 "nbformat": 4,
 "nbformat_minor": 5
}
