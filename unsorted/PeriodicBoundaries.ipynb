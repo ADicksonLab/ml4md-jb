{
 "cells": [
  {
   "cell_type": "markdown",
   "id": "4c1e5959",
   "metadata": {},
   "source": [
    "# Periodic Boundaries\n",
    "\n",
    "<img src=\"https://upload.wikimedia.org/wikipedia/commons/e/eb/Periodic_Boundary_Conditions_in_2D.png\" width=\"500\"/>"
   ]
  },
  {
   "cell_type": "markdown",
   "id": "471175bd",
   "metadata": {},
   "source": [
    "When conducting molecular simulations we can only afford to include so many particles.  A common way to minimize the effects of a finite system size is to include **periodic boundaries**.  \n",
    "\n",
    "This essentially assumes that the simulation cell is surrounded in all directions by other identical simulation cells.\n",
    "\n",
    "The implementation of periodic boundaries seems simple enough:  \n",
    "- if you exit through the left side, you enter through the right\n",
    "- if you exit through the top, you enter through the bottom\n",
    "- etc.\n",
    "\n",
    "**But periodic boundaries can be tricky and are probably the cause of most errors and bugs in molecular dynamics simulations.**\n",
    "\n",
    "Here are a couple of useful functions we will use to handle periodic boundaries in class:"
   ]
  },
  {
   "cell_type": "markdown",
   "id": "bf98b0c5",
   "metadata": {},
   "source": [
    "___\n",
    "## \"Wrapping\" coordinates\n",
    "\n",
    "To apply those rules above and make sure particles do not leave the simulation box, you need to periodically \"wrap\" the coordinates back into the box.\n",
    "\n",
    "Below is trajectory that leaves a simulation box, defined in two dimensions as $x \\in [-0.5,0.5]$, $y \\in [-0.5,0.5]$:"
   ]
  },
  {
   "cell_type": "code",
   "execution_count": null,
   "id": "8ffec178",
   "metadata": {},
   "outputs": [],
   "source": [
    "import numpy as np\n",
    "import matplotlib.pyplot as plt\n",
    "\n",
    "# an imaginary trajectory\n",
    "traj = np.zeros((20,2))\n",
    "traj[:,0] = np.linspace(0,0.7,20)\n",
    "traj[:,1] = 0.2*np.sin(8*traj[:,0])\n",
    "\n",
    "# used for visualizing the box\n",
    "box_x = [-0.5,0.5,0.5,-0.5,-0.5]\n",
    "box_y = [-0.5,-0.5,0.5,0.5,-0.5]\n",
    "\n",
    "plt.figure(figsize=[5,5])\n",
    "plt.plot(traj[:,0],traj[:,1],'bo')\n",
    "plt.plot(box_x,box_y)\n",
    "plt.xlim([-1,1])\n",
    "plt.ylim([-1,1])\n"
   ]
  },
  {
   "cell_type": "markdown",
   "id": "65d2e4d8",
   "metadata": {},
   "source": [
    "Here is a function that applies boundary conditions to a given trajectory frame and returns the \"wrapped\" positions back inside the box:"
   ]
  },
  {
   "cell_type": "code",
   "execution_count": null,
   "id": "2619d456",
   "metadata": {},
   "outputs": [],
   "source": [
    "def apply_pbc(positions, box_size):\n",
    "    # positions and box size are both arrays with\n",
    "    # a dimensionality equal to the number of spatial dimensions\n",
    "    # i.e. if we are in 2D space, each array has two elements\n",
    "    \n",
    "    half_box_size = box_size * 0.5\n",
    "    pbc_wrap_positions = np.zeros_like(positions)\n",
    "\n",
    "    old_positions = positions\n",
    "\n",
    "    # this while loop allows adjustments to be made until \n",
    "    # the positions of the particles stops changing\n",
    "    while np.any(pbc_wrap_positions != old_positions):\n",
    "        #\n",
    "        # Note on np.where syntax:\n",
    "        # np.where(CONDITION, value_if_true, value_if_false)\n",
    "        #\n",
    "        pbc_wrap_positions = np.where(positions > half_box_size,\n",
    "                                      positions - box_size,\n",
    "                                      positions)\n",
    "\n",
    "        pbc_wrap_positions = np.where(positions <= -half_box_size,\n",
    "                                      positions + box_size,\n",
    "                                      pbc_wrap_positions)\n",
    "        old_positions = pbc_wrap_positions\n",
    "    return pbc_wrap_positions"
   ]
  },
  {
   "cell_type": "markdown",
   "id": "19fbaffc",
   "metadata": {},
   "source": [
    "Let's try this out by applying it to all of the frames in our trajectory:"
   ]
  },
  {
   "cell_type": "code",
   "execution_count": null,
   "id": "f92b27a8",
   "metadata": {},
   "outputs": [],
   "source": [
    "new_frames = []\n",
    "box_size = np.array([1,1])\n",
    "for frame in traj:\n",
    "    new_frames.append(apply_pbc(frame,box_size))\n",
    "\n",
    "new_traj = np.array(new_frames)\n",
    "plt.figure(figsize=[5,5])\n",
    "plt.plot(new_traj[:,0],new_traj[:,1],'bo')\n",
    "plt.plot(box_x,box_y)\n",
    "plt.xlim([-1,1])\n",
    "plt.ylim([-1,1])"
   ]
  },
  {
   "cell_type": "markdown",
   "id": "53f4e91a",
   "metadata": {},
   "source": [
    "**Great!  Note that we can use the same function with 3D data as well:**"
   ]
  },
  {
   "cell_type": "code",
   "execution_count": null,
   "id": "c8a747be",
   "metadata": {},
   "outputs": [],
   "source": [
    "unwrapped_trajectory = np.random.random(size=(100,10,3))*10  # nframes, nparticles, ndim\n",
    "box_size = np.array([5,5,5])\n",
    "\n",
    "print(\"Max x coordinate:\",unwrapped_trajectory[:,:,0].max())\n",
    "print(\"Max y coordinate:\",unwrapped_trajectory[:,:,1].max())\n",
    "print(\"Max z coordinate:\",unwrapped_trajectory[:,:,2].max())"
   ]
  },
  {
   "cell_type": "code",
   "execution_count": null,
   "id": "d1fcdd1c",
   "metadata": {},
   "outputs": [],
   "source": [
    "wrapped_trajectory = apply_pbc(unwrapped_trajectory,box_size)\n",
    "\n",
    "print(\"Max x coordinate (after wrapping):\",wrapped_trajectory[:,:,0].max())\n",
    "print(\"Max y coordinate (after wrapping):\",wrapped_trajectory[:,:,1].max())\n",
    "print(\"Max z coordinate (after wrapping):\",wrapped_trajectory[:,:,2].max())"
   ]
  },
  {
   "cell_type": "markdown",
   "id": "2000b700",
   "metadata": {},
   "source": [
    "___\n",
    "## Displacement vectors through periodic boundaries\n",
    "\n",
    "Wrapping is important, but it is also important that inter-particle forces are computed properly through periodic boundaries.  In other words, **even though the positions of two particles are far apart, their \"images\" in adjacent cells could be close together.**  If these interactions aren't taken into account, particles could experience discontinuities in their forces as they are wrapped through the periodic boundary.  **For instance, a particle would know that it is sitting almost on top of another particle until it crosses the boundary, at which point it suddenly experiences an ultra-high repulsive force, and then your system explodes!**\n",
    "\n",
    "To avoid this catastrophic scenario, we will make sure to compute forces using the closest possible displacement vector.\n",
    "\n",
    "Consider two particles $i$ and $j$:\n",
    "\n",
    "![periodicity schematic](https://github.com/ADicksonLab/ml4md-jb/blob/main/figures/periodic-01.png?raw=true)\n",
    "\n",
    "The difference in their $x$ coordinates can be calculated three ways:\n",
    "\n",
    "-  directly ($x_j - x_i$)\n",
    "-  using the \"right hand image\" ($x_j - (x_i + L_x)$)\n",
    "-  using the \"left hand image\" ($x_j - (x_i - L_x)$)\n",
    "\n",
    "where $L_x$ is the length of the box in the $x$ direction.\n",
    "\n",
    "**Clearly if we want $i$ and $j$ to \"feel\" each other across the periodic boundary, we need to use the difference with the smallest magnitude when we are calculating the forces.**\n",
    "\n",
    "The following function determines the shortest displacement vector between two atoms, **even considering images that differ by more than one box length**."
   ]
  },
  {
   "cell_type": "code",
   "execution_count": null,
   "id": "1ed184e5",
   "metadata": {},
   "outputs": [],
   "source": [
    "def shortest_distance(posA, posB, box_size):\n",
    "\n",
    "    r = posA - posB   # has one element for each spatial dimension\n",
    "\n",
    "    # loop over spatial dimensions\n",
    "    for i in range(len(posA)):\n",
    "        \n",
    "        # if difference is greater than half the box length, adjust\n",
    "        if r[i] < -0.5*box_size[i]:\n",
    "            \n",
    "            # determine number of adjustments needed\n",
    "            n = int((r[i] + 0.5*box_size[i])/box_size[i]) + 1  \n",
    "\n",
    "            # make them\n",
    "            r[i] += n*box_size[i]\n",
    "        elif r[i] > 0.5*box_size[i]: # same thing in the negative direction\n",
    "            n = int((r[i] - 0.5*box_size[i])/box_size[i]) + 1\n",
    "            r[i] -= n*box_size[i]\n",
    "\n",
    "    return r"
   ]
  },
  {
   "cell_type": "markdown",
   "id": "a347d336",
   "metadata": {},
   "source": [
    "**Now let's test this out:**"
   ]
  },
  {
   "cell_type": "code",
   "execution_count": null,
   "id": "f3122f8c",
   "metadata": {},
   "outputs": [],
   "source": [
    "positions = np.array([[0.01,0.52,0.55],\n",
    "                      [0.66,0.31,0.77],\n",
    "                      [0.90,0.51,0.2],\n",
    "                      [0.90,0.45,0.50],\n",
    "                      [0.2,0.77,0.9]])   # 5 particles in 3D space\n",
    "box_size = [1,1,1]\n",
    "\n",
    "for i in range(N-1):\n",
    "    for j in range(i+1,N):\n",
    "        direct_r = np.sqrt(np.sum(np.square(positions[i] - positions[j])))\n",
    "        closest_r = np.sqrt(np.sum(np.square(shortest_distance(positions[i],positions[j],box_size))))\n",
    "        \n",
    "        if closest_r < direct_r:\n",
    "            print(f\"Particle {i}: ({positions[i][0]:.2},{positions[i][1]:.2},{positions[i][2]:.2}) and {j}: ({positions[j][0]:.2},{positions[j][1]:.2},{positions[j][2]:.2}) are closer through a boundary: {closest_r:.2} < {direct_r:.2}\")\n",
    "        else:\n",
    "            print(f\"Particle {i}: ({positions[i][0]:.2},{positions[i][1]:.2},{positions[i][2]:.2}) and {j}: ({positions[j][0]:.2},{positions[j][1]:.2},{positions[j][2]:.2}) are closest in direct space.\")"
   ]
  },
  {
   "cell_type": "markdown",
   "id": "4aa75cf3",
   "metadata": {},
   "source": [
    "**Task: look through this output.  Does this make sense?  Can you think of another way to test this function?**"
   ]
  },
  {
   "cell_type": "code",
   "execution_count": null,
   "id": "88e52141",
   "metadata": {},
   "outputs": [],
   "source": []
  },
  {
   "cell_type": "code",
   "execution_count": null,
   "id": "59162825",
   "metadata": {},
   "outputs": [],
   "source": []
  }
 ],
 "metadata": {
  "kernelspec": {
   "display_name": "Python 3 (ipykernel)",
   "language": "python",
   "name": "python3"
  },
  "language_info": {
   "codemirror_mode": {
    "name": "ipython",
    "version": 3
   },
   "file_extension": ".py",
   "mimetype": "text/x-python",
   "name": "python",
   "nbconvert_exporter": "python",
   "pygments_lexer": "ipython3",
   "version": "3.9.5"
  }
 },
 "nbformat": 4,
 "nbformat_minor": 5
}
