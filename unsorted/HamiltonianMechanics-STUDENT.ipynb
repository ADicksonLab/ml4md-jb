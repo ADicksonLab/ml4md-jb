{
 "cells": [
  {
   "cell_type": "markdown",
   "id": "ce3b1298",
   "metadata": {},
   "source": [
    "# Background on Hamiltonian Mechanics"
   ]
  },
  {
   "cell_type": "markdown",
   "id": "d36244cf",
   "metadata": {},
   "source": [
    "This course will involve some knowledge of physics, specifically a branch of Classical Mechanics called \"Hamiltonian Mechanics\".  If you haven't seen this before, or if it has been a long time, then this workbook will be useful to summarize the concepts we will need.\n",
    "\n",
    "For additional materials here, check out:  \n",
    "\n",
    "- [Wikipedia: Hamiltonian Mechanics](https://en.wikipedia.org/wiki/Hamiltonian_mechanics)  \n"
   ]
  },
  {
   "cell_type": "markdown",
   "id": "f76e2442",
   "metadata": {},
   "source": [
    "___\n",
    "## The problem\n",
    "\n",
    "Imagine we have a collection of objects, where their **positions** are denoted with ($\\overrightarrow{x}$) and their **momenta** are denoted with ($\\overrightarrow{v}$).  Each of these are vectors, where the number of elements is equal to the number of particles times the number of spatial dimensions.  Let's say we are working in 3-D space, with $N$ objects, so $\\overrightarrow{x}$ and $\\overrightarrow{v}$ will have size $3N$.  \n",
    "\n",
    "We can denote the **mass** of the objects by $\\overrightarrow{m}$, which is a vector of size $N$.\n",
    "\n",
    "We also assume that each particle carries with it a **partial charge**. These are equal to zero for uncharged particles but in general can be positive or negative numbers.  Individual atoms can have fractional partial charge values, but the sum of all atoms in a molecule always sum up to integer values.  We denote the **partial charges** of the objects by $\\overrightarrow{q}$, which is also a vector of size $N$.\n",
    "\n",
    "*Note on notation:  This notebook is using (x,v) notation, but you might also come across resources using (q,p) to denote the positions and momenta, respectively. We will try and keep (x,v) notation consistent throughout these course materials.*\n",
    "\n",
    "**The goal:** If we know the initial conditions of the $\\overrightarrow{x}$ and $\\overrightarrow{v}$ vectors at some initial time $t_0$, how do we calculate the values of $\\overrightarrow{x}$ and $\\overrightarrow{v}$ in the future?"
   ]
  },
  {
   "cell_type": "markdown",
   "id": "8b375494",
   "metadata": {},
   "source": [
    "___\n",
    "## The Hamiltonian\n",
    "\n",
    "Obviously to accomplish this goal we are going to need information about how what these particles are and how they interact with each other. This can be accomplished using a single function called the **Hamiltonian**:\n",
    "\n",
    "\\begin{equation}\n",
    "\\mathscr{H}(x,v) = U(x) + T(v)\n",
    "\\end{equation}\n",
    "\n",
    "where $U(x)$ is the potential energy function (also called the \"internal energy\" function) that depends only on the particle positions and $T(v))$ is the kinetic energy function that depends only on the velocities.  Note that while we have dropped the arrow notation above, $x$ and $v$ are still vectors of size $3N$. While the particular form of $U(x)$ can be complicated, and is different from system-to-system, the kinetic energy function is simply defined as:\n",
    "\n",
    "\\begin{equation}\n",
    "T(v) = \\frac{1}{2}\\sum_i m_i |v_i|^2\n",
    "\\end{equation}\n",
    "\n",
    "where $\\sum_i$ is a sum over all of the particles in the system.\n",
    "\n",
    "The evolution of the system is then described completely by **Hamilton's equations**.\n",
    "A simplified version of these is given below.\n",
    "\n",
    "\\begin{align}\n",
    "\\frac{dx}{dt} &= \\frac{1}{m}\\frac{d\\mathscr{H}}{dv} = v \\\\\n",
    "\\frac{dv}{dt} &= -\\frac{1}{m}\\frac{d\\mathscr{H}}{dx} = -\\frac{1}{m}\\frac{dU}{dx}\n",
    "\\end{align}\n",
    "\n",
    "where the extra $1/m$ factors were necessary since we were dealing with the velocity instead of the momentum.\n",
    "\n",
    "The top equation above is intuitive: **the rate of change of the positions is given by the velocity.**  The second equation is less intuitive and requires some more explanation."
   ]
  },
  {
   "cell_type": "markdown",
   "id": "46168889",
   "metadata": {},
   "source": [
    "___\n",
    "## Net forces\n",
    "\n",
    "Another way to describe the second equation above, for a given particle, is as follows:\n",
    "\n",
    "\\begin{equation}\n",
    "\\overrightarrow{F}_{\\text{net}} = m\\overrightarrow{a} = m\\frac{d\\overrightarrow{v}}{dt} = -\\frac{dU}{d\\overrightarrow{x}}\n",
    "\\end{equation}\n",
    "\n",
    "where we have brought back the arrows to remind us which variables are vectors.  Since this equation is for a single particle, all vectors have three components corresponding to the three spatial dimensions.  The net force on each atom, by Newton's second law, is equal to its acceleration times its mass.  The acceleration is equal to the time derivative of the velocity, which as we have seen is equal to the negative derivative of the internal energy function $U$ with respect to the positions, $\\overrightarrow{x}$.\n",
    "\n",
    "To gain some intuition about the last equality, consider the potential energy surface $U(x) = kx^2$:\n",
    "<img src=\"https://github.com/ADicksonLab/ml4md-jb/blob/main/figures/Ham_schem1-01.png?raw=true\" width=\"500\"/>\n",
    "\n",
    "If we think about a marble rolling in a smooth bowl, it is intuitive that a particle resting at positive $x$ will experience a force in the left-ward direction.  Connecting this to our equation above, we see this is indeed the case.  The derivative of $U$ with respect to $x$ is positive for $x > 0$, so the net force on that particle will be in the negative direction.  Since the derivative is equal to $2kx$, we see that the higher we go, the larger this net force will be. \n",
    "\n",
    "<img src=\"https://github.com/ADicksonLab/ml4md-jb/blob/main/figures/Ham_schem2-01.png?raw=true\" width=\"500\"/>\n",
    "\n",
    "The same particle sometime later will have travelled leftward and gained some velocity in the negative direction.  As the $dU/dx$ is still positive, it continues to accelerate in the negative direction.\n",
    "\n",
    "<img src=\"https://github.com/ADicksonLab/ml4md-jb/blob/main/figures/Ham_schem3-01.png?raw=true\" width=\"500\"/>\n",
    "\n",
    "As our particle reaches $x=0$ is has accumulated its maximum velocity in the leftward direction.  Here $dU/dx = 0$, so it is experiencing no net force, however it continues to move rapidly.\n",
    "\n",
    "<img src=\"https://github.com/ADicksonLab/ml4md-jb/blob/main/figures/Ham_schem4-01.png?raw=true\" width=\"500\"/>\n",
    "\n",
    "As $x$ goes negative our particle begins to decelerate. Here $dU/dx$ is negative, so our net force is in the positive direction and our particle is gradually losing its negative velocity.\n",
    "\n",
    "<img src=\"https://github.com/ADicksonLab/ml4md-jb/blob/main/figures/Ham_schem5-01.png?raw=true\" width=\"500\"/>\n",
    "\n",
    "Eventually our particle loses momentum, the velocity reaches zero, and the particle is once again stationary with a maximum value of potential energy. "
   ]
  },
  {
   "cell_type": "markdown",
   "id": "d7a528e5",
   "metadata": {},
   "source": [
    "___\n",
    "## Solving Hamilton's equations\n",
    "\n",
    "Now that we have equations for $dx/dt$ and $dv/dt$, how do we solve them for $x(t)$ and $v(t)$?  **In other words, how do we actually generate our trajectories?**\n",
    "\n",
    "This type of problem is called an **initial value problem** or IVP.  For simple systems (like the single particle above), one can find exact solutions.  However, for systems we are interested in these IVPs can be solved numerically.\n",
    "\n",
    "A simple illustrative approach is to use Euler's method.  Starting with the definition of $\\frac{dx}{dt} \\approx \\frac{x(t+\\delta t) - x(t)}{\\delta t}$, we can rearrange to get:\n",
    "\\begin{equation}\n",
    "x(t + \\delta t) \\approx x(t) + v\\delta t\n",
    "\\end{equation}\n",
    "where the approximation becomes exact as $\\delta t \\rightarrow 0$.\n",
    "\n",
    "Similarly we can get:\n",
    "\\begin{equation}\n",
    "v(t + \\delta t) \\approx v(t) - \\frac{1}{m}\\frac{dU}{dx(t)} \\delta t\n",
    "\\end{equation}\n",
    "\n",
    "As a simple demonstration, let's code up the example above, first defining a function that returns the derivatives of x and v:"
   ]
  },
  {
   "cell_type": "markdown",
   "id": "ada28069",
   "metadata": {},
   "source": [
    "First let's define our parameters and initial conditions:"
   ]
  },
  {
   "cell_type": "code",
   "execution_count": 6,
   "id": "de72a84b",
   "metadata": {},
   "outputs": [],
   "source": [
    "import numpy as np\n",
    "import matplotlib.pyplot as plt\n",
    "\n",
    "x = 1\n",
    "v = 0\n",
    "k = 1\n",
    "m = 1\n",
    "dt = 0.01"
   ]
  },
  {
   "cell_type": "code",
   "execution_count": 7,
   "id": "cbcfc228",
   "metadata": {},
   "outputs": [],
   "source": [
    "def force(x):\n",
    "    \"\"\"Compute the force for a simple 1D, one particle system.\"\"\"\n",
    "    return -2*k*x"
   ]
  },
  {
   "cell_type": "markdown",
   "id": "c18bf84c",
   "metadata": {},
   "source": [
    "Then let's make a trajectory that is 1000 steps long:"
   ]
  },
  {
   "cell_type": "code",
   "execution_count": 9,
   "id": "7d39d4d5",
   "metadata": {},
   "outputs": [],
   "source": [
    "traj_x = np.zeros(1000)\n",
    "traj_v = np.zeros(1000)\n",
    "\n",
    "for step in range(1000):\n",
    "    # get force\n",
    "    f = force(x)\n",
    "    \n",
    "    # use them in update equations\n",
    "    x = x + v*dt\n",
    "    v = v + f*dt/m\n",
    "    \n",
    "    # append values to trajectories\n",
    "    traj_x[step] = x\n",
    "    traj_v[step] = v"
   ]
  },
  {
   "cell_type": "code",
   "execution_count": 10,
   "id": "1fd19ddd",
   "metadata": {},
   "outputs": [
    {
     "data": {
      "text/plain": [
       "<matplotlib.legend.Legend at 0x7fd9f02f4c40>"
      ]
     },
     "execution_count": 10,
     "metadata": {},
     "output_type": "execute_result"
    },
    {
     "data": {
      "image/png": "[encoded data removed]",
      "text/plain": [
       "<Figure size 432x288 with 1 Axes>"
      ]
     },
     "metadata": {
      "needs_background": "light"
     },
     "output_type": "display_data"
    }
   ],
   "source": [
    "plt.plot(traj_x,label='x')\n",
    "plt.plot(traj_v,label='v')\n",
    "plt.legend()"
   ]
  },
  {
   "cell_type": "markdown",
   "id": "0570cb52",
   "metadata": {},
   "source": [
    "**Stop and think about the quantities in this graph.  Do they match with the intuitive example above?**"
   ]
  },
  {
   "cell_type": "markdown",
   "id": "25a9a464",
   "metadata": {},
   "source": [
    "___\n",
    "## A note on integration error\n",
    "\n",
    "The approximation signs above are only valid in the limit of a sufficiently small time step.  **But how small does the time step need to be?**  The answer to this question depends on how fast the internal energy of a given particle can change.  In molecular dynamics applications, stable numerical integration, in general, is **achieved with a timestep of $\\delta t = 1.0$ fs**, where one femtosecond is $10^{-15}$ seconds.  A common trick is to restrain the vibration of covalent bonds involving hydrogen atoms, since this is typically the fastest motion in a molecular system.  **Systems with these restraints can be run with $\\delta t = 2.0$ fs.**  While this might not seem like a significant difference, this cuts the computational cost of a given simulation **in half!**.\n",
    "\n",
    "To study integration error on our model system, go through the exercises below:\n",
    "\n",
    "### 1) Run trajectories with $dt = 0.0001, 0.0005, 0.001, 0.005, 0.01, 0.05$ and $0.10$, adjusting the number of steps accordingly so the time duration is the same.  Save the positions for future analysis."
   ]
  },
  {
   "cell_type": "code",
   "execution_count": 11,
   "id": "5486c2f5",
   "metadata": {},
   "outputs": [],
   "source": [
    "# your code here"
   ]
  },
  {
   "cell_type": "markdown",
   "id": "e5649c9e",
   "metadata": {},
   "source": [
    "### 2) Plot each trajectory's position vs time and plot the maximum $x$ value reached in each simulation as a function of timestep."
   ]
  },
  {
   "cell_type": "code",
   "execution_count": 13,
   "id": "f4e9351f",
   "metadata": {},
   "outputs": [],
   "source": [
    "# your code here"
   ]
  },
  {
   "cell_type": "markdown",
   "id": "e4e99fa4",
   "metadata": {},
   "source": [
    "### 3) Using your intuition as a guide, at which timestep does the Euler's method approximation break down?"
   ]
  },
  {
   "cell_type": "markdown",
   "id": "f5a21d7e",
   "metadata": {},
   "source": [
    "/ your answer here /"
   ]
  },
  {
   "cell_type": "markdown",
   "id": "a19edcf2",
   "metadata": {},
   "source": [
    "___\n",
    "## A better integration function\n",
    "\n",
    "Euler's method is a \"first order\" method: the global error (error at a given time) is proportional to the step size.  **A commonly used integration function is called the \"Velocity Verlet\" algorithm**, which is accurate to second order, is simple to implement, and has some beneficial stability properties compared to other integrators.\n",
    "\n",
    "The velocity verlet equations are as follows:\n",
    "\n",
    "$$x(t + \\delta t) = x(t) + v(t)\\delta t + \\frac{1}{2m}f(t)\\delta t^2$$\n",
    "$$v(t + \\delta t) = v(t) + \\frac{1}{2m}\\left[f(t) + f(t + \\delta t)\\right]\\delta t$$\n",
    "\n",
    "Let's write a simple function to implement the Velocity Verlet algorithm:"
   ]
  },
  {
   "cell_type": "code",
   "execution_count": 24,
   "id": "856cdeba",
   "metadata": {},
   "outputs": [],
   "source": [
    "def velocity_verlet(x, v, force_alg, dt, m):\n",
    "    \"\"\"\n",
    "    x : positions \n",
    "    np.array, shape = (N,ndim)\n",
    "    \n",
    "    v : velocities \n",
    "    np.array, shape = (N,ndim)\n",
    "    \n",
    "    force_alg : force function\n",
    "    callable function that takes in x, returns a np.array with same shape\n",
    "    \n",
    "    dt : time step\n",
    "    float\n",
    "    \n",
    "    m : masses\n",
    "    np.array, shape = (N)\n",
    "    \"\"\"\n",
    "    \n",
    "    # define arrays for new positions and new velocities\n",
    "    new_x = np.zeros_like(x)\n",
    "    new_v = np.zeros_like(x)\n",
    "    \n",
    "    N = x.shape[0]\n",
    "    \n",
    "    # compute f(t)\n",
    "    f = force_alg(x)\n",
    "    \n",
    "    # use f to update x\n",
    "    for i in range(N):\n",
    "        new_x[i] = x[i] + v[i]*dt + f[i]*dt**2/(2*m[i])\n",
    "    \n",
    "    # compute f(t+dt)\n",
    "    new_f = force_alg(new_x)\n",
    "    \n",
    "    # use f(t+dt) and f(t) to update v\n",
    "    for i in range(N):\n",
    "        new_v[i] = v[i] + (f[i] + new_f[i])*dt/(2*m[i])\n",
    "        \n",
    "    return new_x, new_v"
   ]
  },
  {
   "cell_type": "markdown",
   "id": "348e90d5",
   "metadata": {},
   "source": [
    "Where the `force_alg` from our one particle example is the `force` function defined above."
   ]
  },
  {
   "cell_type": "markdown",
   "id": "2b40399c",
   "metadata": {},
   "source": [
    "### 4) Modify your code from 1) to use this integration function instead.  Make a plot of the maximum position reached as a function of timestep size and compare to your results from 2)"
   ]
  },
  {
   "cell_type": "code",
   "execution_count": 25,
   "id": "49bfc4d9",
   "metadata": {},
   "outputs": [],
   "source": [
    "# your code here"
   ]
  },
  {
   "cell_type": "code",
   "execution_count": null,
   "id": "632efd6d",
   "metadata": {},
   "outputs": [],
   "source": []
  }
 ],
 "metadata": {
  "kernelspec": {
   "display_name": "Python 3 (ipykernel)",
   "language": "python",
   "name": "python3"
  },
  "language_info": {
   "codemirror_mode": {
    "name": "ipython",
    "version": 3
   },
   "file_extension": ".py",
   "mimetype": "text/x-python",
   "name": "python",
   "nbconvert_exporter": "python",
   "pygments_lexer": "ipython3",
   "version": "3.9.5"
  }
 },
 "nbformat": 4,
 "nbformat_minor": 5
}
