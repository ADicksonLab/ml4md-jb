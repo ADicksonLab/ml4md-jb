{
 "cells": [
  {
   "cell_type": "markdown",
   "id": "f652a346",
   "metadata": {},
   "source": [
    "# Handling units in Python with `pint`"
   ]
  },
  {
   "cell_type": "markdown",
   "id": "f1fb63ed",
   "metadata": {},
   "source": [
    "Keeping track of appropriate units is vitally important in any physical simulation.  In molecular dynamics programs, units can be especially tricky, since the masses, length scales and energy scales are so far removed from our daily experience.\n",
    "\n",
    "To help us keep track of units we can use a package called `pint`\n",
    "\n",
    "___\n",
    "## Installing and importing `pint`"
   ]
  },
  {
   "cell_type": "code",
   "execution_count": null,
   "id": "dd8ed8a8",
   "metadata": {},
   "outputs": [],
   "source": [
    "# uncomment this to install pint\n",
    "#pip install pint"
   ]
  },
  {
   "cell_type": "code",
   "execution_count": null,
   "id": "68cabf79",
   "metadata": {},
   "outputs": [],
   "source": [
    "from pint import UnitRegistry\n",
    "unit = UnitRegistry()"
   ]
  },
  {
   "cell_type": "markdown",
   "id": "20090265",
   "metadata": {},
   "source": [
    "The `unit` object now holds all of the units we need to do our calculations.  \n",
    "\n",
    "## Making quantity objects\n",
    "\n",
    "Instead of storing our positions, masses, velocities, forces, etc. as just numbers, we can store them as **quantities** by attaching units to them like this:"
   ]
  },
  {
   "cell_type": "code",
   "execution_count": null,
   "id": "58f8e3ce",
   "metadata": {},
   "outputs": [],
   "source": [
    "velocity = 1000*unit.m/unit.sec\n",
    "time_step = 0.001*unit.ps\n",
    "position = 0*unit.angstrom\n",
    "\n",
    "print(\"Velocity is:\",velocity)\n",
    "print(\"Time step is:\", time_step)\n",
    "print(\"Position is:\", position)"
   ]
  },
  {
   "cell_type": "markdown",
   "id": "ae33264b",
   "metadata": {},
   "source": [
    "And now we can manipulate these quantities safely, without worrying about a unit mismatch:"
   ]
  },
  {
   "cell_type": "code",
   "execution_count": null,
   "id": "f213be58",
   "metadata": {},
   "outputs": [],
   "source": [
    "new_position = position + time_step*velocity\n",
    "print(new_position)"
   ]
  },
  {
   "cell_type": "markdown",
   "id": "f3fdc165",
   "metadata": {},
   "source": [
    "## Handling quantity objects\n",
    "\n",
    "Once you have a quantity there are a couple of things you might want to do:\n",
    "\n",
    "### Display them in a different unit"
   ]
  },
  {
   "cell_type": "code",
   "execution_count": null,
   "id": "8f7c8a46",
   "metadata": {},
   "outputs": [],
   "source": [
    "print(\"New position in meters:\",new_position.to(unit.meters))"
   ]
  },
  {
   "cell_type": "markdown",
   "id": "9ffcb50b",
   "metadata": {},
   "source": [
    "note that you can only select a compatible unit.  You can't change a distance into a volume, for instance:"
   ]
  },
  {
   "cell_type": "code",
   "execution_count": null,
   "id": "b7cd55f4",
   "metadata": {},
   "outputs": [],
   "source": [
    "# this code will throw an error\n",
    "a = 1.5*unit.meters\n",
    "a.to(unit.liters)"
   ]
  },
  {
   "cell_type": "code",
   "execution_count": null,
   "id": "50d7edbb",
   "metadata": {},
   "outputs": [],
   "source": [
    "# but this code won't\n",
    "a = 1.5*unit.meters**3\n",
    "a.to(unit.liters)"
   ]
  },
  {
   "cell_type": "markdown",
   "id": "88bd1fe7",
   "metadata": {},
   "source": [
    "### Strip the units entirely\n",
    "\n",
    "To get the value contained in a quantity, you just need to specify which units you would like:"
   ]
  },
  {
   "cell_type": "code",
   "execution_count": null,
   "id": "706ce451",
   "metadata": {},
   "outputs": [],
   "source": [
    "my_mass = 1.1*unit.kg\n",
    "my_mass_val = my_mass.to(unit.g).magnitude\n",
    "\n",
    "print(\"my_mass_val = \",my_mass_val)\n",
    "print(\"type of my_mass_val:\",type(my_mass_val))"
   ]
  },
  {
   "cell_type": "markdown",
   "id": "1df0b4d3",
   "metadata": {},
   "source": [
    "## Quantities with `numpy` arrays\n",
    "\n",
    "These operations work well with numpy arrays too:"
   ]
  },
  {
   "cell_type": "code",
   "execution_count": null,
   "id": "fc05c8b8",
   "metadata": {},
   "outputs": [],
   "source": [
    "import numpy as np\n",
    "\n",
    "velocity = np.random.random((20,3))*unit.m/unit.sec\n",
    "position = np.zeros((20,3))*unit.angstrom\n",
    "new_position = position + time_step*velocity\n",
    "\n",
    "print(new_position)"
   ]
  },
  {
   "cell_type": "markdown",
   "id": "c0a52ad8",
   "metadata": {},
   "source": [
    "Note that even though this object is a `pint.quantity` object, it still has access to all of the `numpy` array functions:"
   ]
  },
  {
   "cell_type": "code",
   "execution_count": null,
   "id": "9239239b",
   "metadata": {},
   "outputs": [],
   "source": [
    "type(new_position)\n",
    "\n",
    "print(\"Mean:\", new_position.mean())\n",
    "print(\"Argmin: \", new_position.argmin())"
   ]
  },
  {
   "cell_type": "markdown",
   "id": "9c9578c2",
   "metadata": {},
   "source": [
    "And it even keeps track of the units when calling `numpy` operations!"
   ]
  },
  {
   "cell_type": "code",
   "execution_count": null,
   "id": "69b74ef9",
   "metadata": {},
   "outputs": [],
   "source": [
    "np.square(new_position)"
   ]
  },
  {
   "cell_type": "markdown",
   "id": "a1f91d7d",
   "metadata": {},
   "source": [
    "As an example, let's try to do something a little more complicated:  apply a force to update a particle's velocity.  You should recall from class that:\n",
    "\n",
    "\\begin{equation} \\overrightarrow{v}(t+\\Delta t) \\approx \\overrightarrow{v}(t) + \\frac{\\overrightarrow{F_{net}}(t)}{m} \\Delta t \\end{equation}\n",
    "\n",
    "A common unit to describe energies in molecular simulations is **kcal/mol**. Since forces are derivatives of the energy with respect to positions, we will use units of **kcal/(mol Å)**.  In pint, this is `unit.kcal/unit.mol/unit.angstrom`.  Below, we will use `unit.kcal/unit.mol/unit.angstrom * unit.molecule` to cancel out the [substance] unit introduced by `unit.mol`. \n",
    "\n",
    "For the masses, we will use **Daltons** (`unit.daltons`).\n",
    "\n",
    "As above, for space we will use `unit.angstrom` and for time we will use `unit.ps`, making our velocity units: `unit.angstrom/unit.ps`."
   ]
  },
  {
   "cell_type": "code",
   "execution_count": null,
   "id": "aa798249",
   "metadata": {},
   "outputs": [],
   "source": [
    "v_old = 0*unit.angstrom/unit.ps\n",
    "m = 10 * unit.daltons\n",
    "dt = 0.002 * unit.ps\n",
    "f_net = 100 * (unit.kcal/unit.mol)/unit.angstrom*unit.molecule  # the unit.molecule is needed to cancel out the [substance] unit introduced by unit.mol \n",
    "\n",
    "v_new = v_old + f_net/m*dt\n",
    "print(v_new)"
   ]
  },
  {
   "cell_type": "code",
   "execution_count": null,
   "id": "7b9156e7",
   "metadata": {},
   "outputs": [],
   "source": []
  }
 ],
 "metadata": {
  "kernelspec": {
   "display_name": "Python 3 (ipykernel)",
   "language": "python",
   "name": "python3"
  },
  "language_info": {
   "codemirror_mode": {
    "name": "ipython",
    "version": 3
   },
   "file_extension": ".py",
   "mimetype": "text/x-python",
   "name": "python",
   "nbconvert_exporter": "python",
   "pygments_lexer": "ipython3",
   "version": "3.9.5"
  }
 },
 "nbformat": 4,
 "nbformat_minor": 5
}
